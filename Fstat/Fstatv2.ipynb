{
 "cells": [
  {
   "cell_type": "code",
   "execution_count": 1,
   "metadata": {},
   "outputs": [],
   "source": [
    "%matplotlib inline\n",
    "%config InlineBackend.figure_format = 'retina'"
   ]
  },
  {
   "cell_type": "code",
   "execution_count": 2,
   "metadata": {},
   "outputs": [],
   "source": [
    "from __future__ import division\n",
    "\n",
    "import numpy as np\n",
    "import glob, time, pickle, os\n",
    "import matplotlib.pyplot as plt\n",
    "import scipy.sparse as sps\n",
    "import scipy.linalg as sl\n",
    "from scipy.stats import chi2\n",
    "\n",
    "import enterprise\n",
    "from enterprise.pulsar import Pulsar\n",
    "from enterprise.signals import parameter\n",
    "from enterprise.signals import white_signals\n",
    "from enterprise.signals import utils\n",
    "from enterprise.signals import gp_signals\n",
    "from enterprise.signals import signal_base\n",
    "from enterprise.signals import selections\n",
    "from enterprise.signals.selections import Selection\n",
    "\n",
    "import corner\n",
    "from PTMCMCSampler.PTMCMCSampler import PTSampler as ptmcmc"
   ]
  },
  {
   "cell_type": "code",
   "execution_count": 3,
   "metadata": {},
   "outputs": [],
   "source": [
    "def get_noise_from_pal2(noisefile):\n",
    "    psrname = noisefile.split('/')[-1].split('_noise.txt')[0]\n",
    "    fin = open(noisefile, 'r')\n",
    "    lines = fin.readlines()\n",
    "    params = {}\n",
    "    for line in lines:\n",
    "        ln = line.split()\n",
    "        if 'efac' in line:\n",
    "            par = 'efac'\n",
    "            flag = ln[0].split('efac-')[-1]\n",
    "        elif 'equad' in line:\n",
    "            par = 'log10_equad'\n",
    "            flag = ln[0].split('equad-')[-1]\n",
    "        elif 'jitter_q' in line:\n",
    "            par = 'log10_ecorr'\n",
    "            flag = ln[0].split('jitter_q-')[-1]\n",
    "        elif 'RN-Amplitude' in line:\n",
    "            par = 'red_noise_log10_A'\n",
    "            flag = ''\n",
    "        elif 'RN-spectral-index' in line:\n",
    "            par = 'red_noise_gamma'\n",
    "            flag = ''\n",
    "        else:\n",
    "            break\n",
    "        if flag:\n",
    "            name = [psrname, flag, par]\n",
    "        else:\n",
    "            name = [psrname, par]\n",
    "        pname = '_'.join(name)\n",
    "        params.update({pname: float(ln[1])})\n",
    "    return params"
   ]
  },
  {
   "cell_type": "code",
   "execution_count": 4,
   "metadata": {},
   "outputs": [],
   "source": [
    "#Where the enterprise 9yr datafiles are\n",
    "datadir = enterprise.__path__[0] + '/datafiles/ng9'\n",
    "\n",
    "parfiles = sorted(glob.glob(datadir + '/*.par'))\n",
    "timfiles = sorted(glob.glob(datadir + '/*.tim'))\n",
    "noisefiles = sorted(glob.glob(datadir + '/*noise.txt'))\n",
    "\n",
    "nine_yr_psrs = [line.rstrip('\\n') for line in open(datadir + '/9yr_pulsars.txt','r')]\n",
    "\n",
    "#Where save directory is:\n",
    "savedir = os.getcwd()"
   ]
  },
  {
   "cell_type": "code",
   "execution_count": 5,
   "metadata": {},
   "outputs": [],
   "source": [
    "#Trial with a few pulsars\n",
    "parfile_J0030 = datadir + '/J0030+0451_NANOGrav_9yv1.gls.par'\n",
    "parfile_J1640 = datadir + '/J1640+2224_NANOGrav_9yv1.gls.par'\n",
    "\n",
    "timfile_J0030 = datadir + '/J0030+0451_NANOGrav_9yv1.tim'\n",
    "timfile_J1640 = datadir + '/J1640+2224_NANOGrav_9yv1.tim'\n",
    "\n",
    "noisefile_J0030 = datadir + '/J0030+0451_noise.txt'\n",
    "noisefile_J1640 = datadir + '/J1640+2224_noise.txt'\n",
    "\n",
    "psr_J0030 = Pulsar(parfile_J0030,timfile_J0030)\n",
    "psr_J1640 = Pulsar(parfile_J1640,timfile_J1640)\n",
    "\n",
    "psrs_test = [psr_J0030,psr_J1640]\n",
    "\n",
    "#Get parameter dict from noisefiles\n",
    "params_test = {}\n",
    "params_test.update(get_noise_from_pal2(noisefile_J0030))\n",
    "params_test.update(get_noise_from_pal2(noisefile_J1640))"
   ]
  },
  {
   "cell_type": "code",
   "execution_count": 6,
   "metadata": {},
   "outputs": [],
   "source": [
    "#Load all the 9yr pulsars if no pickle file\n",
    "psr_obj_filename = '/nine_yr_psr_objects.pickle'\n",
    "psr_obj_file = savedir + psr_obj_filename\n",
    "\n",
    "try:\n",
    "    #Load 9yr pulsars from pickle file\n",
    "    with open(psr_obj_file,'rb') as psrfile:\n",
    "        psrs_9yr = pickle.load(psrfile)\n",
    "        psrfile.close()\n",
    "except:\n",
    "    #If no pickle file, load and save pulsars\n",
    "    psrs_9yr = []\n",
    "    for p, t, nf in zip(parfiles,timfiles,noisefiles):\n",
    "        psr = Pulsar(p, t)\n",
    "        for psr_9yr in nine_yr_psrs:\n",
    "            if psr.name == psr_9yr:\n",
    "                psrs_9yr.append(psr)\n",
    "    #Save 9yr pulsars to a pickle file\n",
    "    with open(psr_obj_file,'wb') as psrfile:\n",
    "        pickle.dump(psrs_9yr,psrfile)\n",
    "        psrfile.close()"
   ]
  },
  {
   "cell_type": "code",
   "execution_count": 7,
   "metadata": {},
   "outputs": [],
   "source": [
    "#Get parameter dict from noisefiles\n",
    "params_9yr = {}\n",
    "for nfile in noisefiles:\n",
    "    noise = get_noise_from_pal2(nfile)\n",
    "    for key in noise.keys():\n",
    "        for psr_9yr in nine_yr_psrs:\n",
    "            if key.startswith(psr_9yr):\n",
    "                params_9yr.update(noise)"
   ]
  },
  {
   "cell_type": "code",
   "execution_count": 17,
   "metadata": {},
   "outputs": [
    {
     "name": "stdout",
     "output_type": "stream",
     "text": [
      "{'J0030+0451_430_ASP_efac': 1.13871, 'J0030+0451_L-wide_PUPPI_efac': 1.14101, 'J0030+0451_430_PUPPI_efac': 0.917359, 'J0030+0451_L-wide_ASP_efac': 1.12336, 'J0030+0451_430_ASP_log10_ecorr': -7.6001, 'J0030+0451_430_PUPPI_log10_ecorr': -7.11084, 'J0030+0451_L-wide_ASP_log10_ecorr': -7.59912, 'J0030+0451_L-wide_PUPPI_log10_ecorr': -7.64239, 'J0030+0451_430_ASP_log10_equad': -8.27762, 'J0030+0451_L-wide_PUPPI_log10_equad': -6.67303, 'J0030+0451_430_PUPPI_log10_equad': -5.94568, 'J0030+0451_L-wide_ASP_log10_equad': -8.17663, 'J0030+0451_red_noise_log10_A': -14.412, 'J0030+0451_red_noise_gamma': 5.05806, 'J1640+2224_430_ASP_efac': 1.18797, 'J1640+2224_L-wide_PUPPI_efac': 1.25304, 'J1640+2224_430_PUPPI_efac': 1.13544, 'J1640+2224_L-wide_ASP_efac': 1.07335, 'J1640+2224_430_ASP_log10_ecorr': -7.75415, 'J1640+2224_430_PUPPI_log10_ecorr': -7.0865, 'J1640+2224_L-wide_ASP_log10_ecorr': -6.38835, 'J1640+2224_L-wide_PUPPI_log10_ecorr': -7.67906, 'J1640+2224_430_ASP_log10_equad': -6.26644, 'J1640+2224_L-wide_PUPPI_log10_equad': -8.61952, 'J1640+2224_430_PUPPI_log10_equad': -7.48076, 'J1640+2224_L-wide_ASP_log10_equad': -8.40253, 'J1640+2224_red_noise_log10_A': -17.0642, 'J1640+2224_red_noise_gamma': 3.21169}\n"
     ]
    }
   ],
   "source": [
    "print(params_test)"
   ]
  },
  {
   "cell_type": "code",
   "execution_count": 13,
   "metadata": {},
   "outputs": [],
   "source": [
    "def GetTspan(psrs):\n",
    "    tmin = [p.toas.min() for p in psrs]\n",
    "    tmax = [p.toas.max() for p in psrs]\n",
    "    Tspan = np.max(tmax) - np.min(tmin)\n",
    "    return Tspan"
   ]
  },
  {
   "cell_type": "code",
   "execution_count": 14,
   "metadata": {},
   "outputs": [],
   "source": [
    "##### parameters and priors #####\n",
    "selection = Selection(selections.by_backend)\n",
    "\n",
    "Tspan_9yr = GetTspan(psrs_9yr)\n",
    "Tspan_test = GetTspan(psrs_test)\n",
    "\n",
    "# white noise parameters\n",
    "efac = parameter.Constant()\n",
    "log10_equad = parameter.Constant()\n",
    "ecorr = parameter.Constant()\n",
    "\n",
    "# red noise parameters\n",
    "log10_A = parameter.Constant()\n",
    "gamma = parameter.Constant()\n",
    "\n",
    "'''\n",
    "# GW parameters (initialize with names here to use parameters in common across pulsars)\n",
    "log10_A_gw = parameter.LinearExp(-18,-12)('log10_A_gw')\n",
    "gamma_gw = parameter.Constant(4.33)('gamma_gw')\n",
    "'''\n",
    "\n",
    "# red noise (powerlaw with 30 frequencies)\n",
    "pl = utils.powerlaw(log10_A=log10_A, gamma=gamma)\n",
    "\n",
    "rn_9yr = gp_signals.FourierBasisGP(spectrum=pl, Tspan=Tspan_9yr)\n",
    "rn_test = gp_signals.FourierBasisGP(spectrum=pl, Tspan=Tspan_test)\n",
    "\n",
    "'''\n",
    "# gwb (no spatial correlations)\n",
    "cpl = utils.powerlaw(log10_A=log10_A_gw, gamma=gamma_gw)\n",
    "gw = gp_signals.FourierBasisGP(spectrum=cpl, components=30, Tspan=Tspan)\n",
    "'''\n",
    "\n",
    "# timing model\n",
    "tm = gp_signals.TimingModel()\n",
    "\n",
    "##### Set up signals #####\n",
    "\n",
    "# white noise\n",
    "ef = white_signals.MeasurementNoise(efac=efac, selection=selection)\n",
    "eq = white_signals.EquadNoise(log10_equad=log10_equad, selection=selection)\n",
    "ec = white_signals.EcorrKernelNoise(log10_ecorr=ecorr, selection=selection)\n",
    "\n",
    "# full model is sum of components\n",
    "model_9yr = tm + ef + eq + ec + rn_9yr\n",
    "model_test = tm + ef + eq + ec + rn_test\n",
    "\n",
    "# intialize PTA\n",
    "pta_test = signal_base.PTA([model_test(psr) for psr in psrs_test])\n",
    "pta_9yr = signal_base.PTA([model_9yr(psr) for psr in psrs_9yr])"
   ]
  },
  {
   "cell_type": "code",
   "execution_count": null,
   "metadata": {},
   "outputs": [],
   "source": []
  },
  {
   "cell_type": "code",
   "execution_count": 15,
   "metadata": {},
   "outputs": [
    {
     "name": "stderr",
     "output_type": "stream",
     "text": [
      "INFO: enterprise.signals.signal_base: Setting J0030+0451_430_ASP_efac to 1.13871\n",
      "INFO: enterprise.signals.signal_base: Setting J0030+0451_430_PUPPI_efac to 0.917359\n",
      "INFO: enterprise.signals.signal_base: Setting J0030+0451_L-wide_ASP_efac to 1.12336\n",
      "INFO: enterprise.signals.signal_base: Setting J0030+0451_L-wide_PUPPI_efac to 1.14101\n",
      "INFO: enterprise.signals.signal_base: Setting J0030+0451_430_ASP_log10_equad to -8.27762\n",
      "INFO: enterprise.signals.signal_base: Setting J0030+0451_430_PUPPI_log10_equad to -5.94568\n",
      "INFO: enterprise.signals.signal_base: Setting J0030+0451_L-wide_ASP_log10_equad to -8.17663\n",
      "INFO: enterprise.signals.signal_base: Setting J0030+0451_L-wide_PUPPI_log10_equad to -6.67303\n",
      "INFO: enterprise.signals.signal_base: Setting J0030+0451_430_ASP_log10_ecorr to -7.6001\n",
      "INFO: enterprise.signals.signal_base: Setting J0030+0451_430_PUPPI_log10_ecorr to -7.11084\n",
      "INFO: enterprise.signals.signal_base: Setting J0030+0451_L-wide_ASP_log10_ecorr to -7.59912\n",
      "INFO: enterprise.signals.signal_base: Setting J0030+0451_L-wide_PUPPI_log10_ecorr to -7.64239\n",
      "INFO: enterprise.signals.signal_base: Setting J0030+0451_red_noise_log10_A to -14.412\n",
      "INFO: enterprise.signals.signal_base: Setting J0030+0451_red_noise_gamma to 5.05806\n",
      "INFO: enterprise.signals.signal_base: Setting J1640+2224_430_ASP_efac to 1.18797\n",
      "INFO: enterprise.signals.signal_base: Setting J1640+2224_430_PUPPI_efac to 1.13544\n",
      "INFO: enterprise.signals.signal_base: Setting J1640+2224_L-wide_ASP_efac to 1.07335\n",
      "INFO: enterprise.signals.signal_base: Setting J1640+2224_L-wide_PUPPI_efac to 1.25304\n",
      "INFO: enterprise.signals.signal_base: Setting J1640+2224_430_ASP_log10_equad to -6.26644\n",
      "INFO: enterprise.signals.signal_base: Setting J1640+2224_430_PUPPI_log10_equad to -7.48076\n",
      "INFO: enterprise.signals.signal_base: Setting J1640+2224_L-wide_ASP_log10_equad to -8.40253\n",
      "INFO: enterprise.signals.signal_base: Setting J1640+2224_L-wide_PUPPI_log10_equad to -8.61952\n",
      "INFO: enterprise.signals.signal_base: Setting J1640+2224_430_ASP_log10_ecorr to -7.75415\n",
      "INFO: enterprise.signals.signal_base: Setting J1640+2224_430_PUPPI_log10_ecorr to -7.0865\n",
      "INFO: enterprise.signals.signal_base: Setting J1640+2224_L-wide_ASP_log10_ecorr to -6.38835\n",
      "INFO: enterprise.signals.signal_base: Setting J1640+2224_L-wide_PUPPI_log10_ecorr to -7.67906\n",
      "INFO: enterprise.signals.signal_base: Setting J1640+2224_red_noise_log10_A to -17.0642\n",
      "INFO: enterprise.signals.signal_base: Setting J1640+2224_red_noise_gamma to 3.21169\n",
      "INFO: enterprise.signals.signal_base: Setting B1855+09_430_ASP_efac to 1.13965\n",
      "INFO: enterprise.signals.signal_base: Setting B1855+09_430_PUPPI_efac to 1.12121\n",
      "INFO: enterprise.signals.signal_base: Setting B1855+09_L-wide_ASP_efac to 1.14383\n",
      "INFO: enterprise.signals.signal_base: Setting B1855+09_L-wide_PUPPI_efac to 1.51117\n",
      "INFO: enterprise.signals.signal_base: Setting B1855+09_430_ASP_log10_equad to -8.09925\n",
      "INFO: enterprise.signals.signal_base: Setting B1855+09_430_PUPPI_log10_equad to -7.96027\n",
      "INFO: enterprise.signals.signal_base: Setting B1855+09_L-wide_ASP_log10_equad to -6.31998\n",
      "INFO: enterprise.signals.signal_base: Setting B1855+09_L-wide_PUPPI_log10_equad to -6.42638\n",
      "INFO: enterprise.signals.signal_base: Setting B1855+09_430_ASP_log10_ecorr to -7.38511\n",
      "INFO: enterprise.signals.signal_base: Setting B1855+09_430_PUPPI_log10_ecorr to -7.28084\n",
      "INFO: enterprise.signals.signal_base: Setting B1855+09_L-wide_ASP_log10_ecorr to -6.10018\n",
      "INFO: enterprise.signals.signal_base: Setting B1855+09_L-wide_PUPPI_log10_ecorr to -6.48309\n",
      "INFO: enterprise.signals.signal_base: Setting B1855+09_red_noise_log10_A to -13.8485\n",
      "INFO: enterprise.signals.signal_base: Setting B1855+09_red_noise_gamma to 3.88472\n",
      "INFO: enterprise.signals.signal_base: Setting J0030+0451_430_ASP_efac to 1.13871\n",
      "INFO: enterprise.signals.signal_base: Setting J0030+0451_430_PUPPI_efac to 0.917359\n",
      "INFO: enterprise.signals.signal_base: Setting J0030+0451_L-wide_ASP_efac to 1.12336\n",
      "INFO: enterprise.signals.signal_base: Setting J0030+0451_L-wide_PUPPI_efac to 1.14101\n",
      "INFO: enterprise.signals.signal_base: Setting J0030+0451_430_ASP_log10_equad to -8.27762\n",
      "INFO: enterprise.signals.signal_base: Setting J0030+0451_430_PUPPI_log10_equad to -5.94568\n",
      "INFO: enterprise.signals.signal_base: Setting J0030+0451_L-wide_ASP_log10_equad to -8.17663\n",
      "INFO: enterprise.signals.signal_base: Setting J0030+0451_L-wide_PUPPI_log10_equad to -6.67303\n",
      "INFO: enterprise.signals.signal_base: Setting J0030+0451_430_ASP_log10_ecorr to -7.6001\n",
      "INFO: enterprise.signals.signal_base: Setting J0030+0451_430_PUPPI_log10_ecorr to -7.11084\n",
      "INFO: enterprise.signals.signal_base: Setting J0030+0451_L-wide_ASP_log10_ecorr to -7.59912\n",
      "INFO: enterprise.signals.signal_base: Setting J0030+0451_L-wide_PUPPI_log10_ecorr to -7.64239\n",
      "INFO: enterprise.signals.signal_base: Setting J0030+0451_red_noise_log10_A to -14.412\n",
      "INFO: enterprise.signals.signal_base: Setting J0030+0451_red_noise_gamma to 5.05806\n",
      "INFO: enterprise.signals.signal_base: Setting J0613-0200_Rcvr1_2_GASP_efac to 1.08413\n",
      "INFO: enterprise.signals.signal_base: Setting J0613-0200_Rcvr1_2_GUPPI_efac to 1.08569\n",
      "INFO: enterprise.signals.signal_base: Setting J0613-0200_Rcvr_800_GASP_efac to 1.09303\n",
      "INFO: enterprise.signals.signal_base: Setting J0613-0200_Rcvr_800_GUPPI_efac to 1.19709\n",
      "INFO: enterprise.signals.signal_base: Setting J0613-0200_Rcvr1_2_GASP_log10_equad to -8.29172\n",
      "INFO: enterprise.signals.signal_base: Setting J0613-0200_Rcvr1_2_GUPPI_log10_equad to -8.39354\n",
      "INFO: enterprise.signals.signal_base: Setting J0613-0200_Rcvr_800_GASP_log10_equad to -8.34563\n",
      "INFO: enterprise.signals.signal_base: Setting J0613-0200_Rcvr_800_GUPPI_log10_equad to -6.52894\n",
      "INFO: enterprise.signals.signal_base: Setting J0613-0200_Rcvr1_2_GASP_log10_ecorr to -7.51539\n",
      "INFO: enterprise.signals.signal_base: Setting J0613-0200_Rcvr1_2_GUPPI_log10_ecorr to -7.78395\n",
      "INFO: enterprise.signals.signal_base: Setting J0613-0200_Rcvr_800_GASP_log10_ecorr to -7.72404\n",
      "INFO: enterprise.signals.signal_base: Setting J0613-0200_Rcvr_800_GUPPI_log10_ecorr to -7.53941\n",
      "INFO: enterprise.signals.signal_base: Setting J0613-0200_red_noise_log10_A to -13.6168\n",
      "INFO: enterprise.signals.signal_base: Setting J0613-0200_red_noise_gamma to 3.16059\n",
      "INFO: enterprise.signals.signal_base: Setting J1012+5307_Rcvr1_2_GASP_efac to 1.05234\n",
      "INFO: enterprise.signals.signal_base: Setting J1012+5307_Rcvr1_2_GUPPI_efac to 1.08498\n",
      "INFO: enterprise.signals.signal_base: Setting J1012+5307_Rcvr_800_GASP_efac to 1.11456\n",
      "INFO: enterprise.signals.signal_base: Setting J1012+5307_Rcvr_800_GUPPI_efac to 1.17272\n",
      "INFO: enterprise.signals.signal_base: Setting J1012+5307_Rcvr1_2_GASP_log10_equad to -8.04958\n",
      "INFO: enterprise.signals.signal_base: Setting J1012+5307_Rcvr1_2_GUPPI_log10_equad to -6.42345\n",
      "INFO: enterprise.signals.signal_base: Setting J1012+5307_Rcvr_800_GASP_log10_equad to -7.92351\n",
      "INFO: enterprise.signals.signal_base: Setting J1012+5307_Rcvr_800_GUPPI_log10_equad to -6.31253\n",
      "INFO: enterprise.signals.signal_base: Setting J1012+5307_Rcvr1_2_GASP_log10_ecorr to -7.27863\n",
      "INFO: enterprise.signals.signal_base: Setting J1012+5307_Rcvr1_2_GUPPI_log10_ecorr to -6.68714\n",
      "INFO: enterprise.signals.signal_base: Setting J1012+5307_Rcvr_800_GASP_log10_ecorr to -7.63389\n",
      "INFO: enterprise.signals.signal_base: Setting J1012+5307_Rcvr_800_GUPPI_log10_ecorr to -7.75432\n",
      "INFO: enterprise.signals.signal_base: Setting J1012+5307_red_noise_log10_A to -12.6189\n",
      "INFO: enterprise.signals.signal_base: Setting J1012+5307_red_noise_gamma to 1.02018\n",
      "INFO: enterprise.signals.signal_base: Setting J1024-0719_Rcvr1_2_GASP_efac to 0.923661\n",
      "INFO: enterprise.signals.signal_base: Setting J1024-0719_Rcvr1_2_GUPPI_efac to 1.14266\n",
      "INFO: enterprise.signals.signal_base: Setting J1024-0719_Rcvr_800_GASP_efac to 1.01755\n",
      "INFO: enterprise.signals.signal_base: Setting J1024-0719_Rcvr_800_GUPPI_efac to 1.19071\n",
      "INFO: enterprise.signals.signal_base: Setting J1024-0719_Rcvr1_2_GASP_log10_equad to -7.54914\n",
      "INFO: enterprise.signals.signal_base: Setting J1024-0719_Rcvr1_2_GUPPI_log10_equad to -8.49668\n",
      "INFO: enterprise.signals.signal_base: Setting J1024-0719_Rcvr_800_GASP_log10_equad to -7.94691\n",
      "INFO: enterprise.signals.signal_base: Setting J1024-0719_Rcvr_800_GUPPI_log10_equad to -8.542\n"
     ]
    },
    {
     "name": "stderr",
     "output_type": "stream",
     "text": [
      "INFO: enterprise.signals.signal_base: Setting J1024-0719_Rcvr1_2_GASP_log10_ecorr to -7.08522\n",
      "INFO: enterprise.signals.signal_base: Setting J1024-0719_Rcvr1_2_GUPPI_log10_ecorr to -7.00321\n",
      "INFO: enterprise.signals.signal_base: Setting J1024-0719_Rcvr_800_GASP_log10_ecorr to -6.96383\n",
      "INFO: enterprise.signals.signal_base: Setting J1024-0719_Rcvr_800_GUPPI_log10_ecorr to -7.29206\n",
      "INFO: enterprise.signals.signal_base: Setting J1024-0719_red_noise_log10_A to -16.2659\n",
      "INFO: enterprise.signals.signal_base: Setting J1024-0719_red_noise_gamma to 3.338\n",
      "INFO: enterprise.signals.signal_base: Setting J1455-3330_Rcvr1_2_GASP_efac to 1.12806\n",
      "INFO: enterprise.signals.signal_base: Setting J1455-3330_Rcvr1_2_GUPPI_efac to 1.32475\n",
      "INFO: enterprise.signals.signal_base: Setting J1455-3330_Rcvr_800_GASP_efac to 1.49365\n",
      "INFO: enterprise.signals.signal_base: Setting J1455-3330_Rcvr_800_GUPPI_efac to 1.35131\n",
      "INFO: enterprise.signals.signal_base: Setting J1455-3330_Rcvr1_2_GASP_log10_equad to -8.04522\n",
      "INFO: enterprise.signals.signal_base: Setting J1455-3330_Rcvr1_2_GUPPI_log10_equad to -8.37397\n",
      "INFO: enterprise.signals.signal_base: Setting J1455-3330_Rcvr_800_GASP_log10_equad to -8.08877\n",
      "INFO: enterprise.signals.signal_base: Setting J1455-3330_Rcvr_800_GUPPI_log10_equad to -8.40589\n",
      "INFO: enterprise.signals.signal_base: Setting J1455-3330_Rcvr1_2_GASP_log10_ecorr to -6.06065\n",
      "INFO: enterprise.signals.signal_base: Setting J1455-3330_Rcvr1_2_GUPPI_log10_ecorr to -7.56026\n",
      "INFO: enterprise.signals.signal_base: Setting J1455-3330_Rcvr_800_GASP_log10_ecorr to -7.24673\n",
      "INFO: enterprise.signals.signal_base: Setting J1455-3330_Rcvr_800_GUPPI_log10_ecorr to -7.35803\n",
      "INFO: enterprise.signals.signal_base: Setting J1455-3330_red_noise_log10_A to -16.752\n",
      "INFO: enterprise.signals.signal_base: Setting J1455-3330_red_noise_gamma to 3.28721\n",
      "INFO: enterprise.signals.signal_base: Setting J1600-3053_Rcvr1_2_GASP_efac to 1.13991\n",
      "INFO: enterprise.signals.signal_base: Setting J1600-3053_Rcvr1_2_GUPPI_efac to 1.05637\n",
      "INFO: enterprise.signals.signal_base: Setting J1600-3053_Rcvr_800_GASP_efac to 1.18543\n",
      "INFO: enterprise.signals.signal_base: Setting J1600-3053_Rcvr_800_GUPPI_efac to 1.12855\n",
      "INFO: enterprise.signals.signal_base: Setting J1600-3053_Rcvr1_2_GASP_log10_equad to -7.77574\n",
      "INFO: enterprise.signals.signal_base: Setting J1600-3053_Rcvr1_2_GUPPI_log10_equad to -8.31385\n",
      "INFO: enterprise.signals.signal_base: Setting J1600-3053_Rcvr_800_GASP_log10_equad to -8.07856\n",
      "INFO: enterprise.signals.signal_base: Setting J1600-3053_Rcvr_800_GUPPI_log10_equad to -8.09682\n",
      "INFO: enterprise.signals.signal_base: Setting J1600-3053_Rcvr1_2_GASP_log10_ecorr to -7.41423\n",
      "INFO: enterprise.signals.signal_base: Setting J1600-3053_Rcvr1_2_GUPPI_log10_ecorr to -6.78034\n",
      "INFO: enterprise.signals.signal_base: Setting J1600-3053_Rcvr_800_GASP_log10_ecorr to -7.42253\n",
      "INFO: enterprise.signals.signal_base: Setting J1600-3053_Rcvr_800_GUPPI_log10_ecorr to -6.3244\n",
      "INFO: enterprise.signals.signal_base: Setting J1600-3053_red_noise_log10_A to -16.9777\n",
      "INFO: enterprise.signals.signal_base: Setting J1600-3053_red_noise_gamma to 3.13292\n",
      "INFO: enterprise.signals.signal_base: Setting J1614-2230_Rcvr1_2_GASP_efac to 1.15849\n",
      "INFO: enterprise.signals.signal_base: Setting J1614-2230_Rcvr1_2_GUPPI_efac to 1.06146\n",
      "INFO: enterprise.signals.signal_base: Setting J1614-2230_Rcvr_800_GASP_efac to 0.915636\n",
      "INFO: enterprise.signals.signal_base: Setting J1614-2230_Rcvr_800_GUPPI_efac to 1.01366\n",
      "INFO: enterprise.signals.signal_base: Setting J1614-2230_Rcvr1_2_GASP_log10_equad to -8.02865\n",
      "INFO: enterprise.signals.signal_base: Setting J1614-2230_Rcvr1_2_GUPPI_log10_equad to -8.53141\n",
      "INFO: enterprise.signals.signal_base: Setting J1614-2230_Rcvr_800_GASP_log10_equad to -8.01389\n",
      "INFO: enterprise.signals.signal_base: Setting J1614-2230_Rcvr_800_GUPPI_log10_equad to -8.34908\n",
      "INFO: enterprise.signals.signal_base: Setting J1614-2230_Rcvr1_2_GASP_log10_ecorr to -7.13589\n",
      "INFO: enterprise.signals.signal_base: Setting J1614-2230_Rcvr1_2_GUPPI_log10_ecorr to -7.63\n",
      "INFO: enterprise.signals.signal_base: Setting J1614-2230_Rcvr_800_GASP_log10_ecorr to -7.13582\n",
      "INFO: enterprise.signals.signal_base: Setting J1614-2230_Rcvr_800_GUPPI_log10_ecorr to -6.78123\n",
      "INFO: enterprise.signals.signal_base: Setting J1614-2230_red_noise_log10_A to -16.9988\n",
      "INFO: enterprise.signals.signal_base: Setting J1614-2230_red_noise_gamma to 3.31971\n",
      "INFO: enterprise.signals.signal_base: Setting J1640+2224_430_ASP_efac to 1.18797\n",
      "INFO: enterprise.signals.signal_base: Setting J1640+2224_430_PUPPI_efac to 1.13544\n",
      "INFO: enterprise.signals.signal_base: Setting J1640+2224_L-wide_ASP_efac to 1.07335\n",
      "INFO: enterprise.signals.signal_base: Setting J1640+2224_L-wide_PUPPI_efac to 1.25304\n",
      "INFO: enterprise.signals.signal_base: Setting J1640+2224_430_ASP_log10_equad to -6.26644\n",
      "INFO: enterprise.signals.signal_base: Setting J1640+2224_430_PUPPI_log10_equad to -7.48076\n",
      "INFO: enterprise.signals.signal_base: Setting J1640+2224_L-wide_ASP_log10_equad to -8.40253\n",
      "INFO: enterprise.signals.signal_base: Setting J1640+2224_L-wide_PUPPI_log10_equad to -8.61952\n",
      "INFO: enterprise.signals.signal_base: Setting J1640+2224_430_ASP_log10_ecorr to -7.75415\n",
      "INFO: enterprise.signals.signal_base: Setting J1640+2224_430_PUPPI_log10_ecorr to -7.0865\n",
      "INFO: enterprise.signals.signal_base: Setting J1640+2224_L-wide_ASP_log10_ecorr to -6.38835\n",
      "INFO: enterprise.signals.signal_base: Setting J1640+2224_L-wide_PUPPI_log10_ecorr to -7.67906\n",
      "INFO: enterprise.signals.signal_base: Setting J1640+2224_red_noise_log10_A to -17.0642\n",
      "INFO: enterprise.signals.signal_base: Setting J1640+2224_red_noise_gamma to 3.21169\n",
      "INFO: enterprise.signals.signal_base: Setting J1713+0747_L-wide_ASP_efac to 1.02902\n",
      "INFO: enterprise.signals.signal_base: Setting J1713+0747_L-wide_PUPPI_efac to 1.1659\n",
      "INFO: enterprise.signals.signal_base: Setting J1713+0747_Rcvr1_2_GASP_efac to 1.0879\n",
      "INFO: enterprise.signals.signal_base: Setting J1713+0747_Rcvr1_2_GUPPI_efac to 1.19878\n",
      "INFO: enterprise.signals.signal_base: Setting J1713+0747_Rcvr_800_GASP_efac to 1.19524\n",
      "INFO: enterprise.signals.signal_base: Setting J1713+0747_Rcvr_800_GUPPI_efac to 1.06403\n",
      "INFO: enterprise.signals.signal_base: Setting J1713+0747_S-wide_ASP_efac to 1.12282\n",
      "INFO: enterprise.signals.signal_base: Setting J1713+0747_S-wide_PUPPI_efac to 1.08004\n",
      "INFO: enterprise.signals.signal_base: Setting J1713+0747_L-wide_ASP_log10_equad to -7.59213\n",
      "INFO: enterprise.signals.signal_base: Setting J1713+0747_L-wide_PUPPI_log10_equad to -8.90685\n",
      "INFO: enterprise.signals.signal_base: Setting J1713+0747_Rcvr1_2_GASP_log10_equad to -8.17586\n",
      "INFO: enterprise.signals.signal_base: Setting J1713+0747_Rcvr1_2_GUPPI_log10_equad to -8.29277\n",
      "INFO: enterprise.signals.signal_base: Setting J1713+0747_Rcvr_800_GASP_log10_equad to -8.365\n",
      "INFO: enterprise.signals.signal_base: Setting J1713+0747_Rcvr_800_GUPPI_log10_equad to -8.30246\n",
      "INFO: enterprise.signals.signal_base: Setting J1713+0747_S-wide_ASP_log10_equad to -8.7862\n",
      "INFO: enterprise.signals.signal_base: Setting J1713+0747_S-wide_PUPPI_log10_equad to -7.29251\n",
      "INFO: enterprise.signals.signal_base: Setting J1713+0747_L-wide_ASP_log10_ecorr to -6.96775\n",
      "INFO: enterprise.signals.signal_base: Setting J1713+0747_L-wide_PUPPI_log10_ecorr to -7.00729\n",
      "INFO: enterprise.signals.signal_base: Setting J1713+0747_Rcvr1_2_GASP_log10_ecorr to -7.21635\n",
      "INFO: enterprise.signals.signal_base: Setting J1713+0747_Rcvr1_2_GUPPI_log10_ecorr to -7.23259\n",
      "INFO: enterprise.signals.signal_base: Setting J1713+0747_Rcvr_800_GASP_log10_ecorr to -7.76923\n",
      "INFO: enterprise.signals.signal_base: Setting J1713+0747_Rcvr_800_GUPPI_log10_ecorr to -6.70639\n",
      "INFO: enterprise.signals.signal_base: Setting J1713+0747_S-wide_ASP_log10_ecorr to -6.95628\n",
      "INFO: enterprise.signals.signal_base: Setting J1713+0747_S-wide_PUPPI_log10_ecorr to -6.94551\n",
      "INFO: enterprise.signals.signal_base: Setting J1713+0747_red_noise_log10_A to -19.1114\n",
      "INFO: enterprise.signals.signal_base: Setting J1713+0747_red_noise_gamma to 1.7124\n",
      "INFO: enterprise.signals.signal_base: Setting J1741+1351_430_ASP_efac to 0.92739\n",
      "INFO: enterprise.signals.signal_base: Setting J1741+1351_430_PUPPI_efac to 1.08265\n",
      "INFO: enterprise.signals.signal_base: Setting J1741+1351_L-wide_ASP_efac to 1.03545\n"
     ]
    },
    {
     "name": "stderr",
     "output_type": "stream",
     "text": [
      "INFO: enterprise.signals.signal_base: Setting J1741+1351_L-wide_PUPPI_efac to 1.05026\n",
      "INFO: enterprise.signals.signal_base: Setting J1741+1351_430_ASP_log10_equad to -7.81532\n",
      "INFO: enterprise.signals.signal_base: Setting J1741+1351_430_PUPPI_log10_equad to -7.8145\n",
      "INFO: enterprise.signals.signal_base: Setting J1741+1351_L-wide_ASP_log10_equad to -8.31889\n",
      "INFO: enterprise.signals.signal_base: Setting J1741+1351_L-wide_PUPPI_log10_equad to -8.06543\n",
      "INFO: enterprise.signals.signal_base: Setting J1741+1351_430_ASP_log10_ecorr to -5.26368\n",
      "INFO: enterprise.signals.signal_base: Setting J1741+1351_430_PUPPI_log10_ecorr to -7.35363\n",
      "INFO: enterprise.signals.signal_base: Setting J1741+1351_L-wide_ASP_log10_ecorr to -7.15877\n",
      "INFO: enterprise.signals.signal_base: Setting J1741+1351_L-wide_PUPPI_log10_ecorr to -7.31138\n",
      "INFO: enterprise.signals.signal_base: Setting J1741+1351_red_noise_log10_A to -16.9121\n",
      "INFO: enterprise.signals.signal_base: Setting J1741+1351_red_noise_gamma to 3.38453\n",
      "INFO: enterprise.signals.signal_base: Setting J1744-1134_Rcvr1_2_GASP_efac to 1.02696\n",
      "INFO: enterprise.signals.signal_base: Setting J1744-1134_Rcvr1_2_GUPPI_efac to 1.21601\n",
      "INFO: enterprise.signals.signal_base: Setting J1744-1134_Rcvr_800_GASP_efac to 1.16982\n",
      "INFO: enterprise.signals.signal_base: Setting J1744-1134_Rcvr_800_GUPPI_efac to 1.04852\n",
      "INFO: enterprise.signals.signal_base: Setting J1744-1134_Rcvr1_2_GASP_log10_equad to -6.83644\n",
      "INFO: enterprise.signals.signal_base: Setting J1744-1134_Rcvr1_2_GUPPI_log10_equad to -6.73425\n",
      "INFO: enterprise.signals.signal_base: Setting J1744-1134_Rcvr_800_GASP_log10_equad to -6.47133\n",
      "INFO: enterprise.signals.signal_base: Setting J1744-1134_Rcvr_800_GUPPI_log10_equad to -6.5577\n",
      "INFO: enterprise.signals.signal_base: Setting J1744-1134_Rcvr1_2_GASP_log10_ecorr to -6.3269\n",
      "INFO: enterprise.signals.signal_base: Setting J1744-1134_Rcvr1_2_GUPPI_log10_ecorr to -6.45387\n",
      "INFO: enterprise.signals.signal_base: Setting J1744-1134_Rcvr_800_GASP_log10_ecorr to -6.84423\n",
      "INFO: enterprise.signals.signal_base: Setting J1744-1134_Rcvr_800_GUPPI_log10_ecorr to -6.57852\n",
      "INFO: enterprise.signals.signal_base: Setting J1744-1134_red_noise_log10_A to -15.6471\n",
      "INFO: enterprise.signals.signal_base: Setting J1744-1134_red_noise_gamma to 3.30492\n",
      "INFO: enterprise.signals.signal_base: Setting J1853+1303_430_ASP_efac to 1.10259\n",
      "INFO: enterprise.signals.signal_base: Setting J1853+1303_430_PUPPI_efac to 1.07243\n",
      "INFO: enterprise.signals.signal_base: Setting J1853+1303_L-wide_ASP_efac to 1.14229\n",
      "INFO: enterprise.signals.signal_base: Setting J1853+1303_L-wide_PUPPI_efac to 1.14701\n",
      "INFO: enterprise.signals.signal_base: Setting J1853+1303_430_ASP_log10_equad to -7.82376\n",
      "INFO: enterprise.signals.signal_base: Setting J1853+1303_430_PUPPI_log10_equad to -8.01381\n",
      "INFO: enterprise.signals.signal_base: Setting J1853+1303_L-wide_ASP_log10_equad to -8.3849\n",
      "INFO: enterprise.signals.signal_base: Setting J1853+1303_L-wide_PUPPI_log10_equad to -8.44421\n",
      "INFO: enterprise.signals.signal_base: Setting J1853+1303_430_ASP_log10_ecorr to -6.74256\n",
      "INFO: enterprise.signals.signal_base: Setting J1853+1303_430_PUPPI_log10_ecorr to -6.96278\n",
      "INFO: enterprise.signals.signal_base: Setting J1853+1303_L-wide_ASP_log10_ecorr to -7.48808\n",
      "INFO: enterprise.signals.signal_base: Setting J1853+1303_L-wide_PUPPI_log10_ecorr to -7.55986\n",
      "INFO: enterprise.signals.signal_base: Setting J1853+1303_red_noise_log10_A to -16.8149\n",
      "INFO: enterprise.signals.signal_base: Setting J1853+1303_red_noise_gamma to 3.39717\n",
      "INFO: enterprise.signals.signal_base: Setting J1909-3744_Rcvr1_2_GASP_efac to 0.986438\n",
      "INFO: enterprise.signals.signal_base: Setting J1909-3744_Rcvr1_2_GUPPI_efac to 1.03462\n",
      "INFO: enterprise.signals.signal_base: Setting J1909-3744_Rcvr_800_GASP_efac to 0.985523\n",
      "INFO: enterprise.signals.signal_base: Setting J1909-3744_Rcvr_800_GUPPI_efac to 1.05208\n",
      "INFO: enterprise.signals.signal_base: Setting J1909-3744_Rcvr1_2_GASP_log10_equad to -7.97229\n",
      "INFO: enterprise.signals.signal_base: Setting J1909-3744_Rcvr1_2_GUPPI_log10_equad to -8.31285\n",
      "INFO: enterprise.signals.signal_base: Setting J1909-3744_Rcvr_800_GASP_log10_equad to -6.6358\n",
      "INFO: enterprise.signals.signal_base: Setting J1909-3744_Rcvr_800_GUPPI_log10_equad to -7.43842\n",
      "INFO: enterprise.signals.signal_base: Setting J1909-3744_Rcvr1_2_GASP_log10_ecorr to -8.00662\n",
      "INFO: enterprise.signals.signal_base: Setting J1909-3744_Rcvr1_2_GUPPI_log10_ecorr to -7.13828\n",
      "INFO: enterprise.signals.signal_base: Setting J1909-3744_Rcvr_800_GASP_log10_ecorr to -7.86032\n",
      "INFO: enterprise.signals.signal_base: Setting J1909-3744_Rcvr_800_GUPPI_log10_ecorr to -7.14764\n",
      "INFO: enterprise.signals.signal_base: Setting J1909-3744_red_noise_log10_A to -15.1073\n",
      "INFO: enterprise.signals.signal_base: Setting J1909-3744_red_noise_gamma to 2.88933\n",
      "INFO: enterprise.signals.signal_base: Setting J1918-0642_Rcvr1_2_GASP_efac to 1.03139\n",
      "INFO: enterprise.signals.signal_base: Setting J1918-0642_Rcvr1_2_GUPPI_efac to 1.09892\n",
      "INFO: enterprise.signals.signal_base: Setting J1918-0642_Rcvr_800_GASP_efac to 1.05461\n",
      "INFO: enterprise.signals.signal_base: Setting J1918-0642_Rcvr_800_GUPPI_efac to 1.09148\n",
      "INFO: enterprise.signals.signal_base: Setting J1918-0642_Rcvr1_2_GASP_log10_equad to -8.39359\n",
      "INFO: enterprise.signals.signal_base: Setting J1918-0642_Rcvr1_2_GUPPI_log10_equad to -8.20206\n",
      "INFO: enterprise.signals.signal_base: Setting J1918-0642_Rcvr_800_GASP_log10_equad to -7.9677\n",
      "INFO: enterprise.signals.signal_base: Setting J1918-0642_Rcvr_800_GUPPI_log10_equad to -8.4117\n",
      "INFO: enterprise.signals.signal_base: Setting J1918-0642_Rcvr1_2_GASP_log10_ecorr to -7.3475\n",
      "INFO: enterprise.signals.signal_base: Setting J1918-0642_Rcvr1_2_GUPPI_log10_ecorr to -7.37082\n",
      "INFO: enterprise.signals.signal_base: Setting J1918-0642_Rcvr_800_GASP_log10_ecorr to -7.55392\n",
      "INFO: enterprise.signals.signal_base: Setting J1918-0642_Rcvr_800_GUPPI_log10_ecorr to -7.18419\n",
      "INFO: enterprise.signals.signal_base: Setting J1918-0642_red_noise_log10_A to -16.8325\n",
      "INFO: enterprise.signals.signal_base: Setting J1918-0642_red_noise_gamma to 3.21288\n",
      "INFO: enterprise.signals.signal_base: Setting J2010-1323_Rcvr1_2_GASP_efac to 0.967206\n",
      "INFO: enterprise.signals.signal_base: Setting J2010-1323_Rcvr1_2_GUPPI_efac to 1.2128\n",
      "INFO: enterprise.signals.signal_base: Setting J2010-1323_Rcvr_800_GASP_efac to 1.15777\n",
      "INFO: enterprise.signals.signal_base: Setting J2010-1323_Rcvr_800_GUPPI_efac to 1.07888\n",
      "INFO: enterprise.signals.signal_base: Setting J2010-1323_Rcvr1_2_GASP_log10_equad to -7.69017\n",
      "INFO: enterprise.signals.signal_base: Setting J2010-1323_Rcvr1_2_GUPPI_log10_equad to -8.45324\n",
      "INFO: enterprise.signals.signal_base: Setting J2010-1323_Rcvr_800_GASP_log10_equad to -7.92738\n",
      "INFO: enterprise.signals.signal_base: Setting J2010-1323_Rcvr_800_GUPPI_log10_equad to -8.38299\n",
      "INFO: enterprise.signals.signal_base: Setting J2010-1323_Rcvr1_2_GASP_log10_ecorr to -7.1519\n",
      "INFO: enterprise.signals.signal_base: Setting J2010-1323_Rcvr1_2_GUPPI_log10_ecorr to -7.64287\n",
      "INFO: enterprise.signals.signal_base: Setting J2010-1323_Rcvr_800_GASP_log10_ecorr to -7.2034\n",
      "INFO: enterprise.signals.signal_base: Setting J2010-1323_Rcvr_800_GUPPI_log10_ecorr to -7.63276\n",
      "INFO: enterprise.signals.signal_base: Setting J2010-1323_red_noise_log10_A to -16.4803\n",
      "INFO: enterprise.signals.signal_base: Setting J2010-1323_red_noise_gamma to 3.42768\n",
      "INFO: enterprise.signals.signal_base: Setting J2145-0750_Rcvr1_2_GASP_efac to 1.00043\n",
      "INFO: enterprise.signals.signal_base: Setting J2145-0750_Rcvr1_2_GUPPI_efac to 1.09892\n",
      "INFO: enterprise.signals.signal_base: Setting J2145-0750_Rcvr_800_GASP_efac to 1.50673\n",
      "INFO: enterprise.signals.signal_base: Setting J2145-0750_Rcvr_800_GUPPI_efac to 1.12959\n",
      "INFO: enterprise.signals.signal_base: Setting J2145-0750_Rcvr1_2_GASP_log10_equad to -5.70683\n",
      "INFO: enterprise.signals.signal_base: Setting J2145-0750_Rcvr1_2_GUPPI_log10_equad to -6.28759\n",
      "INFO: enterprise.signals.signal_base: Setting J2145-0750_Rcvr_800_GASP_log10_equad to -7.46919\n",
      "INFO: enterprise.signals.signal_base: Setting J2145-0750_Rcvr_800_GUPPI_log10_equad to -6.32362\n",
      "INFO: enterprise.signals.signal_base: Setting J2145-0750_Rcvr1_2_GASP_log10_ecorr to -6.72819\n",
      "INFO: enterprise.signals.signal_base: Setting J2145-0750_Rcvr1_2_GUPPI_log10_ecorr to -6.32176\n"
     ]
    },
    {
     "name": "stderr",
     "output_type": "stream",
     "text": [
      "INFO: enterprise.signals.signal_base: Setting J2145-0750_Rcvr_800_GASP_log10_ecorr to -6.24509\n",
      "INFO: enterprise.signals.signal_base: Setting J2145-0750_Rcvr_800_GUPPI_log10_ecorr to -6.57986\n",
      "INFO: enterprise.signals.signal_base: Setting J2145-0750_red_noise_log10_A to -15.7129\n",
      "INFO: enterprise.signals.signal_base: Setting J2145-0750_red_noise_gamma to 2.67557\n",
      "INFO: enterprise.signals.signal_base: Setting J2317+1439_327_ASP_efac to 1.05869\n",
      "INFO: enterprise.signals.signal_base: Setting J2317+1439_327_PUPPI_efac to 1.14332\n",
      "INFO: enterprise.signals.signal_base: Setting J2317+1439_430_ASP_efac to 1.12607\n",
      "INFO: enterprise.signals.signal_base: Setting J2317+1439_430_PUPPI_efac to 1.04287\n",
      "INFO: enterprise.signals.signal_base: Setting J2317+1439_L-wide_PUPPI_efac to 0.954996\n",
      "INFO: enterprise.signals.signal_base: Setting J2317+1439_327_ASP_log10_equad to -6.41929\n",
      "INFO: enterprise.signals.signal_base: Setting J2317+1439_327_PUPPI_log10_equad to -6.39705\n",
      "INFO: enterprise.signals.signal_base: Setting J2317+1439_430_ASP_log10_equad to -6.92682\n",
      "INFO: enterprise.signals.signal_base: Setting J2317+1439_430_PUPPI_log10_equad to -6.4171\n",
      "INFO: enterprise.signals.signal_base: Setting J2317+1439_L-wide_PUPPI_log10_equad to -6.56296\n",
      "INFO: enterprise.signals.signal_base: Setting J2317+1439_327_ASP_log10_ecorr to -7.59726\n",
      "INFO: enterprise.signals.signal_base: Setting J2317+1439_327_PUPPI_log10_ecorr to -7.27493\n",
      "INFO: enterprise.signals.signal_base: Setting J2317+1439_430_ASP_log10_ecorr to -6.14458\n",
      "INFO: enterprise.signals.signal_base: Setting J2317+1439_430_PUPPI_log10_ecorr to -6.49356\n",
      "INFO: enterprise.signals.signal_base: Setting J2317+1439_L-wide_PUPPI_log10_ecorr to -7.59813\n",
      "INFO: enterprise.signals.signal_base: Setting J2317+1439_red_noise_log10_A to -17.129\n",
      "INFO: enterprise.signals.signal_base: Setting J2317+1439_red_noise_gamma to 3.25799\n"
     ]
    }
   ],
   "source": [
    "#Set Default PTA parameters to the ones in the noisefiles\n",
    "pta_test.set_default_params(params_test)\n",
    "pta_9yr.set_default_params(params_9yr)"
   ]
  },
  {
   "cell_type": "code",
   "execution_count": null,
   "metadata": {},
   "outputs": [],
   "source": []
  },
  {
   "cell_type": "code",
   "execution_count": 16,
   "metadata": {},
   "outputs": [],
   "source": [
    "# make sure all pulsar have same reference time\n",
    "def GetRefTime(psrs):\n",
    "    tt=[] \n",
    "    for p in psrs:\n",
    "        tt.append(np.min(p.toas))\n",
    "\n",
    "    # find reference time\n",
    "    tref = np.min(tt)\n",
    "    newtoas = []\n",
    "    # now scale pulsar time\n",
    "    for p in psrs:\n",
    "        newtoas.append((p.toas - tref))\n",
    "    return newtoas"
   ]
  },
  {
   "cell_type": "code",
   "execution_count": 17,
   "metadata": {},
   "outputs": [],
   "source": [
    "def GenNmat(pta,params):\n",
    "    '''Makes the Nmatrix used in the fstatistic'''\n",
    "    TNTs = pta.get_TNT(params)\n",
    "    phiinvs = pta.get_phiinv(params, logdet=False, method='partition') \n",
    "    #Get noise parameters for pta toaerr**2\n",
    "    Nvecs = pta.get_ndiag(params)\n",
    "    #Get the basis matrix\n",
    "    Ts = pta.get_basis(params)\n",
    "    Nmat = []\n",
    "    print('Making Nmat')\n",
    "    l1 = np.shape(TNTs)[0]\n",
    "    i = 1\n",
    "    \n",
    "    for phiinv, TNT, Nvec, T in zip(phiinvs, TNTs, Nvecs, Ts):\n",
    "        start = time.time()\n",
    "        Sigma = TNT + (np.diag(phiinv) if phiinv.ndim == 1 else phiinv)\n",
    "        cf = sl.cho_factor(Sigma)      \n",
    "        Nshape = np.shape(T)[0]\n",
    "        TtN = Nvec.solve(other = np.eye(Nshape),left_array = T)\n",
    "        \n",
    "        #Put pulsar's autoerrors in a diagonal matrix\n",
    "        Ndiag = Nvec.solve(other = np.eye(Nshape),left_array = np.eye(Nshape))\n",
    "    \n",
    "        expval2 = sl.cho_solve(cf,TtN)\n",
    "        #TtNt = np.transpose(TtN)\n",
    "        \n",
    "        #An Ntoa by Ntoa noise matrix to be used in expand dense matrix calculations earlier\n",
    "        Nmat.append(Ndiag - np.dot(TtN.T,expval2))\n",
    "        end = time.time()\n",
    "        print(repr(i) + ' out of ' + repr(l1) + ' Done. Time: ' + repr(end-start))\n",
    "        i += 1\n",
    "    return Nmat"
   ]
  },
  {
   "cell_type": "code",
   "execution_count": null,
   "metadata": {},
   "outputs": [],
   "source": [
    "def get_Nmats(pta,params):\n",
    "    '''Makes the Nmatrix used in the fstatistic'''\n",
    "    TNTs = pta.get_TNT(params)\n",
    "    phiinvs = pta.get_phiinv(params, logdet=False, method='partition') \n",
    "    #Get noise parameters for pta toaerr**2\n",
    "    Nvecs = pta.get_ndiag(params)\n",
    "    #Get the basis matrix\n",
    "    Ts = pta.get_basis(params)\n",
    "    Nmat = []\n",
    "    print('Making Nmat')\n",
    "    l1 = np.shape(TNTs)[0]\n",
    "    i = 1\n",
    "    Nmats = [make_Nmat(phiinv, TNT, Nvec, T) for phiinv, TNT, Nvec, T in zip(phiinvs, TNTs, Nvecs, Ts)]\n",
    "        \n",
    "    return Nmats"
   ]
  },
  {
   "cell_type": "code",
   "execution_count": 18,
   "metadata": {},
   "outputs": [
    {
     "name": "stdout",
     "output_type": "stream",
     "text": [
      "Making Nmat\n",
      "1 out of 2 Done. Time: 5.602353096008301\n",
      "2 out of 2 Done. Time: 7.219397306442261\n"
     ]
    }
   ],
   "source": [
    "#Making small test Nmatrix\n",
    "Nmat_test = GenNmat(pta_test,params_test)"
   ]
  },
  {
   "cell_type": "code",
   "execution_count": 19,
   "metadata": {
    "scrolled": true
   },
   "outputs": [
    {
     "name": "stdout",
     "output_type": "stream",
     "text": [
      "Making Nmat\n",
      "1 out of 18 Done. Time: 22.20108723640442\n",
      "2 out of 18 Done. Time: 5.517142295837402\n",
      "3 out of 18 Done. Time: 75.2900161743164\n",
      "4 out of 18 Done. Time: 249.66445541381836\n",
      "5 out of 18 Done. Time: 16.125316381454468\n",
      "6 out of 18 Done. Time: 30.08806586265564\n",
      "7 out of 18 Done. Time: 69.20558667182922\n",
      "8 out of 18 Done. Time: 54.38734269142151\n",
      "9 out of 18 Done. Time: 7.444877624511719\n",
      "10 out of 18 Done. Time: 571.7044868469238\n",
      "11 out of 18 Done. Time: 0.9184496402740479\n",
      "12 out of 18 Done. Time: 103.13256597518921\n",
      "13 out of 18 Done. Time: 0.6094095706939697\n",
      "14 out of 18 Done. Time: 170.5114402770996\n",
      "15 out of 18 Done. Time: 160.79084491729736\n",
      "16 out of 18 Done. Time: 61.589308977127075\n",
      "17 out of 18 Done. Time: 58.44939184188843\n",
      "18 out of 18 Done. Time: 12.155481815338135\n"
     ]
    }
   ],
   "source": [
    "#Making Nmatrix for 9yr pulsars\n",
    "Nmat_9yr = GenNmat(pta_9yr,params_9yr)"
   ]
  },
  {
   "cell_type": "markdown",
   "metadata": {},
   "source": [
    "# This takes way too much memory to save and the files are too big."
   ]
  },
  {
   "cell_type": "raw",
   "metadata": {},
   "source": [
    "#Save all the 9yr pulsars\n",
    "for psr_idx, psr_name in zip(range(np.shape(Nmat_9yr)[0]),pta_9yr.pulsars):\n",
    "    print(psr_name)\n",
    "    Nmat_savefile = savedir + '/Nmats' + '/' + psr_name + '.dat'\n",
    "    np.savetxt(Nmat_savefile,Nmat_9yr[psr_idx])"
   ]
  },
  {
   "cell_type": "raw",
   "metadata": {},
   "source": [
    "#Load all the 9yr pulsars if no pickle file\n",
    "Nmat_9yr_fromfile = []\n",
    "pta_pulsars = pta_9yr.pulsars\n",
    "for psr_idx, psr_name in zip(range(len(pta_pulsars)),pta_pulsars):\n",
    "    Nmat_loadfile = []\n",
    "    start = time.time()\n",
    "    Nmat_savefile = savedir + '/Nmats' + '/' + psr_name + '.dat'\n",
    "    Nmat_loadfile = np.loadtxt(Nmat_savefile)\n",
    "    print(np.shape(Nmat_loadfile))\n",
    "    #Nmat_9yr_fromfile.append(Nmat_loadfile)\n",
    "    end = time.time()\n",
    "    print(str(psr_idx+1) + ' out of ' + str(len(pta_pulsars)) + ' done. Loaded ' + psr_name + ' in ' + str(end-start) + ' seconds.')"
   ]
  },
  {
   "cell_type": "code",
   "execution_count": 21,
   "metadata": {},
   "outputs": [],
   "source": [
    "def AndrewFpstat2(psrs,Nmat,aligned_toas,f0):\n",
    "    '''Takes in the full pta, the pulsars that make up the pta \n",
    "    (Should make this a function in ptas to use self instead of pta?),\n",
    "    and the orbital angular frequency of the gravitational wave (usually the search parameter).\n",
    "    Returns the Fp statistic\n",
    "    '''\n",
    "    \n",
    "    fpstat = 0.0\n",
    "        \n",
    "    for ii,p in enumerate(psrs):\n",
    "        # define N vectors from Ellis et al, 2012 N_i=(x|A_i) for each pulsar\n",
    "        N = np.zeros(2)\n",
    "        # define M matrix M_ij=(A_i|A_j)\n",
    "        M = np.zeros((2, 2))\n",
    "\n",
    "        # Define A vector\n",
    "        A = np.zeros((2, len(aligned_toas[ii])))\n",
    "        A[0,:] = f0**(-1./3.) * np.sin(2*np.pi*f0*aligned_toas[ii])\n",
    "        A[1,:] = f0**(-1./3.) * np.cos(2*np.pi*f0*aligned_toas[ii])\n",
    "    \n",
    "        # define N vectors from Ellis et al, 2012 N_i=(r|A_i) for each pulsar\n",
    "        N = np.array([np.dot(A[0,:], np.dot(Nmat[ii],p.residuals)), \\\n",
    "                      np.dot(A[1,:], np.dot(Nmat[ii],p.residuals))]) \n",
    "        \n",
    "        # define M matrix M_ij=(A_i|A_j)\n",
    "        for jj in range(2):\n",
    "            for kk in range(2):\n",
    "                M[jj,kk] = np.dot(A[jj,:], np.dot(Nmat[ii], A[kk,:]))\n",
    "        \n",
    "        # take inverse of M\n",
    "        Minv = sl.pinv(M)\n",
    "        \n",
    "        fpstat += 0.5 * np.dot(N, np.dot(Minv, N))\n",
    "    return fpstat"
   ]
  },
  {
   "cell_type": "code",
   "execution_count": 60,
   "metadata": {
    "scrolled": true
   },
   "outputs": [
    {
     "name": "stdout",
     "output_type": "stream",
     "text": [
      "10 Done.  Time Elapsed: 0.29813551902770996\n",
      "20 Done.  Time Elapsed: 0.6081709861755371\n",
      "30 Done.  Time Elapsed: 0.9168498516082764\n",
      "40 Done.  Time Elapsed: 1.2217247486114502\n",
      "50 Done.  Time Elapsed: 1.523510217666626\n",
      "60 Done.  Time Elapsed: 1.8389413356781006\n",
      "70 Done.  Time Elapsed: 2.1488492488861084\n",
      "80 Done.  Time Elapsed: 2.4574995040893555\n",
      "90 Done.  Time Elapsed: 2.7636938095092773\n"
     ]
    }
   ],
   "source": [
    "nfreqs = 1000\n",
    "#Use delf to shift frequencies by less than a bin to get more samples\n",
    "delf = 2/(3*Tspan_test)\n",
    "startfreq_test = 1/Tspan_test + delf\n",
    "endfreq_test = 3.3e-7\n",
    "#logfreqs = np.logspace(np.log10(startfreq),np.log10(endfreq),nfreqs) Does not sample independent frequencies\n",
    "linfreqs_test = np.arange(startfreq_test,endfreq_test,1/Tspan_test)\n",
    "\n",
    "newtoas_test = GetRefTime(psrs_test)\n",
    "\n",
    "i = 1\n",
    "#fstat_array_test = []\n",
    "start = time.time()\n",
    "for gwfreq in linfreqs_test:\n",
    "    fstat_array_test.append(AndrewFpstat2(psrs_test,Nmat_test,newtoas_test,gwfreq))\n",
    "    if i % 10 == 0:\n",
    "        end = time.time()\n",
    "        print(repr(i) + ' Done. ' + ' Time Elapsed: ' + repr(end-start))\n",
    "    i += 1"
   ]
  },
  {
   "cell_type": "code",
   "execution_count": 55,
   "metadata": {},
   "outputs": [
    {
     "name": "stdout",
     "output_type": "stream",
     "text": [
      "10 Done.  Time Elapsed: 23.703097105026245\n",
      "20 Done.  Time Elapsed: 46.8764750957489\n",
      "30 Done.  Time Elapsed: 70.00864291191101\n",
      "40 Done.  Time Elapsed: 93.66167879104614\n",
      "50 Done.  Time Elapsed: 116.87919306755066\n",
      "60 Done.  Time Elapsed: 140.53934741020203\n",
      "70 Done.  Time Elapsed: 163.92767310142517\n",
      "80 Done.  Time Elapsed: 187.15277886390686\n",
      "90 Done.  Time Elapsed: 210.8527147769928\n"
     ]
    }
   ],
   "source": [
    "#Calculate Fstat over frequencies for 9yr dataset\n",
    "delf = 1/(4*Tspan_9yr)\n",
    "startfreq_9yr = 1/Tspan_9yr + delf\n",
    "endfreq_9yr = 3.3e-7 + delf\n",
    "linfreqs_9yr = np.arange(startfreq_9yr,endfreq_9yr,1/Tspan_9yr)\n",
    "\n",
    "newtoas_9yr = GetRefTime(psrs_9yr)\n",
    "\n",
    "j=1\n",
    "#fstat_array_9yr = []\n",
    "start = time.time()\n",
    "for gwfreq in linfreqs_9yr:\n",
    "    fstat_array_9yr.append(AndrewFpstat2(psrs_9yr,Nmat_9yr,newtoas_9yr,gwfreq))\n",
    "    if j % 10 == 0:\n",
    "        end = time.time()\n",
    "        print(repr(j) + ' Done. ' + ' Time Elapsed: ' + repr(end-start))\n",
    "    j += 1"
   ]
  },
  {
   "cell_type": "markdown",
   "metadata": {},
   "source": [
    "# Fp Statistic Histograms and Frequency Plots"
   ]
  },
  {
   "cell_type": "code",
   "execution_count": 61,
   "metadata": {},
   "outputs": [
    {
     "data": {
      "image/png": "[encoded data removed]",
      "text/plain": [
       "<Figure size 432x288 with 1 Axes>"
      ]
     },
     "metadata": {
      "image/png": {
       "height": 272,
       "width": 380
      },
      "needs_background": "light"
     },
     "output_type": "display_data"
    }
   ],
   "source": [
    "#Test Histograms\n",
    "#Making chi squared values\n",
    "dof_test = 2*len(psrs_test)\n",
    "N_x_test = 1000\n",
    "chi_x_test = np.linspace(0,int(max(fstat_array_test))+1,N_x_test)\n",
    "\n",
    "nbins = 30\n",
    "#plt.hist(fstat_array,bins = nbins,density = True)\n",
    "plt.hist(2*fstat_array_test,bins = nbins,density = True)\n",
    "plt.plot(chi_x_test,chi2.pdf(chi_x_test,dof_test))\n",
    "#plt.hist(fstat_array_test,bins = nbins,density = True)\n",
    "plt.xlabel(r'$\\mathcal{F}_{p}$',fontsize = 'xx-large')\n",
    "plt.show()"
   ]
  },
  {
   "cell_type": "code",
   "execution_count": 57,
   "metadata": {},
   "outputs": [
    {
     "data": {
      "image/png": "[encoded data removed]",
      "text/plain": [
       "<Figure size 432x288 with 1 Axes>"
      ]
     },
     "metadata": {
      "image/png": {
       "height": 272,
       "width": 387
      },
      "needs_background": "light"
     },
     "output_type": "display_data"
    }
   ],
   "source": [
    "#Test Frequency plots\n",
    "plt.plot(linfreqs_test,fstat_array_test)\n",
    "plt.xscale('log')\n",
    "plt.ylabel(r'$\\mathcal{F}_{p}$',fontsize = 'xx-large')\n",
    "plt.xlabel(r'$f$ [Hz]',fontsize = 'xx-large')\n",
    "plt.show()"
   ]
  },
  {
   "cell_type": "code",
   "execution_count": 58,
   "metadata": {},
   "outputs": [
    {
     "data": {
      "image/png": "[encoded data removed]",
      "text/plain": [
       "<Figure size 432x288 with 1 Axes>"
      ]
     },
     "metadata": {
      "image/png": {
       "height": 272,
       "width": 380
      },
      "needs_background": "light"
     },
     "output_type": "display_data"
    }
   ],
   "source": [
    "#9yr Histograms\n",
    "#Making chi squared values\n",
    "dof_9yr = 2*len(psrs_9yr)\n",
    "N_x_9yr = 1000\n",
    "chi_x_9yr = np.linspace(int(min(fstat_array_9yr))-1,int(max(fstat_array_9yr))+1,N_x_9yr)\n",
    "\n",
    "nbins = 30\n",
    "plt.hist(2*fstat_array_9yr,bins = nbins,density = True)\n",
    "plt.plot(chi_x_9yr,chi2.pdf(chi_x_9yr,dof_9yr))\n",
    "plt.xlabel(r'$\\mathcal{F}_{p}$',fontsize = 'xx-large')\n",
    "plt.show()"
   ]
  },
  {
   "cell_type": "code",
   "execution_count": 54,
   "metadata": {},
   "outputs": [
    {
     "ename": "ValueError",
     "evalue": "x and y must have same first dimension, but have shapes (96,) and (192,)",
     "output_type": "error",
     "traceback": [
      "\u001b[0;31m---------------------------------------------------------------------------\u001b[0m",
      "\u001b[0;31mValueError\u001b[0m                                Traceback (most recent call last)",
      "\u001b[0;32m<ipython-input-54-a86e9634a0a2>\u001b[0m in \u001b[0;36m<module>\u001b[0;34m()\u001b[0m\n\u001b[1;32m      1\u001b[0m \u001b[0;31m#9yr Frequency plots\u001b[0m\u001b[0;34m\u001b[0m\u001b[0;34m\u001b[0m\u001b[0m\n\u001b[0;32m----> 2\u001b[0;31m \u001b[0mplt\u001b[0m\u001b[0;34m.\u001b[0m\u001b[0mplot\u001b[0m\u001b[0;34m(\u001b[0m\u001b[0mlinfreqs_9yr\u001b[0m\u001b[0;34m,\u001b[0m\u001b[0mfstat_array_9yr\u001b[0m\u001b[0;34m)\u001b[0m\u001b[0;34m\u001b[0m\u001b[0m\n\u001b[0m\u001b[1;32m      3\u001b[0m \u001b[0mplt\u001b[0m\u001b[0;34m.\u001b[0m\u001b[0mxscale\u001b[0m\u001b[0;34m(\u001b[0m\u001b[0;34m'log'\u001b[0m\u001b[0;34m)\u001b[0m\u001b[0;34m\u001b[0m\u001b[0m\n\u001b[1;32m      4\u001b[0m \u001b[0mplt\u001b[0m\u001b[0;34m.\u001b[0m\u001b[0mylabel\u001b[0m\u001b[0;34m(\u001b[0m\u001b[0;34mr'$\\mathcal{F}_{p}$'\u001b[0m\u001b[0;34m,\u001b[0m\u001b[0mfontsize\u001b[0m \u001b[0;34m=\u001b[0m \u001b[0;34m'xx-large'\u001b[0m\u001b[0;34m)\u001b[0m\u001b[0;34m\u001b[0m\u001b[0m\n\u001b[1;32m      5\u001b[0m \u001b[0mplt\u001b[0m\u001b[0;34m.\u001b[0m\u001b[0mxlabel\u001b[0m\u001b[0;34m(\u001b[0m\u001b[0;34mr'$f$ [Hz]'\u001b[0m\u001b[0;34m,\u001b[0m\u001b[0mfontsize\u001b[0m \u001b[0;34m=\u001b[0m \u001b[0;34m'xx-large'\u001b[0m\u001b[0;34m)\u001b[0m\u001b[0;34m\u001b[0m\u001b[0m\n",
      "\u001b[0;32m~/anaconda3/envs/enterprise/lib/python3.6/site-packages/matplotlib/pyplot.py\u001b[0m in \u001b[0;36mplot\u001b[0;34m(scalex, scaley, data, *args, **kwargs)\u001b[0m\n\u001b[1;32m   2747\u001b[0m \u001b[0;32mdef\u001b[0m \u001b[0mplot\u001b[0m\u001b[0;34m(\u001b[0m\u001b[0;34m*\u001b[0m\u001b[0margs\u001b[0m\u001b[0;34m,\u001b[0m \u001b[0mscalex\u001b[0m\u001b[0;34m=\u001b[0m\u001b[0;32mTrue\u001b[0m\u001b[0;34m,\u001b[0m \u001b[0mscaley\u001b[0m\u001b[0;34m=\u001b[0m\u001b[0;32mTrue\u001b[0m\u001b[0;34m,\u001b[0m \u001b[0mdata\u001b[0m\u001b[0;34m=\u001b[0m\u001b[0;32mNone\u001b[0m\u001b[0;34m,\u001b[0m \u001b[0;34m**\u001b[0m\u001b[0mkwargs\u001b[0m\u001b[0;34m)\u001b[0m\u001b[0;34m:\u001b[0m\u001b[0;34m\u001b[0m\u001b[0m\n\u001b[1;32m   2748\u001b[0m     return gca().plot(\n\u001b[0;32m-> 2749\u001b[0;31m         *args, scalex=scalex, scaley=scaley, data=data, **kwargs)\n\u001b[0m\u001b[1;32m   2750\u001b[0m \u001b[0;34m\u001b[0m\u001b[0m\n\u001b[1;32m   2751\u001b[0m \u001b[0;31m# Autogenerated by boilerplate.py.  Do not edit as changes will be lost.\u001b[0m\u001b[0;34m\u001b[0m\u001b[0;34m\u001b[0m\u001b[0m\n",
      "\u001b[0;32m~/anaconda3/envs/enterprise/lib/python3.6/site-packages/matplotlib/__init__.py\u001b[0m in \u001b[0;36minner\u001b[0;34m(ax, data, *args, **kwargs)\u001b[0m\n\u001b[1;32m   1783\u001b[0m                         \u001b[0;34m\"the Matplotlib list!)\"\u001b[0m \u001b[0;34m%\u001b[0m \u001b[0;34m(\u001b[0m\u001b[0mlabel_namer\u001b[0m\u001b[0;34m,\u001b[0m \u001b[0mfunc\u001b[0m\u001b[0;34m.\u001b[0m\u001b[0m__name__\u001b[0m\u001b[0;34m)\u001b[0m\u001b[0;34m,\u001b[0m\u001b[0;34m\u001b[0m\u001b[0m\n\u001b[1;32m   1784\u001b[0m                         RuntimeWarning, stacklevel=2)\n\u001b[0;32m-> 1785\u001b[0;31m             \u001b[0;32mreturn\u001b[0m \u001b[0mfunc\u001b[0m\u001b[0;34m(\u001b[0m\u001b[0max\u001b[0m\u001b[0;34m,\u001b[0m \u001b[0;34m*\u001b[0m\u001b[0margs\u001b[0m\u001b[0;34m,\u001b[0m \u001b[0;34m**\u001b[0m\u001b[0mkwargs\u001b[0m\u001b[0;34m)\u001b[0m\u001b[0;34m\u001b[0m\u001b[0m\n\u001b[0m\u001b[1;32m   1786\u001b[0m \u001b[0;34m\u001b[0m\u001b[0m\n\u001b[1;32m   1787\u001b[0m         inner.__doc__ = _add_data_doc(inner.__doc__,\n",
      "\u001b[0;32m~/anaconda3/envs/enterprise/lib/python3.6/site-packages/matplotlib/axes/_axes.py\u001b[0m in \u001b[0;36mplot\u001b[0;34m(self, scalex, scaley, *args, **kwargs)\u001b[0m\n\u001b[1;32m   1602\u001b[0m         \u001b[0mkwargs\u001b[0m \u001b[0;34m=\u001b[0m \u001b[0mcbook\u001b[0m\u001b[0;34m.\u001b[0m\u001b[0mnormalize_kwargs\u001b[0m\u001b[0;34m(\u001b[0m\u001b[0mkwargs\u001b[0m\u001b[0;34m,\u001b[0m \u001b[0mmlines\u001b[0m\u001b[0;34m.\u001b[0m\u001b[0mLine2D\u001b[0m\u001b[0;34m.\u001b[0m\u001b[0m_alias_map\u001b[0m\u001b[0;34m)\u001b[0m\u001b[0;34m\u001b[0m\u001b[0m\n\u001b[1;32m   1603\u001b[0m \u001b[0;34m\u001b[0m\u001b[0m\n\u001b[0;32m-> 1604\u001b[0;31m         \u001b[0;32mfor\u001b[0m \u001b[0mline\u001b[0m \u001b[0;32min\u001b[0m \u001b[0mself\u001b[0m\u001b[0;34m.\u001b[0m\u001b[0m_get_lines\u001b[0m\u001b[0;34m(\u001b[0m\u001b[0;34m*\u001b[0m\u001b[0margs\u001b[0m\u001b[0;34m,\u001b[0m \u001b[0;34m**\u001b[0m\u001b[0mkwargs\u001b[0m\u001b[0;34m)\u001b[0m\u001b[0;34m:\u001b[0m\u001b[0;34m\u001b[0m\u001b[0m\n\u001b[0m\u001b[1;32m   1605\u001b[0m             \u001b[0mself\u001b[0m\u001b[0;34m.\u001b[0m\u001b[0madd_line\u001b[0m\u001b[0;34m(\u001b[0m\u001b[0mline\u001b[0m\u001b[0;34m)\u001b[0m\u001b[0;34m\u001b[0m\u001b[0m\n\u001b[1;32m   1606\u001b[0m             \u001b[0mlines\u001b[0m\u001b[0;34m.\u001b[0m\u001b[0mappend\u001b[0m\u001b[0;34m(\u001b[0m\u001b[0mline\u001b[0m\u001b[0;34m)\u001b[0m\u001b[0;34m\u001b[0m\u001b[0m\n",
      "\u001b[0;32m~/anaconda3/envs/enterprise/lib/python3.6/site-packages/matplotlib/axes/_base.py\u001b[0m in \u001b[0;36m_grab_next_args\u001b[0;34m(self, *args, **kwargs)\u001b[0m\n\u001b[1;32m    391\u001b[0m                 \u001b[0mthis\u001b[0m \u001b[0;34m+=\u001b[0m \u001b[0margs\u001b[0m\u001b[0;34m[\u001b[0m\u001b[0;36m0\u001b[0m\u001b[0;34m]\u001b[0m\u001b[0;34m,\u001b[0m\u001b[0;34m\u001b[0m\u001b[0m\n\u001b[1;32m    392\u001b[0m                 \u001b[0margs\u001b[0m \u001b[0;34m=\u001b[0m \u001b[0margs\u001b[0m\u001b[0;34m[\u001b[0m\u001b[0;36m1\u001b[0m\u001b[0;34m:\u001b[0m\u001b[0;34m]\u001b[0m\u001b[0;34m\u001b[0m\u001b[0m\n\u001b[0;32m--> 393\u001b[0;31m             \u001b[0;32myield\u001b[0m \u001b[0;32mfrom\u001b[0m \u001b[0mself\u001b[0m\u001b[0;34m.\u001b[0m\u001b[0m_plot_args\u001b[0m\u001b[0;34m(\u001b[0m\u001b[0mthis\u001b[0m\u001b[0;34m,\u001b[0m \u001b[0mkwargs\u001b[0m\u001b[0;34m)\u001b[0m\u001b[0;34m\u001b[0m\u001b[0m\n\u001b[0m\u001b[1;32m    394\u001b[0m \u001b[0;34m\u001b[0m\u001b[0m\n\u001b[1;32m    395\u001b[0m \u001b[0;34m\u001b[0m\u001b[0m\n",
      "\u001b[0;32m~/anaconda3/envs/enterprise/lib/python3.6/site-packages/matplotlib/axes/_base.py\u001b[0m in \u001b[0;36m_plot_args\u001b[0;34m(self, tup, kwargs)\u001b[0m\n\u001b[1;32m    368\u001b[0m             \u001b[0mx\u001b[0m\u001b[0;34m,\u001b[0m \u001b[0my\u001b[0m \u001b[0;34m=\u001b[0m \u001b[0mindex_of\u001b[0m\u001b[0;34m(\u001b[0m\u001b[0mtup\u001b[0m\u001b[0;34m[\u001b[0m\u001b[0;34m-\u001b[0m\u001b[0;36m1\u001b[0m\u001b[0;34m]\u001b[0m\u001b[0;34m)\u001b[0m\u001b[0;34m\u001b[0m\u001b[0m\n\u001b[1;32m    369\u001b[0m \u001b[0;34m\u001b[0m\u001b[0m\n\u001b[0;32m--> 370\u001b[0;31m         \u001b[0mx\u001b[0m\u001b[0;34m,\u001b[0m \u001b[0my\u001b[0m \u001b[0;34m=\u001b[0m \u001b[0mself\u001b[0m\u001b[0;34m.\u001b[0m\u001b[0m_xy_from_xy\u001b[0m\u001b[0;34m(\u001b[0m\u001b[0mx\u001b[0m\u001b[0;34m,\u001b[0m \u001b[0my\u001b[0m\u001b[0;34m)\u001b[0m\u001b[0;34m\u001b[0m\u001b[0m\n\u001b[0m\u001b[1;32m    371\u001b[0m \u001b[0;34m\u001b[0m\u001b[0m\n\u001b[1;32m    372\u001b[0m         \u001b[0;32mif\u001b[0m \u001b[0mself\u001b[0m\u001b[0;34m.\u001b[0m\u001b[0mcommand\u001b[0m \u001b[0;34m==\u001b[0m \u001b[0;34m'plot'\u001b[0m\u001b[0;34m:\u001b[0m\u001b[0;34m\u001b[0m\u001b[0m\n",
      "\u001b[0;32m~/anaconda3/envs/enterprise/lib/python3.6/site-packages/matplotlib/axes/_base.py\u001b[0m in \u001b[0;36m_xy_from_xy\u001b[0;34m(self, x, y)\u001b[0m\n\u001b[1;32m    229\u001b[0m         \u001b[0;32mif\u001b[0m \u001b[0mx\u001b[0m\u001b[0;34m.\u001b[0m\u001b[0mshape\u001b[0m\u001b[0;34m[\u001b[0m\u001b[0;36m0\u001b[0m\u001b[0;34m]\u001b[0m \u001b[0;34m!=\u001b[0m \u001b[0my\u001b[0m\u001b[0;34m.\u001b[0m\u001b[0mshape\u001b[0m\u001b[0;34m[\u001b[0m\u001b[0;36m0\u001b[0m\u001b[0;34m]\u001b[0m\u001b[0;34m:\u001b[0m\u001b[0;34m\u001b[0m\u001b[0m\n\u001b[1;32m    230\u001b[0m             raise ValueError(\"x and y must have same first dimension, but \"\n\u001b[0;32m--> 231\u001b[0;31m                              \"have shapes {} and {}\".format(x.shape, y.shape))\n\u001b[0m\u001b[1;32m    232\u001b[0m         \u001b[0;32mif\u001b[0m \u001b[0mx\u001b[0m\u001b[0;34m.\u001b[0m\u001b[0mndim\u001b[0m \u001b[0;34m>\u001b[0m \u001b[0;36m2\u001b[0m \u001b[0;32mor\u001b[0m \u001b[0my\u001b[0m\u001b[0;34m.\u001b[0m\u001b[0mndim\u001b[0m \u001b[0;34m>\u001b[0m \u001b[0;36m2\u001b[0m\u001b[0;34m:\u001b[0m\u001b[0;34m\u001b[0m\u001b[0m\n\u001b[1;32m    233\u001b[0m             raise ValueError(\"x and y can be no greater than 2-D, but have \"\n",
      "\u001b[0;31mValueError\u001b[0m: x and y must have same first dimension, but have shapes (96,) and (192,)"
     ]
    },
    {
     "data": {
      "image/png": "[encoded data removed]",
      "text/plain": [
       "<Figure size 432x288 with 1 Axes>"
      ]
     },
     "metadata": {
      "image/png": {
       "height": 252,
       "width": 380
      },
      "needs_background": "light"
     },
     "output_type": "display_data"
    }
   ],
   "source": [
    "#9yr Frequency plots\n",
    "\n",
    "plt.plot(linfreqs_9yr,fstat_array_9yr)\n",
    "plt.xscale('log')\n",
    "plt.ylabel(r'$\\mathcal{F}_{p}$',fontsize = 'xx-large')\n",
    "plt.xlabel(r'$f$ [Hz]',fontsize = 'xx-large')\n",
    "plt.show()"
   ]
  },
  {
   "cell_type": "markdown",
   "metadata": {},
   "source": [
    "# Fe Statistic"
   ]
  },
  {
   "cell_type": "code",
   "execution_count": 24,
   "metadata": {},
   "outputs": [],
   "source": [
    "def AndrewFestat2(psrs,Nmat,aligned_toas,f0,gwphi,gwtheta):\n",
    "    '''Takes in the pulsars that make up the pta, the Nmatrix from GetNmat \n",
    "    (Should make this a function in ptas to use self instead of pta?),\n",
    "    the frequency of the gravitational wave, phi (GW azimuthal angle in radians), \n",
    "    and theta (GW polar angle in radians).\n",
    "    Returns the Fe statistic\n",
    "    '''\n",
    "    festat = 0.0\n",
    "    \n",
    "    #Probably a better way of doing this as well, but using TNTs[ii] for example didn't work\n",
    "    for ii,p in enumerate(psrs):\n",
    "        # define N vectors from Ellis et al, 2012 N_i=(x|A_i) for each pulsar\n",
    "        N = np.zeros(4)\n",
    "        # define M matrix M_ij=(A_i|A_j)\n",
    "        M = np.zeros((4,4))\n",
    "\n",
    "        fplus, fcross, cosMu = utils.create_gw_antenna_pattern(p.pos, gwtheta, gwphi)\n",
    "\n",
    "        # define A\n",
    "        A = np.zeros((4, len(aligned_toas[ii])))\n",
    "        A[0,:] = fplus/f0**(1./3.) * np.sin(2*np.pi*f0*aligned_toas[ii])\n",
    "        A[1,:] = fplus/f0**(1./3.) * np.cos(2*np.pi*f0*aligned_toas[ii])\n",
    "        A[2,:] = fcross/f0**(1./3.) * np.sin(2*np.pi*f0*aligned_toas[ii])\n",
    "        A[3,:] = fcross/f0**(1./3.) * np.cos(2*np.pi*f0*aligned_toas[ii])\n",
    "\n",
    "        N += np.array([np.dot(A[0,:], np.dot(Nmat[ii],p.residuals)), \\\n",
    "                    np.dot(A[1,:], np.dot(Nmat[ii],p.residuals)), \\\n",
    "                    np.dot(A[2,:], np.dot(Nmat[ii],p.residuals)), \\\n",
    "                    np.dot(A[3,:], np.dot(Nmat[ii],p.residuals))])\n",
    "    \n",
    "        # define M matrix M_ij=(A_i|A_j)\n",
    "        M += np.dot(A, np.dot(Nmat[ii], A.T))\n",
    "        \n",
    "        \n",
    "        # take inverse of M\n",
    "        Minv = sl.pinv(M)\n",
    "        \n",
    "        festat += 0.5 * np.dot(N, np.dot(Minv, N))\n",
    "        \n",
    "    return festat"
   ]
  },
  {
   "cell_type": "code",
   "execution_count": 25,
   "metadata": {},
   "outputs": [
    {
     "name": "stdout",
     "output_type": "stream",
     "text": [
      "64.05763009275555\n"
     ]
    }
   ],
   "source": [
    "#Pick gw sky location for tests\n",
    "gwtheta = 30/180*np.pi\n",
    "gwphi = 10/180*np.pi"
   ]
  },
  {
   "cell_type": "code",
   "execution_count": 28,
   "metadata": {},
   "outputs": [
    {
     "name": "stdout",
     "output_type": "stream",
     "text": [
      "50 Done.  Time Elapsed: 26.16207480430603\n",
      "100 Done.  Time Elapsed: 37.18350291252136\n",
      "150 Done.  Time Elapsed: 48.23997259140015\n",
      "200 Done.  Time Elapsed: 59.172839879989624\n",
      "250 Done.  Time Elapsed: 70.01483368873596\n",
      "300 Done.  Time Elapsed: 80.89029455184937\n",
      "350 Done.  Time Elapsed: 91.98427629470825\n",
      "400 Done.  Time Elapsed: 102.833913564682\n",
      "450 Done.  Time Elapsed: 113.77218413352966\n",
      "500 Done.  Time Elapsed: 124.79858422279358\n",
      "550 Done.  Time Elapsed: 135.7897868156433\n",
      "600 Done.  Time Elapsed: 146.98360323905945\n",
      "650 Done.  Time Elapsed: 158.07582998275757\n",
      "700 Done.  Time Elapsed: 168.91558456420898\n",
      "750 Done.  Time Elapsed: 180.00105547904968\n",
      "800 Done.  Time Elapsed: 191.10464358329773\n",
      "850 Done.  Time Elapsed: 202.17362093925476\n",
      "900 Done.  Time Elapsed: 213.30400681495667\n",
      "950 Done.  Time Elapsed: 224.67976140975952\n",
      "1000 Done.  Time Elapsed: 236.01119923591614\n"
     ]
    }
   ],
   "source": [
    "nfreqs = 1000\n",
    "Tspan = Tspan_full\n",
    "freqs = np.logspace(np.log10(1/Tspan),np.log10(3.3e-7),nfreqs)\n",
    "\n",
    "i = 1\n",
    "festat_array_full = []\n",
    "festat_array_test = []\n",
    "start = time.time()\n",
    "for gwfreq in freqs:\n",
    "    festat_array_full.append(AndrewFestat2(psrs_full,Nmat_full,newtoas_full,gwfreq,gwtheta,gwphi))\n",
    "    #festat_array_test.append(AndrewFestat2(psrs_test,Nmat_test,newtoas_test,gwfreq,gwtheta,gwphi))\n",
    "    if i % 50 == 0:\n",
    "        end = time.time()\n",
    "        print(repr(i) + ' Done. ' + ' Time Elapsed: ' + repr(end-start))\n",
    "    i += 1"
   ]
  },
  {
   "cell_type": "code",
   "execution_count": 60,
   "metadata": {},
   "outputs": [
    {
     "data": {
      "image/png": "[encoded data removed]",
      "text/plain": [
       "<Figure size 432x288 with 1 Axes>"
      ]
     },
     "metadata": {
      "image/png": {
       "height": 270,
       "width": 380
      },
      "needs_background": "light"
     },
     "output_type": "display_data"
    }
   ],
   "source": [
    "nbins = 50\n",
    "#plt.hist(fstat_array,bins = nbins,density = True)\n",
    "plt.hist(festat_array_test,bins = nbins,density = True)\n",
    "#plt.hist(fstat_array_test,bins = nbins,density = True)\n",
    "plt.xlabel(r'$\\mathcal{F}_{e}$',fontsize = 'xx-large')\n",
    "plt.show()"
   ]
  },
  {
   "cell_type": "code",
   "execution_count": null,
   "metadata": {},
   "outputs": [],
   "source": []
  }
 ],
 "metadata": {
  "kernelspec": {
   "display_name": "Python 3",
   "language": "python",
   "name": "python3"
  },
  "language_info": {
   "codemirror_mode": {
    "name": "ipython",
    "version": 3
   },
   "file_extension": ".py",
   "mimetype": "text/x-python",
   "name": "python",
   "nbconvert_exporter": "python",
   "pygments_lexer": "ipython3",
   "version": "3.6.5"
  }
 },
 "nbformat": 4,
 "nbformat_minor": 2
}
