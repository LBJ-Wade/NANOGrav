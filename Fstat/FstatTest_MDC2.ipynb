{
 "cells": [
  {
   "cell_type": "code",
   "execution_count": 8,
   "metadata": {},
   "outputs": [],
   "source": [
    "%matplotlib inline\n",
    "%config InlineBackend.figure_format = 'retina'"
   ]
  },
  {
   "cell_type": "code",
   "execution_count": 9,
   "metadata": {},
   "outputs": [],
   "source": [
    "from __future__ import division\n",
    "\n",
    "import numpy as np\n",
    "import glob, time, pickle, os, json\n",
    "import matplotlib.pyplot as plt\n",
    "import scipy.sparse as sps\n",
    "import scipy.linalg as sl\n",
    "from scipy.stats import chi2\n",
    "\n",
    "import enterprise\n",
    "from enterprise.pulsar import Pulsar\n",
    "from enterprise.signals import parameter\n",
    "from enterprise.signals import white_signals\n",
    "from enterprise.signals import utils\n",
    "from enterprise.signals import gp_signals\n",
    "from enterprise.signals import signal_base\n",
    "from enterprise.signals import selections\n",
    "from enterprise.signals.selections import Selection\n",
    "\n",
    "import corner\n",
    "from PTMCMCSampler.PTMCMCSampler import PTSampler as ptmcmc"
   ]
  },
  {
   "cell_type": "code",
   "execution_count": 10,
   "metadata": {},
   "outputs": [],
   "source": [
    "#Directories for MDC2\n",
    "dataset = '/dataset_1b'\n",
    "\n",
    "fstat_dir = os.getcwd()\n",
    "mdc2_dir = os.path.split(fstat_dir)[0]\n",
    "#Where the original data is\n",
    "origdatadir = mdc2_dir + '/MDC2/mdc2/group1' + dataset\n",
    "#Where the json noise file is\n",
    "noisefile = mdc2_dir + '/MDC2/mdc2/group1/challenge1_psr_noise.json'\n",
    "#Where the everything should be saved to (chains, cornerplts, histograms, etc.\n",
    "savedir = fstat_dir\n",
    "#The pickled pulsars\n",
    "psr_obj_file = fstat_dir + '/mdc2_psr_objects.pickle'"
   ]
  },
  {
   "cell_type": "code",
   "execution_count": 11,
   "metadata": {},
   "outputs": [],
   "source": [
    "#par and tim from mdc2\n",
    "parfiles = sorted(glob.glob(origdatadir + '/*.par'))\n",
    "timfiles = sorted(glob.glob(origdatadir + '/*.tim'))"
   ]
  },
  {
   "cell_type": "code",
   "execution_count": null,
   "metadata": {},
   "outputs": [],
   "source": []
  },
  {
   "cell_type": "code",
   "execution_count": 12,
   "metadata": {},
   "outputs": [],
   "source": [
    "#Loading par and tim files into enterprise Pulsar class\n",
    "#Load all the pulsars if no pickle file\n",
    "try:\n",
    "    #Load pulsars from pickle file\n",
    "    with open(psr_obj_file,'rb') as psrfile:\n",
    "        psrs_mdc2 = pickle.load(psrfile)\n",
    "        psrfile.close()\n",
    "except:\n",
    "    #If no pickle file, load and save pulsars\n",
    "    psrs_mdc2 = []\n",
    "    for p, t in zip(parfiles,timfiles):\n",
    "        psr = Pulsar(p, t)\n",
    "        psrs_mdc2.append(psr)\n",
    "    #Save pulsars to a pickle file\n",
    "    with open(psr_obj_file,'wb') as psrfile:\n",
    "        pickle.dump(psrs_mdc2,psrfile)\n",
    "        psrfile.close()"
   ]
  },
  {
   "cell_type": "code",
   "execution_count": null,
   "metadata": {},
   "outputs": [],
   "source": []
  },
  {
   "cell_type": "code",
   "execution_count": 13,
   "metadata": {},
   "outputs": [],
   "source": [
    "#Get true noise values for pulsars in mdc2\n",
    "params_mdc2 = {}\n",
    "with open(noisefile, 'r') as nf:\n",
    "    params_dict_mdc2 = json.load(nf)\n",
    "    nf.close()\n",
    "for psr, params in params_dict_mdc2.items():\n",
    "    for param_name, param_val in params.items():\n",
    "        if param_name == 'efac':\n",
    "            updated_param_name = psr + '_efac'\n",
    "        elif param_name == 'equad':\n",
    "            updated_param_name = psr + '_log10_equad'\n",
    "        elif param_name == 'ecorr':\n",
    "            updated_param_name = psr + '_log10_ecorr'\n",
    "        elif param_name == 'rn_log10_A':\n",
    "            updated_param_name = psr + '_red_noise_log10_A'\n",
    "        elif param_name == 'rn_spec_ind':\n",
    "            updated_param_name = psr + '_red_noise_gamma'\n",
    "\n",
    "        params_mdc2[updated_param_name] = param_val"
   ]
  },
  {
   "cell_type": "code",
   "execution_count": 14,
   "metadata": {},
   "outputs": [],
   "source": [
    "def GetTspan(psrs):\n",
    "    tmin = [p.toas.min() for p in psrs]\n",
    "    tmax = [p.toas.max() for p in psrs]\n",
    "    Tspan = np.max(tmax) - np.min(tmin)\n",
    "    return Tspan"
   ]
  },
  {
   "cell_type": "code",
   "execution_count": 15,
   "metadata": {},
   "outputs": [],
   "source": [
    "##### parameters and priors for MDC2 #####\n",
    "Tspan_mdc2 = GetTspan(psrs_mdc2)\n",
    "\n",
    "# white noise parameters\n",
    "efac = parameter.Constant()\n",
    "log10_equad = parameter.Constant()\n",
    "ecorr = parameter.Constant()\n",
    "\n",
    "# red noise parameters\n",
    "log10_A = parameter.Constant()\n",
    "gamma = parameter.Constant()\n",
    "\n",
    "'''\n",
    "# GW parameters (initialize with names here to use parameters in common across pulsars)\n",
    "log10_A_gw = parameter.LinearExp(-18,-12)('log10_A_gw')\n",
    "gamma_gw = parameter.Constant(4.33)('gamma_gw')\n",
    "'''\n",
    "\n",
    "# red noise (powerlaw with 30 frequencies)\n",
    "pl = utils.powerlaw(log10_A=log10_A, gamma=gamma)\n",
    "\n",
    "rn_mdc2 = gp_signals.FourierBasisGP(spectrum=pl, Tspan=Tspan_mdc2)\n",
    "\n",
    "'''\n",
    "# gwb (no spatial correlations)\n",
    "cpl = utils.powerlaw(log10_A=log10_A_gw, gamma=gamma_gw)\n",
    "gw = gp_signals.FourierBasisGP(spectrum=cpl, components=30, Tspan=Tspan)\n",
    "'''\n",
    "\n",
    "# timing model\n",
    "tm = gp_signals.TimingModel()\n",
    "\n",
    "##### Set up signals #####\n",
    "\n",
    "# white noise\n",
    "ef = white_signals.MeasurementNoise(efac=efac)\n",
    "eq = white_signals.EquadNoise(log10_equad=log10_equad)\n",
    "\n",
    "# full model is sum of components\n",
    "model_mdc2 = tm + ef + eq + rn_mdc2\n",
    "\n",
    "# intialize PTA\n",
    "pta_mdc2 = signal_base.PTA([model_mdc2(psr) for psr in psrs_mdc2])"
   ]
  },
  {
   "cell_type": "code",
   "execution_count": 16,
   "metadata": {},
   "outputs": [
    {
     "name": "stderr",
     "output_type": "stream",
     "text": [
      "INFO: enterprise.signals.signal_base: Setting J0030+0451_efac to 1.1327054973277817\n",
      "INFO: enterprise.signals.signal_base: Setting J0030+0451_log10_equad to -6.734253117324852\n",
      "INFO: enterprise.signals.signal_base: Setting J0030+0451_red_noise_log10_A to -14.148297681223301\n",
      "INFO: enterprise.signals.signal_base: Setting J0030+0451_red_noise_gamma to 4.495492402026417\n",
      "INFO: enterprise.signals.signal_base: Setting J0034-0534_efac to 1.2598373277400674\n",
      "INFO: enterprise.signals.signal_base: Setting J0034-0534_log10_equad to -6.641425922580685\n",
      "INFO: enterprise.signals.signal_base: Setting J0034-0534_red_noise_log10_A to -16.538151630942075\n",
      "INFO: enterprise.signals.signal_base: Setting J0034-0534_red_noise_gamma to 3.34288428623134\n",
      "INFO: enterprise.signals.signal_base: Setting J0218+4232_efac to 1.3501857107640765\n",
      "INFO: enterprise.signals.signal_base: Setting J0218+4232_log10_equad to -6.753752501179396\n",
      "INFO: enterprise.signals.signal_base: Setting J0218+4232_red_noise_log10_A to -16.705088581827397\n",
      "INFO: enterprise.signals.signal_base: Setting J0218+4232_red_noise_gamma to 3.298433341553362\n",
      "INFO: enterprise.signals.signal_base: Setting J0437-4715_efac to 0.9027892928548922\n",
      "INFO: enterprise.signals.signal_base: Setting J0437-4715_log10_equad to -7.3501880429582105\n",
      "INFO: enterprise.signals.signal_base: Setting J0437-4715_red_noise_log10_A to -13.96849519868149\n",
      "INFO: enterprise.signals.signal_base: Setting J0437-4715_red_noise_gamma to 2.7322867414390304\n",
      "INFO: enterprise.signals.signal_base: Setting J0613-0200_efac to 1.069398437347371\n",
      "INFO: enterprise.signals.signal_base: Setting J0613-0200_log10_equad to -7.0491808424447076\n",
      "INFO: enterprise.signals.signal_base: Setting J0613-0200_red_noise_log10_A to -14.766603418739235\n",
      "INFO: enterprise.signals.signal_base: Setting J0613-0200_red_noise_gamma to 4.766000394698532\n",
      "INFO: enterprise.signals.signal_base: Setting J0621+1002_efac to 1.1159446780503388\n",
      "INFO: enterprise.signals.signal_base: Setting J0621+1002_log10_equad to -6.821375240844936\n",
      "INFO: enterprise.signals.signal_base: Setting J0621+1002_red_noise_log10_A to -12.051650919621114\n",
      "INFO: enterprise.signals.signal_base: Setting J0621+1002_red_noise_gamma to 2.279780352093793\n",
      "INFO: enterprise.signals.signal_base: Setting J0711-6830_efac to 1.0331469056198783\n",
      "INFO: enterprise.signals.signal_base: Setting J0711-6830_log10_equad to -7.0070953185577\n",
      "INFO: enterprise.signals.signal_base: Setting J0711-6830_red_noise_log10_A to -16.83523820332224\n",
      "INFO: enterprise.signals.signal_base: Setting J0711-6830_red_noise_gamma to 3.3227170184644508\n",
      "INFO: enterprise.signals.signal_base: Setting J0751+1807_efac to 1.0980163173031454\n",
      "INFO: enterprise.signals.signal_base: Setting J0751+1807_log10_equad to -6.783324009718515\n",
      "INFO: enterprise.signals.signal_base: Setting J0751+1807_red_noise_log10_A to -16.05805871026338\n",
      "INFO: enterprise.signals.signal_base: Setting J0751+1807_red_noise_gamma to 3.777330526518302\n",
      "INFO: enterprise.signals.signal_base: Setting J0900-3144_efac to 1.0514874041834474\n",
      "INFO: enterprise.signals.signal_base: Setting J0900-3144_log10_equad to -6.85639640477896\n",
      "INFO: enterprise.signals.signal_base: Setting J0900-3144_red_noise_log10_A to -16.81429597558261\n",
      "INFO: enterprise.signals.signal_base: Setting J0900-3144_red_noise_gamma to 3.321835134801103\n",
      "INFO: enterprise.signals.signal_base: Setting J1012+5307_efac to 1.0244491359967973\n",
      "INFO: enterprise.signals.signal_base: Setting J1012+5307_log10_equad to -6.822629641758827\n",
      "INFO: enterprise.signals.signal_base: Setting J1012+5307_red_noise_log10_A to -13.203219802347427\n",
      "INFO: enterprise.signals.signal_base: Setting J1012+5307_red_noise_gamma to 2.654410008805331\n",
      "INFO: enterprise.signals.signal_base: Setting J1022+1001_efac to 1.2582745455288107\n",
      "INFO: enterprise.signals.signal_base: Setting J1022+1001_log10_equad to -6.244756338992644\n",
      "INFO: enterprise.signals.signal_base: Setting J1022+1001_red_noise_log10_A to -14.654931879539218\n",
      "INFO: enterprise.signals.signal_base: Setting J1022+1001_red_noise_gamma to 1.6527562832523286\n",
      "INFO: enterprise.signals.signal_base: Setting J1024-0719_efac to 1.0449468513713525\n",
      "INFO: enterprise.signals.signal_base: Setting J1024-0719_log10_equad to -7.006523023914893\n",
      "INFO: enterprise.signals.signal_base: Setting J1024-0719_red_noise_log10_A to -16.243322979838553\n",
      "INFO: enterprise.signals.signal_base: Setting J1024-0719_red_noise_gamma to 3.687172113125529\n",
      "INFO: enterprise.signals.signal_base: Setting J1045-4509_efac to 1.072929131995194\n",
      "INFO: enterprise.signals.signal_base: Setting J1045-4509_log10_equad to -6.850728402256742\n",
      "INFO: enterprise.signals.signal_base: Setting J1045-4509_red_noise_log10_A to -14.52527699649665\n",
      "INFO: enterprise.signals.signal_base: Setting J1045-4509_red_noise_gamma to 3.751039866327389\n",
      "INFO: enterprise.signals.signal_base: Setting J1455-3330_efac to 1.3390354892296985\n",
      "INFO: enterprise.signals.signal_base: Setting J1455-3330_log10_equad to -7.461988172016503\n",
      "INFO: enterprise.signals.signal_base: Setting J1455-3330_red_noise_log10_A to -15.64965591408941\n",
      "INFO: enterprise.signals.signal_base: Setting J1455-3330_red_noise_gamma to 3.8280935580211253\n",
      "INFO: enterprise.signals.signal_base: Setting J1600-3053_efac to 1.175625383983205\n",
      "INFO: enterprise.signals.signal_base: Setting J1600-3053_log10_equad to -7.443264549159709\n",
      "INFO: enterprise.signals.signal_base: Setting J1600-3053_red_noise_log10_A to -15.838979573623122\n",
      "INFO: enterprise.signals.signal_base: Setting J1600-3053_red_noise_gamma to 2.676969024016594\n",
      "INFO: enterprise.signals.signal_base: Setting J1603-7202_efac to 1.1008358745687221\n",
      "INFO: enterprise.signals.signal_base: Setting J1603-7202_log10_equad to -6.993090496693966\n",
      "INFO: enterprise.signals.signal_base: Setting J1603-7202_red_noise_log10_A to -16.57725329475201\n",
      "INFO: enterprise.signals.signal_base: Setting J1603-7202_red_noise_gamma to 3.294508945268641\n",
      "INFO: enterprise.signals.signal_base: Setting J1614-2230_efac to 1.037401165717705\n",
      "INFO: enterprise.signals.signal_base: Setting J1614-2230_log10_equad to -7.4024279657849394\n",
      "INFO: enterprise.signals.signal_base: Setting J1614-2230_red_noise_log10_A to -17.122127845233333\n",
      "INFO: enterprise.signals.signal_base: Setting J1614-2230_red_noise_gamma to 3.3468938741573657\n",
      "INFO: enterprise.signals.signal_base: Setting J1640+2224_efac to 1.1607189512343288\n",
      "INFO: enterprise.signals.signal_base: Setting J1640+2224_log10_equad to -7.289993973220734\n",
      "INFO: enterprise.signals.signal_base: Setting J1640+2224_red_noise_log10_A to -12.984594217720504\n",
      "INFO: enterprise.signals.signal_base: Setting J1640+2224_red_noise_gamma to 0.2967496880468218\n",
      "INFO: enterprise.signals.signal_base: Setting J1643-1224_efac to 1.1488592515390281\n",
      "INFO: enterprise.signals.signal_base: Setting J1643-1224_log10_equad to -7.107664832540961\n",
      "INFO: enterprise.signals.signal_base: Setting J1643-1224_red_noise_log10_A to -12.46808044133904\n",
      "INFO: enterprise.signals.signal_base: Setting J1643-1224_red_noise_gamma to 2.4300793031323797\n",
      "INFO: enterprise.signals.signal_base: Setting J1713+0747_efac to 1.0535325739414598\n",
      "INFO: enterprise.signals.signal_base: Setting J1713+0747_log10_equad to -7.19105776044093\n",
      "INFO: enterprise.signals.signal_base: Setting J1713+0747_red_noise_log10_A to -17.014180096857725\n",
      "INFO: enterprise.signals.signal_base: Setting J1713+0747_red_noise_gamma to 3.0702350887021703\n",
      "INFO: enterprise.signals.signal_base: Setting J1730-2304_efac to 1.24585664039348\n",
      "INFO: enterprise.signals.signal_base: Setting J1730-2304_log10_equad to -6.82802513885757\n",
      "INFO: enterprise.signals.signal_base: Setting J1730-2304_red_noise_log10_A to -16.692585312853158\n",
      "INFO: enterprise.signals.signal_base: Setting J1730-2304_red_noise_gamma to 3.342131998775761\n",
      "INFO: enterprise.signals.signal_base: Setting J1744-1134_efac to 1.2481888377141435\n",
      "INFO: enterprise.signals.signal_base: Setting J1744-1134_log10_equad to -6.705433636310524\n",
      "INFO: enterprise.signals.signal_base: Setting J1744-1134_red_noise_log10_A to -17.23679456426679\n",
      "INFO: enterprise.signals.signal_base: Setting J1744-1134_red_noise_gamma to 3.202499285646422\n",
      "INFO: enterprise.signals.signal_base: Setting J1857+0943_efac to 1.1414086488720623\n",
      "INFO: enterprise.signals.signal_base: Setting J1857+0943_log10_equad to -6.64006372438126\n"
     ]
    },
    {
     "name": "stderr",
     "output_type": "stream",
     "text": [
      "INFO: enterprise.signals.signal_base: Setting J1857+0943_red_noise_log10_A to -14.240807998662445\n",
      "INFO: enterprise.signals.signal_base: Setting J1857+0943_red_noise_gamma to 4.6295408167717005\n",
      "INFO: enterprise.signals.signal_base: Setting J1909-3744_efac to 1.095400467856472\n",
      "INFO: enterprise.signals.signal_base: Setting J1909-3744_log10_equad to -7.213183522763408\n",
      "INFO: enterprise.signals.signal_base: Setting J1909-3744_red_noise_log10_A to -17.32727924372078\n",
      "INFO: enterprise.signals.signal_base: Setting J1909-3744_red_noise_gamma to 3.18721293346236\n",
      "INFO: enterprise.signals.signal_base: Setting J1918-0642_efac to 1.0819378030429965\n",
      "INFO: enterprise.signals.signal_base: Setting J1918-0642_log10_equad to -7.556289609789052\n",
      "INFO: enterprise.signals.signal_base: Setting J1918-0642_red_noise_log10_A to -15.681503899653743\n",
      "INFO: enterprise.signals.signal_base: Setting J1918-0642_red_noise_gamma to 3.161506983264447\n",
      "INFO: enterprise.signals.signal_base: Setting J1939+2134_efac to 2.2058139485827803\n",
      "INFO: enterprise.signals.signal_base: Setting J1939+2134_log10_equad to -6.865584259820629\n",
      "INFO: enterprise.signals.signal_base: Setting J1939+2134_red_noise_log10_A to -13.163766754084453\n",
      "INFO: enterprise.signals.signal_base: Setting J1939+2134_red_noise_gamma to 2.5282317582527867\n",
      "INFO: enterprise.signals.signal_base: Setting J1944+0907_efac to 1.2968103624660743\n",
      "INFO: enterprise.signals.signal_base: Setting J1944+0907_log10_equad to -7.236307645295635\n",
      "INFO: enterprise.signals.signal_base: Setting J1944+0907_red_noise_log10_A to -16.70694452439989\n",
      "INFO: enterprise.signals.signal_base: Setting J1944+0907_red_noise_gamma to 3.3776787014065963\n",
      "INFO: enterprise.signals.signal_base: Setting J2010-1323_efac to 1.1092575021030218\n",
      "INFO: enterprise.signals.signal_base: Setting J2010-1323_log10_equad to -6.861297695214705\n",
      "INFO: enterprise.signals.signal_base: Setting J2010-1323_red_noise_log10_A to -16.17005549716129\n",
      "INFO: enterprise.signals.signal_base: Setting J2010-1323_red_noise_gamma to 3.601327067501023\n",
      "INFO: enterprise.signals.signal_base: Setting J2124-3358_efac to 1.113947365924296\n",
      "INFO: enterprise.signals.signal_base: Setting J2124-3358_log10_equad to -6.92987502811784\n",
      "INFO: enterprise.signals.signal_base: Setting J2124-3358_red_noise_log10_A to -16.271973220226727\n",
      "INFO: enterprise.signals.signal_base: Setting J2124-3358_red_noise_gamma to 3.3493567341210873\n",
      "INFO: enterprise.signals.signal_base: Setting J2129-5721_efac to 1.2627849754778575\n",
      "INFO: enterprise.signals.signal_base: Setting J2129-5721_log10_equad to -6.96686041839063\n",
      "INFO: enterprise.signals.signal_base: Setting J2129-5721_red_noise_log10_A to -16.815772761209494\n",
      "INFO: enterprise.signals.signal_base: Setting J2129-5721_red_noise_gamma to 3.358324393469547\n",
      "INFO: enterprise.signals.signal_base: Setting J2145-0750_efac to 1.1148985030556542\n",
      "INFO: enterprise.signals.signal_base: Setting J2145-0750_log10_equad to -6.761214215793945\n",
      "INFO: enterprise.signals.signal_base: Setting J2145-0750_red_noise_log10_A to -13.624535276753424\n",
      "INFO: enterprise.signals.signal_base: Setting J2145-0750_red_noise_gamma to 1.8678811773250965\n",
      "INFO: enterprise.signals.signal_base: Setting J2229+2643_efac to 1.6003150353383926\n",
      "INFO: enterprise.signals.signal_base: Setting J2229+2643_log10_equad to -6.7758410735672845\n",
      "INFO: enterprise.signals.signal_base: Setting J2229+2643_red_noise_log10_A to -15.898117371864668\n",
      "INFO: enterprise.signals.signal_base: Setting J2229+2643_red_noise_gamma to 3.4715784537516154\n",
      "INFO: enterprise.signals.signal_base: Setting J2317+1439_efac to 1.0593648536757019\n",
      "INFO: enterprise.signals.signal_base: Setting J2317+1439_log10_equad to -6.411107094811317\n",
      "INFO: enterprise.signals.signal_base: Setting J2317+1439_red_noise_log10_A to -17.0427333172702\n",
      "INFO: enterprise.signals.signal_base: Setting J2317+1439_red_noise_gamma to 3.200452741705589\n"
     ]
    }
   ],
   "source": [
    "#Set Default PTA parameters to the ones in the noisefiles\n",
    "pta_mdc2.set_default_params(params_mdc2)"
   ]
  },
  {
   "cell_type": "code",
   "execution_count": null,
   "metadata": {},
   "outputs": [],
   "source": []
  },
  {
   "cell_type": "code",
   "execution_count": 17,
   "metadata": {},
   "outputs": [],
   "source": [
    "# make sure all pulsar have same reference time\n",
    "def GetRefTime(psrs):\n",
    "    tt=[] \n",
    "    for p in psrs:\n",
    "        tt.append(np.min(p.toas))\n",
    "\n",
    "    # find reference time\n",
    "    tref = np.min(tt)\n",
    "    newtoas = []\n",
    "    # now scale pulsar time\n",
    "    for p in psrs:\n",
    "        newtoas.append((p.toas - tref))\n",
    "    return newtoas"
   ]
  },
  {
   "cell_type": "code",
   "execution_count": 18,
   "metadata": {},
   "outputs": [],
   "source": [
    "def GenNmat(pta,params):\n",
    "    '''Makes the Nmatrix used in the fstatistic'''\n",
    "    TNTs = pta.get_TNT(params)\n",
    "    phiinvs = pta.get_phiinv(params, logdet=False, method='partition') \n",
    "    #Get noise parameters for pta toaerr**2\n",
    "    Nvecs = pta.get_ndiag(params)\n",
    "    #Get the basis matrix\n",
    "    Ts = pta.get_basis(params)\n",
    "    Nmat = []\n",
    "    print('Making Nmat')\n",
    "    l1 = np.shape(TNTs)[0]\n",
    "    i = 1\n",
    "    \n",
    "    for phiinv, TNT, Nvec, T in zip(phiinvs, TNTs, Nvecs, Ts):\n",
    "        start = time.time()\n",
    "        Sigma = TNT + (np.diag(phiinv) if phiinv.ndim == 1 else phiinv)\n",
    "        cf = sl.cho_factor(Sigma)      \n",
    "        Nshape = np.shape(T)[0]\n",
    "        TtN = Nvec.solve(other = np.eye(Nshape),left_array = T)\n",
    "        \n",
    "        #Put pulsar's autoerrors in a diagonal matrix\n",
    "        Ndiag = Nvec.solve(other = np.eye(Nshape),left_array = np.eye(Nshape))\n",
    "    \n",
    "        expval2 = sl.cho_solve(cf,TtN)\n",
    "        #TtNt = np.transpose(TtN)\n",
    "        \n",
    "        #An Ntoa by Ntoa noise matrix to be used in expand dense matrix calculations earlier\n",
    "        Nmat.append(Ndiag - np.dot(TtN.T,expval2))\n",
    "        end = time.time()\n",
    "        print(repr(i) + ' out of ' + repr(l1) + ' Done. Time: ' + repr(end-start))\n",
    "        i += 1\n",
    "    return Nmat"
   ]
  },
  {
   "cell_type": "code",
   "execution_count": null,
   "metadata": {},
   "outputs": [],
   "source": []
  },
  {
   "cell_type": "code",
   "execution_count": 19,
   "metadata": {},
   "outputs": [
    {
     "name": "stdout",
     "output_type": "stream",
     "text": [
      "Making Nmat\n",
      "1 out of 33 Done. Time: 0.09025907516479492\n",
      "2 out of 33 Done. Time: 0.001367807388305664\n",
      "3 out of 33 Done. Time: 0.0007126331329345703\n",
      "4 out of 33 Done. Time: 0.0007472038269042969\n",
      "5 out of 33 Done. Time: 0.0007016658782958984\n",
      "6 out of 33 Done. Time: 0.0006775856018066406\n",
      "7 out of 33 Done. Time: 0.0006558895111083984\n",
      "8 out of 33 Done. Time: 0.0009524822235107422\n",
      "9 out of 33 Done. Time: 0.0009708404541015625\n",
      "10 out of 33 Done. Time: 0.0010759830474853516\n",
      "11 out of 33 Done. Time: 0.0012078285217285156\n",
      "12 out of 33 Done. Time: 0.000989675521850586\n",
      "13 out of 33 Done. Time: 0.0010027885437011719\n",
      "14 out of 33 Done. Time: 0.0009603500366210938\n",
      "15 out of 33 Done. Time: 0.001256704330444336\n",
      "16 out of 33 Done. Time: 0.0010781288146972656\n",
      "17 out of 33 Done. Time: 0.0009968280792236328\n",
      "18 out of 33 Done. Time: 0.0009241104125976562\n",
      "19 out of 33 Done. Time: 0.0009534358978271484\n",
      "20 out of 33 Done. Time: 0.0008175373077392578\n",
      "21 out of 33 Done. Time: 0.0008702278137207031\n",
      "22 out of 33 Done. Time: 0.0008285045623779297\n",
      "23 out of 33 Done. Time: 0.0008919239044189453\n",
      "24 out of 33 Done. Time: 0.0007958412170410156\n",
      "25 out of 33 Done. Time: 0.0009653568267822266\n",
      "26 out of 33 Done. Time: 0.0013651847839355469\n",
      "27 out of 33 Done. Time: 0.0010738372802734375\n",
      "28 out of 33 Done. Time: 0.0007321834564208984\n",
      "29 out of 33 Done. Time: 0.0009717941284179688\n",
      "30 out of 33 Done. Time: 0.0008335113525390625\n",
      "31 out of 33 Done. Time: 0.0010197162628173828\n",
      "32 out of 33 Done. Time: 0.0007615089416503906\n",
      "33 out of 33 Done. Time: 0.0008559226989746094\n"
     ]
    }
   ],
   "source": [
    "#Making Nmatrix for mdc2\n",
    "Nmat_mdc2 = GenNmat(pta_mdc2,params_mdc2)"
   ]
  },
  {
   "cell_type": "code",
   "execution_count": null,
   "metadata": {
    "scrolled": true
   },
   "outputs": [],
   "source": []
  },
  {
   "cell_type": "code",
   "execution_count": 23,
   "metadata": {},
   "outputs": [],
   "source": [
    "def AndrewFpstat2(psrs,Nmat,aligned_toas,f0):\n",
    "    '''Takes in the full pta, the pulsars that make up the pta \n",
    "    (Should make this a function in ptas to use self instead of pta?),\n",
    "    and the orbital angular frequency of the gravitational wave (usually the search parameter).\n",
    "    Returns the Fp statistic\n",
    "    '''\n",
    "    \n",
    "    fpstat = 0.0\n",
    "        \n",
    "    for ii,p in enumerate(psrs):\n",
    "        # define N vectors from Ellis et al, 2012 N_i=(x|A_i) for each pulsar\n",
    "        N = np.zeros(2)\n",
    "        # define M matrix M_ij=(A_i|A_j)\n",
    "        M = np.zeros((2, 2))\n",
    "\n",
    "        # Define A vector\n",
    "        A = np.zeros((2, len(aligned_toas[ii])))\n",
    "        A[0,:] = f0**(-1./3.) * np.sin(2*np.pi*f0*aligned_toas[ii])\n",
    "        A[1,:] = f0**(-1./3.) * np.cos(2*np.pi*f0*aligned_toas[ii])\n",
    "        '''A = np.zeros((2, len(p.toas)))\n",
    "        A[0,:] = f0**(-1./3.) * np.sin(2*np.pi*f0*p.toas)\n",
    "        A[1,:] = f0**(-1./3.) * np.cos(2*np.pi*f0*p.toas)'''\n",
    "    \n",
    "        # define N vectors from Ellis et al, 2012 N_i=(r|A_i) for each pulsar\n",
    "        N = np.array([np.dot(A[0,:], np.dot(Nmat[ii],p.residuals)), \\\n",
    "                      np.dot(A[1,:], np.dot(Nmat[ii],p.residuals))]) \n",
    "        \n",
    "        # define M matrix M_ij=(A_i|A_j)\n",
    "        for jj in range(2):\n",
    "            for kk in range(2):\n",
    "                M[jj,kk] = np.dot(A[jj,:], np.dot(Nmat[ii], A[kk,:]))\n",
    "        \n",
    "        # take inverse of M\n",
    "        Minv = sl.pinv(M)\n",
    "        \n",
    "        fpstat += 0.5 * np.dot(N, np.dot(Minv, N))\n",
    "    return fpstat"
   ]
  },
  {
   "cell_type": "code",
   "execution_count": null,
   "metadata": {},
   "outputs": [],
   "source": []
  },
  {
   "cell_type": "code",
   "execution_count": 24,
   "metadata": {
    "scrolled": true
   },
   "outputs": [
    {
     "name": "stdout",
     "output_type": "stream",
     "text": [
      "10 Done.  Time Elapsed: 0.08024263381958008\n",
      "20 Done.  Time Elapsed: 0.1414182186126709\n",
      "30 Done.  Time Elapsed: 0.19375109672546387\n",
      "40 Done.  Time Elapsed: 0.24659442901611328\n",
      "50 Done.  Time Elapsed: 0.30352139472961426\n",
      "60 Done.  Time Elapsed: 0.3568243980407715\n",
      "70 Done.  Time Elapsed: 0.4110715389251709\n",
      "80 Done.  Time Elapsed: 0.4776346683502197\n",
      "90 Done.  Time Elapsed: 0.5396618843078613\n",
      "100 Done.  Time Elapsed: 0.5985198020935059\n",
      "110 Done.  Time Elapsed: 0.6601688861846924\n",
      "120 Done.  Time Elapsed: 0.7223222255706787\n",
      "130 Done.  Time Elapsed: 0.7852764129638672\n",
      "140 Done.  Time Elapsed: 0.845811128616333\n",
      "150 Done.  Time Elapsed: 0.9028804302215576\n"
     ]
    }
   ],
   "source": [
    "nfreqs = 1000\n",
    "#Use delf to shift frequencies by less than a bin to get more samples\n",
    "delf = 2/(3*Tspan_mdc2)\n",
    "startfreq_mdc2 = 1/Tspan_mdc2 + delf\n",
    "endfreq_mdc2 = 3.3e-7\n",
    "#logfreqs = np.logspace(np.log10(startfreq),np.log10(endfreq),nfreqs) Does not sample independent frequencies\n",
    "linfreqs_mdc2 = np.arange(startfreq_mdc2,endfreq_mdc2,1/Tspan_mdc2)\n",
    "\n",
    "newtoas_mdc2 = GetRefTime(psrs_mdc2)\n",
    "\n",
    "i = 1\n",
    "fstat_array_mdc2 = []\n",
    "start = time.time()\n",
    "for gwfreq in linfreqs_mdc2:\n",
    "    fstat_array_mdc2.append(AndrewFpstat2(psrs_mdc2,Nmat_mdc2,newtoas_mdc2,gwfreq))\n",
    "    if i % 10 == 0:\n",
    "        end = time.time()\n",
    "        print(repr(i) + ' Done. ' + ' Time Elapsed: ' + repr(end-start))\n",
    "    i += 1"
   ]
  },
  {
   "cell_type": "markdown",
   "metadata": {},
   "source": [
    "# Fp Statistic Histograms and Frequency Plots"
   ]
  },
  {
   "cell_type": "code",
   "execution_count": 25,
   "metadata": {},
   "outputs": [
    {
     "data": {
      "image/png": "[encoded data removed]",
      "text/plain": [
       "<Figure size 432x288 with 1 Axes>"
      ]
     },
     "metadata": {
      "image/png": {
       "height": 272,
       "width": 383
      },
      "needs_background": "light"
     },
     "output_type": "display_data"
    }
   ],
   "source": [
    "#Test Histograms\n",
    "#Making chi squared values\n",
    "dof_mdc2 = 2*len(psrs_mdc2)\n",
    "N_x_mdc2 = 10000\n",
    "chi_x_mdc2 = np.linspace(0,int(max(fstat_array_mdc2))+1,N_x_mdc2)\n",
    "\n",
    "nbins = 30\n",
    "#plt.hist(fstat_array,bins = nbins,density = True)\n",
    "plt.hist(2*fstat_array_mdc2,bins = nbins,density = True)\n",
    "plt.plot(chi_x_mdc2,chi2.pdf(chi_x_mdc2,dof_mdc2))\n",
    "#plt.hist(fstat_array_test,bins = nbins,density = True)\n",
    "plt.xlabel(r'$\\mathcal{F}_{p}$',fontsize = 'xx-large')\n",
    "plt.show()"
   ]
  },
  {
   "cell_type": "code",
   "execution_count": 26,
   "metadata": {},
   "outputs": [
    {
     "data": {
      "image/png": "[encoded data removed]",
      "text/plain": [
       "<Figure size 432x288 with 1 Axes>"
      ]
     },
     "metadata": {
      "image/png": {
       "height": 272,
       "width": 400
      },
      "needs_background": "light"
     },
     "output_type": "display_data"
    }
   ],
   "source": [
    "#Test Frequency plots\n",
    "plt.plot(linfreqs_mdc2,fstat_array_mdc2)\n",
    "plt.xscale('log')\n",
    "plt.ylabel(r'$\\mathcal{F}_{p}$',fontsize = 'xx-large')\n",
    "plt.xlabel(r'$f$ [Hz]',fontsize = 'xx-large')\n",
    "plt.show()"
   ]
  },
  {
   "cell_type": "markdown",
   "metadata": {},
   "source": [
    "# Fe Statistic"
   ]
  },
  {
   "cell_type": "code",
   "execution_count": 27,
   "metadata": {},
   "outputs": [],
   "source": [
    "def AndrewFestat2(psrs,Nmat,aligned_toas,f0,gwphi,gwtheta):\n",
    "    '''Takes in the pulsars that make up the pta, the Nmatrix from GetNmat \n",
    "    (Should make this a function in ptas to use self instead of pta?),\n",
    "    the frequency of the gravitational wave, phi (GW azimuthal angle in radians), \n",
    "    and theta (GW polar angle in radians).\n",
    "    Returns the Fe statistic\n",
    "    '''\n",
    "    festat = 0.0\n",
    "    \n",
    "    #Probably a better way of doing this as well, but using TNTs[ii] for example didn't work\n",
    "    for ii,p in enumerate(psrs):\n",
    "        # define N vectors from Ellis et al, 2012 N_i=(x|A_i) for each pulsar\n",
    "        N = np.zeros(4)\n",
    "        # define M matrix M_ij=(A_i|A_j)\n",
    "        M = np.zeros((4,4))\n",
    "\n",
    "        fplus, fcross, cosMu = utils.create_gw_antenna_pattern(p.pos, gwtheta, gwphi)\n",
    "\n",
    "        # define A\n",
    "        A = np.zeros((4, len(aligned_toas[ii])))\n",
    "        A[0,:] = fplus/f0**(1./3.) * np.sin(2*np.pi*f0*aligned_toas[ii])\n",
    "        A[1,:] = fplus/f0**(1./3.) * np.cos(2*np.pi*f0*aligned_toas[ii])\n",
    "        A[2,:] = fcross/f0**(1./3.) * np.sin(2*np.pi*f0*aligned_toas[ii])\n",
    "        A[3,:] = fcross/f0**(1./3.) * np.cos(2*np.pi*f0*aligned_toas[ii])\n",
    "\n",
    "        N += np.array([np.dot(A[0,:], np.dot(Nmat[ii],p.residuals)), \\\n",
    "                    np.dot(A[1,:], np.dot(Nmat[ii],p.residuals)), \\\n",
    "                    np.dot(A[2,:], np.dot(Nmat[ii],p.residuals)), \\\n",
    "                    np.dot(A[3,:], np.dot(Nmat[ii],p.residuals))])\n",
    "    \n",
    "        # define M matrix M_ij=(A_i|A_j)\n",
    "        M += np.dot(A, np.dot(Nmat[ii], A.T))\n",
    "        \n",
    "        \n",
    "        # take inverse of M\n",
    "        Minv = sl.pinv(M)\n",
    "        \n",
    "        festat += 0.5 * np.dot(N, np.dot(Minv, N))\n",
    "        \n",
    "    return festat"
   ]
  },
  {
   "cell_type": "code",
   "execution_count": 28,
   "metadata": {},
   "outputs": [],
   "source": [
    "#Pick gw sky location for tests\n",
    "gwtheta = 30/180*np.pi\n",
    "gwphi = 10/180*np.pi"
   ]
  },
  {
   "cell_type": "code",
   "execution_count": 34,
   "metadata": {},
   "outputs": [
    {
     "name": "stdout",
     "output_type": "stream",
     "text": [
      "10 Done.  Time Elapsed: 0.11517810821533203\n",
      "20 Done.  Time Elapsed: 0.19217896461486816\n",
      "30 Done.  Time Elapsed: 0.27945923805236816\n",
      "40 Done.  Time Elapsed: 0.36846256256103516\n",
      "50 Done.  Time Elapsed: 0.4592912197113037\n",
      "60 Done.  Time Elapsed: 0.5357635021209717\n",
      "70 Done.  Time Elapsed: 0.6189053058624268\n",
      "80 Done.  Time Elapsed: 0.6943676471710205\n",
      "90 Done.  Time Elapsed: 0.7687180042266846\n",
      "100 Done.  Time Elapsed: 0.8466770648956299\n",
      "110 Done.  Time Elapsed: 0.9356486797332764\n",
      "120 Done.  Time Elapsed: 1.009437084197998\n",
      "130 Done.  Time Elapsed: 1.0938000679016113\n",
      "140 Done.  Time Elapsed: 1.1952283382415771\n",
      "150 Done.  Time Elapsed: 1.2711572647094727\n"
     ]
    }
   ],
   "source": [
    "i = 1\n",
    "festat_array_mdc2 = []\n",
    "start = time.time()\n",
    "for gwfreq in linfreqs_mdc2:\n",
    "    festat_array_mdc2.append(AndrewFestat2(psrs_mdc2,Nmat_mdc2,newtoas_mdc2,gwfreq,gwtheta,gwphi))\n",
    "    if i % 10 == 0:\n",
    "        end = time.time()\n",
    "        print(repr(i) + ' Done. ' + ' Time Elapsed: ' + repr(end-start))\n",
    "    i += 1"
   ]
  },
  {
   "cell_type": "code",
   "execution_count": 35,
   "metadata": {},
   "outputs": [
    {
     "data": {
      "image/png": "[encoded data removed]",
      "text/plain": [
       "<Figure size 432x288 with 1 Axes>"
      ]
     },
     "metadata": {
      "image/png": {
       "height": 270,
       "width": 387
      },
      "needs_background": "light"
     },
     "output_type": "display_data"
    }
   ],
   "source": [
    "nbins = 50\n",
    "plt.hist(festat_array_mdc2,bins = nbins,density = True)\n",
    "plt.xlabel(r'$\\mathcal{F}_{e}$',fontsize = 'xx-large')\n",
    "plt.show()"
   ]
  },
  {
   "cell_type": "code",
   "execution_count": null,
   "metadata": {},
   "outputs": [],
   "source": []
  }
 ],
 "metadata": {
  "kernelspec": {
   "display_name": "Python 3",
   "language": "python",
   "name": "python3"
  },
  "language_info": {
   "codemirror_mode": {
    "name": "ipython",
    "version": 3
   },
   "file_extension": ".py",
   "mimetype": "text/x-python",
   "name": "python",
   "nbconvert_exporter": "python",
   "pygments_lexer": "ipython3",
   "version": "3.6.7"
  }
 },
 "nbformat": 4,
 "nbformat_minor": 2
}
