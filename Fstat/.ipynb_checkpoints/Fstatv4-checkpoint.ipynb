{
 "cells": [
  {
   "cell_type": "code",
   "execution_count": 2,
   "metadata": {},
   "outputs": [],
   "source": [
    "%load_ext autoreload\n",
    "%autoreload 2"
   ]
  },
  {
   "cell_type": "code",
   "execution_count": 3,
   "metadata": {},
   "outputs": [],
   "source": [
    "%matplotlib inline\n",
    "%config InlineBackend.figure_format = 'retina'"
   ]
  },
  {
   "cell_type": "code",
   "execution_count": 4,
   "metadata": {},
   "outputs": [],
   "source": [
    "from __future__ import division\n",
    "\n",
    "import numpy as np\n",
    "import glob, time, pickle, os\n",
    "import matplotlib.pyplot as plt\n",
    "import scipy.sparse as sps\n",
    "import scipy.linalg as sl\n",
    "from scipy.stats import chi2\n",
    "\n",
    "import enterprise\n",
    "from enterprise.pulsar import Pulsar\n",
    "from enterprise.signals import parameter\n",
    "from enterprise.signals import white_signals\n",
    "from enterprise.signals import utils\n",
    "from enterprise.signals import gp_signals\n",
    "from enterprise.signals import signal_base\n",
    "from enterprise.signals import selections\n",
    "from enterprise.signals.selections import Selection\n",
    "from enterprise_extensions.frequentist import F_statistic\n",
    "\n",
    "import Fpstat_enterprise_extensions as My_Fpstat\n",
    "\n",
    "import corner\n",
    "from PTMCMCSampler.PTMCMCSampler import PTSampler as ptmcmc"
   ]
  },
  {
   "cell_type": "code",
   "execution_count": 5,
   "metadata": {},
   "outputs": [],
   "source": [
    "def get_noise_from_pal2(noisefile):\n",
    "    psrname = noisefile.split('/')[-1].split('_noise.txt')[0]\n",
    "    fin = open(noisefile, 'r')\n",
    "    lines = fin.readlines()\n",
    "    params = {}\n",
    "    for line in lines:\n",
    "        ln = line.split()\n",
    "        if 'efac' in line:\n",
    "            par = 'efac'\n",
    "            flag = ln[0].split('efac-')[-1]\n",
    "        elif 'equad' in line:\n",
    "            par = 'log10_equad'\n",
    "            flag = ln[0].split('equad-')[-1]\n",
    "        elif 'jitter_q' in line:\n",
    "            par = 'log10_ecorr'\n",
    "            flag = ln[0].split('jitter_q-')[-1]\n",
    "        elif 'RN-Amplitude' in line:\n",
    "            par = 'red_noise_log10_A'\n",
    "            flag = ''\n",
    "        elif 'RN-spectral-index' in line:\n",
    "            par = 'red_noise_gamma'\n",
    "            flag = ''\n",
    "        else:\n",
    "            break\n",
    "        if flag:\n",
    "            name = [psrname, flag, par]\n",
    "        else:\n",
    "            name = [psrname, par]\n",
    "        pname = '_'.join(name)\n",
    "        params.update({pname: float(ln[1])})\n",
    "    return params"
   ]
  },
  {
   "cell_type": "code",
   "execution_count": 6,
   "metadata": {},
   "outputs": [],
   "source": [
    "#Where the enterprise 9yr datafiles are\n",
    "datadir = enterprise.__path__[0] + '/datafiles/ng9'\n",
    "\n",
    "parfiles = sorted(glob.glob(datadir + '/*.par'))\n",
    "timfiles = sorted(glob.glob(datadir + '/*.tim'))\n",
    "noisefiles = sorted(glob.glob(datadir + '/*noise.txt'))\n",
    "\n",
    "nine_yr_psrs = [line.rstrip('\\n') for line in open(datadir + '/9yr_pulsars.txt','r')]\n",
    "\n",
    "#Where save directory is:\n",
    "savedir = os.getcwd()"
   ]
  },
  {
   "cell_type": "code",
   "execution_count": 7,
   "metadata": {},
   "outputs": [],
   "source": [
    "#Trial with a few pulsars\n",
    "parfile_J0030 = datadir + '/J0030+0451_NANOGrav_9yv1.gls.par'\n",
    "parfile_J1640 = datadir + '/J1640+2224_NANOGrav_9yv1.gls.par'\n",
    "\n",
    "timfile_J0030 = datadir + '/J0030+0451_NANOGrav_9yv1.tim'\n",
    "timfile_J1640 = datadir + '/J1640+2224_NANOGrav_9yv1.tim'\n",
    "\n",
    "noisefile_J0030 = datadir + '/J0030+0451_noise.txt'\n",
    "noisefile_J1640 = datadir + '/J1640+2224_noise.txt'\n",
    "\n",
    "psr_J0030 = Pulsar(parfile_J0030,timfile_J0030)\n",
    "psr_J1640 = Pulsar(parfile_J1640,timfile_J1640)\n",
    "\n",
    "psrs_test = [psr_J0030,psr_J1640]\n",
    "\n",
    "#Get parameter dict from noisefiles\n",
    "params_test = {}\n",
    "params_test.update(get_noise_from_pal2(noisefile_J0030))\n",
    "params_test.update(get_noise_from_pal2(noisefile_J1640))"
   ]
  },
  {
   "cell_type": "code",
   "execution_count": 8,
   "metadata": {},
   "outputs": [],
   "source": [
    "#Load all the 9yr pulsars if no pickle file\n",
    "psr_obj_filename = '/nine_yr_psr_objects.pickle'\n",
    "psr_obj_file = savedir + psr_obj_filename\n",
    "\n",
    "try:\n",
    "    #Load 9yr pulsars from pickle file\n",
    "    with open(psr_obj_file,'rb') as psrfile:\n",
    "        psrs_9yr = pickle.load(psrfile)\n",
    "        psrfile.close()\n",
    "except:\n",
    "    #If no pickle file, load and save pulsars\n",
    "    psrs_9yr = []\n",
    "    for p, t, nf in zip(parfiles,timfiles,noisefiles):\n",
    "        psr = Pulsar(p, t)\n",
    "        for psr_9yr in nine_yr_psrs:\n",
    "            if psr.name == psr_9yr:\n",
    "                psrs_9yr.append(psr)\n",
    "    #Save 9yr pulsars to a pickle file\n",
    "    with open(psr_obj_file,'wb') as psrfile:\n",
    "        pickle.dump(psrs_9yr,psrfile)\n",
    "        psrfile.close()"
   ]
  },
  {
   "cell_type": "code",
   "execution_count": 9,
   "metadata": {},
   "outputs": [],
   "source": [
    "#Get parameter dict from noisefiles\n",
    "params_9yr = {}\n",
    "for nfile in noisefiles:\n",
    "    noise = get_noise_from_pal2(nfile)\n",
    "    for key in noise.keys():\n",
    "        for psr_9yr in nine_yr_psrs:\n",
    "            if key.startswith(psr_9yr):\n",
    "                params_9yr.update(noise)"
   ]
  },
  {
   "cell_type": "code",
   "execution_count": 10,
   "metadata": {},
   "outputs": [
    {
     "name": "stdout",
     "output_type": "stream",
     "text": [
      "{'J0030+0451_430_ASP_efac': 1.13871, 'J0030+0451_L-wide_PUPPI_efac': 1.14101, 'J0030+0451_430_PUPPI_efac': 0.917359, 'J0030+0451_L-wide_ASP_efac': 1.12336, 'J0030+0451_430_ASP_log10_ecorr': -7.6001, 'J0030+0451_430_PUPPI_log10_ecorr': -7.11084, 'J0030+0451_L-wide_ASP_log10_ecorr': -7.59912, 'J0030+0451_L-wide_PUPPI_log10_ecorr': -7.64239, 'J0030+0451_430_ASP_log10_equad': -8.27762, 'J0030+0451_L-wide_PUPPI_log10_equad': -6.67303, 'J0030+0451_430_PUPPI_log10_equad': -5.94568, 'J0030+0451_L-wide_ASP_log10_equad': -8.17663, 'J0030+0451_red_noise_log10_A': -14.412, 'J0030+0451_red_noise_gamma': 5.05806, 'J1640+2224_430_ASP_efac': 1.18797, 'J1640+2224_L-wide_PUPPI_efac': 1.25304, 'J1640+2224_430_PUPPI_efac': 1.13544, 'J1640+2224_L-wide_ASP_efac': 1.07335, 'J1640+2224_430_ASP_log10_ecorr': -7.75415, 'J1640+2224_430_PUPPI_log10_ecorr': -7.0865, 'J1640+2224_L-wide_ASP_log10_ecorr': -6.38835, 'J1640+2224_L-wide_PUPPI_log10_ecorr': -7.67906, 'J1640+2224_430_ASP_log10_equad': -6.26644, 'J1640+2224_L-wide_PUPPI_log10_equad': -8.61952, 'J1640+2224_430_PUPPI_log10_equad': -7.48076, 'J1640+2224_L-wide_ASP_log10_equad': -8.40253, 'J1640+2224_red_noise_log10_A': -17.0642, 'J1640+2224_red_noise_gamma': 3.21169}\n"
     ]
    }
   ],
   "source": [
    "print(params_test)"
   ]
  },
  {
   "cell_type": "code",
   "execution_count": 11,
   "metadata": {},
   "outputs": [],
   "source": [
    "def GetTspan(psrs):\n",
    "    tmin = [p.toas.min() for p in psrs]\n",
    "    tmax = [p.toas.max() for p in psrs]\n",
    "    Tspan = np.max(tmax) - np.min(tmin)\n",
    "    return Tspan"
   ]
  },
  {
   "cell_type": "code",
   "execution_count": 12,
   "metadata": {},
   "outputs": [],
   "source": [
    "##### parameters and priors #####\n",
    "selection = Selection(selections.by_backend)\n",
    "\n",
    "Tspan_9yr = GetTspan(psrs_9yr)\n",
    "Tspan_test = GetTspan(psrs_test)\n",
    "\n",
    "# white noise parameters\n",
    "efac = parameter.Constant()\n",
    "log10_equad = parameter.Constant()\n",
    "ecorr = parameter.Constant()\n",
    "\n",
    "# red noise parameters\n",
    "log10_A = parameter.Constant()\n",
    "gamma = parameter.Constant()\n",
    "\n",
    "'''\n",
    "# GW parameters (initialize with names here to use parameters in common across pulsars)\n",
    "log10_A_gw = parameter.LinearExp(-18,-12)('log10_A_gw')\n",
    "gamma_gw = parameter.Constant(4.33)('gamma_gw')\n",
    "'''\n",
    "\n",
    "# red noise (powerlaw with 30 frequencies)\n",
    "pl = utils.powerlaw(log10_A=log10_A, gamma=gamma)\n",
    "\n",
    "rn_9yr = gp_signals.FourierBasisGP(spectrum=pl, Tspan=Tspan_9yr)\n",
    "rn_test = gp_signals.FourierBasisGP(spectrum=pl, Tspan=Tspan_test)\n",
    "\n",
    "'''\n",
    "# gwb (no spatial correlations)\n",
    "cpl = utils.powerlaw(log10_A=log10_A_gw, gamma=gamma_gw)\n",
    "gw = gp_signals.FourierBasisGP(spectrum=cpl, components=30, Tspan=Tspan)\n",
    "'''\n",
    "\n",
    "# timing model\n",
    "tm = gp_signals.TimingModel()\n",
    "\n",
    "##### Set up signals #####\n",
    "\n",
    "# white noise\n",
    "ef = white_signals.MeasurementNoise(efac=efac, selection=selection)\n",
    "eq = white_signals.EquadNoise(log10_equad=log10_equad, selection=selection)\n",
    "ec = white_signals.EcorrKernelNoise(log10_ecorr=ecorr, selection=selection)\n",
    "\n",
    "# full model is sum of components\n",
    "model_9yr = tm + ef + eq + ec + rn_9yr\n",
    "model_test = tm + ef + eq + ec + rn_test\n",
    "\n",
    "# intialize PTA\n",
    "pta_test = signal_base.PTA([model_test(psr) for psr in psrs_test])\n",
    "pta_9yr = signal_base.PTA([model_9yr(psr) for psr in psrs_9yr])"
   ]
  },
  {
   "cell_type": "code",
   "execution_count": null,
   "metadata": {},
   "outputs": [],
   "source": []
  },
  {
   "cell_type": "code",
   "execution_count": 13,
   "metadata": {},
   "outputs": [
    {
     "name": "stderr",
     "output_type": "stream",
     "text": [
      "INFO: enterprise.signals.signal_base: Setting J0030+0451_430_ASP_efac to 1.13871\n",
      "INFO: enterprise.signals.signal_base: Setting J0030+0451_430_PUPPI_efac to 0.917359\n",
      "INFO: enterprise.signals.signal_base: Setting J0030+0451_L-wide_ASP_efac to 1.12336\n",
      "INFO: enterprise.signals.signal_base: Setting J0030+0451_L-wide_PUPPI_efac to 1.14101\n",
      "INFO: enterprise.signals.signal_base: Setting J0030+0451_430_ASP_log10_equad to -8.27762\n",
      "INFO: enterprise.signals.signal_base: Setting J0030+0451_430_PUPPI_log10_equad to -5.94568\n",
      "INFO: enterprise.signals.signal_base: Setting J0030+0451_L-wide_ASP_log10_equad to -8.17663\n",
      "INFO: enterprise.signals.signal_base: Setting J0030+0451_L-wide_PUPPI_log10_equad to -6.67303\n",
      "INFO: enterprise.signals.signal_base: Setting J0030+0451_430_ASP_log10_ecorr to -7.6001\n",
      "INFO: enterprise.signals.signal_base: Setting J0030+0451_430_PUPPI_log10_ecorr to -7.11084\n",
      "INFO: enterprise.signals.signal_base: Setting J0030+0451_L-wide_ASP_log10_ecorr to -7.59912\n",
      "INFO: enterprise.signals.signal_base: Setting J0030+0451_L-wide_PUPPI_log10_ecorr to -7.64239\n",
      "INFO: enterprise.signals.signal_base: Setting J0030+0451_red_noise_log10_A to -14.412\n",
      "INFO: enterprise.signals.signal_base: Setting J0030+0451_red_noise_gamma to 5.05806\n",
      "INFO: enterprise.signals.signal_base: Setting J1640+2224_430_ASP_efac to 1.18797\n",
      "INFO: enterprise.signals.signal_base: Setting J1640+2224_430_PUPPI_efac to 1.13544\n",
      "INFO: enterprise.signals.signal_base: Setting J1640+2224_L-wide_ASP_efac to 1.07335\n",
      "INFO: enterprise.signals.signal_base: Setting J1640+2224_L-wide_PUPPI_efac to 1.25304\n",
      "INFO: enterprise.signals.signal_base: Setting J1640+2224_430_ASP_log10_equad to -6.26644\n",
      "INFO: enterprise.signals.signal_base: Setting J1640+2224_430_PUPPI_log10_equad to -7.48076\n",
      "INFO: enterprise.signals.signal_base: Setting J1640+2224_L-wide_ASP_log10_equad to -8.40253\n",
      "INFO: enterprise.signals.signal_base: Setting J1640+2224_L-wide_PUPPI_log10_equad to -8.61952\n",
      "INFO: enterprise.signals.signal_base: Setting J1640+2224_430_ASP_log10_ecorr to -7.75415\n",
      "INFO: enterprise.signals.signal_base: Setting J1640+2224_430_PUPPI_log10_ecorr to -7.0865\n",
      "INFO: enterprise.signals.signal_base: Setting J1640+2224_L-wide_ASP_log10_ecorr to -6.38835\n",
      "INFO: enterprise.signals.signal_base: Setting J1640+2224_L-wide_PUPPI_log10_ecorr to -7.67906\n",
      "INFO: enterprise.signals.signal_base: Setting J1640+2224_red_noise_log10_A to -17.0642\n",
      "INFO: enterprise.signals.signal_base: Setting J1640+2224_red_noise_gamma to 3.21169\n",
      "INFO: enterprise.signals.signal_base: Setting B1855+09_430_ASP_efac to 1.13965\n",
      "INFO: enterprise.signals.signal_base: Setting B1855+09_430_PUPPI_efac to 1.12121\n",
      "INFO: enterprise.signals.signal_base: Setting B1855+09_L-wide_ASP_efac to 1.14383\n",
      "INFO: enterprise.signals.signal_base: Setting B1855+09_L-wide_PUPPI_efac to 1.51117\n",
      "INFO: enterprise.signals.signal_base: Setting B1855+09_430_ASP_log10_equad to -8.09925\n",
      "INFO: enterprise.signals.signal_base: Setting B1855+09_430_PUPPI_log10_equad to -7.96027\n",
      "INFO: enterprise.signals.signal_base: Setting B1855+09_L-wide_ASP_log10_equad to -6.31998\n",
      "INFO: enterprise.signals.signal_base: Setting B1855+09_L-wide_PUPPI_log10_equad to -6.42638\n",
      "INFO: enterprise.signals.signal_base: Setting B1855+09_430_ASP_log10_ecorr to -7.38511\n",
      "INFO: enterprise.signals.signal_base: Setting B1855+09_430_PUPPI_log10_ecorr to -7.28084\n",
      "INFO: enterprise.signals.signal_base: Setting B1855+09_L-wide_ASP_log10_ecorr to -6.10018\n",
      "INFO: enterprise.signals.signal_base: Setting B1855+09_L-wide_PUPPI_log10_ecorr to -6.48309\n",
      "INFO: enterprise.signals.signal_base: Setting B1855+09_red_noise_log10_A to -13.8485\n",
      "INFO: enterprise.signals.signal_base: Setting B1855+09_red_noise_gamma to 3.88472\n",
      "INFO: enterprise.signals.signal_base: Setting J0030+0451_430_ASP_efac to 1.13871\n",
      "INFO: enterprise.signals.signal_base: Setting J0030+0451_430_PUPPI_efac to 0.917359\n",
      "INFO: enterprise.signals.signal_base: Setting J0030+0451_L-wide_ASP_efac to 1.12336\n",
      "INFO: enterprise.signals.signal_base: Setting J0030+0451_L-wide_PUPPI_efac to 1.14101\n",
      "INFO: enterprise.signals.signal_base: Setting J0030+0451_430_ASP_log10_equad to -8.27762\n",
      "INFO: enterprise.signals.signal_base: Setting J0030+0451_430_PUPPI_log10_equad to -5.94568\n",
      "INFO: enterprise.signals.signal_base: Setting J0030+0451_L-wide_ASP_log10_equad to -8.17663\n",
      "INFO: enterprise.signals.signal_base: Setting J0030+0451_L-wide_PUPPI_log10_equad to -6.67303\n",
      "INFO: enterprise.signals.signal_base: Setting J0030+0451_430_ASP_log10_ecorr to -7.6001\n",
      "INFO: enterprise.signals.signal_base: Setting J0030+0451_430_PUPPI_log10_ecorr to -7.11084\n",
      "INFO: enterprise.signals.signal_base: Setting J0030+0451_L-wide_ASP_log10_ecorr to -7.59912\n",
      "INFO: enterprise.signals.signal_base: Setting J0030+0451_L-wide_PUPPI_log10_ecorr to -7.64239\n",
      "INFO: enterprise.signals.signal_base: Setting J0030+0451_red_noise_log10_A to -14.412\n",
      "INFO: enterprise.signals.signal_base: Setting J0030+0451_red_noise_gamma to 5.05806\n",
      "INFO: enterprise.signals.signal_base: Setting J0613-0200_Rcvr1_2_GASP_efac to 1.08413\n",
      "INFO: enterprise.signals.signal_base: Setting J0613-0200_Rcvr1_2_GUPPI_efac to 1.08569\n",
      "INFO: enterprise.signals.signal_base: Setting J0613-0200_Rcvr_800_GASP_efac to 1.09303\n",
      "INFO: enterprise.signals.signal_base: Setting J0613-0200_Rcvr_800_GUPPI_efac to 1.19709\n",
      "INFO: enterprise.signals.signal_base: Setting J0613-0200_Rcvr1_2_GASP_log10_equad to -8.29172\n",
      "INFO: enterprise.signals.signal_base: Setting J0613-0200_Rcvr1_2_GUPPI_log10_equad to -8.39354\n",
      "INFO: enterprise.signals.signal_base: Setting J0613-0200_Rcvr_800_GASP_log10_equad to -8.34563\n",
      "INFO: enterprise.signals.signal_base: Setting J0613-0200_Rcvr_800_GUPPI_log10_equad to -6.52894\n",
      "INFO: enterprise.signals.signal_base: Setting J0613-0200_Rcvr1_2_GASP_log10_ecorr to -7.51539\n",
      "INFO: enterprise.signals.signal_base: Setting J0613-0200_Rcvr1_2_GUPPI_log10_ecorr to -7.78395\n",
      "INFO: enterprise.signals.signal_base: Setting J0613-0200_Rcvr_800_GASP_log10_ecorr to -7.72404\n",
      "INFO: enterprise.signals.signal_base: Setting J0613-0200_Rcvr_800_GUPPI_log10_ecorr to -7.53941\n",
      "INFO: enterprise.signals.signal_base: Setting J0613-0200_red_noise_log10_A to -13.6168\n",
      "INFO: enterprise.signals.signal_base: Setting J0613-0200_red_noise_gamma to 3.16059\n",
      "INFO: enterprise.signals.signal_base: Setting J1012+5307_Rcvr1_2_GASP_efac to 1.05234\n",
      "INFO: enterprise.signals.signal_base: Setting J1012+5307_Rcvr1_2_GUPPI_efac to 1.08498\n",
      "INFO: enterprise.signals.signal_base: Setting J1012+5307_Rcvr_800_GASP_efac to 1.11456\n",
      "INFO: enterprise.signals.signal_base: Setting J1012+5307_Rcvr_800_GUPPI_efac to 1.17272\n",
      "INFO: enterprise.signals.signal_base: Setting J1012+5307_Rcvr1_2_GASP_log10_equad to -8.04958\n",
      "INFO: enterprise.signals.signal_base: Setting J1012+5307_Rcvr1_2_GUPPI_log10_equad to -6.42345\n",
      "INFO: enterprise.signals.signal_base: Setting J1012+5307_Rcvr_800_GASP_log10_equad to -7.92351\n",
      "INFO: enterprise.signals.signal_base: Setting J1012+5307_Rcvr_800_GUPPI_log10_equad to -6.31253\n",
      "INFO: enterprise.signals.signal_base: Setting J1012+5307_Rcvr1_2_GASP_log10_ecorr to -7.27863\n",
      "INFO: enterprise.signals.signal_base: Setting J1012+5307_Rcvr1_2_GUPPI_log10_ecorr to -6.68714\n",
      "INFO: enterprise.signals.signal_base: Setting J1012+5307_Rcvr_800_GASP_log10_ecorr to -7.63389\n",
      "INFO: enterprise.signals.signal_base: Setting J1012+5307_Rcvr_800_GUPPI_log10_ecorr to -7.75432\n",
      "INFO: enterprise.signals.signal_base: Setting J1012+5307_red_noise_log10_A to -12.6189\n",
      "INFO: enterprise.signals.signal_base: Setting J1012+5307_red_noise_gamma to 1.02018\n",
      "INFO: enterprise.signals.signal_base: Setting J1024-0719_Rcvr1_2_GASP_efac to 0.923661\n",
      "INFO: enterprise.signals.signal_base: Setting J1024-0719_Rcvr1_2_GUPPI_efac to 1.14266\n",
      "INFO: enterprise.signals.signal_base: Setting J1024-0719_Rcvr_800_GASP_efac to 1.01755\n",
      "INFO: enterprise.signals.signal_base: Setting J1024-0719_Rcvr_800_GUPPI_efac to 1.19071\n",
      "INFO: enterprise.signals.signal_base: Setting J1024-0719_Rcvr1_2_GASP_log10_equad to -7.54914\n",
      "INFO: enterprise.signals.signal_base: Setting J1024-0719_Rcvr1_2_GUPPI_log10_equad to -8.49668\n",
      "INFO: enterprise.signals.signal_base: Setting J1024-0719_Rcvr_800_GASP_log10_equad to -7.94691\n",
      "INFO: enterprise.signals.signal_base: Setting J1024-0719_Rcvr_800_GUPPI_log10_equad to -8.542\n"
     ]
    },
    {
     "name": "stderr",
     "output_type": "stream",
     "text": [
      "INFO: enterprise.signals.signal_base: Setting J1024-0719_Rcvr1_2_GASP_log10_ecorr to -7.08522\n",
      "INFO: enterprise.signals.signal_base: Setting J1024-0719_Rcvr1_2_GUPPI_log10_ecorr to -7.00321\n",
      "INFO: enterprise.signals.signal_base: Setting J1024-0719_Rcvr_800_GASP_log10_ecorr to -6.96383\n",
      "INFO: enterprise.signals.signal_base: Setting J1024-0719_Rcvr_800_GUPPI_log10_ecorr to -7.29206\n",
      "INFO: enterprise.signals.signal_base: Setting J1024-0719_red_noise_log10_A to -16.2659\n",
      "INFO: enterprise.signals.signal_base: Setting J1024-0719_red_noise_gamma to 3.338\n",
      "INFO: enterprise.signals.signal_base: Setting J1455-3330_Rcvr1_2_GASP_efac to 1.12806\n",
      "INFO: enterprise.signals.signal_base: Setting J1455-3330_Rcvr1_2_GUPPI_efac to 1.32475\n",
      "INFO: enterprise.signals.signal_base: Setting J1455-3330_Rcvr_800_GASP_efac to 1.49365\n",
      "INFO: enterprise.signals.signal_base: Setting J1455-3330_Rcvr_800_GUPPI_efac to 1.35131\n",
      "INFO: enterprise.signals.signal_base: Setting J1455-3330_Rcvr1_2_GASP_log10_equad to -8.04522\n",
      "INFO: enterprise.signals.signal_base: Setting J1455-3330_Rcvr1_2_GUPPI_log10_equad to -8.37397\n",
      "INFO: enterprise.signals.signal_base: Setting J1455-3330_Rcvr_800_GASP_log10_equad to -8.08877\n",
      "INFO: enterprise.signals.signal_base: Setting J1455-3330_Rcvr_800_GUPPI_log10_equad to -8.40589\n",
      "INFO: enterprise.signals.signal_base: Setting J1455-3330_Rcvr1_2_GASP_log10_ecorr to -6.06065\n",
      "INFO: enterprise.signals.signal_base: Setting J1455-3330_Rcvr1_2_GUPPI_log10_ecorr to -7.56026\n",
      "INFO: enterprise.signals.signal_base: Setting J1455-3330_Rcvr_800_GASP_log10_ecorr to -7.24673\n",
      "INFO: enterprise.signals.signal_base: Setting J1455-3330_Rcvr_800_GUPPI_log10_ecorr to -7.35803\n",
      "INFO: enterprise.signals.signal_base: Setting J1455-3330_red_noise_log10_A to -16.752\n",
      "INFO: enterprise.signals.signal_base: Setting J1455-3330_red_noise_gamma to 3.28721\n",
      "INFO: enterprise.signals.signal_base: Setting J1600-3053_Rcvr1_2_GASP_efac to 1.13991\n",
      "INFO: enterprise.signals.signal_base: Setting J1600-3053_Rcvr1_2_GUPPI_efac to 1.05637\n",
      "INFO: enterprise.signals.signal_base: Setting J1600-3053_Rcvr_800_GASP_efac to 1.18543\n",
      "INFO: enterprise.signals.signal_base: Setting J1600-3053_Rcvr_800_GUPPI_efac to 1.12855\n",
      "INFO: enterprise.signals.signal_base: Setting J1600-3053_Rcvr1_2_GASP_log10_equad to -7.77574\n",
      "INFO: enterprise.signals.signal_base: Setting J1600-3053_Rcvr1_2_GUPPI_log10_equad to -8.31385\n",
      "INFO: enterprise.signals.signal_base: Setting J1600-3053_Rcvr_800_GASP_log10_equad to -8.07856\n",
      "INFO: enterprise.signals.signal_base: Setting J1600-3053_Rcvr_800_GUPPI_log10_equad to -8.09682\n",
      "INFO: enterprise.signals.signal_base: Setting J1600-3053_Rcvr1_2_GASP_log10_ecorr to -7.41423\n",
      "INFO: enterprise.signals.signal_base: Setting J1600-3053_Rcvr1_2_GUPPI_log10_ecorr to -6.78034\n",
      "INFO: enterprise.signals.signal_base: Setting J1600-3053_Rcvr_800_GASP_log10_ecorr to -7.42253\n",
      "INFO: enterprise.signals.signal_base: Setting J1600-3053_Rcvr_800_GUPPI_log10_ecorr to -6.3244\n",
      "INFO: enterprise.signals.signal_base: Setting J1600-3053_red_noise_log10_A to -16.9777\n",
      "INFO: enterprise.signals.signal_base: Setting J1600-3053_red_noise_gamma to 3.13292\n",
      "INFO: enterprise.signals.signal_base: Setting J1614-2230_Rcvr1_2_GASP_efac to 1.15849\n",
      "INFO: enterprise.signals.signal_base: Setting J1614-2230_Rcvr1_2_GUPPI_efac to 1.06146\n",
      "INFO: enterprise.signals.signal_base: Setting J1614-2230_Rcvr_800_GASP_efac to 0.915636\n",
      "INFO: enterprise.signals.signal_base: Setting J1614-2230_Rcvr_800_GUPPI_efac to 1.01366\n",
      "INFO: enterprise.signals.signal_base: Setting J1614-2230_Rcvr1_2_GASP_log10_equad to -8.02865\n",
      "INFO: enterprise.signals.signal_base: Setting J1614-2230_Rcvr1_2_GUPPI_log10_equad to -8.53141\n",
      "INFO: enterprise.signals.signal_base: Setting J1614-2230_Rcvr_800_GASP_log10_equad to -8.01389\n",
      "INFO: enterprise.signals.signal_base: Setting J1614-2230_Rcvr_800_GUPPI_log10_equad to -8.34908\n",
      "INFO: enterprise.signals.signal_base: Setting J1614-2230_Rcvr1_2_GASP_log10_ecorr to -7.13589\n",
      "INFO: enterprise.signals.signal_base: Setting J1614-2230_Rcvr1_2_GUPPI_log10_ecorr to -7.63\n",
      "INFO: enterprise.signals.signal_base: Setting J1614-2230_Rcvr_800_GASP_log10_ecorr to -7.13582\n",
      "INFO: enterprise.signals.signal_base: Setting J1614-2230_Rcvr_800_GUPPI_log10_ecorr to -6.78123\n",
      "INFO: enterprise.signals.signal_base: Setting J1614-2230_red_noise_log10_A to -16.9988\n",
      "INFO: enterprise.signals.signal_base: Setting J1614-2230_red_noise_gamma to 3.31971\n",
      "INFO: enterprise.signals.signal_base: Setting J1640+2224_430_ASP_efac to 1.18797\n",
      "INFO: enterprise.signals.signal_base: Setting J1640+2224_430_PUPPI_efac to 1.13544\n",
      "INFO: enterprise.signals.signal_base: Setting J1640+2224_L-wide_ASP_efac to 1.07335\n",
      "INFO: enterprise.signals.signal_base: Setting J1640+2224_L-wide_PUPPI_efac to 1.25304\n",
      "INFO: enterprise.signals.signal_base: Setting J1640+2224_430_ASP_log10_equad to -6.26644\n",
      "INFO: enterprise.signals.signal_base: Setting J1640+2224_430_PUPPI_log10_equad to -7.48076\n",
      "INFO: enterprise.signals.signal_base: Setting J1640+2224_L-wide_ASP_log10_equad to -8.40253\n",
      "INFO: enterprise.signals.signal_base: Setting J1640+2224_L-wide_PUPPI_log10_equad to -8.61952\n",
      "INFO: enterprise.signals.signal_base: Setting J1640+2224_430_ASP_log10_ecorr to -7.75415\n",
      "INFO: enterprise.signals.signal_base: Setting J1640+2224_430_PUPPI_log10_ecorr to -7.0865\n",
      "INFO: enterprise.signals.signal_base: Setting J1640+2224_L-wide_ASP_log10_ecorr to -6.38835\n",
      "INFO: enterprise.signals.signal_base: Setting J1640+2224_L-wide_PUPPI_log10_ecorr to -7.67906\n",
      "INFO: enterprise.signals.signal_base: Setting J1640+2224_red_noise_log10_A to -17.0642\n",
      "INFO: enterprise.signals.signal_base: Setting J1640+2224_red_noise_gamma to 3.21169\n",
      "INFO: enterprise.signals.signal_base: Setting J1713+0747_L-wide_ASP_efac to 1.02902\n",
      "INFO: enterprise.signals.signal_base: Setting J1713+0747_L-wide_PUPPI_efac to 1.1659\n",
      "INFO: enterprise.signals.signal_base: Setting J1713+0747_Rcvr1_2_GASP_efac to 1.0879\n",
      "INFO: enterprise.signals.signal_base: Setting J1713+0747_Rcvr1_2_GUPPI_efac to 1.19878\n",
      "INFO: enterprise.signals.signal_base: Setting J1713+0747_Rcvr_800_GASP_efac to 1.19524\n",
      "INFO: enterprise.signals.signal_base: Setting J1713+0747_Rcvr_800_GUPPI_efac to 1.06403\n",
      "INFO: enterprise.signals.signal_base: Setting J1713+0747_S-wide_ASP_efac to 1.12282\n",
      "INFO: enterprise.signals.signal_base: Setting J1713+0747_S-wide_PUPPI_efac to 1.08004\n",
      "INFO: enterprise.signals.signal_base: Setting J1713+0747_L-wide_ASP_log10_equad to -7.59213\n",
      "INFO: enterprise.signals.signal_base: Setting J1713+0747_L-wide_PUPPI_log10_equad to -8.90685\n",
      "INFO: enterprise.signals.signal_base: Setting J1713+0747_Rcvr1_2_GASP_log10_equad to -8.17586\n",
      "INFO: enterprise.signals.signal_base: Setting J1713+0747_Rcvr1_2_GUPPI_log10_equad to -8.29277\n",
      "INFO: enterprise.signals.signal_base: Setting J1713+0747_Rcvr_800_GASP_log10_equad to -8.365\n",
      "INFO: enterprise.signals.signal_base: Setting J1713+0747_Rcvr_800_GUPPI_log10_equad to -8.30246\n",
      "INFO: enterprise.signals.signal_base: Setting J1713+0747_S-wide_ASP_log10_equad to -8.7862\n",
      "INFO: enterprise.signals.signal_base: Setting J1713+0747_S-wide_PUPPI_log10_equad to -7.29251\n",
      "INFO: enterprise.signals.signal_base: Setting J1713+0747_L-wide_ASP_log10_ecorr to -6.96775\n",
      "INFO: enterprise.signals.signal_base: Setting J1713+0747_L-wide_PUPPI_log10_ecorr to -7.00729\n",
      "INFO: enterprise.signals.signal_base: Setting J1713+0747_Rcvr1_2_GASP_log10_ecorr to -7.21635\n",
      "INFO: enterprise.signals.signal_base: Setting J1713+0747_Rcvr1_2_GUPPI_log10_ecorr to -7.23259\n",
      "INFO: enterprise.signals.signal_base: Setting J1713+0747_Rcvr_800_GASP_log10_ecorr to -7.76923\n",
      "INFO: enterprise.signals.signal_base: Setting J1713+0747_Rcvr_800_GUPPI_log10_ecorr to -6.70639\n",
      "INFO: enterprise.signals.signal_base: Setting J1713+0747_S-wide_ASP_log10_ecorr to -6.95628\n",
      "INFO: enterprise.signals.signal_base: Setting J1713+0747_S-wide_PUPPI_log10_ecorr to -6.94551\n",
      "INFO: enterprise.signals.signal_base: Setting J1713+0747_red_noise_log10_A to -19.1114\n",
      "INFO: enterprise.signals.signal_base: Setting J1713+0747_red_noise_gamma to 1.7124\n",
      "INFO: enterprise.signals.signal_base: Setting J1741+1351_430_ASP_efac to 0.92739\n",
      "INFO: enterprise.signals.signal_base: Setting J1741+1351_430_PUPPI_efac to 1.08265\n",
      "INFO: enterprise.signals.signal_base: Setting J1741+1351_L-wide_ASP_efac to 1.03545\n"
     ]
    },
    {
     "name": "stderr",
     "output_type": "stream",
     "text": [
      "INFO: enterprise.signals.signal_base: Setting J1741+1351_L-wide_PUPPI_efac to 1.05026\n",
      "INFO: enterprise.signals.signal_base: Setting J1741+1351_430_ASP_log10_equad to -7.81532\n",
      "INFO: enterprise.signals.signal_base: Setting J1741+1351_430_PUPPI_log10_equad to -7.8145\n",
      "INFO: enterprise.signals.signal_base: Setting J1741+1351_L-wide_ASP_log10_equad to -8.31889\n",
      "INFO: enterprise.signals.signal_base: Setting J1741+1351_L-wide_PUPPI_log10_equad to -8.06543\n",
      "INFO: enterprise.signals.signal_base: Setting J1741+1351_430_ASP_log10_ecorr to -5.26368\n",
      "INFO: enterprise.signals.signal_base: Setting J1741+1351_430_PUPPI_log10_ecorr to -7.35363\n",
      "INFO: enterprise.signals.signal_base: Setting J1741+1351_L-wide_ASP_log10_ecorr to -7.15877\n",
      "INFO: enterprise.signals.signal_base: Setting J1741+1351_L-wide_PUPPI_log10_ecorr to -7.31138\n",
      "INFO: enterprise.signals.signal_base: Setting J1741+1351_red_noise_log10_A to -16.9121\n",
      "INFO: enterprise.signals.signal_base: Setting J1741+1351_red_noise_gamma to 3.38453\n",
      "INFO: enterprise.signals.signal_base: Setting J1744-1134_Rcvr1_2_GASP_efac to 1.02696\n",
      "INFO: enterprise.signals.signal_base: Setting J1744-1134_Rcvr1_2_GUPPI_efac to 1.21601\n",
      "INFO: enterprise.signals.signal_base: Setting J1744-1134_Rcvr_800_GASP_efac to 1.16982\n",
      "INFO: enterprise.signals.signal_base: Setting J1744-1134_Rcvr_800_GUPPI_efac to 1.04852\n",
      "INFO: enterprise.signals.signal_base: Setting J1744-1134_Rcvr1_2_GASP_log10_equad to -6.83644\n",
      "INFO: enterprise.signals.signal_base: Setting J1744-1134_Rcvr1_2_GUPPI_log10_equad to -6.73425\n",
      "INFO: enterprise.signals.signal_base: Setting J1744-1134_Rcvr_800_GASP_log10_equad to -6.47133\n",
      "INFO: enterprise.signals.signal_base: Setting J1744-1134_Rcvr_800_GUPPI_log10_equad to -6.5577\n",
      "INFO: enterprise.signals.signal_base: Setting J1744-1134_Rcvr1_2_GASP_log10_ecorr to -6.3269\n",
      "INFO: enterprise.signals.signal_base: Setting J1744-1134_Rcvr1_2_GUPPI_log10_ecorr to -6.45387\n",
      "INFO: enterprise.signals.signal_base: Setting J1744-1134_Rcvr_800_GASP_log10_ecorr to -6.84423\n",
      "INFO: enterprise.signals.signal_base: Setting J1744-1134_Rcvr_800_GUPPI_log10_ecorr to -6.57852\n",
      "INFO: enterprise.signals.signal_base: Setting J1744-1134_red_noise_log10_A to -15.6471\n",
      "INFO: enterprise.signals.signal_base: Setting J1744-1134_red_noise_gamma to 3.30492\n",
      "INFO: enterprise.signals.signal_base: Setting J1853+1303_430_ASP_efac to 1.10259\n",
      "INFO: enterprise.signals.signal_base: Setting J1853+1303_430_PUPPI_efac to 1.07243\n",
      "INFO: enterprise.signals.signal_base: Setting J1853+1303_L-wide_ASP_efac to 1.14229\n",
      "INFO: enterprise.signals.signal_base: Setting J1853+1303_L-wide_PUPPI_efac to 1.14701\n",
      "INFO: enterprise.signals.signal_base: Setting J1853+1303_430_ASP_log10_equad to -7.82376\n",
      "INFO: enterprise.signals.signal_base: Setting J1853+1303_430_PUPPI_log10_equad to -8.01381\n",
      "INFO: enterprise.signals.signal_base: Setting J1853+1303_L-wide_ASP_log10_equad to -8.3849\n",
      "INFO: enterprise.signals.signal_base: Setting J1853+1303_L-wide_PUPPI_log10_equad to -8.44421\n",
      "INFO: enterprise.signals.signal_base: Setting J1853+1303_430_ASP_log10_ecorr to -6.74256\n",
      "INFO: enterprise.signals.signal_base: Setting J1853+1303_430_PUPPI_log10_ecorr to -6.96278\n",
      "INFO: enterprise.signals.signal_base: Setting J1853+1303_L-wide_ASP_log10_ecorr to -7.48808\n",
      "INFO: enterprise.signals.signal_base: Setting J1853+1303_L-wide_PUPPI_log10_ecorr to -7.55986\n",
      "INFO: enterprise.signals.signal_base: Setting J1853+1303_red_noise_log10_A to -16.8149\n",
      "INFO: enterprise.signals.signal_base: Setting J1853+1303_red_noise_gamma to 3.39717\n",
      "INFO: enterprise.signals.signal_base: Setting J1909-3744_Rcvr1_2_GASP_efac to 0.986438\n",
      "INFO: enterprise.signals.signal_base: Setting J1909-3744_Rcvr1_2_GUPPI_efac to 1.03462\n",
      "INFO: enterprise.signals.signal_base: Setting J1909-3744_Rcvr_800_GASP_efac to 0.985523\n",
      "INFO: enterprise.signals.signal_base: Setting J1909-3744_Rcvr_800_GUPPI_efac to 1.05208\n",
      "INFO: enterprise.signals.signal_base: Setting J1909-3744_Rcvr1_2_GASP_log10_equad to -7.97229\n",
      "INFO: enterprise.signals.signal_base: Setting J1909-3744_Rcvr1_2_GUPPI_log10_equad to -8.31285\n",
      "INFO: enterprise.signals.signal_base: Setting J1909-3744_Rcvr_800_GASP_log10_equad to -6.6358\n",
      "INFO: enterprise.signals.signal_base: Setting J1909-3744_Rcvr_800_GUPPI_log10_equad to -7.43842\n",
      "INFO: enterprise.signals.signal_base: Setting J1909-3744_Rcvr1_2_GASP_log10_ecorr to -8.00662\n",
      "INFO: enterprise.signals.signal_base: Setting J1909-3744_Rcvr1_2_GUPPI_log10_ecorr to -7.13828\n",
      "INFO: enterprise.signals.signal_base: Setting J1909-3744_Rcvr_800_GASP_log10_ecorr to -7.86032\n",
      "INFO: enterprise.signals.signal_base: Setting J1909-3744_Rcvr_800_GUPPI_log10_ecorr to -7.14764\n",
      "INFO: enterprise.signals.signal_base: Setting J1909-3744_red_noise_log10_A to -15.1073\n",
      "INFO: enterprise.signals.signal_base: Setting J1909-3744_red_noise_gamma to 2.88933\n",
      "INFO: enterprise.signals.signal_base: Setting J1918-0642_Rcvr1_2_GASP_efac to 1.03139\n",
      "INFO: enterprise.signals.signal_base: Setting J1918-0642_Rcvr1_2_GUPPI_efac to 1.09892\n",
      "INFO: enterprise.signals.signal_base: Setting J1918-0642_Rcvr_800_GASP_efac to 1.05461\n",
      "INFO: enterprise.signals.signal_base: Setting J1918-0642_Rcvr_800_GUPPI_efac to 1.09148\n",
      "INFO: enterprise.signals.signal_base: Setting J1918-0642_Rcvr1_2_GASP_log10_equad to -8.39359\n",
      "INFO: enterprise.signals.signal_base: Setting J1918-0642_Rcvr1_2_GUPPI_log10_equad to -8.20206\n",
      "INFO: enterprise.signals.signal_base: Setting J1918-0642_Rcvr_800_GASP_log10_equad to -7.9677\n",
      "INFO: enterprise.signals.signal_base: Setting J1918-0642_Rcvr_800_GUPPI_log10_equad to -8.4117\n",
      "INFO: enterprise.signals.signal_base: Setting J1918-0642_Rcvr1_2_GASP_log10_ecorr to -7.3475\n",
      "INFO: enterprise.signals.signal_base: Setting J1918-0642_Rcvr1_2_GUPPI_log10_ecorr to -7.37082\n",
      "INFO: enterprise.signals.signal_base: Setting J1918-0642_Rcvr_800_GASP_log10_ecorr to -7.55392\n",
      "INFO: enterprise.signals.signal_base: Setting J1918-0642_Rcvr_800_GUPPI_log10_ecorr to -7.18419\n",
      "INFO: enterprise.signals.signal_base: Setting J1918-0642_red_noise_log10_A to -16.8325\n",
      "INFO: enterprise.signals.signal_base: Setting J1918-0642_red_noise_gamma to 3.21288\n",
      "INFO: enterprise.signals.signal_base: Setting J2010-1323_Rcvr1_2_GASP_efac to 0.967206\n",
      "INFO: enterprise.signals.signal_base: Setting J2010-1323_Rcvr1_2_GUPPI_efac to 1.2128\n",
      "INFO: enterprise.signals.signal_base: Setting J2010-1323_Rcvr_800_GASP_efac to 1.15777\n",
      "INFO: enterprise.signals.signal_base: Setting J2010-1323_Rcvr_800_GUPPI_efac to 1.07888\n",
      "INFO: enterprise.signals.signal_base: Setting J2010-1323_Rcvr1_2_GASP_log10_equad to -7.69017\n",
      "INFO: enterprise.signals.signal_base: Setting J2010-1323_Rcvr1_2_GUPPI_log10_equad to -8.45324\n",
      "INFO: enterprise.signals.signal_base: Setting J2010-1323_Rcvr_800_GASP_log10_equad to -7.92738\n",
      "INFO: enterprise.signals.signal_base: Setting J2010-1323_Rcvr_800_GUPPI_log10_equad to -8.38299\n",
      "INFO: enterprise.signals.signal_base: Setting J2010-1323_Rcvr1_2_GASP_log10_ecorr to -7.1519\n",
      "INFO: enterprise.signals.signal_base: Setting J2010-1323_Rcvr1_2_GUPPI_log10_ecorr to -7.64287\n",
      "INFO: enterprise.signals.signal_base: Setting J2010-1323_Rcvr_800_GASP_log10_ecorr to -7.2034\n",
      "INFO: enterprise.signals.signal_base: Setting J2010-1323_Rcvr_800_GUPPI_log10_ecorr to -7.63276\n",
      "INFO: enterprise.signals.signal_base: Setting J2010-1323_red_noise_log10_A to -16.4803\n",
      "INFO: enterprise.signals.signal_base: Setting J2010-1323_red_noise_gamma to 3.42768\n",
      "INFO: enterprise.signals.signal_base: Setting J2145-0750_Rcvr1_2_GASP_efac to 1.00043\n",
      "INFO: enterprise.signals.signal_base: Setting J2145-0750_Rcvr1_2_GUPPI_efac to 1.09892\n",
      "INFO: enterprise.signals.signal_base: Setting J2145-0750_Rcvr_800_GASP_efac to 1.50673\n",
      "INFO: enterprise.signals.signal_base: Setting J2145-0750_Rcvr_800_GUPPI_efac to 1.12959\n",
      "INFO: enterprise.signals.signal_base: Setting J2145-0750_Rcvr1_2_GASP_log10_equad to -5.70683\n",
      "INFO: enterprise.signals.signal_base: Setting J2145-0750_Rcvr1_2_GUPPI_log10_equad to -6.28759\n",
      "INFO: enterprise.signals.signal_base: Setting J2145-0750_Rcvr_800_GASP_log10_equad to -7.46919\n",
      "INFO: enterprise.signals.signal_base: Setting J2145-0750_Rcvr_800_GUPPI_log10_equad to -6.32362\n",
      "INFO: enterprise.signals.signal_base: Setting J2145-0750_Rcvr1_2_GASP_log10_ecorr to -6.72819\n",
      "INFO: enterprise.signals.signal_base: Setting J2145-0750_Rcvr1_2_GUPPI_log10_ecorr to -6.32176\n"
     ]
    },
    {
     "name": "stderr",
     "output_type": "stream",
     "text": [
      "INFO: enterprise.signals.signal_base: Setting J2145-0750_Rcvr_800_GASP_log10_ecorr to -6.24509\n",
      "INFO: enterprise.signals.signal_base: Setting J2145-0750_Rcvr_800_GUPPI_log10_ecorr to -6.57986\n",
      "INFO: enterprise.signals.signal_base: Setting J2145-0750_red_noise_log10_A to -15.7129\n",
      "INFO: enterprise.signals.signal_base: Setting J2145-0750_red_noise_gamma to 2.67557\n",
      "INFO: enterprise.signals.signal_base: Setting J2317+1439_327_ASP_efac to 1.05869\n",
      "INFO: enterprise.signals.signal_base: Setting J2317+1439_327_PUPPI_efac to 1.14332\n",
      "INFO: enterprise.signals.signal_base: Setting J2317+1439_430_ASP_efac to 1.12607\n",
      "INFO: enterprise.signals.signal_base: Setting J2317+1439_430_PUPPI_efac to 1.04287\n",
      "INFO: enterprise.signals.signal_base: Setting J2317+1439_L-wide_PUPPI_efac to 0.954996\n",
      "INFO: enterprise.signals.signal_base: Setting J2317+1439_327_ASP_log10_equad to -6.41929\n",
      "INFO: enterprise.signals.signal_base: Setting J2317+1439_327_PUPPI_log10_equad to -6.39705\n",
      "INFO: enterprise.signals.signal_base: Setting J2317+1439_430_ASP_log10_equad to -6.92682\n",
      "INFO: enterprise.signals.signal_base: Setting J2317+1439_430_PUPPI_log10_equad to -6.4171\n",
      "INFO: enterprise.signals.signal_base: Setting J2317+1439_L-wide_PUPPI_log10_equad to -6.56296\n",
      "INFO: enterprise.signals.signal_base: Setting J2317+1439_327_ASP_log10_ecorr to -7.59726\n",
      "INFO: enterprise.signals.signal_base: Setting J2317+1439_327_PUPPI_log10_ecorr to -7.27493\n",
      "INFO: enterprise.signals.signal_base: Setting J2317+1439_430_ASP_log10_ecorr to -6.14458\n",
      "INFO: enterprise.signals.signal_base: Setting J2317+1439_430_PUPPI_log10_ecorr to -6.49356\n",
      "INFO: enterprise.signals.signal_base: Setting J2317+1439_L-wide_PUPPI_log10_ecorr to -7.59813\n",
      "INFO: enterprise.signals.signal_base: Setting J2317+1439_red_noise_log10_A to -17.129\n",
      "INFO: enterprise.signals.signal_base: Setting J2317+1439_red_noise_gamma to 3.25799\n"
     ]
    }
   ],
   "source": [
    "#Set Default PTA parameters to the ones in the noisefiles\n",
    "pta_test.set_default_params(params_test)\n",
    "pta_9yr.set_default_params(params_9yr)"
   ]
  },
  {
   "cell_type": "code",
   "execution_count": 14,
   "metadata": {},
   "outputs": [],
   "source": [
    "# make sure all pulsar have same reference time\n",
    "def GetRefTime(psrs):\n",
    "    tt=[] \n",
    "    for p in psrs:\n",
    "        tt.append(np.min(p.toas))\n",
    "\n",
    "    # find reference time\n",
    "    tref = np.min(tt)\n",
    "    newtoas = []\n",
    "    # now scale pulsar time\n",
    "    for p in psrs:\n",
    "        newtoas.append((p.toas - tref))\n",
    "    return newtoas"
   ]
  },
  {
   "cell_type": "code",
   "execution_count": 18,
   "metadata": {},
   "outputs": [],
   "source": [
    "def gen_fstat_array(psrs,fstat_class,scale_delf=0,log=False,endfreq=3.3e-7,nfreqs=int(1e3)):\n",
    "    #Use delf to shift frequencies by less than a bin to get more samples\n",
    "    Tspan = GetTspan(psrs)\n",
    "    delf = scale_delf/Tspan\n",
    "    startfreq = 1/Tspan + delf\n",
    "\n",
    "    if log:\n",
    "        #Does not sample independent frequencies\n",
    "        freqs = np.logspace(np.log10(startfreq),np.log10(endfreq),nfreqs)\n",
    "    else:\n",
    "        freqs = np.arange(startfreq,endfreq,1/Tspan)\n",
    "\n",
    "    i = 1\n",
    "    fstat_array = []\n",
    "    start = time.time()\n",
    "    for f0 in freqs:\n",
    "        #Sarah's enterprise_extensions implementation not using CW model\n",
    "        fstat_array.append(fstat_class.compute_Fp(f0))\n",
    "        if i % 10 == 0:\n",
    "            end = time.time()\n",
    "            print(repr(i) + ' Done. ' + ' Time Elapsed: ' + repr(end-start))\n",
    "        i += 1\n",
    "        \n",
    "    end = time.time()\n",
    "    print(repr(i) + ' Done. ' + ' Time Elapsed: ' + repr(end-start))\n",
    "    return [freqs,fstat_array]"
   ]
  },
  {
   "cell_type": "code",
   "execution_count": 29,
   "metadata": {},
   "outputs": [
    {
     "name": "stdout",
     "output_type": "stream",
     "text": [
      "Initializing the model...\n",
      "10 Done.  Time Elapsed: 13.623439311981201\n",
      "20 Done.  Time Elapsed: 14.457919597625732\n",
      "30 Done.  Time Elapsed: 15.282457113265991\n",
      "40 Done.  Time Elapsed: 16.11767053604126\n",
      "50 Done.  Time Elapsed: 16.95192289352417\n",
      "60 Done.  Time Elapsed: 17.79260230064392\n",
      "70 Done.  Time Elapsed: 18.62782311439514\n",
      "80 Done.  Time Elapsed: 19.45834732055664\n",
      "90 Done.  Time Elapsed: 20.293092966079712\n",
      "93 Done.  Time Elapsed: 20.457843542099\n"
     ]
    }
   ],
   "source": [
    "fstat_test_extensions = My_Fpstat.FpStat(psrs_test,pta_test,params_test)\n",
    "[freqs_1,fstat_array_test_1] = gen_fstat_array(psrs_test,fstat_class=fstat_test_extensions)"
   ]
  },
  {
   "cell_type": "code",
   "execution_count": 30,
   "metadata": {},
   "outputs": [
    {
     "name": "stdout",
     "output_type": "stream",
     "text": [
      "10 Done.  Time Elapsed: 0.8360939025878906\n",
      "20 Done.  Time Elapsed: 1.6756267547607422\n",
      "30 Done.  Time Elapsed: 2.5206387042999268\n",
      "40 Done.  Time Elapsed: 3.3574485778808594\n",
      "50 Done.  Time Elapsed: 4.193029165267944\n",
      "60 Done.  Time Elapsed: 5.026526689529419\n",
      "70 Done.  Time Elapsed: 5.864912748336792\n",
      "80 Done.  Time Elapsed: 6.70944881439209\n",
      "90 Done.  Time Elapsed: 7.552874803543091\n",
      "93 Done.  Time Elapsed: 7.722189903259277\n"
     ]
    }
   ],
   "source": [
    "scale_delf = 1/2\n",
    "#Adding more frequencies\n",
    "[add_freqs,add_array] = gen_fstat_array(psrs_test,fstat_class=fstat_test_extensions,scale_delf=scale_delf)\n",
    "freqs_1 = np.hstack((freqs_1,add_freqs))\n",
    "fstat_array_test_1 += add_array"
   ]
  },
  {
   "cell_type": "code",
   "execution_count": 31,
   "metadata": {},
   "outputs": [
    {
     "name": "stdout",
     "output_type": "stream",
     "text": [
      "(184,)\n"
     ]
    }
   ],
   "source": [
    "print(np.shape(freqs_1))"
   ]
  },
  {
   "cell_type": "markdown",
   "metadata": {},
   "source": [
    "# Fp Statistic Histograms and Frequency Plots"
   ]
  },
  {
   "cell_type": "code",
   "execution_count": 35,
   "metadata": {},
   "outputs": [],
   "source": [
    "def fp_hists(psrs,fstat_array,N_chi=int(1e3),nbins=30):\n",
    "    #Making chi squared values\n",
    "    dof = 2*len(psrs)\n",
    "    chi_x = np.linspace(0,int(max(fstat_array))+1,N_chi)\n",
    "\n",
    "    plt.hist(2*fstat_array,bins = nbins,density = True)\n",
    "    plt.plot(chi_x,chi2.pdf(chi_x,dof))\n",
    "    plt.xlabel(r'$\\mathcal{F}_{p}$',fontsize = 'xx-large')\n",
    "    plt.show()"
   ]
  },
  {
   "cell_type": "code",
   "execution_count": 36,
   "metadata": {},
   "outputs": [],
   "source": [
    "def fp_freq_plots(freqs,fstat_array):\n",
    "    #Frequency plots\n",
    "    plt.plot(freqs,fstat_array)\n",
    "    plt.xscale('log')\n",
    "    plt.ylabel(r'$\\mathcal{F}_{p}$',fontsize = 'xx-large')\n",
    "    plt.xlabel(r'$f$ [Hz]',fontsize = 'xx-large')\n",
    "    plt.show()"
   ]
  },
  {
   "cell_type": "code",
   "execution_count": 37,
   "metadata": {},
   "outputs": [
    {
     "data": {
      "image/png": "[encoded data removed]",
      "text/plain": [
       "<Figure size 432x288 with 1 Axes>"
      ]
     },
     "metadata": {
      "image/png": {
       "height": 272,
       "width": 393
      },
      "needs_background": "light"
     },
     "output_type": "display_data"
    }
   ],
   "source": [
    "#Test Frequency plots\n",
    "fp_freq_plots(freqs_1,fstat_array_test_1)"
   ]
  },
  {
   "cell_type": "code",
   "execution_count": 38,
   "metadata": {},
   "outputs": [
    {
     "data": {
      "image/png": "[encoded data removed]",
      "text/plain": [
       "<Figure size 432x288 with 1 Axes>"
      ]
     },
     "metadata": {
      "image/png": {
       "height": 272,
       "width": 380
      },
      "needs_background": "light"
     },
     "output_type": "display_data"
    }
   ],
   "source": [
    "fp_hists(psrs_test,fstat_array_test_1)"
   ]
  },
  {
   "cell_type": "markdown",
   "metadata": {},
   "source": [
    "# Fe Statistic"
   ]
  },
  {
   "cell_type": "code",
   "execution_count": 24,
   "metadata": {},
   "outputs": [],
   "source": [
    "def AndrewFestat2(psrs,Nmat,aligned_toas,f0,gwphi,gwtheta):\n",
    "    '''Takes in the pulsars that make up the pta, the Nmatrix from GetNmat \n",
    "    (Should make this a function in ptas to use self instead of pta?),\n",
    "    the frequency of the gravitational wave, phi (GW azimuthal angle in radians), \n",
    "    and theta (GW polar angle in radians).\n",
    "    Returns the Fe statistic\n",
    "    '''\n",
    "    festat = 0.0\n",
    "    \n",
    "    #Probably a better way of doing this as well, but using TNTs[ii] for example didn't work\n",
    "    for ii,p in enumerate(psrs):\n",
    "        # define N vectors from Ellis et al, 2012 N_i=(x|A_i) for each pulsar\n",
    "        N = np.zeros(4)\n",
    "        # define M matrix M_ij=(A_i|A_j)\n",
    "        M = np.zeros((4,4))\n",
    "\n",
    "        fplus, fcross, cosMu = utils.create_gw_antenna_pattern(p.pos, gwtheta, gwphi)\n",
    "\n",
    "        # define A\n",
    "        A = np.zeros((4, len(aligned_toas[ii])))\n",
    "        A[0,:] = fplus/f0**(1./3.) * np.sin(2*np.pi*f0*aligned_toas[ii])\n",
    "        A[1,:] = fplus/f0**(1./3.) * np.cos(2*np.pi*f0*aligned_toas[ii])\n",
    "        A[2,:] = fcross/f0**(1./3.) * np.sin(2*np.pi*f0*aligned_toas[ii])\n",
    "        A[3,:] = fcross/f0**(1./3.) * np.cos(2*np.pi*f0*aligned_toas[ii])\n",
    "\n",
    "        N += np.array([np.dot(A[0,:], np.dot(Nmat[ii],p.residuals)), \\\n",
    "                    np.dot(A[1,:], np.dot(Nmat[ii],p.residuals)), \\\n",
    "                    np.dot(A[2,:], np.dot(Nmat[ii],p.residuals)), \\\n",
    "                    np.dot(A[3,:], np.dot(Nmat[ii],p.residuals))])\n",
    "    \n",
    "        # define M matrix M_ij=(A_i|A_j)\n",
    "        M += np.dot(A, np.dot(Nmat[ii], A.T))\n",
    "        \n",
    "        \n",
    "        # take inverse of M\n",
    "        Minv = sl.pinv(M)\n",
    "        \n",
    "        festat += 0.5 * np.dot(N, np.dot(Minv, N))\n",
    "        \n",
    "    return festat"
   ]
  },
  {
   "cell_type": "code",
   "execution_count": 25,
   "metadata": {},
   "outputs": [
    {
     "name": "stdout",
     "output_type": "stream",
     "text": [
      "64.05763009275555\n"
     ]
    }
   ],
   "source": [
    "#Pick gw sky location for tests\n",
    "gwtheta = 30/180*np.pi\n",
    "gwphi = 10/180*np.pi"
   ]
  },
  {
   "cell_type": "code",
   "execution_count": 28,
   "metadata": {},
   "outputs": [
    {
     "name": "stdout",
     "output_type": "stream",
     "text": [
      "50 Done.  Time Elapsed: 26.16207480430603\n",
      "100 Done.  Time Elapsed: 37.18350291252136\n",
      "150 Done.  Time Elapsed: 48.23997259140015\n",
      "200 Done.  Time Elapsed: 59.172839879989624\n",
      "250 Done.  Time Elapsed: 70.01483368873596\n",
      "300 Done.  Time Elapsed: 80.89029455184937\n",
      "350 Done.  Time Elapsed: 91.98427629470825\n",
      "400 Done.  Time Elapsed: 102.833913564682\n",
      "450 Done.  Time Elapsed: 113.77218413352966\n",
      "500 Done.  Time Elapsed: 124.79858422279358\n",
      "550 Done.  Time Elapsed: 135.7897868156433\n",
      "600 Done.  Time Elapsed: 146.98360323905945\n",
      "650 Done.  Time Elapsed: 158.07582998275757\n",
      "700 Done.  Time Elapsed: 168.91558456420898\n",
      "750 Done.  Time Elapsed: 180.00105547904968\n",
      "800 Done.  Time Elapsed: 191.10464358329773\n",
      "850 Done.  Time Elapsed: 202.17362093925476\n",
      "900 Done.  Time Elapsed: 213.30400681495667\n",
      "950 Done.  Time Elapsed: 224.67976140975952\n",
      "1000 Done.  Time Elapsed: 236.01119923591614\n"
     ]
    }
   ],
   "source": [
    "nfreqs = 1000\n",
    "Tspan = Tspan_full\n",
    "freqs = np.logspace(np.log10(1/Tspan),np.log10(3.3e-7),nfreqs)\n",
    "\n",
    "i = 1\n",
    "festat_array_full = []\n",
    "festat_array_test = []\n",
    "start = time.time()\n",
    "for gwfreq in freqs:\n",
    "    festat_array_full.append(AndrewFestat2(psrs_full,Nmat_full,newtoas_full,gwfreq,gwtheta,gwphi))\n",
    "    #festat_array_test.append(AndrewFestat2(psrs_test,Nmat_test,newtoas_test,gwfreq,gwtheta,gwphi))\n",
    "    if i % 50 == 0:\n",
    "        end = time.time()\n",
    "        print(repr(i) + ' Done. ' + ' Time Elapsed: ' + repr(end-start))\n",
    "    i += 1"
   ]
  },
  {
   "cell_type": "code",
   "execution_count": 60,
   "metadata": {},
   "outputs": [
    {
     "data": {
      "image/png": "[encoded data removed]",
      "text/plain": [
       "<Figure size 432x288 with 1 Axes>"
      ]
     },
     "metadata": {
      "image/png": {
       "height": 270,
       "width": 380
      },
      "needs_background": "light"
     },
     "output_type": "display_data"
    }
   ],
   "source": [
    "nbins = 50\n",
    "#plt.hist(fstat_array,bins = nbins,density = True)\n",
    "plt.hist(festat_array_test,bins = nbins,density = True)\n",
    "#plt.hist(fstat_array_test,bins = nbins,density = True)\n",
    "plt.xlabel(r'$\\mathcal{F}_{e}$',fontsize = 'xx-large')\n",
    "plt.show()"
   ]
  },
  {
   "cell_type": "code",
   "execution_count": null,
   "metadata": {},
   "outputs": [],
   "source": []
  }
 ],
 "metadata": {
  "kernelspec": {
   "display_name": "Python 3",
   "language": "python",
   "name": "python3"
  },
  "language_info": {
   "codemirror_mode": {
    "name": "ipython",
    "version": 3
   },
   "file_extension": ".py",
   "mimetype": "text/x-python",
   "name": "python",
   "nbconvert_exporter": "python",
   "pygments_lexer": "ipython3",
   "version": "3.6.6"
  }
 },
 "nbformat": 4,
 "nbformat_minor": 2
}
