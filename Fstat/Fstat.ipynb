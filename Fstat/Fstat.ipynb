{
 "cells": [
  {
   "cell_type": "code",
   "execution_count": 1,
   "metadata": {},
   "outputs": [],
   "source": [
    "% matplotlib inline\n",
    "%config InlineBackend.figure_format = 'retina'\n",
    "\n",
    "from __future__ import division\n",
    "\n",
    "import numpy as np\n",
    "import glob\n",
    "import matplotlib.pyplot as plt\n",
    "import scipy.sparse as sps\n",
    "import scipy.linalg as sl\n",
    "\n",
    "\n",
    "import enterprise\n",
    "from enterprise.pulsar import Pulsar\n",
    "from enterprise.signals import parameter\n",
    "from enterprise.signals import white_signals\n",
    "from enterprise.signals import utils\n",
    "from enterprise.signals import gp_signals\n",
    "from enterprise.signals import signal_base\n",
    "from enterprise.signals import selections\n",
    "\n",
    "import corner\n",
    "from PTMCMCSampler.PTMCMCSampler import PTSampler as ptmcmc"
   ]
  },
  {
   "cell_type": "code",
   "execution_count": 2,
   "metadata": {},
   "outputs": [],
   "source": [
    "# compute f_p statistic\n",
    "def fpStat(psr, f0):\n",
    "    \"\"\" \n",
    "    Computes the Fp-statistic as defined in Ellis, Siemens, Creighton (2012)\n",
    "    \n",
    "    :param psr: List of pulsar object instances\n",
    "    :param f0: Gravitational wave frequency\n",
    "    :return: Value of the Fp statistic evaluated at f0\n",
    "    \"\"\"\n",
    "\n",
    "    fstat=0.\n",
    "    npsr = len(psr)\n",
    "\n",
    "    # define N vectors from Ellis et al, 2012 N_i=(x|A_i) for each pulsar\n",
    "    N = np.zeros(2)\n",
    "    # define M matrix M_ij=(A_i|A_j)\n",
    "    M = np.zeros((2, 2))\n",
    "    for ii,p in enumerate(psr):\n",
    "\n",
    "        # Define A vector\n",
    "        A = np.zeros((2, len(p.toas)))\n",
    "        A[0,:] = 1./f0**(1./3.) * np.sin(2*np.pi*f0*p.toas)\n",
    "        A[1,:] = 1./f0**(1./3.) * np.cos(2*np.pi*f0*p.toas)\n",
    "\n",
    "        # define N vectors from Ellis et al, 2012 N_i=(x|A_i) for each pulsar\n",
    "        N = np.array([np.dot(A[0,:], np.dot(p.invCov, p.residuals)), \\\n",
    "                      np.dot(A[1,:], np.dot(p.invCov, p.residuals))]) \n",
    "        \n",
    "        # define M matrix M_ij=(A_i|A_j)\n",
    "        for jj in range(2):\n",
    "            for kk in range(2):\n",
    "                M[jj,kk] = np.dot(A[jj,:], np.dot(p.invCov, A[kk,:]))\n",
    "        \n",
    "        # take inverse of M\n",
    "        Minv = np.linalg.inv(M)\n",
    "        fstat += 0.5 * np.dot(N, np.dot(Minv, N))\n",
    "\n",
    "    # return F-statistic\n",
    "    return fstat"
   ]
  },
  {
   "cell_type": "code",
   "execution_count": 3,
   "metadata": {},
   "outputs": [],
   "source": [
    "# compute f_e-statistic\n",
    "def feStat(psr, gwtheta, gwphi, f0):\n",
    "    \"\"\" \n",
    "    Computes the F-statistic as defined in Ellis, Siemens, Creighton (2012)\n",
    "    \n",
    "    :param psr: List of pulsar object instances\n",
    "    :param gwtheta: GW polar angle\n",
    "    :param gwphi: GW azimuthal angle\n",
    "    :param f0: Gravitational wave frequency\n",
    "    :return: Value of the Fe statistic evaluated at gwtheta, phi, f0\n",
    "    \"\"\"\n",
    "    \n",
    "    npsr = len(psr)\n",
    "    N = np.zeros(4)\n",
    "    M = np.zeros((4,4))\n",
    "    for ii, p in enumerate(psr):\n",
    "        fplus, fcross, cosMu = createAntennaPatternFuncs(p, gwtheta, gwphi)\n",
    "\n",
    "        # define A\n",
    "        A = np.zeros((4, len(p.toas)))\n",
    "        A[0,:] = fplus/f0**(1./3.) * np.sin(2*np.pi*f0*p.toas)\n",
    "        A[1,:] = fplus/f0**(1./3.) * np.cos(2*np.pi*f0*p.toas)\n",
    "        A[2,:] = fcross/f0**(1./3.) * np.sin(2*np.pi*f0*p.toas)\n",
    "        A[3,:] = fcross/f0**(1./3.) * np.cos(2*np.pi*f0*p.toas)\n",
    "\n",
    "\n",
    "        N += np.array([np.dot(A[0,:], np.dot(p.invCov, p.res)), \\\n",
    "                        np.dot(A[1,:], np.dot(p.invCov, p.res)), \\\n",
    "                        np.dot(A[2,:], np.dot(p.invCov, p.res)), \\\n",
    "                        np.dot(A[3,:], np.dot(p.invCov, p.res))]) \n",
    "\n",
    "        M += np.dot(A, np.dot(p.invCov, A.T))\n",
    "\n",
    "    # inverse of M\n",
    "    Minv = np.linalg.pinv(M)\n",
    "\n",
    "    # Fe-statistic\n",
    "    return 0.5 * np.dot(N, np.dot(Minv, N))"
   ]
  },
  {
   "cell_type": "code",
   "execution_count": 4,
   "metadata": {},
   "outputs": [
    {
     "ename": "SyntaxError",
     "evalue": "unexpected EOF while parsing (<ipython-input-4-551579a0ff0d>, line 2)",
     "output_type": "error",
     "traceback": [
      "\u001b[0;36m  File \u001b[0;32m\"<ipython-input-4-551579a0ff0d>\"\u001b[0;36m, line \u001b[0;32m2\u001b[0m\n\u001b[0;31m    \u001b[0m\n\u001b[0m    ^\u001b[0m\n\u001b[0;31mSyntaxError\u001b[0m\u001b[0;31m:\u001b[0m unexpected EOF while parsing\n"
     ]
    }
   ],
   "source": [
    "def invCov(psr):\n",
    "    "
   ]
  },
  {
   "cell_type": "code",
   "execution_count": null,
   "metadata": {},
   "outputs": [],
   "source": []
  },
  {
   "cell_type": "code",
   "execution_count": 3,
   "metadata": {},
   "outputs": [],
   "source": [
    "datadir = enterprise.__path__[0] + '/datafiles/ng9/'\n",
    "#datadir = '~/Documents/Grad\\ School/Research/enterprise/enterprise/datafiles'\n",
    "parfiles = sorted(glob.glob(datadir + '/*.par'))\n",
    "timfiles = sorted(glob.glob(datadir + '/*.tim'))"
   ]
  },
  {
   "cell_type": "code",
   "execution_count": 4,
   "metadata": {},
   "outputs": [],
   "source": [
    "#Trial with a few pulsars\n",
    "parfile_J0030 = datadir + 'J0030+0451_NANOGrav_9yv1.gls.par'\n",
    "parfile_B1937 = datadir + 'B1937+21_NANOGrav_9yv1.gls.par'\n",
    "\n",
    "\n",
    "timfile_J0030 = datadir + 'J0030+0451_NANOGrav_9yv1.tim'\n",
    "timfile_B1937 = datadir + 'B1937+21_NANOGrav_9yv1.tim'\n",
    "\n",
    "noisefile_J0030 = datadir + 'J0030+0451_noise.txt'\n",
    "noisefile_B1937 = datadir + 'B1937+21_noise.txt'\n",
    "\n",
    "psr_J0030 = Pulsar(parfile_J0030,timfile_J0030)\n",
    "psr_B1937 = Pulsar(parfile_B1937,timfile_B1937)\n",
    "\n",
    "pulsars = [psr_J0030,psr_B1937]"
   ]
  },
  {
   "cell_type": "code",
   "execution_count": 5,
   "metadata": {},
   "outputs": [],
   "source": [
    "##### parameters and priors #####\n",
    "\n",
    "# white noise parameters\n",
    "# since we are fixing these to values from the noise file we set\n",
    "# them as constant parameters\n",
    "efac = parameter.Uniform(0.1,5.0)\n",
    "equad = parameter.Uniform(-10.0,-5.0)\n",
    "ecorr = parameter.Constant()\n",
    "\n",
    "'''\n",
    "# red noise parameters\n",
    "log10_A = parameter.LinearExp(-20,-12)\n",
    "gamma = parameter.Uniform(0,7)\n",
    "\n",
    "# GW parameters (initialize with names here to use parameters in common across pulsars)\n",
    "log10_A_gw = parameter.LinearExp(-18,-12)('log10_A_gw')\n",
    "gamma_gw = parameter.Constant(4.33)('gamma_gw')\n",
    "'''\n",
    "\n",
    "# timing model\n",
    "tm = gp_signals.TimingModel()\n",
    "\n",
    "##### Set up signals #####\n",
    "\n",
    "# white noise\n",
    "ef = white_signals.MeasurementNoise(efac=efac)\n",
    "eq = white_signals.EquadNoise(log10_equad=equad)\n",
    "#ec = white_signals.EcorrKernelNoise(log10_ecorr=ecorr, selection=selection)\n",
    "\n",
    "# full model is sum of components\n",
    "model = tm + ef# + eq\n",
    "\n",
    "# intialize PTA\n",
    "pta_one = signal_base.PTA(model(psr_J0030))\n",
    "\n",
    "pta_test = signal_base.PTA([model(pulsar) for pulsar in pulsars])"
   ]
  },
  {
   "cell_type": "code",
   "execution_count": 6,
   "metadata": {},
   "outputs": [
    {
     "name": "stdout",
     "output_type": "stream",
     "text": [
      "{'B1937+21_efac': 3.673590440121855, 'J0030+0451_efac': 3.7445691898534936}\n"
     ]
    }
   ],
   "source": [
    "#Look at parameters and put in dictionary definition\n",
    "xs = {par.name: par.sample() for par in pta_test.params}"
   ]
  },
  {
   "cell_type": "code",
   "execution_count": 85,
   "metadata": {},
   "outputs": [
    {
     "ename": "AttributeError",
     "evalue": "'PTA' object has no attribute 'get_detres'",
     "output_type": "error",
     "traceback": [
      "\u001b[0;31m---------------------------------------------------------------------------\u001b[0m",
      "\u001b[0;31mAttributeError\u001b[0m                            Traceback (most recent call last)",
      "\u001b[0;32m<ipython-input-85-4ef8981e1e84>\u001b[0m in \u001b[0;36m<module>\u001b[0;34m()\u001b[0m\n\u001b[1;32m      5\u001b[0m \u001b[0mNvec\u001b[0m \u001b[0;34m=\u001b[0m \u001b[0mpta_one\u001b[0m\u001b[0;34m.\u001b[0m\u001b[0mget_ndiag\u001b[0m\u001b[0;34m(\u001b[0m\u001b[0mpta_one\u001b[0m\u001b[0;34m.\u001b[0m\u001b[0mparams\u001b[0m\u001b[0;34m)\u001b[0m\u001b[0;34m\u001b[0m\u001b[0m\n\u001b[1;32m      6\u001b[0m \u001b[0;34m\u001b[0m\u001b[0m\n\u001b[0;32m----> 7\u001b[0;31m \u001b[0mres\u001b[0m \u001b[0;34m=\u001b[0m \u001b[0mpta_one\u001b[0m\u001b[0;34m.\u001b[0m\u001b[0mget_detres\u001b[0m\u001b[0;34m(\u001b[0m\u001b[0mpta_one\u001b[0m\u001b[0;34m.\u001b[0m\u001b[0mparams\u001b[0m\u001b[0;34m)\u001b[0m\u001b[0;34m\u001b[0m\u001b[0m\n\u001b[0m\u001b[1;32m      8\u001b[0m \u001b[0;34m\u001b[0m\u001b[0m\n\u001b[1;32m      9\u001b[0m \u001b[0mNvec\u001b[0m\u001b[0;34m[\u001b[0m\u001b[0;36m0\u001b[0m\u001b[0;34m]\u001b[0m\u001b[0;34m.\u001b[0m\u001b[0msolve\u001b[0m\u001b[0;34m(\u001b[0m\u001b[0mres\u001b[0m\u001b[0;34m,\u001b[0m \u001b[0mleft_array\u001b[0m\u001b[0;34m=\u001b[0m\u001b[0mT\u001b[0m\u001b[0;34m)\u001b[0m\u001b[0;34m\u001b[0m\u001b[0m\n",
      "\u001b[0;31mAttributeError\u001b[0m: 'PTA' object has no attribute 'get_detres'"
     ]
    }
   ],
   "source": [
    "pta_one.get_TNr(pta_one.params)\n",
    "\n",
    "T = pta_one.get_basis(pta_one.params)\n",
    "\n",
    "Nvec = pta_one.get_ndiag(pta_one.params)\n",
    "\n",
    "res = pta_one.get_detres(pta_one.params)\n",
    "\n",
    "Nvec[0].solve(res, left_array=T)\n",
    "\n",
    "print(signal_base.solve(Nvec,res, left_array=T))"
   ]
  },
  {
   "cell_type": "code",
   "execution_count": 60,
   "metadata": {},
   "outputs": [
    {
     "name": "stdout",
     "output_type": "stream",
     "text": [
      "[ 7.13417632e+07  9.34935744e+06  5.72956559e+07  1.75590937e+08\n",
      " -4.74340016e+07 -6.28904910e+07 -8.90417331e+07  6.34355497e+07\n",
      "  4.08985902e+06  1.23927549e+07  7.29905704e+06  6.39812329e+08\n",
      "  7.78520971e+07  2.26553459e+08  1.05883427e+08  1.55596084e+07\n",
      "  4.65245098e+06  2.23321293e+07  2.05060035e+08  3.67381864e+07\n",
      "  3.35145037e+07  1.50348631e+08  3.46639652e+06  2.15097101e+07\n",
      "  2.80224513e+06  2.99907496e+07  1.97612020e+06  4.61259038e+05\n",
      "  5.87527583e+07  1.09993437e+06  1.00071300e+05  2.65388781e+07\n",
      " -5.36070455e+05 -1.27399523e+05 -1.78897273e+06 -4.18933225e+07\n",
      " -2.78833603e+06 -5.63410489e+05 -5.28303115e+06 -1.27755214e+07\n",
      " -1.37223037e+07 -1.89612372e+06 -8.87272112e+05 -1.67821211e+06\n",
      " -4.77112418e+06 -4.84049440e+06 -1.17671973e+06 -2.54765984e+07\n",
      " -7.65853650e+06 -2.61560272e+07 -1.67291519e+07 -7.64507345e+06\n",
      " -1.73832104e+06 -2.95636065e+06 -8.67988656e+06 -3.19919388e+06\n",
      " -1.25107853e+06 -3.25649757e+06 -3.31254684e+07 -2.38010085e+07\n",
      " -6.16106417e+06 -1.32058664e+06 -1.24107281e+06 -2.39205047e+06\n",
      " -2.28374047e+07 -1.85133774e+06 -9.49840509e+06 -1.61850031e+06\n",
      "  2.29803380e+07]\n"
     ]
    },
    {
     "ename": "ValueError",
     "evalue": "shapes (2455,) and (69,) not aligned: 2455 (dim 0) != 69 (dim 0)",
     "output_type": "error",
     "traceback": [
      "\u001b[0;31m---------------------------------------------------------------------------\u001b[0m",
      "\u001b[0;31mValueError\u001b[0m                                Traceback (most recent call last)",
      "\u001b[0;32m<ipython-input-60-35d327b6481d>\u001b[0m in \u001b[0;36m<module>\u001b[0;34m()\u001b[0m\n\u001b[1;32m     27\u001b[0m         \u001b[0mSigma\u001b[0m \u001b[0;34m=\u001b[0m \u001b[0mTNT\u001b[0m \u001b[0;34m+\u001b[0m \u001b[0;34m(\u001b[0m\u001b[0mnp\u001b[0m\u001b[0;34m.\u001b[0m\u001b[0mdiag\u001b[0m\u001b[0;34m(\u001b[0m\u001b[0mphiinv\u001b[0m\u001b[0;34m)\u001b[0m \u001b[0;32mif\u001b[0m \u001b[0mphiinv\u001b[0m\u001b[0;34m.\u001b[0m\u001b[0mndim\u001b[0m \u001b[0;34m==\u001b[0m \u001b[0;36m1\u001b[0m \u001b[0;32melse\u001b[0m \u001b[0mphiinv\u001b[0m\u001b[0;34m)\u001b[0m\u001b[0;34m\u001b[0m\u001b[0m\n\u001b[1;32m     28\u001b[0m         \u001b[0mcf\u001b[0m \u001b[0;34m=\u001b[0m \u001b[0msl\u001b[0m\u001b[0;34m.\u001b[0m\u001b[0mcho_factor\u001b[0m\u001b[0;34m(\u001b[0m\u001b[0mSigma\u001b[0m\u001b[0;34m)\u001b[0m\u001b[0;34m\u001b[0m\u001b[0m\n\u001b[0;32m---> 29\u001b[0;31m         \u001b[0mfstat\u001b[0m \u001b[0;34m=\u001b[0m \u001b[0mfstat\u001b[0m \u001b[0;34m+\u001b[0m \u001b[0mFstat\u001b[0m\u001b[0;34m(\u001b[0m\u001b[0mcf\u001b[0m\u001b[0;34m,\u001b[0m\u001b[0mTnr\u001b[0m\u001b[0;34m,\u001b[0m\u001b[0mp\u001b[0m\u001b[0;34m,\u001b[0m\u001b[0mf0\u001b[0m\u001b[0;34m)\u001b[0m\u001b[0;34m\u001b[0m\u001b[0m\n\u001b[0m\u001b[1;32m     30\u001b[0m         \u001b[0mprint\u001b[0m\u001b[0;34m(\u001b[0m\u001b[0mfstat\u001b[0m\u001b[0;34m)\u001b[0m\u001b[0;34m\u001b[0m\u001b[0m\n",
      "\u001b[0;32m<ipython-input-52-de3122108b66>\u001b[0m in \u001b[0;36mFstat\u001b[0;34m(cf, TNr, pulsar, f0)\u001b[0m\n\u001b[1;32m     18\u001b[0m \u001b[0;34m\u001b[0m\u001b[0m\n\u001b[1;32m     19\u001b[0m     \u001b[0;31m# define N vectors from Ellis et al, 2012 N_i=(r|A_i) for each pulsar\u001b[0m\u001b[0;34m\u001b[0m\u001b[0;34m\u001b[0m\u001b[0m\n\u001b[0;32m---> 20\u001b[0;31m     \u001b[0mN\u001b[0m \u001b[0;34m=\u001b[0m \u001b[0mnp\u001b[0m\u001b[0;34m.\u001b[0m\u001b[0marray\u001b[0m\u001b[0;34m(\u001b[0m\u001b[0;34m[\u001b[0m\u001b[0mnp\u001b[0m\u001b[0;34m.\u001b[0m\u001b[0mdot\u001b[0m\u001b[0;34m(\u001b[0m\u001b[0mA\u001b[0m\u001b[0;34m[\u001b[0m\u001b[0;36m0\u001b[0m\u001b[0;34m,\u001b[0m\u001b[0;34m:\u001b[0m\u001b[0;34m]\u001b[0m\u001b[0;34m,\u001b[0m \u001b[0mSr\u001b[0m\u001b[0;34m)\u001b[0m\u001b[0;34m,\u001b[0m                   \u001b[0mnp\u001b[0m\u001b[0;34m.\u001b[0m\u001b[0mdot\u001b[0m\u001b[0;34m(\u001b[0m\u001b[0mA\u001b[0m\u001b[0;34m[\u001b[0m\u001b[0;36m1\u001b[0m\u001b[0;34m,\u001b[0m\u001b[0;34m:\u001b[0m\u001b[0;34m]\u001b[0m\u001b[0;34m,\u001b[0m \u001b[0mSr\u001b[0m\u001b[0;34m)\u001b[0m\u001b[0;34m]\u001b[0m\u001b[0;34m)\u001b[0m\u001b[0;34m\u001b[0m\u001b[0m\n\u001b[0m\u001b[1;32m     21\u001b[0m \u001b[0;34m\u001b[0m\u001b[0m\n\u001b[1;32m     22\u001b[0m     \u001b[0;31m# define M matrix M_ij=(A_i|A_j)\u001b[0m\u001b[0;34m\u001b[0m\u001b[0;34m\u001b[0m\u001b[0m\n",
      "\u001b[0;31mValueError\u001b[0m: shapes (2455,) and (69,) not aligned: 2455 (dim 0) != 69 (dim 0)"
     ]
    }
   ],
   "source": [
    "params = xs if isinstance(xs,dict) else pta_test.map_params(xs)\n",
    "\n",
    "# phiinvs will be a list or may be a big matrix if spatially\n",
    "# correlated signals\n",
    "TNrs = pta_test.get_TNr(params)\n",
    "\n",
    "TNTs = pta_test.get_TNT(params)\n",
    "phiinvs = pta_test.get_phiinv(params, logdet=True, method='partition')\n",
    "\n",
    "fstat = 0.0\n",
    "f0 = 7e-8\n",
    "\n",
    "# red noise piece\n",
    "if pta_test._commonsignals:\n",
    "    phiinv, logdet_phi = phiinvs\n",
    "    Sigma = pta_test._make_sigma(TNTs, phiinv)\n",
    "    TNr = np.concatenate(TNrs)\n",
    "    \n",
    "    cf = signal_base.cholesky(Sigma)\n",
    "    Sr = cf(Tnr)\n",
    "else:\n",
    "    #takes individual block matrices (ie TNT) and factorizes their sigmas instead of using sparse cholesky like above\n",
    "    for TNr, TNT, (phiinv, logdet_phi),p in zip(TNrs,TNTs, phiinvs,pulsars):\n",
    "        Sigma = TNT + (np.diag(phiinv) if phiinv.ndim == 1 else phiinv)\n",
    "        cf = sl.cho_factor(Sigma)\n",
    "        fstat = fstat + Fstat(cf,Tnr,p,f0)\n",
    "        print(fstat)"
   ]
  },
  {
   "cell_type": "code",
   "execution_count": 52,
   "metadata": {},
   "outputs": [],
   "source": [
    "def Fstat(cf, TNr, pulsar,f0):\n",
    "    '''Takes in a cholesky factorized matrix of Sigma, the TNr for the given pulsar, \n",
    "    the pulsar itself, and a gravitational wave frequency. '''\n",
    "    #inverts sigma\n",
    "    SigmaInv = sl.cho_solve(cf,np.eye(len(cf[0])))\n",
    "    # Computes |r), aka SigmaInv dot r\n",
    "    Sr = sl.cho_solve(cf,TNr)\n",
    "\n",
    "    # define N vectors from Ellis et al, 2012 N_i=(x|A_i) for each pulsar\n",
    "    N = np.zeros(2)\n",
    "    # define M matrix M_ij=(A_i|A_j)\n",
    "    M = np.zeros((2, 2))\n",
    "\n",
    "    # Define A vector\n",
    "    A = np.zeros((2, len(p.toas)))\n",
    "    A[0,:] = 1./f0**(1./3.) * np.sin(2*np.pi*f0*p.toas)\n",
    "    A[1,:] = 1./f0**(1./3.) * np.cos(2*np.pi*f0*p.toas)\n",
    "    \n",
    "    # define N vectors from Ellis et al, 2012 N_i=(r|A_i) for each pulsar\n",
    "    N = np.array([np.dot(A[0,:], Sr), \\\n",
    "                  np.dot(A[1,:], Sr)]) \n",
    "        \n",
    "    # define M matrix M_ij=(A_i|A_j)\n",
    "    for jj in range(2):\n",
    "        for kk in range(2):\n",
    "            M[jj,kk] = np.dot(A[jj,:], np.dot(SigmaInv, A[kk,:]))\n",
    "        \n",
    "    # take inverse of M\n",
    "    Minv = np.linalg.inv(M)\n",
    "    return 0.5 * np.dot(N, np.dot(Minv, N))"
   ]
  },
  {
   "cell_type": "code",
   "execution_count": 51,
   "metadata": {},
   "outputs": [
    {
     "name": "stdout",
     "output_type": "stream",
     "text": [
      "(array([[ 7.07570239e+06, -1.49097777e+05,  7.37097731e+05, ...,\n",
      "        -2.21396389e+06, -3.58337593e+06, -1.17959635e+06],\n",
      "       [-1.05497150e+12,  6.95145629e+06, -1.40503364e+05, ...,\n",
      "         1.15572801e+05,  9.75508122e+04, -7.98796667e+04],\n",
      "       [ 5.21548418e+12, -1.08660263e+12,  7.17042613e+06, ...,\n",
      "         6.73435149e+04,  2.67717727e+05, -5.37759747e+05],\n",
      "       ...,\n",
      "       [-1.56653496e+13,  1.13349637e+12, -1.16526443e+12, ...,\n",
      "         3.82033507e+06, -1.01521734e+05, -3.42774828e+05],\n",
      "       [-2.53549016e+13,  1.21239359e+12, -7.35354299e+11, ...,\n",
      "         0.00000000e+00,  3.88835243e+05,  2.85682920e+05],\n",
      "       [-8.34647275e+12, -3.79404817e+11, -4.71422098e+12, ...,\n",
      "         0.00000000e+00,  0.00000000e+00,  1.45901937e+06]]), False)\n",
      "(118,)\n",
      "(118, 118)\n",
      "(2,)\n"
     ]
    },
    {
     "ename": "ValueError",
     "evalue": "shapes (118,) and (69,) not aligned: 118 (dim 0) != 69 (dim 0)",
     "output_type": "error",
     "traceback": [
      "\u001b[0;31m---------------------------------------------------------------------------\u001b[0m",
      "\u001b[0;31mValueError\u001b[0m                                Traceback (most recent call last)",
      "\u001b[0;32m<ipython-input-51-5992b732abd1>\u001b[0m in \u001b[0;36m<module>\u001b[0;34m()\u001b[0m\n\u001b[1;32m     22\u001b[0m     \u001b[0;31m# define N vectors from Ellis et al, 2012 N_i=(r|A_i) for each pulsar\u001b[0m\u001b[0;34m\u001b[0m\u001b[0;34m\u001b[0m\u001b[0m\n\u001b[1;32m     23\u001b[0m     \u001b[0;31m# where (r| and |r) are r dot SigmaInv and SigmaInv dot r respectively\u001b[0m\u001b[0;34m\u001b[0m\u001b[0;34m\u001b[0m\u001b[0m\n\u001b[0;32m---> 24\u001b[0;31m     \u001b[0mN\u001b[0m \u001b[0;34m=\u001b[0m \u001b[0mnp\u001b[0m\u001b[0;34m.\u001b[0m\u001b[0marray\u001b[0m\u001b[0;34m(\u001b[0m\u001b[0;34m[\u001b[0m\u001b[0mnp\u001b[0m\u001b[0;34m.\u001b[0m\u001b[0mdot\u001b[0m\u001b[0;34m(\u001b[0m\u001b[0mA\u001b[0m\u001b[0;34m[\u001b[0m\u001b[0;36m0\u001b[0m\u001b[0;34m,\u001b[0m\u001b[0;34m:\u001b[0m\u001b[0;34m]\u001b[0m\u001b[0;34m,\u001b[0m \u001b[0mnp\u001b[0m\u001b[0;34m.\u001b[0m\u001b[0mdot\u001b[0m\u001b[0;34m(\u001b[0m\u001b[0mSigmaInv\u001b[0m\u001b[0;34m,\u001b[0m \u001b[0mTNr\u001b[0m\u001b[0;34m)\u001b[0m\u001b[0;34m)\u001b[0m\u001b[0;34m,\u001b[0m                   \u001b[0mnp\u001b[0m\u001b[0;34m.\u001b[0m\u001b[0mdot\u001b[0m\u001b[0;34m(\u001b[0m\u001b[0mA\u001b[0m\u001b[0;34m[\u001b[0m\u001b[0;36m1\u001b[0m\u001b[0;34m,\u001b[0m\u001b[0;34m:\u001b[0m\u001b[0;34m]\u001b[0m\u001b[0;34m,\u001b[0m \u001b[0mnp\u001b[0m\u001b[0;34m.\u001b[0m\u001b[0mdot\u001b[0m\u001b[0;34m(\u001b[0m\u001b[0mSigmaInv\u001b[0m\u001b[0;34m,\u001b[0m\u001b[0mTNr\u001b[0m\u001b[0;34m)\u001b[0m\u001b[0;34m)\u001b[0m\u001b[0;34m]\u001b[0m\u001b[0;34m)\u001b[0m\u001b[0;34m\u001b[0m\u001b[0m\n\u001b[0m\u001b[1;32m     25\u001b[0m \u001b[0;34m\u001b[0m\u001b[0m\n\u001b[1;32m     26\u001b[0m     \u001b[0;31m# define M matrix M_ij=(A_i|A_j)\u001b[0m\u001b[0;34m\u001b[0m\u001b[0;34m\u001b[0m\u001b[0m\n",
      "\u001b[0;31mValueError\u001b[0m: shapes (118,) and (69,) not aligned: 118 (dim 0) != 69 (dim 0)"
     ]
    }
   ],
   "source": [
    "#inverts sigma\n",
    "SigmaInvs = sl.cho_solve(cf,np.eye(len(cf[0])))\n",
    "print(cf)\n",
    "print(np.shape(Sr))\n",
    "\n",
    "fstat=0.0\n",
    "f0 = 7e-8\n",
    "\n",
    "# define N vectors from Ellis et al, 2012 N_i=(x|A_i) for each pulsar\n",
    "N = np.zeros(2)\n",
    "# define M matrix M_ij=(A_i|A_j)\n",
    "M = np.zeros((2, 2))\n",
    "\n",
    "for TNr,SigmaInv,p in zip(TNrs,SigmaInvs,pulsars):\n",
    "    print(np.shape(SigmaInvs))\n",
    "    print(np.shape(TNrs))\n",
    "    # Define A vector\n",
    "    A = np.zeros((2, len(p.toas)))\n",
    "    A[0,:] = 1./f0**(1./3.) * np.sin(2*np.pi*f0*p.toas)\n",
    "    A[1,:] = 1./f0**(1./3.) * np.cos(2*np.pi*f0*p.toas)\n",
    "    \n",
    "    # define N vectors from Ellis et al, 2012 N_i=(r|A_i) for each pulsar\n",
    "    # where (r| and |r) are r dot SigmaInv and SigmaInv dot r respectively\n",
    "    N = np.array([np.dot(A[0,:], np.dot(SigmaInv, TNr)), \\\n",
    "                  np.dot(A[1,:], np.dot(SigmaInv,TNr))]) \n",
    "        \n",
    "    # define M matrix M_ij=(A_i|A_j)\n",
    "    for jj in range(2):\n",
    "        for kk in range(2):\n",
    "            M[jj,kk] = np.dot(A[jj,:], np.dot(SigmaInv, A[kk,:]))\n",
    "        \n",
    "    # take inverse of M\n",
    "    Minv = np.linalg.inv(M)\n",
    "    fstat += 0.5 * np.dot(N, np.dot(Minv, N))\n"
   ]
  },
  {
   "cell_type": "code",
   "execution_count": 7,
   "metadata": {},
   "outputs": [
    {
     "name": "stdout",
     "output_type": "stream",
     "text": [
      "(2, 2)\n",
      "(2,)\n"
     ]
    },
    {
     "ename": "NameError",
     "evalue": "name 'pta_one_lnlike' is not defined",
     "output_type": "error",
     "traceback": [
      "\u001b[0;31m---------------------------------------------------------------------------\u001b[0m",
      "\u001b[0;31mNameError\u001b[0m                                 Traceback (most recent call last)",
      "\u001b[0;32m<ipython-input-7-9d550b2d6923>\u001b[0m in \u001b[0;36m<module>\u001b[0;34m()\u001b[0m\n\u001b[1;32m      6\u001b[0m \u001b[0mprint\u001b[0m\u001b[0;34m(\u001b[0m\u001b[0mnp\u001b[0m\u001b[0;34m.\u001b[0m\u001b[0mshape\u001b[0m\u001b[0;34m(\u001b[0m\u001b[0mphiinv\u001b[0m\u001b[0;34m)\u001b[0m\u001b[0;34m)\u001b[0m\u001b[0;34m\u001b[0m\u001b[0m\n\u001b[1;32m      7\u001b[0m \u001b[0mprint\u001b[0m\u001b[0;34m(\u001b[0m\u001b[0mnp\u001b[0m\u001b[0;34m.\u001b[0m\u001b[0mshape\u001b[0m\u001b[0;34m(\u001b[0m\u001b[0mTNTs\u001b[0m\u001b[0;34m)\u001b[0m\u001b[0;34m)\u001b[0m\u001b[0;34m\u001b[0m\u001b[0m\n\u001b[0;32m----> 8\u001b[0;31m \u001b[0mpta_one_lnlike\u001b[0m\u001b[0;34m.\u001b[0m\u001b[0m_make_sigma\u001b[0m\u001b[0;34m(\u001b[0m\u001b[0mTNTs\u001b[0m\u001b[0;34m,\u001b[0m\u001b[0mphiinv\u001b[0m\u001b[0;34m)\u001b[0m\u001b[0;34m\u001b[0m\u001b[0m\n\u001b[0m",
      "\u001b[0;31mNameError\u001b[0m: name 'pta_one_lnlike' is not defined"
     ]
    }
   ],
   "source": [
    "\n",
    "for p in pulsars:\n",
    "    # Define A vector\n",
    "    A = np.zeros((2, len(p.toas)))\n",
    "    A[0,:] = 1./f0**(1./3.) * np.sin(2*np.pi*f0*p.toas)\n",
    "    A[1,:] = 1./f0**(1./3.) * np.cos(2*np.pi*f0*p.toas)"
   ]
  },
  {
   "cell_type": "code",
   "execution_count": null,
   "metadata": {},
   "outputs": [],
   "source": []
  },
  {
   "cell_type": "code",
   "execution_count": 13,
   "metadata": {},
   "outputs": [
    {
     "name": "stdout",
     "output_type": "stream",
     "text": [
      "WARNING: Could not find pulsar distance for PSR J0218+4232. Setting value to 1 with 20% uncertainty.\n",
      "WARNING: Could not find pulsar distance for PSR J0621+1002. Setting value to 1 with 20% uncertainty.\n",
      "WARNING: Could not find pulsar distance for PSR J0751+1807. Setting value to 1 with 20% uncertainty.\n",
      "WARNING: Could not find pulsar distance for PSR J0900-3144. Setting value to 1 with 20% uncertainty.\n",
      "WARNING: Could not find pulsar distance for PSR J1738+0333. Setting value to 1 with 20% uncertainty.\n",
      "WARNING: Could not find pulsar distance for PSR J1741+1351. Setting value to 1 with 20% uncertainty.\n",
      "WARNING: Could not find pulsar distance for PSR J1751-2857. Setting value to 1 with 20% uncertainty.\n",
      "WARNING: Could not find pulsar distance for PSR J1853+1303. Setting value to 1 with 20% uncertainty.\n",
      "WARNING: Could not find pulsar distance for PSR J1955+2908. Setting value to 1 with 20% uncertainty.\n",
      "WARNING: Could not find pulsar distance for PSR J2019+2425. Setting value to 1 with 20% uncertainty.\n"
     ]
    }
   ],
   "source": [
    "#All of the Pulsars!\n",
    "psrs = []\n",
    "for p, t in zip(parfiles, timfiles):\n",
    "    psr = Pulsar(p, t)\n",
    "    psrs.append(psr)"
   ]
  },
  {
   "cell_type": "code",
   "execution_count": 14,
   "metadata": {},
   "outputs": [
    {
     "data": {
      "text/plain": [
       "'\\nprint(psrs[0].residuals)\\nprint(len(psrs[0].toas))\\n'"
      ]
     },
     "execution_count": 14,
     "metadata": {},
     "output_type": "execute_result"
    }
   ],
   "source": [
    "'''\n",
    "print(psrs[0].residuals)\n",
    "print(len(psrs[0].toas))\n",
    "'''"
   ]
  },
  {
   "cell_type": "code",
   "execution_count": 15,
   "metadata": {},
   "outputs": [
    {
     "ename": "AttributeError",
     "evalue": "'Tempo2Pulsar' object has no attribute 'invCov'",
     "output_type": "error",
     "traceback": [
      "\u001b[0;31m---------------------------------------------------------------------------\u001b[0m",
      "\u001b[0;31mAttributeError\u001b[0m                            Traceback (most recent call last)",
      "\u001b[0;32m<ipython-input-15-3a9ad97a9357>\u001b[0m in \u001b[0;36m<module>\u001b[0;34m()\u001b[0m\n\u001b[1;32m      1\u001b[0m \u001b[0mf_gw\u001b[0m \u001b[0;34m=\u001b[0m \u001b[0;36m8e-8\u001b[0m\u001b[0;34m\u001b[0m\u001b[0m\n\u001b[0;32m----> 2\u001b[0;31m \u001b[0mfp\u001b[0m \u001b[0;34m=\u001b[0m \u001b[0mfpStat\u001b[0m\u001b[0;34m(\u001b[0m\u001b[0mpsrs\u001b[0m\u001b[0;34m,\u001b[0m\u001b[0mf_gw\u001b[0m\u001b[0;34m)\u001b[0m\u001b[0;34m\u001b[0m\u001b[0m\n\u001b[0m",
      "\u001b[0;32m<ipython-input-2-d71c0bc219b4>\u001b[0m in \u001b[0;36mfpStat\u001b[0;34m(psr, f0)\u001b[0m\n\u001b[1;32m     24\u001b[0m \u001b[0;34m\u001b[0m\u001b[0m\n\u001b[1;32m     25\u001b[0m         \u001b[0;31m# define N vectors from Ellis et al, 2012 N_i=(x|A_i) for each pulsar\u001b[0m\u001b[0;34m\u001b[0m\u001b[0;34m\u001b[0m\u001b[0m\n\u001b[0;32m---> 26\u001b[0;31m         \u001b[0mN\u001b[0m \u001b[0;34m=\u001b[0m \u001b[0mnp\u001b[0m\u001b[0;34m.\u001b[0m\u001b[0marray\u001b[0m\u001b[0;34m(\u001b[0m\u001b[0;34m[\u001b[0m\u001b[0mnp\u001b[0m\u001b[0;34m.\u001b[0m\u001b[0mdot\u001b[0m\u001b[0;34m(\u001b[0m\u001b[0mA\u001b[0m\u001b[0;34m[\u001b[0m\u001b[0;36m0\u001b[0m\u001b[0;34m,\u001b[0m\u001b[0;34m:\u001b[0m\u001b[0;34m]\u001b[0m\u001b[0;34m,\u001b[0m \u001b[0mnp\u001b[0m\u001b[0;34m.\u001b[0m\u001b[0mdot\u001b[0m\u001b[0;34m(\u001b[0m\u001b[0mp\u001b[0m\u001b[0;34m.\u001b[0m\u001b[0minvCov\u001b[0m\u001b[0;34m,\u001b[0m \u001b[0mp\u001b[0m\u001b[0;34m.\u001b[0m\u001b[0mresiduals\u001b[0m\u001b[0;34m)\u001b[0m\u001b[0;34m)\u001b[0m\u001b[0;34m,\u001b[0m                       \u001b[0mnp\u001b[0m\u001b[0;34m.\u001b[0m\u001b[0mdot\u001b[0m\u001b[0;34m(\u001b[0m\u001b[0mA\u001b[0m\u001b[0;34m[\u001b[0m\u001b[0;36m1\u001b[0m\u001b[0;34m,\u001b[0m\u001b[0;34m:\u001b[0m\u001b[0;34m]\u001b[0m\u001b[0;34m,\u001b[0m \u001b[0mnp\u001b[0m\u001b[0;34m.\u001b[0m\u001b[0mdot\u001b[0m\u001b[0;34m(\u001b[0m\u001b[0mp\u001b[0m\u001b[0;34m.\u001b[0m\u001b[0minvCov\u001b[0m\u001b[0;34m,\u001b[0m \u001b[0mp\u001b[0m\u001b[0;34m.\u001b[0m\u001b[0mresiduals\u001b[0m\u001b[0;34m)\u001b[0m\u001b[0;34m)\u001b[0m\u001b[0;34m]\u001b[0m\u001b[0;34m)\u001b[0m\u001b[0;34m\u001b[0m\u001b[0m\n\u001b[0m\u001b[1;32m     27\u001b[0m \u001b[0;34m\u001b[0m\u001b[0m\n\u001b[1;32m     28\u001b[0m         \u001b[0;31m# define M matrix M_ij=(A_i|A_j)\u001b[0m\u001b[0;34m\u001b[0m\u001b[0;34m\u001b[0m\u001b[0m\n",
      "\u001b[0;31mAttributeError\u001b[0m: 'Tempo2Pulsar' object has no attribute 'invCov'"
     ]
    }
   ],
   "source": [
    "f_gw = 8e-8\n",
    "fp = fpStat(psrs,f_gw)"
   ]
  },
  {
   "cell_type": "code",
   "execution_count": null,
   "metadata": {},
   "outputs": [],
   "source": []
  },
  {
   "cell_type": "code",
   "execution_count": null,
   "metadata": {},
   "outputs": [],
   "source": []
  }
 ],
 "metadata": {
  "kernelspec": {
   "display_name": "Python 3",
   "language": "python",
   "name": "python3"
  },
  "language_info": {
   "codemirror_mode": {
    "name": "ipython",
    "version": 3
   },
   "file_extension": ".py",
   "mimetype": "text/x-python",
   "name": "python",
   "nbconvert_exporter": "python",
   "pygments_lexer": "ipython3",
   "version": "3.6.6"
  }
 },
 "nbformat": 4,
 "nbformat_minor": 2
}
