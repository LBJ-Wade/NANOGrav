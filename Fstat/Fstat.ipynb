{
 "cells": [
  {
   "cell_type": "code",
   "execution_count": 1,
   "metadata": {},
   "outputs": [],
   "source": [
    "% matplotlib inline\n",
    "%config InlineBackend.figure_format = 'retina'\n",
    "%load_ext line_profiler\n",
    "\n",
    "from __future__ import division\n",
    "\n",
    "import numpy as np\n",
    "import glob\n",
    "import matplotlib.pyplot as plt\n",
    "import scipy.linalg as sl\n",
    "\n",
    "import enterprise\n",
    "from enterprise.pulsar import Pulsar\n",
    "\n",
    "import corner\n",
    "from PTMCMCSampler.PTMCMCSampler import PTSampler as ptmcmc"
   ]
  },
  {
   "cell_type": "code",
   "execution_count": 2,
   "metadata": {},
   "outputs": [],
   "source": [
    "# compute f_p statistic\n",
    "def fpStat(psr, f0):\n",
    "    \"\"\" \n",
    "    Computes the Fp-statistic as defined in Ellis, Siemens, Creighton (2012)\n",
    "    \n",
    "    :param psr: List of pulsar object instances\n",
    "    :param f0: Gravitational wave frequency\n",
    "    :return: Value of the Fp statistic evaluated at f0\n",
    "    \"\"\"\n",
    "\n",
    "    fstat=0.\n",
    "    npsr = len(psr)\n",
    "\n",
    "    # define N vectors from Ellis et al, 2012 N_i=(x|A_i) for each pulsar\n",
    "    N = np.zeros(2)\n",
    "    # define M matrix M_ij=(A_i|A_j)\n",
    "    M = np.zeros((2, 2))\n",
    "    for ii,p in enumerate(psr):\n",
    "\n",
    "        # Define A vector\n",
    "        A = np.zeros((2, len(p.toas)))\n",
    "        A[0,:] = 1./f0**(1./3.) * np.sin(2*np.pi*f0*p.toas)\n",
    "        A[1,:] = 1./f0**(1./3.) * np.cos(2*np.pi*f0*p.toas)\n",
    "\n",
    "        # define N vectors from Ellis et al, 2012 N_i=(x|A_i) for each pulsar\n",
    "        N = np.array([np.dot(A[0,:], np.dot(p.invCov, p.residuals)), \\\n",
    "                      np.dot(A[1,:], np.dot(p.invCov, p.residuals))]) \n",
    "        \n",
    "        # define M matrix M_ij=(A_i|A_j)\n",
    "        for jj in range(2):\n",
    "            for kk in range(2):\n",
    "                M[jj,kk] = np.dot(A[jj,:], np.dot(p.invCov, A[kk,:]))\n",
    "        \n",
    "        # take inverse of M\n",
    "        Minv = np.linalg.inv(M)\n",
    "        fstat += 0.5 * np.dot(N, np.dot(Minv, N))\n",
    "\n",
    "    # return F-statistic\n",
    "    return fstat"
   ]
  },
  {
   "cell_type": "code",
   "execution_count": 3,
   "metadata": {},
   "outputs": [],
   "source": [
    "# compute f_e-statistic\n",
    "def feStat(psr, gwtheta, gwphi, f0):\n",
    "    \"\"\" \n",
    "    Computes the F-statistic as defined in Ellis, Siemens, Creighton (2012)\n",
    "    \n",
    "    :param psr: List of pulsar object instances\n",
    "    :param gwtheta: GW polar angle\n",
    "    :param gwphi: GW azimuthal angle\n",
    "    :param f0: Gravitational wave frequency\n",
    "    :return: Value of the Fe statistic evaluated at gwtheta, phi, f0\n",
    "    \"\"\"\n",
    "    \n",
    "    npsr = len(psr)\n",
    "    N = np.zeros(4)\n",
    "    M = np.zeros((4,4))\n",
    "    for ii, p in enumerate(psr):\n",
    "        fplus, fcross, cosMu = createAntennaPatternFuncs(p, gwtheta, gwphi)\n",
    "\n",
    "        # define A\n",
    "        A = np.zeros((4, len(p.toas)))\n",
    "        A[0,:] = fplus/f0**(1./3.) * np.sin(2*np.pi*f0*p.toas)\n",
    "        A[1,:] = fplus/f0**(1./3.) * np.cos(2*np.pi*f0*p.toas)\n",
    "        A[2,:] = fcross/f0**(1./3.) * np.sin(2*np.pi*f0*p.toas)\n",
    "        A[3,:] = fcross/f0**(1./3.) * np.cos(2*np.pi*f0*p.toas)\n",
    "\n",
    "\n",
    "        N += np.array([np.dot(A[0,:], np.dot(p.invCov, p.res)), \\\n",
    "                        np.dot(A[1,:], np.dot(p.invCov, p.res)), \\\n",
    "                        np.dot(A[2,:], np.dot(p.invCov, p.res)), \\\n",
    "                        np.dot(A[3,:], np.dot(p.invCov, p.res))]) \n",
    "\n",
    "        M += np.dot(A, np.dot(p.invCov, A.T))\n",
    "\n",
    "    # inverse of M\n",
    "    Minv = np.linalg.pinv(M)\n",
    "\n",
    "    # Fe-statistic\n",
    "    return 0.5 * np.dot(N, np.dot(Minv, N))"
   ]
  },
  {
   "cell_type": "code",
   "execution_count": 4,
   "metadata": {},
   "outputs": [],
   "source": [
    "def createAntennaPatternFuncs(psr, gwtheta, gwphi):\n",
    "    \"\"\"\n",
    "    Function to create pulsar antenna pattern functions as defined\n",
    "    in Ellis, Siemens, and Creighton (2012).\n",
    "    :param psr: pulsar object for single pulsar\n",
    "    :param gwtheta: GW polar angle in radians\n",
    "    :param gwphi: GW azimuthal angle in radians\n",
    "    :return: (fplus, fcross, cosMu), where fplus and fcross\n",
    "             are the plus and cross antenna pattern functions\n",
    "             and cosMu is the cosine of the angle between the \n",
    "             pulsar and the GW source.\n",
    "    \"\"\"\n",
    "\n",
    "    # use definition from Sesana et al 2010 and Ellis et al 2012\n",
    "    m = np.array([-np.sin(gwphi), np.cos(gwphi), 0.0])\n",
    "    n = np.array([-np.cos(gwtheta)*np.cos(gwphi), -np.cos(gwtheta)*np.sin(gwphi),\\\n",
    "                  np.sin(gwtheta)])\n",
    "    omhat = np.array([-np.sin(gwtheta)*np.cos(gwphi), -np.sin(gwtheta)*np.sin(gwphi),\\\n",
    "                      -np.cos(gwtheta)])\n",
    "\n",
    "    phat = np.array([np.sin(psr.theta)*np.cos(psr.phi), np.sin(psr.theta)*np.sin(psr.phi), \\\n",
    "                     np.cos(psr.theta)])\n",
    "\n",
    "    fplus = 0.5 * (np.dot(m, phat)**2 - np.dot(n, phat)**2) / (1+np.dot(omhat, phat))\n",
    "    fcross = (np.dot(m, phat)*np.dot(n, phat)) / (1 + np.dot(omhat, phat))\n",
    "    cosMu = -np.dot(omhat, phat)\n",
    "\n",
    "    return fplus, fcross, cosMu"
   ]
  },
  {
   "cell_type": "code",
   "execution_count": 5,
   "metadata": {},
   "outputs": [],
   "source": [
    "datadir = enterprise.__path__[0] + '/datafiles/mdc_open1/'\n",
    "#datadir = '~/Documents/Grad\\ School/Research/enterprise/enterprise/datafiles'\n",
    "parfiles = sorted(glob.glob(datadir + '/*.par'))\n",
    "timfiles = sorted(glob.glob(datadir + '/*.tim'))"
   ]
  },
  {
   "cell_type": "code",
   "execution_count": 22,
   "metadata": {},
   "outputs": [
    {
     "name": "stdout",
     "output_type": "stream",
     "text": [
      "WARNING: Could not find pulsar distance for PSR J0218+4232. Setting value to 1 with 20% uncertainty.\n",
      "WARNING: Could not find pulsar distance for PSR J0621+1002. Setting value to 1 with 20% uncertainty.\n",
      "WARNING: Could not find pulsar distance for PSR J0751+1807. Setting value to 1 with 20% uncertainty.\n",
      "WARNING: Could not find pulsar distance for PSR J0900-3144. Setting value to 1 with 20% uncertainty.\n",
      "WARNING: Could not find pulsar distance for PSR J1738+0333. Setting value to 1 with 20% uncertainty.\n",
      "WARNING: Could not find pulsar distance for PSR J1741+1351. Setting value to 1 with 20% uncertainty.\n",
      "WARNING: Could not find pulsar distance for PSR J1751-2857. Setting value to 1 with 20% uncertainty.\n",
      "WARNING: Could not find pulsar distance for PSR J1853+1303. Setting value to 1 with 20% uncertainty.\n",
      "WARNING: Could not find pulsar distance for PSR J1955+2908. Setting value to 1 with 20% uncertainty.\n",
      "WARNING: Could not find pulsar distance for PSR J2019+2425. Setting value to 1 with 20% uncertainty.\n"
     ]
    }
   ],
   "source": [
    "psrs = []\n",
    "for p, t in zip(parfiles, timfiles):\n",
    "    psr = Pulsar(p, t)\n",
    "    psrs.append(psr)"
   ]
  },
  {
   "cell_type": "code",
   "execution_count": 21,
   "metadata": {},
   "outputs": [
    {
     "name": "stdout",
     "output_type": "stream",
     "text": [
      "[-2.61949243e-06 -2.30768375e-06 -1.91043621e-06 -1.87441510e-06\n",
      " -1.45311256e-06 -1.38749765e-06 -1.09011676e-06 -9.43985922e-07\n",
      " -8.78250976e-07 -7.64967995e-07 -5.45120466e-07 -3.92265082e-07\n",
      " -4.01810854e-07 -3.43540928e-07 -2.30470376e-07 -3.07846452e-07\n",
      " -2.43889243e-07 -3.27004794e-07 -7.02494461e-08 -6.01813389e-08\n",
      "  1.71676462e-07  3.52073411e-07  6.91932668e-07  9.14128148e-07\n",
      "  1.09731300e-06  1.59911385e-06  1.81857537e-06  1.90637141e-06\n",
      "  2.04803756e-06  2.13960089e-06  2.13818234e-06  2.02010317e-06\n",
      "  1.91892227e-06  1.83017811e-06  1.86189761e-06  1.71753654e-06\n",
      "  1.62197032e-06  1.38048729e-06  1.41963837e-06  1.00268638e-06\n",
      "  9.69274967e-07  9.33838787e-07  5.51357349e-07  6.12891358e-07\n",
      "  5.46071571e-07  5.17916582e-07  2.27609980e-07  2.53671480e-07\n",
      "  8.06939970e-08  1.21295671e-07  1.31952375e-07  1.81600209e-07\n",
      "  3.49476955e-07  3.23414579e-07  1.55866106e-07  2.67220396e-07\n",
      "  2.78480870e-07  2.40311339e-07  3.46497373e-07 -5.45645987e-08\n",
      " -8.38194787e-09 -2.89014205e-08 -8.46087360e-08  9.65245764e-08\n",
      " -2.59329081e-07  5.14602909e-08  9.11109041e-08 -1.09789011e-07\n",
      " -3.63596957e-07 -4.51645375e-07 -3.02168318e-07 -3.74662230e-07\n",
      " -5.38308771e-07 -2.80655180e-07 -2.00090144e-07 -4.37788162e-07\n",
      " -4.24646116e-07 -4.36070991e-07 -4.95222064e-07 -3.39629249e-07\n",
      " -6.64508506e-07 -6.86965165e-07 -7.70170749e-07 -8.75092762e-07\n",
      " -1.21127103e-06 -1.29524261e-06 -1.31233137e-06 -1.55767783e-06\n",
      " -1.45038078e-06 -1.39827316e-06 -1.48279654e-06 -1.77200597e-06\n",
      " -1.68566159e-06 -1.70289403e-06 -1.65241462e-06 -1.77593743e-06\n",
      " -1.49413312e-06 -1.37024719e-06 -1.24831432e-06 -1.21168153e-06\n",
      " -9.26169984e-07 -9.74066938e-07 -5.75723220e-07 -5.03397585e-07\n",
      " -3.81322985e-07 -9.52912379e-08 -1.05056274e-07  7.94273729e-08\n",
      "  6.33407393e-08  1.56637862e-07  1.58788073e-07  2.43859635e-07\n",
      "  2.70526869e-07  4.37185171e-07  7.32450198e-07  8.69574825e-07\n",
      "  8.79074284e-07  1.01082202e-06  1.14474383e-06  1.18967339e-06\n",
      "  1.29138820e-06  1.29233354e-06  1.33331340e-06  1.09175122e-06\n",
      "  1.18723520e-06  9.27244727e-07  8.42702903e-07  6.66025812e-07\n",
      "  4.87583636e-07  1.86779404e-07]\n",
      "130\n"
     ]
    }
   ],
   "source": [
    "print(psrs[0].residuals)\n",
    "print(len(psrs[0].toas))"
   ]
  },
  {
   "cell_type": "code",
   "execution_count": 26,
   "metadata": {},
   "outputs": [
    {
     "ename": "AttributeError",
     "evalue": "'Tempo2Pulsar' object has no attribute 'invCov'",
     "output_type": "error",
     "traceback": [
      "\u001b[0;31m---------------------------------------------------------------------------\u001b[0m",
      "\u001b[0;31mAttributeError\u001b[0m                            Traceback (most recent call last)",
      "\u001b[0;32m<ipython-input-26-3a9ad97a9357>\u001b[0m in \u001b[0;36m<module>\u001b[0;34m()\u001b[0m\n\u001b[1;32m      1\u001b[0m \u001b[0mf_gw\u001b[0m \u001b[0;34m=\u001b[0m \u001b[0;36m8e-8\u001b[0m\u001b[0;34m\u001b[0m\u001b[0m\n\u001b[0;32m----> 2\u001b[0;31m \u001b[0mfp\u001b[0m \u001b[0;34m=\u001b[0m \u001b[0mfpStat\u001b[0m\u001b[0;34m(\u001b[0m\u001b[0mpsrs\u001b[0m\u001b[0;34m,\u001b[0m\u001b[0mf_gw\u001b[0m\u001b[0;34m)\u001b[0m\u001b[0;34m\u001b[0m\u001b[0m\n\u001b[0m",
      "\u001b[0;32m<ipython-input-25-0d608c8fb191>\u001b[0m in \u001b[0;36mfpStat\u001b[0;34m(psr, f0)\u001b[0m\n\u001b[1;32m     22\u001b[0m         \u001b[0mA\u001b[0m\u001b[0;34m[\u001b[0m\u001b[0;36m1\u001b[0m\u001b[0;34m,\u001b[0m\u001b[0;34m:\u001b[0m\u001b[0;34m]\u001b[0m \u001b[0;34m=\u001b[0m \u001b[0;36m1.\u001b[0m\u001b[0;34m/\u001b[0m\u001b[0mf0\u001b[0m\u001b[0;34m**\u001b[0m\u001b[0;34m(\u001b[0m\u001b[0;36m1.\u001b[0m\u001b[0;34m/\u001b[0m\u001b[0;36m3.\u001b[0m\u001b[0;34m)\u001b[0m \u001b[0;34m*\u001b[0m \u001b[0mnp\u001b[0m\u001b[0;34m.\u001b[0m\u001b[0mcos\u001b[0m\u001b[0;34m(\u001b[0m\u001b[0;36m2\u001b[0m\u001b[0;34m*\u001b[0m\u001b[0mnp\u001b[0m\u001b[0;34m.\u001b[0m\u001b[0mpi\u001b[0m\u001b[0;34m*\u001b[0m\u001b[0mf0\u001b[0m\u001b[0;34m*\u001b[0m\u001b[0mp\u001b[0m\u001b[0;34m.\u001b[0m\u001b[0mtoas\u001b[0m\u001b[0;34m)\u001b[0m\u001b[0;34m\u001b[0m\u001b[0m\n\u001b[1;32m     23\u001b[0m \u001b[0;34m\u001b[0m\u001b[0m\n\u001b[0;32m---> 24\u001b[0;31m         \u001b[0mN\u001b[0m \u001b[0;34m=\u001b[0m \u001b[0mnp\u001b[0m\u001b[0;34m.\u001b[0m\u001b[0marray\u001b[0m\u001b[0;34m(\u001b[0m\u001b[0;34m[\u001b[0m\u001b[0mnp\u001b[0m\u001b[0;34m.\u001b[0m\u001b[0mdot\u001b[0m\u001b[0;34m(\u001b[0m\u001b[0mA\u001b[0m\u001b[0;34m[\u001b[0m\u001b[0;36m0\u001b[0m\u001b[0;34m,\u001b[0m\u001b[0;34m:\u001b[0m\u001b[0;34m]\u001b[0m\u001b[0;34m,\u001b[0m \u001b[0mnp\u001b[0m\u001b[0;34m.\u001b[0m\u001b[0mdot\u001b[0m\u001b[0;34m(\u001b[0m\u001b[0mp\u001b[0m\u001b[0;34m.\u001b[0m\u001b[0minvCov\u001b[0m\u001b[0;34m,\u001b[0m \u001b[0mp\u001b[0m\u001b[0;34m.\u001b[0m\u001b[0mresiduals\u001b[0m\u001b[0;34m)\u001b[0m\u001b[0;34m)\u001b[0m\u001b[0;34m,\u001b[0m                       \u001b[0mnp\u001b[0m\u001b[0;34m.\u001b[0m\u001b[0mdot\u001b[0m\u001b[0;34m(\u001b[0m\u001b[0mA\u001b[0m\u001b[0;34m[\u001b[0m\u001b[0;36m1\u001b[0m\u001b[0;34m,\u001b[0m\u001b[0;34m:\u001b[0m\u001b[0;34m]\u001b[0m\u001b[0;34m,\u001b[0m \u001b[0mnp\u001b[0m\u001b[0;34m.\u001b[0m\u001b[0mdot\u001b[0m\u001b[0;34m(\u001b[0m\u001b[0mp\u001b[0m\u001b[0;34m.\u001b[0m\u001b[0minvCov\u001b[0m\u001b[0;34m,\u001b[0m \u001b[0mp\u001b[0m\u001b[0;34m.\u001b[0m\u001b[0mresiduals\u001b[0m\u001b[0;34m)\u001b[0m\u001b[0;34m)\u001b[0m\u001b[0;34m]\u001b[0m\u001b[0;34m)\u001b[0m\u001b[0;34m\u001b[0m\u001b[0m\n\u001b[0m\u001b[1;32m     25\u001b[0m \u001b[0;34m\u001b[0m\u001b[0m\n\u001b[1;32m     26\u001b[0m         \u001b[0;31m# define M matrix M_ij=(A_i|A_j)\u001b[0m\u001b[0;34m\u001b[0m\u001b[0;34m\u001b[0m\u001b[0m\n",
      "\u001b[0;31mAttributeError\u001b[0m: 'Tempo2Pulsar' object has no attribute 'invCov'"
     ]
    }
   ],
   "source": [
    "f_gw = 8e-8\n",
    "fp = fpStat(psrs,f_gw)"
   ]
  },
  {
   "cell_type": "code",
   "execution_count": null,
   "metadata": {},
   "outputs": [],
   "source": []
  },
  {
   "cell_type": "code",
   "execution_count": null,
   "metadata": {},
   "outputs": [],
   "source": []
  }
 ],
 "metadata": {
  "kernelspec": {
   "display_name": "Python 3",
   "language": "python",
   "name": "python3"
  },
  "language_info": {
   "codemirror_mode": {
    "name": "ipython",
    "version": 3
   },
   "file_extension": ".py",
   "mimetype": "text/x-python",
   "name": "python",
   "nbconvert_exporter": "python",
   "pygments_lexer": "ipython3",
   "version": "3.6.6"
  }
 },
 "nbformat": 4,
 "nbformat_minor": 2
}
