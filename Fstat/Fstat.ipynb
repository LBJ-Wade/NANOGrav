{
 "cells": [
  {
   "cell_type": "code",
   "execution_count": 1,
   "metadata": {},
   "outputs": [
    {
     "name": "stdout",
     "output_type": "stream",
     "text": [
      "Downloading http://hpiers.obspm.fr/iers/eop/eopc04/eopc04_IAU2000.62-now [Done]\n"
     ]
    }
   ],
   "source": [
    "% matplotlib inline\n",
    "%config InlineBackend.figure_format = 'retina'\n",
    "\n",
    "from __future__ import division\n",
    "\n",
    "import numpy as np\n",
    "import glob\n",
    "import matplotlib.pyplot as plt\n",
    "import scipy.sparse as sps\n",
    "import scipy.linalg as sl\n",
    "\n",
    "\n",
    "import enterprise\n",
    "from enterprise.pulsar import Pulsar\n",
    "from enterprise.signals import parameter\n",
    "from enterprise.signals import white_signals\n",
    "from enterprise.signals import utils\n",
    "from enterprise.signals import gp_signals\n",
    "from enterprise.signals import signal_base\n",
    "from enterprise.signals import selections\n",
    "\n",
    "import corner\n",
    "from PTMCMCSampler.PTMCMCSampler import PTSampler as ptmcmc"
   ]
  },
  {
   "cell_type": "code",
   "execution_count": 2,
   "metadata": {},
   "outputs": [],
   "source": [
    "# compute f_p statistic\n",
    "def fpStat(psr, f0):\n",
    "    \"\"\" \n",
    "    Computes the Fp-statistic as defined in Ellis, Siemens, Creighton (2012)\n",
    "    \n",
    "    :param psr: List of pulsar object instances\n",
    "    :param f0: Gravitational wave frequency\n",
    "    :return: Value of the Fp statistic evaluated at f0\n",
    "    \"\"\"\n",
    "\n",
    "    fstat=0.\n",
    "    npsr = len(psr)\n",
    "\n",
    "    # define N vectors from Ellis et al, 2012 N_i=(x|A_i) for each pulsar\n",
    "    N = np.zeros(2)\n",
    "    # define M matrix M_ij=(A_i|A_j)\n",
    "    M = np.zeros((2, 2))\n",
    "    for ii,p in enumerate(psr):\n",
    "\n",
    "        # Define A vector\n",
    "        A = np.zeros((2, len(p.toas)))\n",
    "        A[0,:] = 1./f0**(1./3.) * np.sin(2*np.pi*f0*p.toas)\n",
    "        A[1,:] = 1./f0**(1./3.) * np.cos(2*np.pi*f0*p.toas)\n",
    "\n",
    "        # define N vectors from Ellis et al, 2012 N_i=(x|A_i) for each pulsar\n",
    "        N = np.array([np.dot(A[0,:], np.dot(p.invCov, p.residuals)), \\\n",
    "                      np.dot(A[1,:], np.dot(p.invCov, p.residuals))]) \n",
    "        \n",
    "        # define M matrix M_ij=(A_i|A_j)\n",
    "        for jj in range(2):\n",
    "            for kk in range(2):\n",
    "                M[jj,kk] = np.dot(A[jj,:], np.dot(p.invCov, A[kk,:]))\n",
    "        \n",
    "        # take inverse of M\n",
    "        Minv = np.linalg.inv(M)\n",
    "        fstat += 0.5 * np.dot(N, np.dot(Minv, N))\n",
    "\n",
    "    # return F-statistic\n",
    "    return fstat"
   ]
  },
  {
   "cell_type": "code",
   "execution_count": 3,
   "metadata": {},
   "outputs": [],
   "source": [
    "# compute f_e-statistic\n",
    "def feStat(psr, gwtheta, gwphi, f0):\n",
    "    \"\"\" \n",
    "    Computes the F-statistic as defined in Ellis, Siemens, Creighton (2012)\n",
    "    \n",
    "    :param psr: List of pulsar object instances\n",
    "    :param gwtheta: GW polar angle\n",
    "    :param gwphi: GW azimuthal angle\n",
    "    :param f0: Gravitational wave frequency\n",
    "    :return: Value of the Fe statistic evaluated at gwtheta, phi, f0\n",
    "    \"\"\"\n",
    "    \n",
    "    npsr = len(psr)\n",
    "    N = np.zeros(4)\n",
    "    M = np.zeros((4,4))\n",
    "    for ii, p in enumerate(psr):\n",
    "        fplus, fcross, cosMu = createAntennaPatternFuncs(p, gwtheta, gwphi)\n",
    "\n",
    "        # define A\n",
    "        A = np.zeros((4, len(p.toas)))\n",
    "        A[0,:] = fplus/f0**(1./3.) * np.sin(2*np.pi*f0*p.toas)\n",
    "        A[1,:] = fplus/f0**(1./3.) * np.cos(2*np.pi*f0*p.toas)\n",
    "        A[2,:] = fcross/f0**(1./3.) * np.sin(2*np.pi*f0*p.toas)\n",
    "        A[3,:] = fcross/f0**(1./3.) * np.cos(2*np.pi*f0*p.toas)\n",
    "\n",
    "\n",
    "        N += np.array([np.dot(A[0,:], np.dot(p.invCov, p.res)), \\\n",
    "                        np.dot(A[1,:], np.dot(p.invCov, p.res)), \\\n",
    "                        np.dot(A[2,:], np.dot(p.invCov, p.res)), \\\n",
    "                        np.dot(A[3,:], np.dot(p.invCov, p.res))]) \n",
    "\n",
    "        M += np.dot(A, np.dot(p.invCov, A.T))\n",
    "\n",
    "    # inverse of M\n",
    "    Minv = np.linalg.pinv(M)\n",
    "\n",
    "    # Fe-statistic\n",
    "    return 0.5 * np.dot(N, np.dot(Minv, N))"
   ]
  },
  {
   "cell_type": "code",
   "execution_count": 4,
   "metadata": {},
   "outputs": [
    {
     "ename": "SyntaxError",
     "evalue": "unexpected EOF while parsing (<ipython-input-4-551579a0ff0d>, line 2)",
     "output_type": "error",
     "traceback": [
      "\u001b[0;36m  File \u001b[0;32m\"<ipython-input-4-551579a0ff0d>\"\u001b[0;36m, line \u001b[0;32m2\u001b[0m\n\u001b[0;31m    \u001b[0m\n\u001b[0m    ^\u001b[0m\n\u001b[0;31mSyntaxError\u001b[0m\u001b[0;31m:\u001b[0m unexpected EOF while parsing\n"
     ]
    }
   ],
   "source": [
    "def invCov(psr):\n",
    "    "
   ]
  },
  {
   "cell_type": "code",
   "execution_count": null,
   "metadata": {},
   "outputs": [],
   "source": []
  },
  {
   "cell_type": "code",
   "execution_count": 2,
   "metadata": {},
   "outputs": [],
   "source": [
    "datadir = enterprise.__path__[0] + '/datafiles/ng9/'\n",
    "#datadir = '~/Documents/Grad\\ School/Research/enterprise/enterprise/datafiles'\n",
    "parfiles = sorted(glob.glob(datadir + '/*.par'))\n",
    "timfiles = sorted(glob.glob(datadir + '/*.tim'))"
   ]
  },
  {
   "cell_type": "code",
   "execution_count": 3,
   "metadata": {},
   "outputs": [],
   "source": [
    "#Trial with a few pulsars\n",
    "parfile_J0030 = datadir + 'J0030+0451_NANOGrav_9yv1.gls.par'\n",
    "parfile_B1937 = datadir + 'B1937+21_NANOGrav_9yv1.gls.par'\n",
    "\n",
    "\n",
    "timfile_J0030 = datadir + 'J0030+0451_NANOGrav_9yv1.tim'\n",
    "timfile_B1937 = datadir + 'B1937+21_NANOGrav_9yv1.tim'\n",
    "\n",
    "noisefile_J0030 = datadir + 'J0030+0451_noise.txt'\n",
    "noisefile_B1937 = datadir + 'B1937+21_noise.txt'\n",
    "\n",
    "psr_J0030 = Pulsar(parfile_J0030,timfile_J0030)\n",
    "psr_B1937 = Pulsar(parfile_B1937,timfile_B1937)\n",
    "\n",
    "pulsars = [psr_J0030,psr_B1937]"
   ]
  },
  {
   "cell_type": "code",
   "execution_count": 4,
   "metadata": {},
   "outputs": [],
   "source": [
    "##### parameters and priors #####\n",
    "\n",
    "# white noise parameters\n",
    "# since we are fixing these to values from the noise file we set\n",
    "# them as constant parameters\n",
    "efac = parameter.Uniform(0.1,5.0)\n",
    "equad = parameter.Uniform(-10.0,-5.0)\n",
    "ecorr = parameter.Constant()\n",
    "\n",
    "'''\n",
    "# red noise parameters\n",
    "log10_A = parameter.LinearExp(-20,-12)\n",
    "gamma = parameter.Uniform(0,7)\n",
    "\n",
    "# GW parameters (initialize with names here to use parameters in common across pulsars)\n",
    "log10_A_gw = parameter.LinearExp(-18,-12)('log10_A_gw')\n",
    "gamma_gw = parameter.Constant(4.33)('gamma_gw')\n",
    "'''\n",
    "\n",
    "# timing model\n",
    "tm = gp_signals.TimingModel()\n",
    "\n",
    "##### Set up signals #####\n",
    "\n",
    "# white noise\n",
    "ef = white_signals.MeasurementNoise(efac=efac)\n",
    "eq = white_signals.EquadNoise(log10_equad=equad)\n",
    "#ec = white_signals.EcorrKernelNoise(log10_ecorr=ecorr, selection=selection)\n",
    "\n",
    "# full model is sum of components\n",
    "model = tm + ef# + eq\n",
    "\n",
    "# intialize PTA\n",
    "pta_one = signal_base.PTA(model(psr_J0030))\n",
    "\n",
    "pta_test = signal_base.PTA([model(pulsar) for pulsar in pulsars])"
   ]
  },
  {
   "cell_type": "code",
   "execution_count": 5,
   "metadata": {},
   "outputs": [
    {
     "name": "stdout",
     "output_type": "stream",
     "text": [
      "{'B1937+21_efac': 3.097294598109011, 'J0030+0451_efac': 0.6535716222855898}\n"
     ]
    }
   ],
   "source": [
    "#Look at parameters and put in dictionary definition\n",
    "xs = {par.name: par.sample() for par in pta_test.params}\n",
    "print(xs)"
   ]
  },
  {
   "cell_type": "code",
   "execution_count": 9,
   "metadata": {},
   "outputs": [
    {
     "name": "stdout",
     "output_type": "stream",
     "text": [
      "(2, 2)\n",
      "(2,)\n"
     ]
    }
   ],
   "source": [
    "params = xs if isinstance(xs,dict) else pta_test.map_params(xs)\n",
    "\n",
    "# phiinvs will be a list or may be a big matrix if spatially\n",
    "# correlated signals\n",
    "TNrs = pta_test.get_TNr(params)\n",
    "TNTs = pta_test.get_TNT(params)\n",
    "phiinvs = pta_test.get_phiinv(params, logdet=True, method='partition')\n",
    "\n",
    "# red noise piece\n",
    "if pta_test._commonsignals:\n",
    "    print('red')\n",
    "    phiinv, logdet_phi = phiinvs\n",
    "\n",
    "    Sigma = pta_test._make_sigma(TNTs, phiinv)\n",
    "    cf = signal_base.cholesky(Sigma)\n",
    "else:\n",
    "    #takes individual block matrices (ie TNT) and factorizes their sigmas instead of using sparse cholesky like above\n",
    "    for TNT, (phiinv, logdet_phi) in zip(TNTs, phiinvs):\n",
    "        Sigma = TNT + (np.diag(phiinv) if phiinv.ndim == 1 else phiinv)\n",
    "        cf = sl.cho_factor(Sigma)\n",
    "\n",
    "#inverts sigma\n",
    "SigmaInv = sl.cho_solve(cf,np.eye(len(cf[0])))\n"
   ]
  },
  {
   "cell_type": "code",
   "execution_count": 7,
   "metadata": {},
   "outputs": [
    {
     "name": "stdout",
     "output_type": "stream",
     "text": [
      "(2, 2)\n",
      "(2,)\n"
     ]
    },
    {
     "ename": "NameError",
     "evalue": "name 'pta_one_lnlike' is not defined",
     "output_type": "error",
     "traceback": [
      "\u001b[0;31m---------------------------------------------------------------------------\u001b[0m",
      "\u001b[0;31mNameError\u001b[0m                                 Traceback (most recent call last)",
      "\u001b[0;32m<ipython-input-7-9d550b2d6923>\u001b[0m in \u001b[0;36m<module>\u001b[0;34m()\u001b[0m\n\u001b[1;32m      6\u001b[0m \u001b[0mprint\u001b[0m\u001b[0;34m(\u001b[0m\u001b[0mnp\u001b[0m\u001b[0;34m.\u001b[0m\u001b[0mshape\u001b[0m\u001b[0;34m(\u001b[0m\u001b[0mphiinv\u001b[0m\u001b[0;34m)\u001b[0m\u001b[0;34m)\u001b[0m\u001b[0;34m\u001b[0m\u001b[0m\n\u001b[1;32m      7\u001b[0m \u001b[0mprint\u001b[0m\u001b[0;34m(\u001b[0m\u001b[0mnp\u001b[0m\u001b[0;34m.\u001b[0m\u001b[0mshape\u001b[0m\u001b[0;34m(\u001b[0m\u001b[0mTNTs\u001b[0m\u001b[0;34m)\u001b[0m\u001b[0;34m)\u001b[0m\u001b[0;34m\u001b[0m\u001b[0m\n\u001b[0;32m----> 8\u001b[0;31m \u001b[0mpta_one_lnlike\u001b[0m\u001b[0;34m.\u001b[0m\u001b[0m_make_sigma\u001b[0m\u001b[0;34m(\u001b[0m\u001b[0mTNTs\u001b[0m\u001b[0;34m,\u001b[0m\u001b[0mphiinv\u001b[0m\u001b[0;34m)\u001b[0m\u001b[0;34m\u001b[0m\u001b[0m\n\u001b[0m",
      "\u001b[0;31mNameError\u001b[0m: name 'pta_one_lnlike' is not defined"
     ]
    }
   ],
   "source": [
    "#pta_one.summary()\n",
    "#pta_test_lnlike = signal_base.MarginalizedLogLikelihood(pta_test)\n",
    "TNTs = pta_test.get_TNT(xs)\n",
    "TNrs = pta_test.get_TNr(xs)\n",
    "phiinv = pta_test.get_phiinv(xs, logdet=True,method='partition')\n",
    "print(np.shape(phiinv))\n",
    "print(np.shape(TNTs))\n",
    "pta_one_lnlike._make_sigma(TNTs,phiinv)"
   ]
  },
  {
   "cell_type": "code",
   "execution_count": null,
   "metadata": {},
   "outputs": [],
   "source": []
  },
  {
   "cell_type": "code",
   "execution_count": 13,
   "metadata": {},
   "outputs": [
    {
     "name": "stdout",
     "output_type": "stream",
     "text": [
      "WARNING: Could not find pulsar distance for PSR J0218+4232. Setting value to 1 with 20% uncertainty.\n",
      "WARNING: Could not find pulsar distance for PSR J0621+1002. Setting value to 1 with 20% uncertainty.\n",
      "WARNING: Could not find pulsar distance for PSR J0751+1807. Setting value to 1 with 20% uncertainty.\n",
      "WARNING: Could not find pulsar distance for PSR J0900-3144. Setting value to 1 with 20% uncertainty.\n",
      "WARNING: Could not find pulsar distance for PSR J1738+0333. Setting value to 1 with 20% uncertainty.\n",
      "WARNING: Could not find pulsar distance for PSR J1741+1351. Setting value to 1 with 20% uncertainty.\n",
      "WARNING: Could not find pulsar distance for PSR J1751-2857. Setting value to 1 with 20% uncertainty.\n",
      "WARNING: Could not find pulsar distance for PSR J1853+1303. Setting value to 1 with 20% uncertainty.\n",
      "WARNING: Could not find pulsar distance for PSR J1955+2908. Setting value to 1 with 20% uncertainty.\n",
      "WARNING: Could not find pulsar distance for PSR J2019+2425. Setting value to 1 with 20% uncertainty.\n"
     ]
    }
   ],
   "source": [
    "#All of the Pulsars!\n",
    "psrs = []\n",
    "for p, t in zip(parfiles, timfiles):\n",
    "    psr = Pulsar(p, t)\n",
    "    psrs.append(psr)"
   ]
  },
  {
   "cell_type": "code",
   "execution_count": 14,
   "metadata": {},
   "outputs": [
    {
     "data": {
      "text/plain": [
       "'\\nprint(psrs[0].residuals)\\nprint(len(psrs[0].toas))\\n'"
      ]
     },
     "execution_count": 14,
     "metadata": {},
     "output_type": "execute_result"
    }
   ],
   "source": [
    "'''\n",
    "print(psrs[0].residuals)\n",
    "print(len(psrs[0].toas))\n",
    "'''"
   ]
  },
  {
   "cell_type": "code",
   "execution_count": 15,
   "metadata": {},
   "outputs": [
    {
     "ename": "AttributeError",
     "evalue": "'Tempo2Pulsar' object has no attribute 'invCov'",
     "output_type": "error",
     "traceback": [
      "\u001b[0;31m---------------------------------------------------------------------------\u001b[0m",
      "\u001b[0;31mAttributeError\u001b[0m                            Traceback (most recent call last)",
      "\u001b[0;32m<ipython-input-15-3a9ad97a9357>\u001b[0m in \u001b[0;36m<module>\u001b[0;34m()\u001b[0m\n\u001b[1;32m      1\u001b[0m \u001b[0mf_gw\u001b[0m \u001b[0;34m=\u001b[0m \u001b[0;36m8e-8\u001b[0m\u001b[0;34m\u001b[0m\u001b[0m\n\u001b[0;32m----> 2\u001b[0;31m \u001b[0mfp\u001b[0m \u001b[0;34m=\u001b[0m \u001b[0mfpStat\u001b[0m\u001b[0;34m(\u001b[0m\u001b[0mpsrs\u001b[0m\u001b[0;34m,\u001b[0m\u001b[0mf_gw\u001b[0m\u001b[0;34m)\u001b[0m\u001b[0;34m\u001b[0m\u001b[0m\n\u001b[0m",
      "\u001b[0;32m<ipython-input-2-d71c0bc219b4>\u001b[0m in \u001b[0;36mfpStat\u001b[0;34m(psr, f0)\u001b[0m\n\u001b[1;32m     24\u001b[0m \u001b[0;34m\u001b[0m\u001b[0m\n\u001b[1;32m     25\u001b[0m         \u001b[0;31m# define N vectors from Ellis et al, 2012 N_i=(x|A_i) for each pulsar\u001b[0m\u001b[0;34m\u001b[0m\u001b[0;34m\u001b[0m\u001b[0m\n\u001b[0;32m---> 26\u001b[0;31m         \u001b[0mN\u001b[0m \u001b[0;34m=\u001b[0m \u001b[0mnp\u001b[0m\u001b[0;34m.\u001b[0m\u001b[0marray\u001b[0m\u001b[0;34m(\u001b[0m\u001b[0;34m[\u001b[0m\u001b[0mnp\u001b[0m\u001b[0;34m.\u001b[0m\u001b[0mdot\u001b[0m\u001b[0;34m(\u001b[0m\u001b[0mA\u001b[0m\u001b[0;34m[\u001b[0m\u001b[0;36m0\u001b[0m\u001b[0;34m,\u001b[0m\u001b[0;34m:\u001b[0m\u001b[0;34m]\u001b[0m\u001b[0;34m,\u001b[0m \u001b[0mnp\u001b[0m\u001b[0;34m.\u001b[0m\u001b[0mdot\u001b[0m\u001b[0;34m(\u001b[0m\u001b[0mp\u001b[0m\u001b[0;34m.\u001b[0m\u001b[0minvCov\u001b[0m\u001b[0;34m,\u001b[0m \u001b[0mp\u001b[0m\u001b[0;34m.\u001b[0m\u001b[0mresiduals\u001b[0m\u001b[0;34m)\u001b[0m\u001b[0;34m)\u001b[0m\u001b[0;34m,\u001b[0m                       \u001b[0mnp\u001b[0m\u001b[0;34m.\u001b[0m\u001b[0mdot\u001b[0m\u001b[0;34m(\u001b[0m\u001b[0mA\u001b[0m\u001b[0;34m[\u001b[0m\u001b[0;36m1\u001b[0m\u001b[0;34m,\u001b[0m\u001b[0;34m:\u001b[0m\u001b[0;34m]\u001b[0m\u001b[0;34m,\u001b[0m \u001b[0mnp\u001b[0m\u001b[0;34m.\u001b[0m\u001b[0mdot\u001b[0m\u001b[0;34m(\u001b[0m\u001b[0mp\u001b[0m\u001b[0;34m.\u001b[0m\u001b[0minvCov\u001b[0m\u001b[0;34m,\u001b[0m \u001b[0mp\u001b[0m\u001b[0;34m.\u001b[0m\u001b[0mresiduals\u001b[0m\u001b[0;34m)\u001b[0m\u001b[0;34m)\u001b[0m\u001b[0;34m]\u001b[0m\u001b[0;34m)\u001b[0m\u001b[0;34m\u001b[0m\u001b[0m\n\u001b[0m\u001b[1;32m     27\u001b[0m \u001b[0;34m\u001b[0m\u001b[0m\n\u001b[1;32m     28\u001b[0m         \u001b[0;31m# define M matrix M_ij=(A_i|A_j)\u001b[0m\u001b[0;34m\u001b[0m\u001b[0;34m\u001b[0m\u001b[0m\n",
      "\u001b[0;31mAttributeError\u001b[0m: 'Tempo2Pulsar' object has no attribute 'invCov'"
     ]
    }
   ],
   "source": [
    "f_gw = 8e-8\n",
    "fp = fpStat(psrs,f_gw)"
   ]
  },
  {
   "cell_type": "code",
   "execution_count": null,
   "metadata": {},
   "outputs": [],
   "source": []
  },
  {
   "cell_type": "code",
   "execution_count": null,
   "metadata": {},
   "outputs": [],
   "source": []
  }
 ],
 "metadata": {
  "kernelspec": {
   "display_name": "Python 3",
   "language": "python",
   "name": "python3"
  },
  "language_info": {
   "codemirror_mode": {
    "name": "ipython",
    "version": 3
   },
   "file_extension": ".py",
   "mimetype": "text/x-python",
   "name": "python",
   "nbconvert_exporter": "python",
   "pygments_lexer": "ipython3",
   "version": "3.6.6"
  }
 },
 "nbformat": 4,
 "nbformat_minor": 2
}
