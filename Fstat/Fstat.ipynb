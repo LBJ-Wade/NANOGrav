{
 "cells": [
  {
   "cell_type": "code",
   "execution_count": 2,
   "metadata": {},
   "outputs": [],
   "source": [
    "% matplotlib inline\n",
    "%config InlineBackend.figure_format = 'retina'\n",
    "\n",
    "from __future__ import division\n",
    "\n",
    "import numpy as np\n",
    "import glob\n",
    "import matplotlib.pyplot as plt\n",
    "import scipy.sparse as sps\n",
    "import scipy.linalg as sl\n",
    "\n",
    "\n",
    "import enterprise\n",
    "from enterprise.pulsar import Pulsar\n",
    "from enterprise.signals import parameter\n",
    "from enterprise.signals import white_signals\n",
    "from enterprise.signals import utils\n",
    "from enterprise.signals import gp_signals\n",
    "from enterprise.signals import signal_base\n",
    "from enterprise.signals import selections\n",
    "\n",
    "import corner\n",
    "from PTMCMCSampler.PTMCMCSampler import PTSampler as ptmcmc"
   ]
  },
  {
   "cell_type": "markdown",
   "metadata": {},
   "source": [
    "def fpStat(psr, f0):\n",
    "    \"\"\"\n",
    "    Computes the Fp-statistic as defined in Ellis, Siemens, Creighton (2012)\n",
    "    :param psr: List of pulsar object instances\n",
    "    :param f0: Gravitational wave frequency\n",
    "    :return: Value of the Fp statistic evaluated at f0\n",
    "    \"\"\"\n",
    "\n",
    "    fstat=0.\n",
    "    npsr = len(psr)\n",
    "\n",
    "    # define N vectors from Ellis et al, 2012 N_i=(x|A_i) for each pulsar\n",
    "    N = np.zeros(2)\n",
    "    # define M matrix M_ij=(A_i|A_j)\n",
    "    M = np.zeros((2, 2))\n",
    "    for ii,p in enumerate(psr):\n",
    "\n",
    "        # Define A vector\n",
    "        A = np.zeros((2, len(p.toas)))\n",
    "        A[0,:] = 1./f0**(1./3.) * np.sin(2*np.pi*f0*p.toas)\n",
    "        A[1,:] = 1./f0**(1./3.) * np.cos(2*np.pi*f0*p.toas)\n",
    "\n",
    "        # define N vectors from Ellis et al, 2012 N_i=(x|A_i) for each pulsar\n",
    "        N = np.array([np.dot(A[0,:], np.dot(p.invCov, p.residuals)), \\\n",
    "                      np.dot(A[1,:], np.dot(p.invCov, p.residuals))]) \n",
    "        \n",
    "        # define M matrix M_ij=(A_i|A_j)\n",
    "        for jj in range(2):\n",
    "            for kk in range(2):\n",
    "                M[jj,kk] = np.dot(A[jj,:], np.dot(p.invCov, A[kk,:]))\n",
    "        \n",
    "        # take inverse of M\n",
    "        Minv = np.linalg.inv(M)\n",
    "        fstat += 0.5 * np.dot(N, np.dot(Minv, N))\n",
    "\n",
    "    # return F-statistic\n",
    "    return fstat"
   ]
  },
  {
   "cell_type": "markdown",
   "metadata": {},
   "source": [
    "\n",
    "def feStat(psr, gwtheta, gwphi, f0):\n",
    "    \"\"\" \n",
    "    Computes the F-statistic as defined in Ellis, Siemens, Creighton (2012)   \n",
    "    :param psr: List of pulsar object instances\n",
    "    :param gwtheta: GW polar angle\n",
    "    :param gwphi: GW azimuthal angle\n",
    "    :param f0: Gravitational wave frequency\n",
    "    :return: Value of the Fe statistic evaluated at gwtheta, phi, f0\n",
    "    \"\"\"\n",
    "    \n",
    "    npsr = len(psr)\n",
    "    N = np.zeros(4)\n",
    "    M = np.zeros((4,4))\n",
    "    for ii, p in enumerate(psr):\n",
    "        fplus, fcross, cosMu = createAntennaPatternFuncs(p, gwtheta, gwphi)\n",
    "\n",
    "        # define A\n",
    "        A = np.zeros((4, len(p.toas)))\n",
    "        A[0,:] = fplus/f0**(1./3.) * np.sin(2*np.pi*f0*p.toas)\n",
    "        A[1,:] = fplus/f0**(1./3.) * np.cos(2*np.pi*f0*p.toas)\n",
    "        A[2,:] = fcross/f0**(1./3.) * np.sin(2*np.pi*f0*p.toas)\n",
    "        A[3,:] = fcross/f0**(1./3.) * np.cos(2*np.pi*f0*p.toas)\n",
    "\n",
    "\n",
    "        N += np.array([np.dot(A[0,:], np.dot(p.invCov, p.res)), \\\n",
    "                        np.dot(A[1,:], np.dot(p.invCov, p.res)), \\\n",
    "                        np.dot(A[2,:], np.dot(p.invCov, p.res)), \\\n",
    "                        np.dot(A[3,:], np.dot(p.invCov, p.res))]) \n",
    "\n",
    "        M += np.dot(A, np.dot(p.invCov, A.T))\n",
    "\n",
    "    # inverse of M\n",
    "    Minv = np.linalg.pinv(M)\n",
    "\n",
    "    # Fe-statistic\n",
    "    return 0.5 * np.dot(N, np.dot(Minv, N))"
   ]
  },
  {
   "cell_type": "code",
   "execution_count": 3,
   "metadata": {},
   "outputs": [],
   "source": [
    "datadir = enterprise.__path__[0] + '/datafiles/ng9/'\n",
    "#datadir = '~/Documents/Grad\\ School/Research/enterprise/enterprise/datafiles'\n",
    "parfiles = sorted(glob.glob(datadir + '/*.par'))\n",
    "timfiles = sorted(glob.glob(datadir + '/*.tim'))"
   ]
  },
  {
   "cell_type": "code",
   "execution_count": 4,
   "metadata": {},
   "outputs": [],
   "source": [
    "#Trial with a few pulsars\n",
    "parfile_J0030 = datadir + 'J0030+0451_NANOGrav_9yv1.gls.par'\n",
    "parfile_B1937 = datadir + 'B1937+21_NANOGrav_9yv1.gls.par'\n",
    "\n",
    "\n",
    "timfile_J0030 = datadir + 'J0030+0451_NANOGrav_9yv1.tim'\n",
    "timfile_B1937 = datadir + 'B1937+21_NANOGrav_9yv1.tim'\n",
    "\n",
    "noisefile_J0030 = datadir + 'J0030+0451_noise.txt'\n",
    "noisefile_B1937 = datadir + 'B1937+21_noise.txt'\n",
    "\n",
    "psr_J0030 = Pulsar(parfile_J0030,timfile_J0030)\n",
    "psr_B1937 = Pulsar(parfile_B1937,timfile_B1937)\n",
    "\n",
    "pulsars = [psr_J0030,psr_B1937]"
   ]
  },
  {
   "cell_type": "code",
   "execution_count": 164,
   "metadata": {},
   "outputs": [
    {
     "name": "stdout",
     "output_type": "stream",
     "text": [
      "WARNING: Could not find pulsar distance for PSR J0023+0923. Setting value to 1 with 20% uncertainty.\n",
      "WARNING: Could not find pulsar distance for PSR J0218+4232. Setting value to 1 with 20% uncertainty.\n",
      "WARNING: Could not find pulsar distance for PSR J0340+4130. Setting value to 1 with 20% uncertainty.\n",
      "WARNING: Could not find pulsar distance for PSR J0645+5158. Setting value to 1 with 20% uncertainty.\n",
      "WARNING: Could not find pulsar distance for PSR J0931-1902. Setting value to 1 with 20% uncertainty.\n",
      "WARNING: Could not find pulsar distance for PSR J1614-2230. Setting value to 1 with 20% uncertainty.\n",
      "WARNING: Could not find pulsar distance for PSR J1738+0333. Setting value to 1 with 20% uncertainty.\n",
      "WARNING: Could not find pulsar distance for PSR J1741+1351. Setting value to 1 with 20% uncertainty.\n",
      "WARNING: Could not find pulsar distance for PSR J1747-4036. Setting value to 1 with 20% uncertainty.\n",
      "WARNING: Could not find pulsar distance for PSR J1832-0836. Setting value to 1 with 20% uncertainty.\n",
      "WARNING: Could not find pulsar distance for PSR J1853+1303. Setting value to 1 with 20% uncertainty.\n",
      "WARNING: Could not find pulsar distance for PSR J1903+0327. Setting value to 1 with 20% uncertainty.\n",
      "WARNING: Could not find pulsar distance for PSR J1923+2515. Setting value to 1 with 20% uncertainty.\n",
      "WARNING: Could not find pulsar distance for PSR J1944+0907. Setting value to 1 with 20% uncertainty.\n",
      "WARNING: Could not find pulsar distance for PSR J1949+3106. Setting value to 1 with 20% uncertainty.\n",
      "WARNING: Could not find pulsar distance for PSR J2010-1323. Setting value to 1 with 20% uncertainty.\n",
      "WARNING: Could not find pulsar distance for PSR J2017+0603. Setting value to 1 with 20% uncertainty.\n",
      "WARNING: Could not find pulsar distance for PSR J2043+1711. Setting value to 1 with 20% uncertainty.\n",
      "WARNING: Could not find pulsar distance for PSR J2214+3000. Setting value to 1 with 20% uncertainty.\n",
      "WARNING: Could not find pulsar distance for PSR J2302+4442. Setting value to 1 with 20% uncertainty.\n"
     ]
    }
   ],
   "source": [
    "#All of the Pulsars!\n",
    "psrs = []\n",
    "for p, t in zip(parfiles, timfiles):\n",
    "    psr = Pulsar(p, t)\n",
    "    psrs.append(psr)"
   ]
  },
  {
   "cell_type": "code",
   "execution_count": 165,
   "metadata": {},
   "outputs": [],
   "source": [
    "##### parameters and priors #####\n",
    "\n",
    "# white noise parameters\n",
    "# since we are fixing these to values from the noise file we set\n",
    "# them as constant parameters\n",
    "efac = parameter.Normal(2.5,1.25)\n",
    "equad = parameter.Uniform(-10.0,-5.0)\n",
    "ecorr = parameter.Constant()\n",
    "\n",
    "'''\n",
    "# red noise parameters\n",
    "log10_A = parameter.LinearExp(-20,-12)\n",
    "gamma = parameter.Uniform(0,7)\n",
    "\n",
    "# GW parameters (initialize with names here to use parameters in common across pulsars)\n",
    "log10_A_gw = parameter.LinearExp(-18,-12)('log10_A_gw')\n",
    "gamma_gw = parameter.Constant(4.33)('gamma_gw')\n",
    "'''\n",
    "\n",
    "# timing model\n",
    "tm = gp_signals.TimingModel()\n",
    "\n",
    "##### Set up signals #####\n",
    "\n",
    "# white noise\n",
    "ef = white_signals.MeasurementNoise(efac=efac)\n",
    "eq = white_signals.EquadNoise(log10_equad=equad)\n",
    "#ec = white_signals.EcorrKernelNoise(log10_ecorr=ecorr, selection=selection)\n",
    "\n",
    "# full model is sum of components\n",
    "model = tm + ef# + eq\n",
    "\n",
    "# intialize PTA\n",
    "pta_test = signal_base.PTA([model(pulsar) for pulsar in pulsars])\n",
    "pta_full = signal_base.PTA([model(psr) for psr in psrs])"
   ]
  },
  {
   "cell_type": "code",
   "execution_count": 167,
   "metadata": {},
   "outputs": [],
   "source": [
    "#Look at parameters and put in dictionary definition\n",
    "xs = {par.name: par.sample() for par in pta_test.params}\n",
    "xs_full = {par.name: par.sample() for par in pta_full.params}"
   ]
  },
  {
   "cell_type": "code",
   "execution_count": 97,
   "metadata": {},
   "outputs": [
    {
     "name": "stdout",
     "output_type": "stream",
     "text": [
      "(2455, 69)\n",
      "(1, 2455)\n",
      "(2455, 69)\n"
     ]
    }
   ],
   "source": [
    "pta_one.get_TNr(pta_one.params)\n",
    "\n",
    "T = pta_one.get_basis(pta_one.params)\n",
    "Tt = np.transpose(T[0])\n",
    "Nvec = pta_one.get_ndiag(pta_one.params)\n",
    "N = np.diag(Nvec[0])\n",
    "\n",
    "print(np.shape(T[0]))\n",
    "print(np.shape(Nvec))\n",
    "TtN = np.dot(Tt,N)\n",
    "TtNt = np.transpose(TtN)\n",
    "print(np.shape(TtNt))"
   ]
  },
  {
   "cell_type": "code",
   "execution_count": 46,
   "metadata": {},
   "outputs": [
    {
     "name": "stdout",
     "output_type": "stream",
     "text": [
      "(118,)\n"
     ]
    }
   ],
   "source": [
    "params = xs if isinstance(xs,dict) else pta_test.map_params(xs)\n",
    "\n",
    "# phiinvs will be a list or may be a big matrix if spatially\n",
    "# correlated signals\n",
    "TNrs = pta_test.get_TNr(params)\n",
    "TNTs = pta_test.get_TNT(params)\n",
    "phiinvs = pta_test.get_phiinv(params, logdet=True, method='partition')\n",
    "Nvec = pta_test.get_ndiag(params)\n",
    "T = pta_test.get_basis(params)\n",
    "\n",
    "fstat = 0.0\n",
    "f0 = 7e-8\n",
    "\n",
    "# red noise piece\n",
    "if pta_test._commonsignals:\n",
    "    phiinv, logdet_phi = phiinvs\n",
    "    Sigma = pta_test._make_sigma(TNTs, phiinv)\n",
    "    TNr = np.concatenate(TNrs)\n",
    "    \n",
    "    cf = signal_base.cholesky(Sigma)\n",
    "    Sr = cf(Tnr)\n",
    "else:\n",
    "    #takes individual block matrices (ie TNT) and factorizes their sigmas instead of using sparse cholesky like above\n",
    "    for TNr, TNT, (phiinv, logdet_phi),p in zip(TNrs,TNTs,phiinvs,pulsars):\n",
    "        Sigma = TNT + (np.diag(phiinv) if phiinv.ndim == 1 else phiinv)\n",
    "        cf = sl.cho_factor(Sigma)\n",
    "        #fstat += Fstat(cf,Tnr,p,f0)"
   ]
  },
  {
   "cell_type": "code",
   "execution_count": null,
   "metadata": {},
   "outputs": [],
   "source": []
  },
  {
   "cell_type": "code",
   "execution_count": 159,
   "metadata": {},
   "outputs": [],
   "source": [
    "def AndrewFpstat(pta,psrs,f0):\n",
    "    '''Takes in the full pta, the pulsars that make up the pta \n",
    "    (Should make this a function in ptas to use self instead of pta?),\n",
    "    and the orbital frequency of the gravitational wave (usually the search parameter).\n",
    "    Returns the Fp statistic\n",
    "    '''\n",
    "    params = pta.params #come up with a more clever way of doing this\n",
    "    # phiinvs will be a list or may be a big matrix if spatially\n",
    "    # correlated signals\n",
    "    TNrs = pta.get_TNr(params)\n",
    "    TNTs = pta.get_TNT(params)\n",
    "    phiinvs = pta.get_phiinv(params, logdet=True, method='partition')\n",
    "    #Get noise parameters for pta (1/toaerr**2)\n",
    "    Nvec = pta.get_ndiag(params)\n",
    "    T = pta.get_basis(params)\n",
    "    Nmat = []\n",
    "\n",
    "    fstat = 0.0\n",
    "\n",
    "    for ii,p in enumerate(psrs):\n",
    "        Sigma = TNTs[ii] + (np.diag(phiinvs[ii]) if phiinv[ii].ndim == 1 else phiinv[ii])\n",
    "        cf = sl.cho_factor(Sigma)      \n",
    "        #Put pulsar's autoerrors in a diagonal matrix\n",
    "        Ndiag = np.diag(Nvec[ii])\n",
    "        Tt = np.transpose(T[ii])\n",
    "        TtN = np.dot(Tt,Ndiag)\n",
    "        expval2 = sl.cho_solve(cf,TtN)\n",
    "        TtNt = np.transpose(TtN)\n",
    "        \n",
    "        #An Ntoa by Ntoa noise matrix to be used in expand dense matrix calculations earlier\n",
    "        Nmat.append(Ndiag - np.dot(TtNt,expval2))\n",
    "        \n",
    "        # define N vectors from Ellis et al, 2012 N_i=(x|A_i) for each pulsar\n",
    "        N = np.zeros(2)\n",
    "        # define M matrix M_ij=(A_i|A_j)\n",
    "        M = np.zeros((2, 2))\n",
    "\n",
    "        # Define A vector\n",
    "        A = np.zeros((2, len(p.toas)))\n",
    "        A[0,:] = f0**(-1./3.) * np.sin(2*f0*p.toas)\n",
    "        A[1,:] = f0**(-1./3.) * np.cos(2*f0*p.toas)\n",
    "    \n",
    "        # define N vectors from Ellis et al, 2012 N_i=(r|A_i) for each pulsar\n",
    "        N = np.array([np.dot(A[0,:], np.dot(Nmat[ii],p.residuals)), \\\n",
    "                      np.dot(A[1,:], np.dot(Nmat[ii],p.residuals))]) \n",
    "        \n",
    "        # define M matrix M_ij=(A_i|A_j)\n",
    "        for jj in range(2):\n",
    "            for kk in range(2):\n",
    "                M[jj,kk] = np.dot(A[jj,:], np.dot(Nmat[ii], A[kk,:]))\n",
    "        \n",
    "        # take inverse of M\n",
    "        Minv = sl.pinv(M)\n",
    "        fstat += 0.5 * np.dot(N, np.dot(Minv, N))\n",
    "        \n",
    "    return fstat"
   ]
  },
  {
   "cell_type": "code",
   "execution_count": 170,
   "metadata": {
    "scrolled": true
   },
   "outputs": [
    {
     "name": "stdout",
     "output_type": "stream",
     "text": [
      "3.066765947081277e-18\n"
     ]
    }
   ],
   "source": [
    "print(AndrewFpstat(pta_full,psrs,f0))"
   ]
  },
  {
   "cell_type": "code",
   "execution_count": null,
   "metadata": {},
   "outputs": [],
   "source": []
  }
 ],
 "metadata": {
  "kernelspec": {
   "display_name": "Python 3",
   "language": "python",
   "name": "python3"
  },
  "language_info": {
   "codemirror_mode": {
    "name": "ipython",
    "version": 3
   },
   "file_extension": ".py",
   "mimetype": "text/x-python",
   "name": "python",
   "nbconvert_exporter": "python",
   "pygments_lexer": "ipython3",
   "version": "3.6.6"
  }
 },
 "nbformat": 4,
 "nbformat_minor": 2
}
