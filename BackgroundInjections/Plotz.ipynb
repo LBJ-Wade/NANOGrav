{
 "cells": [
  {
   "cell_type": "code",
   "execution_count": 1,
   "metadata": {},
   "outputs": [],
   "source": [
    "%load_ext autoreload\n",
    "%autoreload 2"
   ]
  },
  {
   "cell_type": "code",
   "execution_count": 10,
   "metadata": {},
   "outputs": [],
   "source": [
    "import matplotlib.pyplot as plt\n",
    "import corner, os, glob, json\n",
    "import numpy as np\n",
    "%matplotlib inline"
   ]
  },
  {
   "cell_type": "markdown",
   "metadata": {},
   "source": [
    "# Directories"
   ]
  },
  {
   "cell_type": "code",
   "execution_count": 11,
   "metadata": {},
   "outputs": [],
   "source": [
    "#Reference directory\n",
    "topdir = os.getcwd()"
   ]
  },
  {
   "cell_type": "code",
   "execution_count": 14,
   "metadata": {},
   "outputs": [],
   "source": [
    "datadir = topdir + '/SimRuns'\n",
    "\n",
    "#Two GWB powerlaws\n",
    "run_1_dir = datadir + '/simGWB_1'"
   ]
  },
  {
   "cell_type": "markdown",
   "metadata": {},
   "source": [
    "# Load Chains"
   ]
  },
  {
   "cell_type": "code",
   "execution_count": 15,
   "metadata": {},
   "outputs": [],
   "source": [
    "#Load chains for run 1\n",
    "chain_run_1 = np.loadtxt(run_1_dir + '/chain_1.txt')\n",
    "burn_run_1 = int(0.25 * chain_run_1.shape[0])"
   ]
  },
  {
   "cell_type": "markdown",
   "metadata": {},
   "source": [
    "# Load Parameter Files"
   ]
  },
  {
   "cell_type": "code",
   "execution_count": 18,
   "metadata": {},
   "outputs": [],
   "source": [
    "#Load param files to iterate through pulsars in pta\n",
    "with open(run_1_dir + '/parameters.json') as pf:\n",
    "    param_dict_run_1 = json.load(pf)\n",
    "    pf.close()"
   ]
  },
  {
   "cell_type": "code",
   "execution_count": 27,
   "metadata": {},
   "outputs": [
    {
     "name": "stdout",
     "output_type": "stream",
     "text": [
      "zlog10_A_gw_2\n",
      "138\n"
     ]
    }
   ],
   "source": [
    "print(param_dict_run_1[len(param_dict_run_1)-1])\n",
    "print(len(param_dict_run_1))"
   ]
  },
  {
   "cell_type": "markdown",
   "metadata": {},
   "source": [
    "# Plot Histograms"
   ]
  },
  {
   "cell_type": "code",
   "execution_count": 52,
   "metadata": {},
   "outputs": [],
   "source": [
    "#display all histograms for particular parameter (ie. red_noise_log10_A)\n",
    "def draw_histograms(data, labels, indices):\n",
    "    #Takes in data (chain, already burned), labels (parameters), and indices of parameters we want to look at\n",
    "    n_cols = 2\n",
    "    n_rows = int(len(indices)/n_cols)\n",
    "    n_bins = 30\n",
    "    fig,axarr =plt.subplots(nrows=n_rows,ncols=n_cols,figsize=(10,5))\n",
    "    ii = 0\n",
    "    if n_rows == 1:\n",
    "        for j in range(n_cols):\n",
    "            print(indices[ii])\n",
    "            print(labels[indices[ii]])\n",
    "            axarr[j].hist(data[:,indices[ii]],bins=n_bins, density=True,histtype = 'step')\n",
    "            axarr[j].set_xlabel(labels[indices[ii]])\n",
    "            ii += 1\n",
    "    else:    \n",
    "        for i in range(n_rows):\n",
    "            for j in range(n_cols):\n",
    "                axarr[i][j].hist(data[:,indices[ii]],bins=n_bins, density=True,histtype = 'step')\n",
    "                axarr[i][j].set_xlabel(labels[ii])\n",
    "                ii += 1\n",
    "    fig.tight_layout()\n",
    "    plt.show()"
   ]
  },
  {
   "cell_type": "code",
   "execution_count": 53,
   "metadata": {},
   "outputs": [
    {
     "name": "stdout",
     "output_type": "stream",
     "text": [
      "zlog10_A_gw_1\n"
     ]
    }
   ],
   "source": [
    "indices = [len(param_dict_run_1)-2, len(param_dict_run_1)-1]\n",
    "print(param_dict_run_1[indices[0]])"
   ]
  },
  {
   "cell_type": "code",
   "execution_count": 54,
   "metadata": {},
   "outputs": [
    {
     "name": "stdout",
     "output_type": "stream",
     "text": [
      "136\n",
      "zlog10_A_gw_1\n",
      "137\n",
      "zlog10_A_gw_2\n"
     ]
    },
    {
     "data": {
      "image/png": "[encoded data removed]",
      "text/plain": [
       "<Figure size 720x360 with 2 Axes>"
      ]
     },
     "metadata": {
      "needs_background": "light"
     },
     "output_type": "display_data"
    }
   ],
   "source": [
    "draw_histograms(chain_run_1[burn_run_1:],param_dict_run_1,indices)"
   ]
  },
  {
   "cell_type": "markdown",
   "metadata": {},
   "source": [
    "# Trace Plots"
   ]
  },
  {
   "cell_type": "code",
   "execution_count": 62,
   "metadata": {},
   "outputs": [],
   "source": [
    "#display all histograms for particular parameter (ie. red_noise_log10_A)\n",
    "def draw_trace(data, labels, indices):\n",
    "    #Takes in data (chain, already burned), labels (parameters), and indices of parameters we want to look at\n",
    "    n_cols = 2\n",
    "    n_rows = int(len(indices)/n_cols)\n",
    "    n_bins = 30\n",
    "    fig,axarr =plt.subplots(nrows=n_rows,ncols=n_cols,figsize=(10,5))\n",
    "    ii = 0\n",
    "    if n_rows == 1:\n",
    "        for j in range(n_cols):\n",
    "            axarr[j].plot(data[:,indices[ii]])\n",
    "            axarr[j].set_ylabel(labels[indices[ii]])\n",
    "            ii += 1\n",
    "    else:    \n",
    "        for i in range(n_rows):\n",
    "            for j in range(n_cols):\n",
    "                axarr[i][j].hist(data[:,indices[ii]],bins=n_bins, density=True,histtype = 'step')\n",
    "                axarr[i][j].set_ylabel(labels[ii])\n",
    "                ii += 1\n",
    "    fig.tight_layout()\n",
    "    plt.show()"
   ]
  },
  {
   "cell_type": "code",
   "execution_count": 61,
   "metadata": {},
   "outputs": [
    {
     "data": {
      "image/png": "[encoded data removed]",
      "text/plain": [
       "<Figure size 720x360 with 2 Axes>"
      ]
     },
     "metadata": {
      "needs_background": "light"
     },
     "output_type": "display_data"
    }
   ],
   "source": [
    "draw_trace(chain_run_1,param_dict_run_1,indices)"
   ]
  },
  {
   "cell_type": "code",
   "execution_count": 58,
   "metadata": {},
   "outputs": [
    {
     "name": "stdout",
     "output_type": "stream",
     "text": [
      "-14.823908740944319\n",
      "-14.045757490560675\n"
     ]
    }
   ],
   "source": [
    "print(np.log10(1.5e-15))\n",
    "print(np.log10(9.0e-15))"
   ]
  },
  {
   "cell_type": "code",
   "execution_count": null,
   "metadata": {},
   "outputs": [],
   "source": []
  }
 ],
 "metadata": {
  "kernelspec": {
   "display_name": "Python 3",
   "language": "python",
   "name": "python3"
  },
  "language_info": {
   "codemirror_mode": {
    "name": "ipython",
    "version": 3
   },
   "file_extension": ".py",
   "mimetype": "text/x-python",
   "name": "python",
   "nbconvert_exporter": "python",
   "pygments_lexer": "ipython3",
   "version": "3.6.6"
  }
 },
 "nbformat": 4,
 "nbformat_minor": 2
}
