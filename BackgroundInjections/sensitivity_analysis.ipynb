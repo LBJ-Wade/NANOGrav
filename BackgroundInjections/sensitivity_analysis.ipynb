{
 "cells": [
  {
   "cell_type": "code",
   "execution_count": 1,
   "metadata": {},
   "outputs": [],
   "source": [
    "import numpy as np\n",
    "import os,sys,glob,json,pickle\n",
    "import matplotlib.pyplot as plt\n",
    "from matplotlib import cm\n",
    "from matplotlib import rc\n",
    "\n",
    "import healpy as hp\n",
    "\n",
    "import astropy.constants as const\n",
    "import astropy.units as u\n",
    "from astropy.cosmology import WMAP9 as cosmo\n",
    "from astropy.coordinates import SkyCoord\n",
    "\n",
    "import hasasia.sensitivity as hassen\n",
    "import hasasia.sim as hassim\n",
    "import hasasia.skymap as hassky\n",
    "\n",
    "from enterprise.pulsar import Pulsar as ePulsar"
   ]
  },
  {
   "cell_type": "code",
   "execution_count": 2,
   "metadata": {},
   "outputs": [],
   "source": [
    "rc('text',usetex=False)\n",
    "rc('font',**{'family':'serif','serif':['Times New Roman'],'size':14})#,'weight':'bold'})"
   ]
  },
  {
   "cell_type": "code",
   "execution_count": 3,
   "metadata": {},
   "outputs": [],
   "source": [
    "current_path = os.getcwd()\n",
    "splt_path = current_path.split(\"/\")\n",
    "top_path_idx = splt_path.index('nanograv')\n",
    "top_dir = \"/\".join(splt_path[0:top_path_idx+1])\n",
    "\n",
    "pta_sim_dir = top_dir + '/pta_sim/pta_sim/'\n",
    "sys.path.insert(0,pta_sim_dir)\n",
    "import noise"
   ]
  },
  {
   "cell_type": "code",
   "execution_count": 4,
   "metadata": {},
   "outputs": [
    {
     "name": "stdout",
     "output_type": "stream",
     "text": [
      "33\n"
     ]
    }
   ],
   "source": [
    "psrs_mdc2_dir = top_dir + '/NANOGrav/MDC2/mdc2/group1/dataset_1a/'\n",
    "noise_mdc2_file =  top_dir + '/NANOGrav/MDC2/mdc2/group1/group1_psr_noise.json'\n",
    "\n",
    "pars_mdc2 = sorted(glob.glob(psrs_mdc2_dir+'*.par'))\n",
    "tims_mdc2 = sorted(glob.glob(psrs_mdc2_dir+'*.tim'))\n",
    "noise_mdc2 = noise.load_noise_files(noisepath=noise_mdc2_file)\n",
    "print(len(pars_mdc2))"
   ]
  },
  {
   "cell_type": "code",
   "execution_count": 5,
   "metadata": {},
   "outputs": [
    {
     "name": "stdout",
     "output_type": "stream",
     "text": [
      "45\n"
     ]
    }
   ],
   "source": [
    "psrs_11yr_dir = top_dir + '/NANOGrav/BackgroundInjections/nano11/partim_new/'\n",
    "noise_11yr_dir = top_dir + '/NANOGrav/BackgroundInjections/nano11/noisefiles_new/'\n",
    "\n",
    "pars_11yr = sorted(glob.glob(psrs_11yr_dir+'*.par'))\n",
    "tims_11yr = sorted(glob.glob(psrs_11yr_dir+'*.tim'))\n",
    "noise_11yr = sorted(glob.glob(noise_11yr_dir+'*.txt'))\n",
    "print(len(pars_11yr))"
   ]
  },
  {
   "cell_type": "code",
   "execution_count": 6,
   "metadata": {},
   "outputs": [
    {
     "name": "stdout",
     "output_type": "stream",
     "text": [
      "34\n"
     ]
    }
   ],
   "source": [
    "psrlist_11yr_file = top_dir + '/NANOGrav/BackgroundInjections/nano11/psrlist_Tg3yr.txt'\n",
    "encoding = 'utf-8'\n",
    "psr_list_bytes = np.loadtxt(psrlist_11yr_file,dtype='S42')\n",
    "psr_list = []\n",
    "for psr in psr_list_bytes:\n",
    "    psr_list.append(psr.decode(encoding))\n",
    "print(len(psr_list))"
   ]
  },
  {
   "cell_type": "code",
   "execution_count": 7,
   "metadata": {},
   "outputs": [
    {
     "name": "stdout",
     "output_type": "stream",
     "text": [
      "36\n"
     ]
    }
   ],
   "source": [
    "psrs_wn_only_dir = top_dir + '/NANOGrav/BackgroundInjections/FakePTA/'\n",
    "pars_wn_only = sorted(glob.glob(psrs_wn_only_dir+'*.par'))\n",
    "tims_wn_only = sorted(glob.glob(psrs_wn_only_dir+'*.tim'))\n",
    "print(len(pars_wn_only))"
   ]
  },
  {
   "cell_type": "code",
   "execution_count": 8,
   "metadata": {},
   "outputs": [],
   "source": [
    "def get_psrname(file,name_sep='_'):\n",
    "    return file.split('/')[-1].split(name_sep)[0]"
   ]
  },
  {
   "cell_type": "code",
   "execution_count": 9,
   "metadata": {},
   "outputs": [
    {
     "data": {
      "text/plain": [
       "(34, 34, 34)"
      ]
     },
     "execution_count": 9,
     "metadata": {},
     "output_type": "execute_result"
    }
   ],
   "source": [
    "pars_11yr = [f for f in pars_11yr if get_psrname(f,name_sep='_') in psr_list]\n",
    "tims_11yr = [f for f in tims_11yr if get_psrname(f,name_sep='_') in psr_list]\n",
    "noise_11yr = [f for f in noise_11yr if get_psrname(f,name_sep='_') in psr_list]\n",
    "len(pars_11yr), len(tims_11yr), len(noise_11yr)"
   ]
  },
  {
   "cell_type": "code",
   "execution_count": 10,
   "metadata": {},
   "outputs": [
    {
     "data": {
      "text/plain": [
       "(17, 17, 33)"
      ]
     },
     "execution_count": 10,
     "metadata": {},
     "output_type": "execute_result"
    }
   ],
   "source": [
    "pars_mdc2 = [f for f in pars_mdc2 if get_psrname(f,name_sep='.') in psr_list]\n",
    "tims_mdc2 = [f for f in tims_mdc2 if get_psrname(f,name_sep='.') in psr_list]\n",
    "noise_mdc2_11yr_psrs = {}\n",
    "[noise_mdc2_11yr_psrs.update({f: noise_mdc2[f]}) for f in noise_mdc2.keys() if get_psrname(f,name_sep='_') in psr_list]\n",
    "len(pars_mdc2), len(tims_mdc2), len(noise_mdc2)"
   ]
  },
  {
   "cell_type": "code",
   "execution_count": 11,
   "metadata": {},
   "outputs": [],
   "source": [
    "#Get the pickled pulsars\n",
    "injection_psr_file = top_dir + '/NANOGrav/BackgroundInjections' + \\\n",
    "    '/SimInject5/SimRuns/simGWB_1/enterprise_pickled_psrs.pickle'\n",
    "with open(injection_psr_file, \"rb\") as f:\n",
    "        ePsrs_injection = pickle.load(f)"
   ]
  },
  {
   "cell_type": "code",
   "execution_count": 13,
   "metadata": {},
   "outputs": [],
   "source": [
    "#Get the pickled pulsars\n",
    "injection_psr_file_cut = top_dir + '/NANOGrav/BackgroundInjections' + \\\n",
    "    '/SimInject5/SimRuns/simGWB_2/enterprise_pickled_psrs.pickle'\n",
    "with open(injection_psr_file_cut, \"rb\") as f:\n",
    "        ePsrs_injection_cut = pickle.load(f)"
   ]
  },
  {
   "cell_type": "code",
   "execution_count": 14,
   "metadata": {},
   "outputs": [],
   "source": [
    "def get_epsrs_from_par_tim(pars,tims):\n",
    "    ePsrs = []\n",
    "    for par,tim in zip(pars,tims):\n",
    "        ePsr = ePulsar(par, tim,  ephem='DE436')\n",
    "        ePsrs.append(ePsr)\n",
    "        print('\\rPSR {0} complete'.format(ePsr.name),end='',flush=True)\n",
    "    return ePsrs"
   ]
  },
  {
   "cell_type": "code",
   "execution_count": 15,
   "metadata": {
    "scrolled": true
   },
   "outputs": [
    {
     "name": "stdout",
     "output_type": "stream",
     "text": [
      "PSR B1953+29 complete"
     ]
    },
    {
     "name": "stderr",
     "output_type": "stream",
     "text": [
      "WARNING: enterprise.pulsar: WARNING: Could not find pulsar distance for PSR J0023+0923. Setting value to 1 with 20% uncertainty.\n"
     ]
    },
    {
     "name": "stdout",
     "output_type": "stream",
     "text": [
      "PSR J0030+0451 complete"
     ]
    },
    {
     "name": "stderr",
     "output_type": "stream",
     "text": [
      "WARNING: enterprise.pulsar: WARNING: Could not find pulsar distance for PSR J0340+4130. Setting value to 1 with 20% uncertainty.\n"
     ]
    },
    {
     "name": "stdout",
     "output_type": "stream",
     "text": [
      "PSR J0613-0200 complete"
     ]
    },
    {
     "name": "stderr",
     "output_type": "stream",
     "text": [
      "WARNING: enterprise.pulsar: WARNING: Could not find pulsar distance for PSR J0645+5158. Setting value to 1 with 20% uncertainty.\n"
     ]
    },
    {
     "name": "stdout",
     "output_type": "stream",
     "text": [
      "PSR J1600-3053 complete"
     ]
    },
    {
     "name": "stderr",
     "output_type": "stream",
     "text": [
      "WARNING: enterprise.pulsar: WARNING: Could not find pulsar distance for PSR J1614-2230. Setting value to 1 with 20% uncertainty.\n"
     ]
    },
    {
     "name": "stdout",
     "output_type": "stream",
     "text": [
      "PSR J1713+0747 complete"
     ]
    },
    {
     "name": "stderr",
     "output_type": "stream",
     "text": [
      "WARNING: enterprise.pulsar: WARNING: Could not find pulsar distance for PSR J1738+0333. Setting value to 1 with 20% uncertainty.\n"
     ]
    },
    {
     "name": "stdout",
     "output_type": "stream",
     "text": [
      "\r",
      "PSR J1738+0333 complete"
     ]
    },
    {
     "name": "stderr",
     "output_type": "stream",
     "text": [
      "WARNING: enterprise.pulsar: WARNING: Could not find pulsar distance for PSR J1741+1351. Setting value to 1 with 20% uncertainty.\n"
     ]
    },
    {
     "name": "stdout",
     "output_type": "stream",
     "text": [
      "PSR J1744-1134 complete"
     ]
    },
    {
     "name": "stderr",
     "output_type": "stream",
     "text": [
      "WARNING: enterprise.pulsar: WARNING: Could not find pulsar distance for PSR J1747-4036. Setting value to 1 with 20% uncertainty.\n"
     ]
    },
    {
     "name": "stdout",
     "output_type": "stream",
     "text": [
      "\r",
      "PSR J1747-4036 complete"
     ]
    },
    {
     "name": "stderr",
     "output_type": "stream",
     "text": [
      "WARNING: enterprise.pulsar: WARNING: Could not find pulsar distance for PSR J1853+1303. Setting value to 1 with 20% uncertainty.\n"
     ]
    },
    {
     "name": "stdout",
     "output_type": "stream",
     "text": [
      "\r",
      "PSR J1853+1303 complete"
     ]
    },
    {
     "name": "stderr",
     "output_type": "stream",
     "text": [
      "WARNING: enterprise.pulsar: WARNING: Could not find pulsar distance for PSR J1903+0327. Setting value to 1 with 20% uncertainty.\n"
     ]
    },
    {
     "name": "stdout",
     "output_type": "stream",
     "text": [
      "PSR J1918-0642 complete"
     ]
    },
    {
     "name": "stderr",
     "output_type": "stream",
     "text": [
      "WARNING: enterprise.pulsar: WARNING: Could not find pulsar distance for PSR J1923+2515. Setting value to 1 with 20% uncertainty.\n"
     ]
    },
    {
     "name": "stdout",
     "output_type": "stream",
     "text": [
      "\r",
      "PSR J1923+2515 complete"
     ]
    },
    {
     "name": "stderr",
     "output_type": "stream",
     "text": [
      "WARNING: enterprise.pulsar: WARNING: Could not find pulsar distance for PSR J1944+0907. Setting value to 1 with 20% uncertainty.\n"
     ]
    },
    {
     "name": "stdout",
     "output_type": "stream",
     "text": [
      "\r",
      "PSR J1944+0907 complete"
     ]
    },
    {
     "name": "stderr",
     "output_type": "stream",
     "text": [
      "WARNING: enterprise.pulsar: WARNING: Could not find pulsar distance for PSR J2010-1323. Setting value to 1 with 20% uncertainty.\n"
     ]
    },
    {
     "name": "stdout",
     "output_type": "stream",
     "text": [
      "\r",
      "PSR J2010-1323 complete"
     ]
    },
    {
     "name": "stderr",
     "output_type": "stream",
     "text": [
      "WARNING: enterprise.pulsar: WARNING: Could not find pulsar distance for PSR J2017+0603. Setting value to 1 with 20% uncertainty.\n"
     ]
    },
    {
     "name": "stdout",
     "output_type": "stream",
     "text": [
      "\r",
      "PSR J2017+0603 complete"
     ]
    },
    {
     "name": "stderr",
     "output_type": "stream",
     "text": [
      "WARNING: enterprise.pulsar: WARNING: Could not find pulsar distance for PSR J2043+1711. Setting value to 1 with 20% uncertainty.\n"
     ]
    },
    {
     "name": "stdout",
     "output_type": "stream",
     "text": [
      "PSR J2145-0750 complete"
     ]
    },
    {
     "name": "stderr",
     "output_type": "stream",
     "text": [
      "WARNING: enterprise.pulsar: WARNING: Could not find pulsar distance for PSR J2214+3000. Setting value to 1 with 20% uncertainty.\n"
     ]
    },
    {
     "name": "stdout",
     "output_type": "stream",
     "text": [
      "\r",
      "PSR J2214+3000 complete"
     ]
    },
    {
     "name": "stderr",
     "output_type": "stream",
     "text": [
      "WARNING: enterprise.pulsar: WARNING: Could not find pulsar distance for PSR J2302+4442. Setting value to 1 with 20% uncertainty.\n"
     ]
    },
    {
     "name": "stdout",
     "output_type": "stream",
     "text": [
      "PSR J2317+1439 complete"
     ]
    }
   ],
   "source": [
    "ePsrs_11yr = get_epsrs_from_par_tim(pars_11yr,tims_11yr)"
   ]
  },
  {
   "cell_type": "code",
   "execution_count": 16,
   "metadata": {
    "scrolled": true
   },
   "outputs": [
    {
     "name": "stdout",
     "output_type": "stream",
     "text": [
      "PSR J1600-3053 complete"
     ]
    },
    {
     "name": "stderr",
     "output_type": "stream",
     "text": [
      "WARNING: enterprise.pulsar: WARNING: Could not find pulsar distance for PSR J1614-2230. Setting value to 1 with 20% uncertainty.\n"
     ]
    },
    {
     "name": "stdout",
     "output_type": "stream",
     "text": [
      "PSR J1918-0642 complete"
     ]
    },
    {
     "name": "stderr",
     "output_type": "stream",
     "text": [
      "WARNING: enterprise.pulsar: WARNING: Could not find pulsar distance for PSR J1944+0907. Setting value to 1 with 20% uncertainty.\n"
     ]
    },
    {
     "name": "stdout",
     "output_type": "stream",
     "text": [
      "\r",
      "PSR J1944+0907 complete"
     ]
    },
    {
     "name": "stderr",
     "output_type": "stream",
     "text": [
      "WARNING: enterprise.pulsar: WARNING: Could not find pulsar distance for PSR J2010-1323. Setting value to 1 with 20% uncertainty.\n"
     ]
    },
    {
     "name": "stdout",
     "output_type": "stream",
     "text": [
      "PSR J2317+1439 complete"
     ]
    }
   ],
   "source": [
    "ePsrs_mdc2 = get_epsrs_from_par_tim(pars_mdc2,tims_mdc2)"
   ]
  },
  {
   "cell_type": "code",
   "execution_count": 25,
   "metadata": {
    "scrolled": true
   },
   "outputs": [
    {
     "name": "stdout",
     "output_type": "stream",
     "text": [
      "11.421371253218902 14.948695952444169 14.948697004605178 14.948696228263284\n"
     ]
    }
   ],
   "source": [
    "Tspan_11yr = hassen.get_Tspan(ePsrs_11yr)\n",
    "Tspan_mdc2 = hassen.get_Tspan(ePsrs_mdc2)\n",
    "Tspan_injection = hassen.get_Tspan(ePsrs_injection)\n",
    "Tspan_injection_cut = hassen.get_Tspan(ePsrs_injection_cut)\n",
    "print(Tspan_11yr/u.yr.to('s'),Tspan_mdc2/u.yr.to('s'),Tspan_injection/u.yr.to('s'),Tspan_injection_cut/u.yr.to('s'))"
   ]
  },
  {
   "cell_type": "code",
   "execution_count": 18,
   "metadata": {},
   "outputs": [],
   "source": [
    "#Get Noise Values\n",
    "noiseparams_mdc2 = noise.handle_noise_parameters(noise_mdc2_11yr_psrs)"
   ]
  },
  {
   "cell_type": "code",
   "execution_count": 19,
   "metadata": {},
   "outputs": [],
   "source": [
    "noiseparams_injection = noise.handle_noise_parameters(noise_mdc2)"
   ]
  },
  {
   "cell_type": "code",
   "execution_count": 21,
   "metadata": {},
   "outputs": [],
   "source": [
    "noiseparams_11yr = {}\n",
    "for nf in noise_11yr:\n",
    "    noiseparams_11yr.update(noise.get_noise_from_file(nf))"
   ]
  },
  {
   "cell_type": "code",
   "execution_count": 26,
   "metadata": {},
   "outputs": [],
   "source": [
    "fyr = 1/(365.25*24*3600)\n",
    "freqs_11yr = np.logspace(np.log10(1/(5*Tspan_11yr)),np.log10(2e-7),600)\n",
    "freqs_mdc2 = np.logspace(np.log10(1/(5*Tspan_mdc2)),np.log10(2e-7),600)\n",
    "freqs_injection = np.logspace(np.log10(1/(5*Tspan_injection)),np.log10(2e-7),600)\n",
    "freqs_injection = np.logspace(np.log10(1/(5*Tspan_injection_cut)),np.log10(2e-7),600)"
   ]
  },
  {
   "cell_type": "code",
   "execution_count": 27,
   "metadata": {},
   "outputs": [],
   "source": [
    "def make_corr(psr,noisedict=None):\n",
    "    N = psr.toaerrs.size\n",
    "    corr = np.zeros((N,N))\n",
    "    _, _, U = hassen.quantize_fast(psr.toas,psr.toaerrs,dt=1)\n",
    "    u = np.matmul(U,U.T)\n",
    "    sigma_sqr = np.zeros(N)\n",
    "    ecorrs = np.zeros(N)\n",
    "    if noisedict != None:\n",
    "        keys = [ky for ky in noisedict.keys() if psr.name in ky]\n",
    "        if 'f' in psr.flags.keys():\n",
    "            backends = np.unique(psr.flags['f'])\n",
    "            for be in backends:\n",
    "                mask = np.where(psr.flags['f']==be)\n",
    "                key_ec = '{0}_{1}_log10_{2}'.format(psr.name,be,'ecorr')\n",
    "                ecorrs[mask] = np.ones_like(mask) * (10**noisedict[key_ec])**2\n",
    "                key_ef = '{0}_{1}_{2}'.format(psr.name,be,'efac')\n",
    "                key_eq = '{0}_{1}_log10_{2}'.format(psr.name,be,'equad')\n",
    "                sigma_sqr[mask] = (noisedict[key_ef]**2 * (psr.toaerrs[mask]**2)\n",
    "                                   + (10**noisedict[key_eq])**2)\n",
    "        else:\n",
    "            key_ef = '{0}_{1}'.format(psr.name,'efac')\n",
    "            key_eq = '{0}_log10_{1}'.format(psr.name,'equad')\n",
    "            sigma_sqr = (noisedict[key_ef]**2 * (psr.toaerrs**2)\n",
    "                               + (10**noisedict[key_eq])**2)\n",
    "    \n",
    "    corr = np.diag(sigma_sqr) + np.diag(u*ecorrs**2)\n",
    "    return corr"
   ]
  },
  {
   "cell_type": "code",
   "execution_count": 28,
   "metadata": {},
   "outputs": [],
   "source": [
    "def get_hasasia_psr_from_epsrs(ePsrs,freqs,noisedict=None,thin=0,rn_psrs=None):\n",
    "    psrs = []\n",
    "    for ePsr in ePsrs:\n",
    "        plaw = hassen.red_noise_powerlaw(A=9e-16, gamma=13/3., freqs=freqs)\n",
    "        if rn_psrs != None:\n",
    "            if ePsr.name in rn_psrs.keys():\n",
    "                Amp, gam = rn_psrs[ePsr.name]\n",
    "                plaw += hassen.red_noise_powerlaw(A=Amp, gamma=gam, freqs=freqs)\n",
    "                \n",
    "        if thin == 0:\n",
    "            corr = make_corr(ePsr,noisedict=noisedict)\n",
    "            corr += hassen.corr_from_psd(freqs=freqs, psd=plaw,\n",
    "                                       toas=ePsr.toas)\n",
    "            psr = hassen.Pulsar(toas=ePsr.toas,\n",
    "                              toaerrs=ePsr.toaerrs,\n",
    "                              phi=ePsr.phi,theta=ePsr.theta,\n",
    "                              N=corr, designmatrix=ePsr.Mmat)\n",
    "        else:\n",
    "            corr = make_corr(ePsr,noisedict=noisedict)[::thin,::thin]\n",
    "            corr += hassen.corr_from_psd(freqs=freqs, psd=plaw,\n",
    "                                       toas=ePsr.toas[::thin])\n",
    "            psr = hassen.Pulsar(toas=ePsr.toas[::thin],\n",
    "                              toaerrs=ePsr.toaerrs[::thin],\n",
    "                              phi=ePsr.phi,theta=ePsr.theta,\n",
    "                              N=corr, designmatrix=ePsr.Mmat[::thin,:])\n",
    "            \n",
    "        psr.name = ePsr.name\n",
    "        psrs.append(psr)\n",
    "        del ePsr\n",
    "        print('\\rPSR {0} complete'.format(psr.name),end='',flush=True)\n",
    "    return psrs"
   ]
  },
  {
   "cell_type": "markdown",
   "metadata": {},
   "source": [
    "psrs_11yr = get_hasasia_psr_from_epsrs(ePsrs_11yr,freqs_11yr,\\\n",
    "                                       noisedict=noiseparams_11yr,thin=10)"
   ]
  },
  {
   "cell_type": "code",
   "execution_count": 29,
   "metadata": {
    "scrolled": true
   },
   "outputs": [
    {
     "name": "stdout",
     "output_type": "stream",
     "text": [
      "PSR J2317+1439 complete"
     ]
    }
   ],
   "source": [
    "psrs_mdc2 = get_hasasia_psr_from_epsrs(ePsrs_mdc2,freqs_mdc2,\\\n",
    "                                          noisedict=noiseparams_mdc2)"
   ]
  },
  {
   "cell_type": "code",
   "execution_count": 30,
   "metadata": {},
   "outputs": [
    {
     "name": "stdout",
     "output_type": "stream",
     "text": [
      "PSR J2317+1439 complete"
     ]
    }
   ],
   "source": [
    "psrs_injection = get_hasasia_psr_from_epsrs(ePsrs_injection,freqs_injection,\\\n",
    "                                          noisedict=noiseparams_injection)"
   ]
  },
  {
   "cell_type": "code",
   "execution_count": null,
   "metadata": {},
   "outputs": [],
   "source": [
    "def get_hasasia_spec_from_psrs(psrs,freqs):\n",
    "    specs = []\n",
    "    for p in psrs:\n",
    "        sp = hassen.Spectrum(p, freqs=freqs)\n",
    "        _ = sp.NcalInv\n",
    "        specs.append(sp)\n",
    "        print('\\rPSR {0} complete'.format(p.name),end='',flush=True)\n",
    "    return specs"
   ]
  },
  {
   "cell_type": "code",
   "execution_count": null,
   "metadata": {},
   "outputs": [],
   "source": [
    "spec_11yr = get_hasasia_spec_from_psrs(psrs_11yr,freqs_11yr)"
   ]
  },
  {
   "cell_type": "code",
   "execution_count": null,
   "metadata": {},
   "outputs": [],
   "source": [
    "spec_mdc2 = get_hasasia_spec_from_psrs(psrs_mdc2,freqs_mdc2)"
   ]
  },
  {
   "cell_type": "code",
   "execution_count": null,
   "metadata": {},
   "outputs": [],
   "source": [
    "spec_injection = get_hasasia_spec_from_psrs(psrs_injection,freqs_injection)"
   ]
  },
  {
   "cell_type": "code",
   "execution_count": null,
   "metadata": {},
   "outputs": [],
   "source": [
    "names = ['J1713+0747','B1937+21','J1909-3744','J1024-0719']\n",
    "for sp,p in zip(spec_11yr,psrs_11yr):\n",
    "    if p.name in names:\n",
    "        plt.loglog(sp.freqs,sp.h_c,lw=2,label=p.name)\n",
    "    else:\n",
    "        plt.loglog(sp.freqs,sp.h_c, color='k',lw=0.2)\n",
    "\n",
    "plt.legend()\n",
    "plt.show()\n",
    "plt.close()"
   ]
  },
  {
   "cell_type": "code",
   "execution_count": null,
   "metadata": {},
   "outputs": [],
   "source": [
    "names = ['J1713+0747','B1937+21','J1909-3744','J1024-0719']\n",
    "for sp,p in zip(spec_mdc2,psrs_mdc2):\n",
    "    if p.name in names:\n",
    "        plt.loglog(sp.freqs,sp.h_c,lw=2,label=p.name)\n",
    "    else:\n",
    "        plt.loglog(sp.freqs,sp.h_c, color='k',lw=0.2)\n",
    "\n",
    "plt.legend()\n",
    "plt.show()\n",
    "plt.close()"
   ]
  },
  {
   "cell_type": "code",
   "execution_count": null,
   "metadata": {},
   "outputs": [],
   "source": [
    "names = ['J1713+0747','B1937+21','J1909-3744','J1024-0719']\n",
    "for sp,p in zip(spec_injection,psrs_injection):\n",
    "    if p.name in names:\n",
    "        plt.loglog(sp.freqs,sp.h_c,lw=2,label=p.name)\n",
    "    else:\n",
    "        plt.loglog(sp.freqs,sp.h_c, color='k',lw=0.2)\n",
    "\n",
    "plt.legend()\n",
    "plt.show()\n",
    "plt.close()"
   ]
  },
  {
   "cell_type": "code",
   "execution_count": null,
   "metadata": {},
   "outputs": [],
   "source": [
    "sens_curve_11yr = hassen.GWBSensitivityCurve(spec_11yr)"
   ]
  },
  {
   "cell_type": "code",
   "execution_count": null,
   "metadata": {},
   "outputs": [],
   "source": [
    "sens_curve_mdc2 = hassen.GWBSensitivityCurve(spec_mdc2)"
   ]
  },
  {
   "cell_type": "code",
   "execution_count": null,
   "metadata": {},
   "outputs": [],
   "source": [
    "sens_curve_injection = hassen.GWBSensitivityCurve(spec_injection)"
   ]
  },
  {
   "cell_type": "code",
   "execution_count": null,
   "metadata": {},
   "outputs": [],
   "source": [
    "plt.loglog(sens_curve_11yr.freqs,sens_curve_11yr.h_c)\n",
    "plt.xlabel('Frequency [Hz]')\n",
    "plt.ylabel('Characteristic Strain, $h_c$')\n",
    "plt.title('NANOGrav 11-year Data Set Sensitivity Curve')\n",
    "plt.grid(which='both')\n",
    "# plt.ylim(1e-15,9e-12)\n",
    "plt.show()"
   ]
  },
  {
   "cell_type": "code",
   "execution_count": null,
   "metadata": {},
   "outputs": [],
   "source": [
    "plt.loglog(sens_curve_mdc2.freqs,sens_curve_mdc2.h_c)\n",
    "plt.xlabel('Frequency [Hz]')\n",
    "plt.ylabel('Characteristic Strain, $h_c$')\n",
    "plt.title('MDC2 Sensitivity Curve')\n",
    "plt.grid(which='both')\n",
    "# plt.ylim(1e-15,9e-12)\n",
    "plt.show()"
   ]
  },
  {
   "cell_type": "code",
   "execution_count": null,
   "metadata": {},
   "outputs": [],
   "source": [
    "plt.loglog(sens_curve_injection.freqs,sens_curve_injection.h_c)\n",
    "plt.xlabel('Frequency [Hz]')\n",
    "plt.ylabel('Characteristic Strain, $h_c$')\n",
    "plt.title('Injection Sensitivity Curve')\n",
    "plt.grid(which='both')\n",
    "# plt.ylim(1e-15,9e-12)\n",
    "plt.show()"
   ]
  },
  {
   "cell_type": "code",
   "execution_count": null,
   "metadata": {},
   "outputs": [],
   "source": [
    "#First for alpha=-2/3 (the default value).\n",
    "SNR=1\n",
    "hgw_11yr=hassen.Agwb_from_Seff_plaw(sens_curve_11yr.freqs,\n",
    "                             Tspan=Tspan_11yr,\n",
    "                             SNR=SNR,\n",
    "                             S_eff=sens_curve_11yr.S_eff)\n",
    "plaw_h_11yr = hgw_11yr*(sens_curve_11yr.freqs/fyr)**(-2/3)\n",
    "\n",
    "#And for an array of alpha values.\n",
    "alpha = np.linspace(-7/4,5/4,30)\n",
    "h_11yr=hassen.Agwb_from_Seff_plaw(freqs=sens_curve_11yr.freqs,Tspan=Tspan_11yr,SNR=SNR,\n",
    "                           S_eff=sens_curve_11yr.S_eff,alpha=alpha)\n",
    "\n",
    "plaw_11yr = np.dot((sens_curve_11yr.freqs[:,np.newaxis]/fyr)**alpha,\n",
    "              h_11yr[:,np.newaxis]*np.eye(30))"
   ]
  },
  {
   "cell_type": "code",
   "execution_count": null,
   "metadata": {},
   "outputs": [],
   "source": [
    "#First for alpha=-2/3 (the default value).\n",
    "SNR=1\n",
    "hgw_mdc2 =hassen.Agwb_from_Seff_plaw(sens_curve_mdc2.freqs,\n",
    "                             Tspan=Tspan_mdc2,\n",
    "                             SNR=SNR,\n",
    "                             S_eff=sens_curve_mdc2.S_eff)\n",
    "plaw_h_mdc2 = hgw_mdc2*(sens_curve_mdc2.freqs/fyr)**(-2/3)\n",
    "\n",
    "#And for an array of alpha values.\n",
    "alpha = np.linspace(-7/4,5/4,30)\n",
    "h_mdc2=hassen.Agwb_from_Seff_plaw(freqs=sens_curve_mdc2.freqs,Tspan=Tspan_mdc2,SNR=SNR,\n",
    "                           S_eff=sens_curve_mdc2.S_eff,alpha=alpha)\n",
    "\n",
    "plaw_mdc2 = np.dot((sens_curve_mdc2.freqs[:,np.newaxis]/fyr)**alpha,\n",
    "              h_mdc2[:,np.newaxis]*np.eye(30))"
   ]
  },
  {
   "cell_type": "code",
   "execution_count": null,
   "metadata": {},
   "outputs": [],
   "source": [
    "#First for alpha=-2/3 (the default value).\n",
    "SNR=1\n",
    "hgw_injection =hassen.Agwb_from_Seff_plaw(sens_curve_injection.freqs,\n",
    "                             Tspan=Tspan_injection,\n",
    "                             SNR=SNR,\n",
    "                             S_eff=sens_curve_injection.S_eff)\n",
    "plaw_h_injection = hgw_injection*(sens_curve_injection.freqs/fyr)**(-2/3)\n",
    "\n",
    "#And for an array of alpha values.\n",
    "alpha = np.linspace(-7/4,5/4,30)\n",
    "h_injection=hassen.Agwb_from_Seff_plaw(freqs=sens_curve_injection.freqs,Tspan=Tspan_injection,SNR=SNR,\n",
    "                           S_eff=sens_curve_injection.S_eff,alpha=alpha)\n",
    "\n",
    "plaw_injection = np.dot((sens_curve_injection.freqs[:,np.newaxis]/fyr)**alpha,\n",
    "              h_injection[:,np.newaxis]*np.eye(30))"
   ]
  },
  {
   "cell_type": "code",
   "execution_count": null,
   "metadata": {},
   "outputs": [],
   "source": [
    "for ii in range(len(h_11yr)):\n",
    "    plt.loglog(sens_curve_11yr.freqs,plaw_11yr[:,ii],\n",
    "               color='gray',lw=0.5)\n",
    "plt.loglog(sens_curve_11yr.freqs,plaw_h_11yr,color='C1',lw=2,\n",
    "           label='SNR={0}, '.format(SNR)+r'$\\alpha=-2/3$')\n",
    "plt.loglog(sens_curve_11yr.freqs,sens_curve_11yr.h_c, label='NG 11yr Sensitivity')\n",
    "plt.xlabel('Frequency [Hz]')\n",
    "plt.ylabel('Characteristic Strain, $h_c$')\n",
    "plt.axvline(fyr,linestyle=':')\n",
    "plt.rc('text', usetex=True)\n",
    "plt.title('NANOGrav 11-year Data Set\\nPower-Law Interated Sensitivity Curve')\n",
    "plt.ylim(hgw_11yr*0.75,2e-11)\n",
    "plt.text(x=4e-8,y=3e-15,\n",
    "         s=r'$A_{\\rm GWB}$='+'{0:1.2e}'.format(hgw_11yr),\n",
    "         bbox=dict(facecolor='white', alpha=0.6))\n",
    "plt.legend(loc='upper left')\n",
    "plt.show()"
   ]
  },
  {
   "cell_type": "code",
   "execution_count": null,
   "metadata": {},
   "outputs": [],
   "source": [
    "for ii in range(len(h_mdc2)):\n",
    "    plt.loglog(sens_curve_mdc2.freqs,plaw_mdc2[:,ii],\n",
    "               color='gray',lw=0.5)\n",
    "plt.loglog(sens_curve_mdc2.freqs,plaw_h_mdc2,color='C1',lw=2,\n",
    "           label='SNR={0}, '.format(SNR)+r'$\\alpha=-2/3$')\n",
    "plt.loglog(sens_curve_mdc2.freqs,sens_curve_mdc2.h_c, label='MDC2 Sensitivity')\n",
    "plt.xlabel('Frequency [Hz]')\n",
    "plt.ylabel('Characteristic Strain, $h_c$')\n",
    "plt.axvline(fyr,linestyle=':')\n",
    "plt.rc('text', usetex=True)\n",
    "plt.title('MDC2 \\nPower-Law Interated Sensitivity Curve')\n",
    "plt.ylim(hgw_mdc2*0.75,2e-11)\n",
    "plt.text(x=4e-8,y=3e-15,\n",
    "         s=r'$A_{\\rm GWB}$='+'{0:1.2e}'.format(hgw_mdc2),\n",
    "         bbox=dict(facecolor='white', alpha=0.6))\n",
    "plt.legend(loc='upper left')\n",
    "plt.show()"
   ]
  },
  {
   "cell_type": "code",
   "execution_count": null,
   "metadata": {},
   "outputs": [],
   "source": [
    "for ii in range(len(h_injection)):\n",
    "    plt.loglog(sens_curve_injection.freqs,plaw_injection[:,ii],\n",
    "               color='gray',lw=0.5)\n",
    "plt.loglog(sens_curve_injection.freqs,plaw_h_injection,color='C1',lw=2,\n",
    "           label='SNR={0}, '.format(SNR)+r'$\\alpha=-2/3$')\n",
    "plt.loglog(sens_curve_injection.freqs,sens_curve_injection.h_c, label='Injection Sensitivity')\n",
    "plt.xlabel('Frequency [Hz]')\n",
    "plt.ylabel('Characteristic Strain, $h_c$')\n",
    "plt.axvline(fyr,linestyle=':')\n",
    "plt.rc('text', usetex=True)\n",
    "plt.title('Injection \\nPower-Law Interated Sensitivity Curve')\n",
    "plt.ylim(hgw_injection*0.75,2e-11)\n",
    "plt.text(x=4e-8,y=3e-15,\n",
    "         s=r'$A_{\\rm GWB}$='+'{0:1.2e}'.format(hgw_injection),\n",
    "         bbox=dict(facecolor='white', alpha=0.6))\n",
    "plt.legend(loc='upper left')\n",
    "plt.show()"
   ]
  },
  {
   "cell_type": "code",
   "execution_count": null,
   "metadata": {},
   "outputs": [],
   "source": []
  }
 ],
 "metadata": {
  "kernelspec": {
   "display_name": "Python 3",
   "language": "python",
   "name": "python3"
  },
  "language_info": {
   "codemirror_mode": {
    "name": "ipython",
    "version": 3
   },
   "file_extension": ".py",
   "mimetype": "text/x-python",
   "name": "python",
   "nbconvert_exporter": "python",
   "pygments_lexer": "ipython3",
   "version": "3.6.6"
  }
 },
 "nbformat": 4,
 "nbformat_minor": 2
}
