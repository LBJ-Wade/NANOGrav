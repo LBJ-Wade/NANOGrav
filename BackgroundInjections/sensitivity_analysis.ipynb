{
 "cells": [
  {
   "cell_type": "code",
   "execution_count": 9,
   "metadata": {},
   "outputs": [],
   "source": [
    "import numpy as np\n",
    "import os,sys,glob,json\n",
    "import matplotlib.pyplot as plt\n",
    "from matplotlib import cm\n",
    "from matplotlib import rc\n",
    "\n",
    "import healpy as hp\n",
    "\n",
    "import astropy.constants as const\n",
    "import astropy.units as u\n",
    "from astropy.cosmology import WMAP9 as cosmo\n",
    "from astropy.coordinates import SkyCoord\n",
    "\n",
    "import hasasia.sensitivity as hassen\n",
    "import hasasia.sim as hassim\n",
    "import hasasia.skymap as hassky\n",
    "\n",
    "from enterprise.pulsar import Pulsar as ePulsar"
   ]
  },
  {
   "cell_type": "code",
   "execution_count": 2,
   "metadata": {},
   "outputs": [],
   "source": [
    "rc('text',usetex=True)\n",
    "rc('font',**{'family':'serif','serif':['Times New Roman'],'size':14})#,'weight':'bold'})"
   ]
  },
  {
   "cell_type": "code",
   "execution_count": 3,
   "metadata": {},
   "outputs": [],
   "source": [
    "current_path = os.getcwd()\n",
    "splt_path = current_path.split(\"/\")\n",
    "top_path_idx = splt_path.index('nanograv')\n",
    "top_dir = \"/\".join(splt_path[0:top_path_idx+1])\n",
    "\n",
    "pta_sim_dir = top_dir + '/pta_sim/pta_sim/'\n",
    "sys.path.insert(0,pta_sim_dir)\n",
    "import noise\n",
    "\n",
    "psrs_wn_only_dir = top_dir + '/NANOGrav/BackgroundInjections/FakePTA/'\n",
    "\n",
    "noise_11yr_dir = top_dir + '/NANOGrav/BackgroundInjections/nano11/noisefiles_new/'\n",
    "psrlist_11yr_file = top_dir + '/NANOGrav/BackgroundInjections/nano11/psrlist_Tg3yr.txt'\n",
    "\n",
    "psrs_mdc2_dir = top_dir + '/NANOGrav/MDC2/mdc2/group1/dataset_1a/'\n",
    "noise_mdc2_file =  top_dir + '/NANOGrav/MDC2/mdc2/group1/group1_psr_noise.json'\n",
    "\n",
    "pardir = psrs_mdc2_dir\n",
    "timdir = psrs_mdc2_dir\n",
    "\n",
    "noisedir = noise_mdc2_file\n",
    "\n",
    "pars = sorted(glob.glob(pardir+'*.par'))\n",
    "tims = sorted(glob.glob(timdir+'*.tim'))\n",
    "#noise_files = sorted(glob.glob(noisedir+'*.txt'))\n",
    "noise_file = noise.load_noise_files(noisepath=noise_mdc2_file)\n",
    "\n",
    "encoding = 'utf-8'\n",
    "psr_list_bytes = np.loadtxt(psrlist_11yr_file,dtype='S42')\n",
    "psrlist = []\n",
    "for psr in psr_list_bytes:\n",
    "    psrlist.append(psr.decode(encoding))"
   ]
  },
  {
   "cell_type": "code",
   "execution_count": 4,
   "metadata": {},
   "outputs": [
    {
     "name": "stdout",
     "output_type": "stream",
     "text": [
      "\r",
      "PSR J0030+0451 complete"
     ]
    },
    {
     "name": "stderr",
     "output_type": "stream",
     "text": [
      "WARNING: enterprise.pulsar: WARNING: Could not find pulsar distance for PSR J0034-0534. Setting value to 1 with 20% uncertainty.\n"
     ]
    },
    {
     "name": "stdout",
     "output_type": "stream",
     "text": [
      "\r",
      "PSR J0034-0534 complete"
     ]
    },
    {
     "name": "stderr",
     "output_type": "stream",
     "text": [
      "WARNING: enterprise.pulsar: WARNING: Could not find pulsar distance for PSR J0218+4232. Setting value to 1 with 20% uncertainty.\n"
     ]
    },
    {
     "name": "stdout",
     "output_type": "stream",
     "text": [
      "PSR J0613-0200 complete"
     ]
    },
    {
     "name": "stderr",
     "output_type": "stream",
     "text": [
      "WARNING: enterprise.pulsar: WARNING: Could not find pulsar distance for PSR J0621+1002. Setting value to 1 with 20% uncertainty.\n"
     ]
    },
    {
     "name": "stdout",
     "output_type": "stream",
     "text": [
      "PSR J0711-6830 complete"
     ]
    },
    {
     "name": "stderr",
     "output_type": "stream",
     "text": [
      "WARNING: enterprise.pulsar: WARNING: Could not find pulsar distance for PSR J0751+1807. Setting value to 1 with 20% uncertainty.\n"
     ]
    },
    {
     "name": "stdout",
     "output_type": "stream",
     "text": [
      "\r",
      "PSR J0751+1807 complete"
     ]
    },
    {
     "name": "stderr",
     "output_type": "stream",
     "text": [
      "WARNING: enterprise.pulsar: WARNING: Could not find pulsar distance for PSR J0900-3144. Setting value to 1 with 20% uncertainty.\n"
     ]
    },
    {
     "name": "stdout",
     "output_type": "stream",
     "text": [
      "PSR J1603-7202 complete"
     ]
    },
    {
     "name": "stderr",
     "output_type": "stream",
     "text": [
      "WARNING: enterprise.pulsar: WARNING: Could not find pulsar distance for PSR J1614-2230. Setting value to 1 with 20% uncertainty.\n"
     ]
    },
    {
     "name": "stdout",
     "output_type": "stream",
     "text": [
      "PSR J1939+2134 complete"
     ]
    },
    {
     "name": "stderr",
     "output_type": "stream",
     "text": [
      "WARNING: enterprise.pulsar: WARNING: Could not find pulsar distance for PSR J1944+0907. Setting value to 1 with 20% uncertainty.\n"
     ]
    },
    {
     "name": "stdout",
     "output_type": "stream",
     "text": [
      "\r",
      "PSR J1944+0907 complete"
     ]
    },
    {
     "name": "stderr",
     "output_type": "stream",
     "text": [
      "WARNING: enterprise.pulsar: WARNING: Could not find pulsar distance for PSR J2010-1323. Setting value to 1 with 20% uncertainty.\n"
     ]
    },
    {
     "name": "stdout",
     "output_type": "stream",
     "text": [
      "PSR J2145-0750 complete"
     ]
    },
    {
     "name": "stderr",
     "output_type": "stream",
     "text": [
      "WARNING: enterprise.pulsar: WARNING: Could not find pulsar distance for PSR J2229+2643. Setting value to 1 with 20% uncertainty.\n"
     ]
    },
    {
     "name": "stdout",
     "output_type": "stream",
     "text": [
      "PSR J2317+1439 complete"
     ]
    }
   ],
   "source": [
    "ePsrs = []\n",
    "for par,tim in zip(pars,tims):\n",
    "    ePsr = ePulsar(par, tim,  ephem='DE436')\n",
    "    ePsrs.append(ePsr)\n",
    "    print('\\rPSR {0} complete'.format(ePsr.name),end='',flush=True)"
   ]
  },
  {
   "cell_type": "code",
   "execution_count": 18,
   "metadata": {},
   "outputs": [],
   "source": [
    "def make_corr(psr,noisedict):\n",
    "    N = psr.toaerrs.size\n",
    "    corr = np.zeros((N,N))\n",
    "    _, _, U = hassen.quantize_fast(psr.toas,psr.toaerrs,dt=1)\n",
    "    u = np.matmul(U,U.T)\n",
    "    keys = [ky for ky in noisedict.keys() if psr.name in ky]\n",
    "    #backends = np.unique(psr.flags['f'])\n",
    "    sigma_sqr = np.zeros(N)\n",
    "    ecorrs = np.zeros(N)\n",
    "    \"\"\"\n",
    "    for be in backends:\n",
    "        mask = np.where(ePsr.flags['f']==be)\n",
    "        key_ec = '{0}_{1}_log10_{2}'.format(psr.name,be,'ecorr')\n",
    "        ecorrs[mask] = np.ones_like(mask) * (10**noise[key_ec])**2\n",
    "        key_ef = '{0}_{1}_{2}'.format(psr.name,be,'efac')\n",
    "        key_eq = '{0}_{1}_log10_{2}'.format(psr.name,be,'equad')\n",
    "        sigma_sqr[mask] = (noise[key_ef]**2 * (psr.toaerrs[mask]**2)\n",
    "                           + (10**noise[key_eq])**2)\n",
    "    \"\"\"\n",
    "    corr = np.diag(sigma_sqr) + np.diag(u*ecorrs**2)\n",
    "    return corr"
   ]
  },
  {
   "cell_type": "code",
   "execution_count": 19,
   "metadata": {
    "scrolled": true
   },
   "outputs": [],
   "source": [
    "Tspan = hassen.get_Tspan(ePsrs)"
   ]
  },
  {
   "cell_type": "code",
   "execution_count": 20,
   "metadata": {},
   "outputs": [],
   "source": [
    "#Get Noise Values\n",
    "with open(noisedir, 'rb') as fin:\n",
    "    noise_json =json.load(fin)\n",
    "\n",
    "noiseparams = noise.handle_noise_parameters(noise_json)"
   ]
  },
  {
   "cell_type": "code",
   "execution_count": 21,
   "metadata": {},
   "outputs": [],
   "source": [
    "fyr = 1/(365.25*24*3600)\n",
    "freqs = np.logspace(np.log10(1/(5*Tspan)),np.log10(2e-7),600)"
   ]
  },
  {
   "cell_type": "code",
   "execution_count": 24,
   "metadata": {},
   "outputs": [
    {
     "name": "stdout",
     "output_type": "stream",
     "text": [
      "PSR J2317+1439 complete"
     ]
    }
   ],
   "source": [
    "psrs = []\n",
    "thin = 10\n",
    "for ePsr in ePsrs:\n",
    "    corr = make_corr(ePsr,noiseparams)[::thin,::thin]\n",
    "    plaw = hassen.red_noise_powerlaw(A=9e-16, gamma=13/3., freqs=freqs)\n",
    "    \"\"\"\n",
    "    if ePsr.name in rn_psrs.keys():\n",
    "        Amp, gam = rn_psrs[ePsr.name]\n",
    "        plaw += hassen.red_noise_powerlaw(A=Amp, gamma=gam, freqs=freqs)\n",
    "    \"\"\"\n",
    "    corr += hassen.corr_from_psd(freqs=freqs, psd=plaw,\n",
    "                               toas=ePsr.toas[::thin])\n",
    "    psr = hassen.Pulsar(toas=ePsr.toas[::thin],\n",
    "                      toaerrs=ePsr.toaerrs[::thin],\n",
    "                      phi=ePsr.phi,theta=ePsr.theta,\n",
    "                      N=corr, designmatrix=ePsr.Mmat[::thin,:])\n",
    "    psr.name = ePsr.name\n",
    "    psrs.append(psr)\n",
    "    del ePsr\n",
    "    print('\\rPSR {0} complete'.format(psr.name),end='',flush=True)"
   ]
  },
  {
   "cell_type": "code",
   "execution_count": 29,
   "metadata": {},
   "outputs": [
    {
     "name": "stdout",
     "output_type": "stream",
     "text": [
      "PSR J2317+1439 complete"
     ]
    }
   ],
   "source": [
    "specs = []\n",
    "for p in psrs:\n",
    "    sp = hassen.Spectrum(p, freqs=freqs)\n",
    "    _ = sp.NcalInv\n",
    "    specs.append(sp)\n",
    "    print('\\rPSR {0} complete'.format(p.name),end='',flush=True)"
   ]
  },
  {
   "cell_type": "code",
   "execution_count": 30,
   "metadata": {},
   "outputs": [
    {
     "name": "stderr",
     "output_type": "stream",
     "text": [
      "INFO: matplotlib.texmanager: No LaTeX-compatible font found for the serif font family in rcParams. Using default.\n",
      "INFO: matplotlib.texmanager: No LaTeX-compatible font found for the serif font family in rcParams. Using default.\n",
      "INFO: matplotlib.texmanager: No LaTeX-compatible font found for the serif font family in rcParams. Using default.\n",
      "INFO: matplotlib.texmanager: No LaTeX-compatible font found for the serif font family in rcParams. Using default.\n"
     ]
    },
    {
     "data": {
      "image/png": "[encoded data removed]",
      "text/plain": [
       "<Figure size 1080x3240 with 3 Axes>"
      ]
     },
     "metadata": {
      "needs_background": "light"
     },
     "output_type": "display_data"
    }
   ],
   "source": [
    "fig=plt.figure(figsize=[15,45])\n",
    "j = 1\n",
    "names = ['B1937+21','J0340+4130','J1024-0719',\n",
    "         'J1713+0747','J1853+1303','J1909-3744',]\n",
    "for sp,p in zip(specs,psrs):\n",
    "    if p.name in names:\n",
    "        fig.add_subplot(12,3,j)\n",
    "        a = sp.h_c[0]/2*1e-14\n",
    "        if p.name == 'J1024-0719':\n",
    "            alp = -5/2\n",
    "            a *= 8e-10\n",
    "            plt.loglog(sp.freqs[:150],a*(sp.freqs[:150])**(alp),\n",
    "                       color='C2',label=r'$f^{-5/2}$')\n",
    "        else:\n",
    "            alp = -3/2\n",
    "            plt.loglog(sp.freqs[:150],a*(sp.freqs[:150])**(alp),\n",
    "                       color='C1',label=r'$f^{-3/2}$')\n",
    "        plt.ylim(2e-15,2e-10)\n",
    "        plt.loglog(sp.freqs,sp.h_c, color='C0')\n",
    "        plt.rc('text', usetex=True)\n",
    "        plt.xlabel('Frequency [Hz]')\n",
    "        plt.ylabel('Characteristic Strain, $h_c$')\n",
    "        plt.legend(loc='upper left')\n",
    "        plt.title(p.name)\n",
    "        j+=1\n",
    "fig.tight_layout()\n",
    "plt.show()\n",
    "plt.close()"
   ]
  },
  {
   "cell_type": "code",
   "execution_count": null,
   "metadata": {},
   "outputs": [],
   "source": []
  }
 ],
 "metadata": {
  "kernelspec": {
   "display_name": "Python 3",
   "language": "python",
   "name": "python3"
  },
  "language_info": {
   "codemirror_mode": {
    "name": "ipython",
    "version": 3
   },
   "file_extension": ".py",
   "mimetype": "text/x-python",
   "name": "python",
   "nbconvert_exporter": "python",
   "pygments_lexer": "ipython3",
   "version": "3.6.6"
  }
 },
 "nbformat": 4,
 "nbformat_minor": 2
}
