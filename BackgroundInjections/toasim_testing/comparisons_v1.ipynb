{
 "cells": [
  {
   "cell_type": "code",
   "execution_count": 1,
   "metadata": {},
   "outputs": [],
   "source": [
    "%load_ext autoreload\n",
    "%autoreload 2"
   ]
  },
  {
   "cell_type": "code",
   "execution_count": 2,
   "metadata": {},
   "outputs": [],
   "source": [
    "import matplotlib\n",
    "import matplotlib.pyplot as plt\n",
    "\n",
    "import numpy as np\n",
    "import sys,os,glob,json,pickle\n",
    "from collections import OrderedDict\n",
    "\n",
    "import libstempo as T2\n",
    "import libstempo.toasim as LT\n",
    "import libstempo.plot as LP\n",
    "\n",
    "import enterprise\n",
    "from enterprise.pulsar import Pulsar\n",
    "\n",
    "import astropy.units as u"
   ]
  },
  {
   "cell_type": "code",
   "execution_count": 3,
   "metadata": {},
   "outputs": [],
   "source": [
    "current_path = os.getcwd()\n",
    "splt_path = current_path.split(\"/\")\n",
    "top_path_idx = splt_path.index('NANOGrav')\n",
    "top_directory = \"/\".join(splt_path[0:top_path_idx+1])\n",
    "\n",
    "sys.path.insert(0,top_directory)\n",
    "\n",
    "import my_toasim as MyT\n",
    "import toasim as LTTest"
   ]
  },
  {
   "cell_type": "code",
   "execution_count": 4,
   "metadata": {},
   "outputs": [],
   "source": [
    "def get_noise_from_pal2(noisefile):\n",
    "    psrname = noisefile.split('/')[-1].split('_noise.txt')[0]\n",
    "    fin = open(noisefile, 'r')\n",
    "    lines = fin.readlines()\n",
    "    params = {}\n",
    "    for line in lines:\n",
    "        ln = line.split()\n",
    "        if 'efac' in line:\n",
    "            par = 'efac'\n",
    "            flag = ln[0].split('efac-')[-1]\n",
    "        elif 'equad' in line:\n",
    "            par = 'log10_equad'\n",
    "            flag = ln[0].split('equad-')[-1]\n",
    "        elif 'jitter_q' in line:\n",
    "            par = 'log10_ecorr'\n",
    "            flag = ln[0].split('jitter_q-')[-1]\n",
    "        elif 'RN-Amplitude' in line:\n",
    "            par = 'red_noise_log10_A'\n",
    "            flag = ''\n",
    "        elif 'RN-spectral-index' in line:\n",
    "            par = 'red_noise_gamma'\n",
    "            flag = ''\n",
    "        else:\n",
    "            break\n",
    "        if flag:\n",
    "            name = [psrname, flag, par]\n",
    "        else:\n",
    "            name = [psrname, par]\n",
    "        pname = '_'.join(name)\n",
    "        params.update({pname: float(ln[1])})\n",
    "    return params"
   ]
  },
  {
   "cell_type": "code",
   "execution_count": 5,
   "metadata": {},
   "outputs": [],
   "source": [
    "#Where the enterprise 11yr datafiles are\n",
    "current_dir = os.getcwd()\n",
    "splt_path = current_dir.split(\"/\")\n",
    "top_path_idx = splt_path.index('BackgroundInjections')\n",
    "top_dir = \"/\".join(splt_path[0:top_path_idx+1])\n",
    "\n",
    "parpath = top_dir + '/nano11/partim_new/'\n",
    "timpath = top_dir + '/nano11/partim_new/'\n",
    "noisepath = top_dir + '/nano11/noisefiles_new/'\n",
    "psrlistpath = top_dir + '/nano11/psrlist_Tg3yr.txt'\n",
    "#The pickled pulsars\n",
    "psr_pickle_file = current_dir + '/enterprise_sim_pulsars.pickle'"
   ]
  },
  {
   "cell_type": "code",
   "execution_count": 6,
   "metadata": {},
   "outputs": [
    {
     "name": "stdout",
     "output_type": "stream",
     "text": [
      "##############################################################\n",
      "Injections in:  /home/andrew/Documents/Research/NANOGrav/BackgroundInjections/toasim_testing\n",
      "##############################################################\n",
      "\n",
      "\n"
     ]
    }
   ],
   "source": [
    "print('##############################################################')\n",
    "print('Injections in: ', current_dir)\n",
    "print('##############################################################')\n",
    "print('\\n')"
   ]
  },
  {
   "cell_type": "markdown",
   "metadata": {},
   "source": [
    "Load 11yr pulsar list"
   ]
  },
  {
   "cell_type": "code",
   "execution_count": 7,
   "metadata": {},
   "outputs": [],
   "source": [
    "encoding = \"utf-8\"\n",
    "psrlist_bytes = np.loadtxt(psrlistpath,dtype='S42')\n",
    "psrlist = []\n",
    "for psr in psrlist_bytes:\n",
    "    psrlist.append(psr.decode(encoding))"
   ]
  },
  {
   "cell_type": "markdown",
   "metadata": {},
   "source": [
    "Load par, tim, and noisefiles for 11yr psrs"
   ]
  },
  {
   "cell_type": "code",
   "execution_count": 8,
   "metadata": {},
   "outputs": [
    {
     "name": "stdout",
     "output_type": "stream",
     "text": [
      "34 34 34\n"
     ]
    }
   ],
   "source": [
    "parfiles = sorted(glob.glob(parpath+'*.par'))\n",
    "timfiles = sorted(glob.glob(timpath+'*.tim'))\n",
    "noisefiles = sorted(glob.glob(noisepath+'*.txt'))\n",
    "\n",
    "parfiles = [x for x in parfiles if x.split('/')[-1].split('.')[0].split('_')[0] in psrlist]\n",
    "timfiles = [x for x in timfiles if x.split('/')[-1].split('.')[0].split('_')[0] in psrlist]\n",
    "noisefiles = [x for x in noisefiles if x.split('/')[-1].split('_')[0] in psrlist]\n",
    "\n",
    "print(len(parfiles),len(timfiles),len(noisefiles))"
   ]
  },
  {
   "cell_type": "code",
   "execution_count": 9,
   "metadata": {},
   "outputs": [
    {
     "name": "stdout",
     "output_type": "stream",
     "text": [
      "34 of 34"
     ]
    }
   ],
   "source": [
    "#######################################\n",
    "# PASSING THROUGH TEMPO2 VIA libstempo\n",
    "#######################################\n",
    "\n",
    "t2psr = []\n",
    "for ii in range(len(parfiles)):\n",
    "    \n",
    "    t2psr.append( T2.tempopulsar(parfile = parfiles[ii], timfile = timfiles[ii],\n",
    "                                 maxobs=30000, ephem='DE436') )\n",
    "    \n",
    "    if np.any(np.isfinite(t2psr[ii].residuals())==False)==True:\n",
    "        t2psr[ii] = T2.tempopulsar(parfile = parfiles[ii], timfile = timfiles[ii])\n",
    "                 \n",
    "\n",
    "    print('\\r{0} of {1}'.format(ii+1,len(parfiles)),flush=True,end='')"
   ]
  },
  {
   "cell_type": "code",
   "execution_count": 10,
   "metadata": {},
   "outputs": [],
   "source": [
    "noise_params = {}\n",
    "for nf in noisefiles:\n",
    "    noise_params.update(get_noise_from_pal2(nf))"
   ]
  },
  {
   "cell_type": "code",
   "execution_count": 11,
   "metadata": {},
   "outputs": [],
   "source": [
    "#Now parse this large dictionary so that we can call noise parameters as noise_dict[pulsar name][noise type]\n",
    "#Returns either floats or 2 column arrays of flags and values. \n",
    "\n",
    "noise_dict = {}\n",
    "for p in psrlist:\n",
    "    noise_dict[p]={}\n",
    "    noise_dict[p]['equads'] = []\n",
    "    noise_dict[p]['efacs'] = []\n",
    "    noise_dict[p]['ecorrs'] = []\n",
    "    for ky in list(noise_params.keys()):\n",
    "        if p in ky:\n",
    "            if 'equad' in ky:\n",
    "                noise_dict[p]['equads'].append([ky.replace(p + '_' , ''), noise_params[ky]])\n",
    "            if 'efac' in ky:\n",
    "                noise_dict[p]['efacs'].append([ky.replace(p + '_' , ''), noise_params[ky]])\n",
    "            if 'ecorr' in ky:\n",
    "                noise_dict[p]['ecorrs'].append([ky.replace(p + '_' , ''), noise_params[ky]])\n",
    "            if 'gamma' in ky:\n",
    "                noise_dict[p]['RN_gamma'] = noise_params[ky]\n",
    "            if 'log10_A' in ky:\n",
    "                noise_dict[p]['RN_Amp'] = 10**noise_params[ky]\n",
    "                \n",
    "    noise_dict[p]['equads'] = np.array(noise_dict[p]['equads'])\n",
    "    noise_dict[p]['efacs'] = np.array(noise_dict[p]['efacs'])\n",
    "    noise_dict[p]['ecorrs'] = np.array(noise_dict[p]['ecorrs'])    \n",
    "    \n",
    "    if len(noise_dict[p]['ecorrs'])==0: #Easier to just delete these dictionary items if no ECORR values. \n",
    "        noise_dict[p].__delitem__('ecorrs')"
   ]
  },
  {
   "cell_type": "code",
   "execution_count": 33,
   "metadata": {},
   "outputs": [],
   "source": [
    "#By using seeds we can  reproduce the dataset if need be. \n",
    "seed_efac = 1066\n",
    "seed_equad = 1492\n",
    "seed_jitter = 1776\n",
    "seed_red = 1987\n",
    "seed_gwb_1 = 1667\n",
    "seed_gwb_2 = 1980"
   ]
  },
  {
   "cell_type": "markdown",
   "metadata": {},
   "source": [
    "Make test pulsar"
   ]
  },
  {
   "cell_type": "code",
   "execution_count": 34,
   "metadata": {},
   "outputs": [],
   "source": [
    "orig_psr = t2psr[0]\n",
    "test_psr1 = T2.tempopulsar(parfile = parfiles[0], timfile = timfiles[0],\n",
    "                                 maxobs=30000, ephem='DE436')\n",
    "test_psr2 = T2.tempopulsar(parfile = parfiles[0], timfile = timfiles[0],\n",
    "                                 maxobs=30000, ephem='DE436')\n",
    "test_psr3 = T2.tempopulsar(parfile = parfiles[0], timfile = timfiles[0],\n",
    "                                 maxobs=30000, ephem='DE436')"
   ]
  },
  {
   "cell_type": "code",
   "execution_count": 35,
   "metadata": {},
   "outputs": [
    {
     "data": {
      "image/png": "[encoded data removed]",
      "text/plain": [
       "<Figure size 432x288 with 1 Axes>"
      ]
     },
     "metadata": {
      "needs_background": "light"
     },
     "output_type": "display_data"
    }
   ],
   "source": [
    "LP.plotres(orig_psr)"
   ]
  },
  {
   "cell_type": "code",
   "execution_count": 36,
   "metadata": {},
   "outputs": [],
   "source": [
    "## add red noise\n",
    "LTTest.add_rednoise(test_psr1, noise_dict[test_psr1.name]['RN_Amp'], noise_dict[test_psr1.name]['RN_gamma'], \n",
    "                components = 30, seed = seed_red)"
   ]
  },
  {
   "cell_type": "code",
   "execution_count": 37,
   "metadata": {},
   "outputs": [
    {
     "data": {
      "image/png": "[encoded data removed]",
      "text/plain": [
       "<Figure size 432x288 with 1 Axes>"
      ]
     },
     "metadata": {
      "needs_background": "light"
     },
     "output_type": "display_data"
    }
   ],
   "source": [
    "LP.plotres(test_psr1)"
   ]
  },
  {
   "cell_type": "code",
   "execution_count": 38,
   "metadata": {},
   "outputs": [],
   "source": [
    "f_red_test_psr2,A_red_test_psr2 = MyT.add_rednoise(test_psr2, noise_dict[test_psr2.name]['RN_Amp'], noise_dict[test_psr2.name]['RN_gamma'], \n",
    "                components = 30, seed = seed_red)"
   ]
  },
  {
   "cell_type": "code",
   "execution_count": 39,
   "metadata": {},
   "outputs": [
    {
     "data": {
      "image/png": "[encoded data removed]",
      "text/plain": [
       "<Figure size 432x288 with 1 Axes>"
      ]
     },
     "metadata": {
      "needs_background": "light"
     },
     "output_type": "display_data"
    }
   ],
   "source": [
    "LP.plotres(test_psr2)"
   ]
  },
  {
   "cell_type": "code",
   "execution_count": 45,
   "metadata": {},
   "outputs": [],
   "source": [
    "f_red_test_psr3,A_red_test_psr3 = MyT.add_rednoise(test_psr3, noise_dict[test_psr3.name]['RN_Amp'], noise_dict[test_psr3.name]['RN_gamma'], \n",
    "                components = 30, seed = seed_red,logspacing=True)"
   ]
  },
  {
   "cell_type": "code",
   "execution_count": 46,
   "metadata": {},
   "outputs": [
    {
     "name": "stdout",
     "output_type": "stream",
     "text": [
      "[2.88126936e-09 2.88126936e-09 3.41943503e-09 3.41943503e-09\n",
      " 4.05811969e-09 4.05811969e-09 4.81609835e-09 4.81609835e-09\n",
      " 5.71565284e-09 5.71565284e-09 6.78322680e-09 6.78322680e-09\n",
      " 8.05020302e-09 8.05020302e-09 9.55382603e-09 9.55382603e-09\n",
      " 1.13382969e-08 1.13382969e-08 1.34560725e-08 1.34560725e-08\n",
      " 1.59694079e-08 1.59694079e-08 1.89521860e-08 1.89521860e-08\n",
      " 2.24920896e-08 2.24920896e-08 2.66931791e-08 2.66931791e-08\n",
      " 3.16789513e-08 3.16789513e-08 3.75959697e-08 3.75959697e-08\n",
      " 4.46181734e-08 4.46181734e-08 5.29519895e-08 5.29519895e-08\n",
      " 6.28424021e-08 6.28424021e-08 7.45801535e-08 7.45801535e-08\n",
      " 8.85102909e-08 8.85102909e-08 1.05042310e-07 1.05042310e-07\n",
      " 1.24662192e-07 1.24662192e-07 1.47946690e-07 1.47946690e-07\n",
      " 1.75580285e-07 1.75580285e-07 2.08375303e-07 2.08375303e-07\n",
      " 2.47295800e-07 2.47295800e-07 2.93485896e-07 2.93485896e-07\n",
      " 3.48303414e-07 3.48303414e-07 4.13359788e-07 4.13359788e-07]\n"
     ]
    }
   ],
   "source": [
    "print(f_red_test_psr3)"
   ]
  },
  {
   "cell_type": "code",
   "execution_count": 48,
   "metadata": {},
   "outputs": [
    {
     "data": {
      "text/plain": [
       "[<matplotlib.lines.Line2D at 0x7f70626a3128>]"
      ]
     },
     "execution_count": 48,
     "metadata": {},
     "output_type": "execute_result"
    },
    {
     "data": {
      "image/png": "[encoded data removed]",
      "text/plain": [
       "<Figure size 432x288 with 1 Axes>"
      ]
     },
     "metadata": {
      "needs_background": "light"
     },
     "output_type": "display_data"
    }
   ],
   "source": [
    "plt.loglog(f_red_test_psr2/u.yr.to('s'),A_red_test_psr2,'.')\n",
    "plt.loglog(f_red_test_psr3,A_red_test_psr3,'.')"
   ]
  },
  {
   "cell_type": "code",
   "execution_count": 42,
   "metadata": {},
   "outputs": [],
   "source": [
    "#f_GWB,Amp_GWB = MyT.createGWB(t2psr, Amp=1.3e-15, gam=13./3., seed=seed_gwb_1)"
   ]
  },
  {
   "cell_type": "code",
   "execution_count": 43,
   "metadata": {},
   "outputs": [],
   "source": [
    "#plt.loglog(f_GWB,Amp_GWB,'.')"
   ]
  },
  {
   "cell_type": "markdown",
   "metadata": {},
   "source": [
    "for ii,p in enumerate(t2psr):\n",
    "\n",
    "    ## make ideal\n",
    "    LT.make_ideal(p)\n",
    "\n",
    "    ## add efacs\n",
    "    LT.add_efac(p, efac = noise_dict[p.name]['efacs'][:,1], \n",
    "                flagid = 'f', flags = noise_dict[p.name]['efacs'][:,0], \n",
    "                seed = seed_efac + ii)\n",
    "\n",
    "    ## add equads\n",
    "    LT.add_equad(p, equad = noise_dict[p.name]['equads'][:,1], \n",
    "                 flagid = 'f', flags = noise_dict[p.name]['equads'][:,0], \n",
    "                 seed = seed_equad + ii)\n",
    "\n",
    "    ## add jitter\n",
    "    try: #Only NANOGrav Pulsars have ECORR\n",
    "        LT.add_jitter(p, ecorr = noise_dict[p.name]['ecorrs'][:,1], \n",
    "                      flagid='f', flags = noise_dict[p.name]['ecorrs'][:,0], \n",
    "                      coarsegrain = 1.0/86400.0, seed=seed_jitter + ii)\n",
    "    except KeyError:\n",
    "        pass\n",
    "\n",
    "    ## add red noise\n",
    "    LT.add_rednoise(p, noise_dict[p.name]['RN_Amp'], noise_dict[p.name]['RN_gamma'], \n",
    "                    components = 30, seed = seed_red + ii)\n",
    "    \n",
    "    print(ii, p.name)"
   ]
  },
  {
   "cell_type": "markdown",
   "metadata": {},
   "source": [
    "#Create GWB\n",
    "#Takes a list of libstempo pulsar objects as input.\n",
    "LT.createGWB(t2psr, Amp=1.3e-15, gam=13./3., seed=seed_gwb_1)\n",
    "LT.createGWB(t2psr, Amp=1.0e-15, gam=7./3., seed=seed_gwb_2)"
   ]
  },
  {
   "cell_type": "markdown",
   "metadata": {},
   "source": [
    "#Load into enterprise\n",
    "psrs = []\n",
    "for p in t2psr:\n",
    "    psrs.append(Pulsar(p))"
   ]
  },
  {
   "cell_type": "markdown",
   "metadata": {},
   "source": [
    "#Save sim pulsars to a pickle file\n",
    "with open(psr_pickle_file,'wb') as psrfile:\n",
    "    pickle.dump(psrs,psrfile)\n",
    "    psrfile.close()"
   ]
  }
 ],
 "metadata": {
  "kernelspec": {
   "display_name": "Python 3",
   "language": "python",
   "name": "python3"
  },
  "language_info": {
   "codemirror_mode": {
    "name": "ipython",
    "version": 3
   },
   "file_extension": ".py",
   "mimetype": "text/x-python",
   "name": "python",
   "nbconvert_exporter": "python",
   "pygments_lexer": "ipython3",
   "version": "3.6.6"
  }
 },
 "nbformat": 4,
 "nbformat_minor": 2
}
