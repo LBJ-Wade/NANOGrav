{
 "cells": [
  {
   "cell_type": "code",
   "execution_count": 1,
   "metadata": {},
   "outputs": [],
   "source": [
    "%load_ext autoreload\n",
    "%autoreload 2"
   ]
  },
  {
   "cell_type": "code",
   "execution_count": null,
   "metadata": {},
   "outputs": [],
   "source": [
    "import matplotlib\n",
    "import matplotlib.pyplot as plt\n",
    "\n",
    "import numpy as np\n",
    "import sys,os,glob,json\n",
    "from collections import OrderedDict\n",
    "\n",
    "import enterprise\n",
    "from enterprise.pulsar import Pulsar\n",
    "from enterprise.signals import parameter\n",
    "from enterprise.signals import white_signals\n",
    "from enterprise.signals import utils\n",
    "from enterprise.signals import gp_signals\n",
    "from enterprise.signals import signal_base\n",
    "from enterprise.signals import selections\n",
    "from enterprise.signals.selections import Selection\n",
    "\n",
    "from enterprise_extensions import models,model_utils\n",
    "from enterprise_extensions import ee_model_utils\n",
    "\n",
    "import corner\n",
    "from PTMCMCSampler.PTMCMCSampler import PTSampler as ptmcmc\n",
    "\n",
    "%matplotlib inline"
   ]
  },
  {
   "cell_type": "code",
   "execution_count": 4,
   "metadata": {},
   "outputs": [],
   "source": [
    "#Where the enterprise 11yr datafiles are\n",
    "topdir = os.getcwd()\n",
    "\n",
    "runname = '/simGWB_2'\n",
    "#Where the everything should be saved to (chains, cornerplts, histograms, etc.)\n",
    "outdir = topdir + '/SimRuns' + runname\n",
    "\n",
    "#The pickled pulsars\n",
    "psr_pickle_file = outdir + '/enterprise_sim_pulsars.pickle'"
   ]
  },
  {
   "cell_type": "code",
   "execution_count": null,
   "metadata": {},
   "outputs": [],
   "source": [
    "#Load pulsars from pickle file\n",
    "with open(psr_pickle_file,'rb') as psrfile:\n",
    "    psrs = pickle.load(psrfile)\n",
    "    psrfile.close()"
   ]
  },
  {
   "cell_type": "code",
   "execution_count": null,
   "metadata": {},
   "outputs": [],
   "source": [
    "# find the maximum time span to set GW frequency sampling\n",
    "selection = Selection(selections.by_backend)\n",
    "\n",
    "tmin = [p.toas.min() for p in psrs]\n",
    "tmax = [p.toas.max() for p in psrs]\n",
    "Tspan = np.max(tmax) - np.min(tmin)\n",
    "\n",
    "##### parameters and priors #####\n",
    "\n",
    "# white noise parameters\n",
    "'''\n",
    "efac = parameter.Uniform(0.5,4.0)\n",
    "log10_equad = parameter.Uniform(-10,-5)\n",
    "log10_ecorr = parameter.Uniform(-10,-5)\n",
    "'''\n",
    "efac = parameter.Constant()\n",
    "log10_equad = parameter.Constant()\n",
    "log10_ecorr = parameter.Constant()\n",
    "\n",
    "# red noise parameters\n",
    "red_noise_log10_A = parameter.Uniform(-18,-13)\n",
    "red_noise_gamma = parameter.Uniform(0,7)\n",
    "\n",
    "# GW parameters (initialize with names here to use parameters in common across pulsars)\n",
    "log10_A_gw_1 = parameter.Uniform(-18,-13)('zlog10_A_gw_1')\n",
    "gamma_gw_1 = parameter.Constant(13/3)('zgamma_gw_1')\n",
    "\n",
    "# Second GW parameters\n",
    "log10_A_gw_2 = parameter.Uniform(-18,-13)('zlog10_A_gw_2')\n",
    "gamma_gw_2 = parameter.Constant(10/3)('zgamma_gw_2')\n",
    "\n",
    "##### Set up signals #####\n",
    "\n",
    "# timing model\n",
    "tm = gp_signals.TimingModel()\n",
    "\n",
    "# white noise\n",
    "ef = white_signals.MeasurementNoise(efac=efac, selection=selection)\n",
    "eq = white_signals.EquadNoise(log10_equad = log10_equad, selection=selection)\n",
    "ec = white_signals.EcorrKernelNoise(log10_ecorr = log10_ecorr, selection=selection)\n",
    "\n",
    "# red noise (powerlaw with 30 frequencies)\n",
    "pl = utils.powerlaw(log10_A=red_noise_log10_A, gamma=red_noise_gamma)\n",
    "rn = gp_signals.FourierBasisGP(spectrum=pl, components=30, Tspan=Tspan)\n",
    "\n",
    "cpl_1 = utils.powerlaw(log10_A=log10_A_gw_1, gamma=gamma_gw_1)\n",
    "cpl_2 = utils.powerlaw(log10_A=log10_A_gw_2, gamma=gamma_gw_2)\n",
    "\n",
    "#Common red noise process with no correlations\n",
    "crn_1 = gp_signals.FourierBasisGP(spectrum = cpl_1, components=30, Tspan=Tspan, name = 'gw')\n",
    "crn_2 = gp_signals.FourierBasisGP(spectrum = cpl_2, components=30, Tspan=Tspan, name = 'other_gw')\n",
    "\n",
    "# gwb with Hellings and Downs correlations\n",
    "# Hellings and Downs ORF\n",
    "#orf = utils.hd_orf()\n",
    "#gwb_1 = gp_signals.FourierBasisCommonGP(cpl_1, orf, components=30, name='gw', Tspan=Tspan)\n",
    "#gwb_2 = gp_signals.FourierBasisCommonGP(cpl_2, orf, components=30, name='other_gw', Tspan=Tspan)\n",
    "\n",
    "\n",
    "# full model is sum of components\n",
    "model = ef + eq + ec + rn + tm + crn_1 + crn_2  #+ crn\n",
    "\n",
    "# initialize PTA\n",
    "pta = signal_base.PTA([model(psr) for psr in psrs])"
   ]
  },
  {
   "cell_type": "code",
   "execution_count": null,
   "metadata": {},
   "outputs": [],
   "source": [
    "with open(outdir + '/parameters.json', 'w') as fp:\n",
    "    json.dump(pta.param_names, fp)"
   ]
  },
  {
   "cell_type": "code",
   "execution_count": null,
   "metadata": {},
   "outputs": [],
   "source": [
    "#Set Default PTA parameters to the ones in the noisefiles\n",
    "pta.set_default_params(noise_params)"
   ]
  },
  {
   "cell_type": "code",
   "execution_count": 62,
   "metadata": {},
   "outputs": [],
   "source": [
    "#Pick random initial sampling\n",
    "xs = {par.name: par.sample() for par in pta.params}\n",
    "\n",
    "# dimension of parameter space\n",
    "ndim = len(xs)\n",
    "\n",
    "# initial jump covariance matrix\n",
    "cov = np.diag(np.ones(ndim) * 0.01**2)\n",
    "\n",
    "groups = model_utils.get_parameter_groups(pta)\n",
    "groups.append([ndim-2,ndim-1])\n",
    "\n",
    "# intialize sampler\n",
    "sampler = ptmcmc(ndim, pta.get_lnlikelihood, pta.get_lnprior, cov, groups=groups, outDir = outdir,resume=True)"
   ]
  },
  {
   "cell_type": "markdown",
   "metadata": {},
   "source": [
    "Jump proposal from Jeff"
   ]
  },
  {
   "cell_type": "code",
   "execution_count": null,
   "metadata": {},
   "outputs": [],
   "source": [
    "class my_jump_proposal(ee_model_utils.JumpProposal):\n",
    "    def __init__(self,pta):\n",
    "        super().__init__(pta)\n",
    "\n",
    "    def draw_from_gw_prior(self, x, iter, beta):\n",
    "\n",
    "        q = x.copy()\n",
    "        lqxy = 0\n",
    "\n",
    "        signal_name = 'gw'\n",
    "\n",
    "        # draw parameter from signal model\n",
    "        param = np.random.choice(self.snames[signal_name])\n",
    "        if param.size:\n",
    "            idx2 = np.random.randint(0, param.size)\n",
    "            q[self.pmap[str(param)]][idx2] = param.sample()[idx2]\n",
    "\n",
    "        # scalar parameter\n",
    "        else:\n",
    "            q[self.pmap[str(param)]] = param.sample()\n",
    "\n",
    "        # forward-backward jump probability\n",
    "        lqxy = (param.get_logpdf(x[self.pmap[str(param)]]) -\n",
    "                param.get_logpdf(q[self.pmap[str(param)]]))\n",
    "\n",
    "        return q, float(lqxy)"
   ]
  },
  {
   "cell_type": "code",
   "execution_count": null,
   "metadata": {},
   "outputs": [],
   "source": [
    "#define your JP here\n",
    "\n",
    "jp = my_jump_proposal(pta)\n",
    "sampler.addProposalToCycle(jp.draw_from_prior, 15)\n",
    "sampler.addProposalToCycle(jp.draw_from_red_prior, 15)"
   ]
  },
  {
   "cell_type": "code",
   "execution_count": null,
   "metadata": {},
   "outputs": [
    {
     "name": "stdout",
     "output_type": "stream",
     "text": [
      "\r",
      "Finished 1.00 percent in 842.297933 s Acceptance rate = 0.856"
     ]
    },
    {
     "name": "stderr",
     "output_type": "stream",
     "text": [
      "/Users/andrewkaiser/anaconda3/envs/enterprise/lib/python3.6/site-packages/enterprise/signals/parameter.py:66: RuntimeWarning: divide by zero encountered in log\n",
      "  logpdf = np.log(self.prior(value, **kwargs))\n"
     ]
    },
    {
     "name": "stdout",
     "output_type": "stream",
     "text": [
      "Finished 6.00 percent in 4591.795671 s Acceptance rate = 0.748333"
     ]
    }
   ],
   "source": [
    "# sampler for N steps\n",
    "N = int(1e5)\n",
    "x0 = np.hstack(p.sample() for p in pta.params)\n",
    "sampler.sample(x0, N, SCAMweight=30, AMweight=15, DEweight=50)"
   ]
  },
  {
   "cell_type": "code",
   "execution_count": null,
   "metadata": {},
   "outputs": [],
   "source": []
  }
 ],
 "metadata": {
  "kernelspec": {
   "display_name": "Python 3",
   "language": "python",
   "name": "python3"
  },
  "language_info": {
   "codemirror_mode": {
    "name": "ipython",
    "version": 3
   },
   "file_extension": ".py",
   "mimetype": "text/x-python",
   "name": "python",
   "nbconvert_exporter": "python",
   "pygments_lexer": "ipython3",
   "version": "3.6.3"
  }
 },
 "nbformat": 4,
 "nbformat_minor": 2
}
