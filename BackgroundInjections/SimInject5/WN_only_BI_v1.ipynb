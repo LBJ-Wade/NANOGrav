{
 "cells": [
  {
   "cell_type": "code",
   "execution_count": 1,
   "metadata": {},
   "outputs": [],
   "source": [
    "%load_ext autoreload\n",
    "%autoreload 2"
   ]
  },
  {
   "cell_type": "code",
   "execution_count": 2,
   "metadata": {},
   "outputs": [],
   "source": [
    "import matplotlib\n",
    "import matplotlib.pyplot as plt\n",
    "\n",
    "import numpy as np\n",
    "import sys,os,glob,json,pickle\n",
    "from collections import OrderedDict\n",
    "\n",
    "import libstempo as T2\n",
    "import libstempo.toasim as LT\n",
    "import libstempo.plot as LP\n",
    "\n",
    "import enterprise\n",
    "from enterprise.pulsar import Pulsar\n",
    "from enterprise.signals import parameter\n",
    "from enterprise.signals import white_signals\n",
    "from enterprise.signals import utils\n",
    "from enterprise.signals import gp_signals\n",
    "from enterprise.signals import signal_base\n",
    "from enterprise.signals import selections\n",
    "from enterprise.signals.selections import Selection\n",
    "\n",
    "from enterprise_extensions import models,model_utils\n",
    "\n",
    "import corner\n",
    "from PTMCMCSampler.PTMCMCSampler import PTSampler as ptmcmc\n",
    "\n",
    "%matplotlib inline"
   ]
  },
  {
   "cell_type": "markdown",
   "metadata": {},
   "source": [
    "# Names and Directories"
   ]
  },
  {
   "cell_type": "code",
   "execution_count": 3,
   "metadata": {},
   "outputs": [],
   "source": [
    "current_path = os.getcwd()\n",
    "splt_path = current_path.split(\"/\")\n",
    "\n",
    "top_path_idx = splt_path.index('nanograv')\n",
    "top_dir = \"/\".join(splt_path[0:top_path_idx+1])\n",
    "\n",
    "background_injection_dir = top_dir + '/NANOGrav/BackgroundInjections'\n",
    "pta_sim_dir = top_dir + '/pta_sim/pta_sim'\n",
    "\n",
    "runname = '/simGWB_1'\n",
    "#Where the everything should be saved to (chains,etc.)\n",
    "simdir = current_path + '/SimRuns'\n",
    "outdir = simdir + runname\n",
    "if os.path.exists(simdir) == False:\n",
    "    os.mkdir(simdir)\n",
    "if os.path.exists(outdir) == False:\n",
    "    os.mkdir(outdir)\n",
    "\n",
    "#The pulsars\n",
    "psrs_wn_only_dir = background_injection_dir + '/FakePTA/'\n",
    "#noise11yr_path = background_injection_dir + '/nano11/noisefiles_new/'\n",
    "#psrlist11yr_path = background_injection_dir + '/nano11/psrlist_Tg3yr.txt'"
   ]
  },
  {
   "cell_type": "markdown",
   "metadata": {},
   "source": [
    "#### Load Jeff's sim_gw function from pta_sim"
   ]
  },
  {
   "cell_type": "code",
   "execution_count": 4,
   "metadata": {},
   "outputs": [],
   "source": [
    "sys.path.insert(0,pta_sim_dir)\n",
    "import sim_gw as SG"
   ]
  },
  {
   "cell_type": "markdown",
   "metadata": {},
   "source": [
    "#### Get par and tim files"
   ]
  },
  {
   "cell_type": "code",
   "execution_count": 5,
   "metadata": {},
   "outputs": [],
   "source": [
    "parfiles = sorted(glob.glob(psrs_wn_only_dir+'*.par'))\n",
    "timfiles = sorted(glob.glob(psrs_wn_only_dir+'*.tim'))"
   ]
  },
  {
   "cell_type": "markdown",
   "metadata": {},
   "source": [
    "#### Instantiate a \"Simulation class\""
   ]
  },
  {
   "cell_type": "code",
   "execution_count": 6,
   "metadata": {},
   "outputs": [
    {
     "name": "stdout",
     "output_type": "stream",
     "text": [
      "PSR J2317+1439 loaded.\n"
     ]
    }
   ],
   "source": [
    "sim1 = SG.Simulation(parfiles,timfiles)"
   ]
  },
  {
   "cell_type": "markdown",
   "metadata": {},
   "source": [
    "#### Inject 2 backgrounds"
   ]
  },
  {
   "cell_type": "code",
   "execution_count": 7,
   "metadata": {},
   "outputs": [],
   "source": [
    "background_amp_1 = 1.3e-15\n",
    "background_amp_2 = 5.0e-15\n",
    "\n",
    "background_gamma_1 = 13./3.\n",
    "background_gamma_2 = 7./3.\n",
    "background_seed_1 = 1986\n",
    "background_seed_2 = 1667\n",
    "\n",
    "#LT.createGWB(sim1.libs_psrs, A_gwb, gamma_gw, seed=seed)\n",
    "LT.createGWB(sim1.libs_psrs,background_amp_1,background_gamma_1,seed=background_seed_1)\n",
    "LT.createGWB(sim1.libs_psrs,background_amp_2,background_gamma_2,seed=background_seed_2,noCorr=True)\n",
    "#sim1.createGWB(background_amp_1,gamma_gw=background_gamma_1,seed=background_seed_1)\n",
    "#sim1.createGWB(background_amp_2,gamma_gw=background_gamma_2,seed=background_seed_2)"
   ]
  },
  {
   "cell_type": "code",
   "execution_count": 20,
   "metadata": {},
   "outputs": [
    {
     "name": "stdout",
     "output_type": "stream",
     "text": [
      "{'log_10_amp': -14.886056647693163, 'gamma': 4.333333333333333, 'seed': 1986}\n",
      "{'log_10_amp': -14.301029995663981, 'gamma': 2.3333333333333335, 'seed': 1667}\n"
     ]
    }
   ],
   "source": [
    "injection_parameters = {}\n",
    "injection_parameters['Background_1'] = {'log_10_amp':np.log10(background_amp_1),\\\n",
    "                                        'gamma':background_gamma_1,\\\n",
    "                                        'seed':background_seed_1}\n",
    "injection_parameters['Background_2'] = {'log_10_amp':np.log10(background_amp_2),\\\n",
    "                                        'gamma':background_gamma_2,\\\n",
    "                                        'seed':background_seed_2}\n",
    "print(injection_parameters['Background_1'])\n",
    "print(injection_parameters['Background_2'])"
   ]
  },
  {
   "cell_type": "code",
   "execution_count": 13,
   "metadata": {},
   "outputs": [
    {
     "name": "stdout",
     "output_type": "stream",
     "text": [
      "['background_amp_1 = 1.300000e-15', 'background_gamma_1 = 4.333333', 'background_seed_1 = 1986', ['background_amp_2 = 5.000000e-15', 'background_gamma_2 = 2.333333', 'background_seed_2 = 1667']]\n"
     ]
    }
   ],
   "source": [
    "injection_parameters = [['background_amp_1 = %e' %background_amp_1,\\\n",
    "                        'background_gamma_1 = %f' %background_gamma_1,\\\n",
    "                       'background_seed_1 = %i' %background_seed_1]]\n",
    "injection_parameters.append(['background_amp_2 = %e' %background_amp_2,\\\n",
    "                        'background_gamma_2 = %f' %background_gamma_2,\\\n",
    "                       'background_seed_2 = %i' %background_seed_2])\n",
    "print(injection_parameters)"
   ]
  },
  {
   "cell_type": "markdown",
   "metadata": {},
   "source": [
    "### Get pulsars as enterprise pulsars"
   ]
  },
  {
   "cell_type": "code",
   "execution_count": 20,
   "metadata": {},
   "outputs": [
    {
     "name": "stderr",
     "output_type": "stream",
     "text": [
      "WARNING: enterprise.pulsar: WARNING: Could not find pulsar distance for PSR J0218+4232. Setting value to 1 with 20% uncertainty.\n",
      "WARNING: enterprise.pulsar: WARNING: Could not find pulsar distance for PSR J0621+1002. Setting value to 1 with 20% uncertainty.\n",
      "WARNING: enterprise.pulsar: WARNING: Could not find pulsar distance for PSR J0751+1807. Setting value to 1 with 20% uncertainty.\n",
      "WARNING: enterprise.pulsar: WARNING: Could not find pulsar distance for PSR J0900-3144. Setting value to 1 with 20% uncertainty.\n",
      "WARNING: enterprise.pulsar: WARNING: Could not find pulsar distance for PSR J1738+0333. Setting value to 1 with 20% uncertainty.\n",
      "WARNING: enterprise.pulsar: WARNING: Could not find pulsar distance for PSR J1741+1351. Setting value to 1 with 20% uncertainty.\n",
      "WARNING: enterprise.pulsar: WARNING: Could not find pulsar distance for PSR J1751-2857. Setting value to 1 with 20% uncertainty.\n",
      "WARNING: enterprise.pulsar: WARNING: Could not find pulsar distance for PSR J1853+1303. Setting value to 1 with 20% uncertainty.\n",
      "WARNING: enterprise.pulsar: WARNING: Could not find pulsar distance for PSR J1955+2908. Setting value to 1 with 20% uncertainty.\n",
      "WARNING: enterprise.pulsar: WARNING: Could not find pulsar distance for PSR J2019+2425. Setting value to 1 with 20% uncertainty.\n"
     ]
    }
   ],
   "source": [
    "sim1.init_ePulsars()"
   ]
  },
  {
   "cell_type": "markdown",
   "metadata": {},
   "source": [
    "#### Use Simple 2 GWB model to instantiate enterprise PTA"
   ]
  },
  {
   "cell_type": "code",
   "execution_count": 21,
   "metadata": {},
   "outputs": [],
   "source": [
    "background_gammas = [background_gamma_1, background_gamma_2]\n",
    "pta1 = SG.model_simple_multiple_gwbs(sim1.psrs,gammas=background_gammas)\n",
    "#pta1 = SG.model_simple_multiple_gwbs(sim1.psrs,gammas=[background_gamma_2])"
   ]
  },
  {
   "cell_type": "markdown",
   "metadata": {},
   "source": [
    "#### Save params for plotting"
   ]
  },
  {
   "cell_type": "code",
   "execution_count": 22,
   "metadata": {},
   "outputs": [],
   "source": [
    "with open(outdir + '/parameters.json', 'w') as fp:\n",
    "    json.dump(pta1.param_names, fp)"
   ]
  },
  {
   "cell_type": "markdown",
   "metadata": {},
   "source": [
    "#### Set up sampler and initial samples"
   ]
  },
  {
   "cell_type": "code",
   "execution_count": 23,
   "metadata": {},
   "outputs": [],
   "source": [
    "#Pick random initial sampling\n",
    "xs1 = {par.name: par.sample() for par in pta1.params}\n",
    "\n",
    "# dimension of parameter space\n",
    "ndim1 = len(xs1)\n",
    "\n",
    "# initial jump covariance matrix\n",
    "cov1 = np.diag(np.ones(ndim1) * 0.01**2)\n",
    "\n",
    "groups1 = model_utils.get_parameter_groups(pta1)\n",
    "groups1.append([ndim1-2,ndim1-1])\n",
    "\n",
    "# intialize sampler\n",
    "sampler = ptmcmc(ndim1, pta1.get_lnlikelihood, pta1.get_lnprior, cov1, groups=groups1, outDir = outdir,resume=False)"
   ]
  },
  {
   "cell_type": "markdown",
   "metadata": {},
   "source": [
    "# Sample!"
   ]
  },
  {
   "cell_type": "code",
   "execution_count": 24,
   "metadata": {},
   "outputs": [
    {
     "name": "stdout",
     "output_type": "stream",
     "text": [
      "Finished 10.00 percent in 152.708713 s Acceptance rate = 0.11629Adding DE jump with weight 50\n",
      "Finished 99.00 percent in 1558.130296 s Acceptance rate = 0.262737\n",
      "Run Complete\n"
     ]
    }
   ],
   "source": [
    "# sampler for N steps\n",
    "N = int(1e5)\n",
    "x0 = np.hstack(p.sample() for p in pta1.params)\n",
    "sampler.sample(x0, N, SCAMweight=30, AMweight=15, DEweight=50)"
   ]
  },
  {
   "cell_type": "code",
   "execution_count": null,
   "metadata": {},
   "outputs": [],
   "source": []
  }
 ],
 "metadata": {
  "kernelspec": {
   "display_name": "Python 3",
   "language": "python",
   "name": "python3"
  },
  "language_info": {
   "codemirror_mode": {
    "name": "ipython",
    "version": 3
   },
   "file_extension": ".py",
   "mimetype": "text/x-python",
   "name": "python",
   "nbconvert_exporter": "python",
   "pygments_lexer": "ipython3",
   "version": "3.6.6"
  }
 },
 "nbformat": 4,
 "nbformat_minor": 2
}
