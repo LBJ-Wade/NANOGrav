{
 "cells": [
  {
   "cell_type": "code",
   "execution_count": 1,
   "metadata": {},
   "outputs": [],
   "source": [
    "%load_ext autoreload\n",
    "%autoreload 2"
   ]
  },
  {
   "cell_type": "code",
   "execution_count": 2,
   "metadata": {},
   "outputs": [],
   "source": [
    "import matplotlib\n",
    "import matplotlib.pyplot as plt\n",
    "\n",
    "import numpy as np\n",
    "import sys,os,glob,json\n",
    "from collections import OrderedDict\n",
    "\n",
    "import libstempo as T2\n",
    "import libstempo.toasim as LT\n",
    "import libstempo.plot as LP\n",
    "\n",
    "import enterprise\n",
    "from enterprise.pulsar import Pulsar\n",
    "from enterprise.signals import parameter\n",
    "from enterprise.signals import white_signals\n",
    "from enterprise.signals import utils\n",
    "from enterprise.signals import gp_signals\n",
    "from enterprise.signals import signal_base\n",
    "\n",
    "from enterprise_extensions import models,model_utils\n",
    "\n",
    "import corner\n",
    "from PTMCMCSampler.PTMCMCSampler import PTSampler as ptmcmc\n",
    "\n",
    "%matplotlib inline"
   ]
  },
  {
   "cell_type": "code",
   "execution_count": 3,
   "metadata": {},
   "outputs": [],
   "source": [
    "def get_noise_from_pal2(noisefile):\n",
    "    psrname = noisefile.split('/')[-1].split('_noise.txt')[0]\n",
    "    fin = open(noisefile, 'r')\n",
    "    lines = fin.readlines()\n",
    "    params = {}\n",
    "    for line in lines:\n",
    "        ln = line.split()\n",
    "        if 'efac' in line:\n",
    "            par = 'efac'\n",
    "            flag = ln[0].split('efac-')[-1]\n",
    "        elif 'equad' in line:\n",
    "            par = 'log10_equad'\n",
    "            flag = ln[0].split('equad-')[-1]\n",
    "        elif 'jitter_q' in line:\n",
    "            par = 'log10_ecorr'\n",
    "            flag = ln[0].split('jitter_q-')[-1]\n",
    "        elif 'RN-Amplitude' in line:\n",
    "            par = 'red_noise_log10_A'\n",
    "            flag = ''\n",
    "        elif 'RN-spectral-index' in line:\n",
    "            par = 'red_noise_gamma'\n",
    "            flag = ''\n",
    "        else:\n",
    "            break\n",
    "        if flag:\n",
    "            name = [psrname, flag, par]\n",
    "        else:\n",
    "            name = [psrname, par]\n",
    "        pname = '_'.join(name)\n",
    "        params.update({pname: float(ln[1])})\n",
    "    return params"
   ]
  },
  {
   "cell_type": "code",
   "execution_count": 4,
   "metadata": {},
   "outputs": [],
   "source": [
    "#Where the enterprise 11yr datafiles are\n",
    "topdir = os.getcwd()\n",
    "\n",
    "runname = '/simGWB_1'\n",
    "#Where the everything should be saved to (chains, cornerplts, histograms, etc.)\n",
    "outdir = topdir + '/SimRuns' + runname\n",
    "if os.path.exists(outdir) == False:\n",
    "    os.mkdir(outdir)\n",
    "\n",
    "parpath = topdir + '/nano11/partim_new/'\n",
    "timpath = topdir + '/nano11/partim_new/'\n",
    "noisepath = topdir + '/nano11/noisefiles_new/'\n",
    "psrlistpath = topdir + '/nano11/psrlist_Tg3yr.txt'"
   ]
  },
  {
   "cell_type": "code",
   "execution_count": 5,
   "metadata": {},
   "outputs": [],
   "source": [
    "J1909_par = parpath + 'J1909-3744' + '_NANOGrav_11yv0.gls.par'\n",
    "J1909_tim = timpath + 'J1909-3744' + '_NANOGrav_11yv0.tim'"
   ]
  },
  {
   "cell_type": "code",
   "execution_count": 6,
   "metadata": {},
   "outputs": [],
   "source": [
    "J1909 = T2.tempopulsar(parfile = J1909_par, timfile = J1909_tim, maxobs=30000, ephem='DE436',clk=None)"
   ]
  },
  {
   "cell_type": "code",
   "execution_count": 7,
   "metadata": {},
   "outputs": [],
   "source": [
    "t = np.arange(53000,56650,30.0) #observing dates for 10 years\n",
    "t += np.random.randn(len(t)) #observe every 30+/-1 days"
   ]
  },
  {
   "cell_type": "code",
   "execution_count": 8,
   "metadata": {},
   "outputs": [],
   "source": [
    "J0613_par = parpath +'J0613-0200' + '_NANOGrav_11yv0.gls.par'\n",
    "fake_J0613=LT.fakepulsar(J0613_par,obstimes=t,toaerr=0.5)"
   ]
  },
  {
   "cell_type": "code",
   "execution_count": 9,
   "metadata": {},
   "outputs": [],
   "source": [
    "encoding = \"utf-8\"\n",
    "psrlist_bytes = np.loadtxt(psrlistpath,dtype='S42')\n",
    "psrlist = []\n",
    "for psr in psrlist_bytes:\n",
    "    psrlist.append(psr.decode(encoding))"
   ]
  },
  {
   "cell_type": "code",
   "execution_count": 10,
   "metadata": {},
   "outputs": [
    {
     "name": "stdout",
     "output_type": "stream",
     "text": [
      "34 34 34\n"
     ]
    }
   ],
   "source": [
    "parfiles = sorted(glob.glob(parpath+'*.par'))\n",
    "timfiles = sorted(glob.glob(timpath+'*.tim'))\n",
    "noisefiles = sorted(glob.glob(noisepath+'*.txt'))\n",
    "\n",
    "parfiles = [x for x in parfiles if x.split('/')[-1].split('.')[0].split('_')[0] in psrlist]\n",
    "timfiles = [x for x in timfiles if x.split('/')[-1].split('.')[0].split('_')[0] in psrlist]\n",
    "noisefiles = [x for x in noisefiles if x.split('/')[-1].split('_')[0] in psrlist]\n",
    "\n",
    "print(len(parfiles),len(timfiles),len(noisefiles))"
   ]
  },
  {
   "cell_type": "code",
   "execution_count": 11,
   "metadata": {},
   "outputs": [
    {
     "name": "stdout",
     "output_type": "stream",
     "text": [
      "34 of 34"
     ]
    }
   ],
   "source": [
    "#######################################\n",
    "# PASSING THROUGH TEMPO2 VIA libstempo\n",
    "#######################################\n",
    "\n",
    "t2psr = []\n",
    "for ii in range(len(parfiles)):\n",
    "    \n",
    "    t2psr.append( T2.tempopulsar(parfile = parfiles[ii], timfile = timfiles[ii],\n",
    "                                 maxobs=30000, ephem='DE436') )\n",
    "    \n",
    "    if np.any(np.isfinite(t2psr[ii].residuals())==False)==True:\n",
    "        t2psr[ii] = T2.tempopulsar(parfile = parfiles[ii], timfile = timfiles[ii])\n",
    "                 \n",
    "\n",
    "    print('\\r{0} of {1}'.format(ii+1,len(parfiles)),flush=True,end='')"
   ]
  },
  {
   "cell_type": "code",
   "execution_count": 12,
   "metadata": {},
   "outputs": [],
   "source": [
    "noise_params = {}\n",
    "for nf in noisefiles:\n",
    "    noise_params.update(get_noise_from_pal2(nf))"
   ]
  },
  {
   "cell_type": "code",
   "execution_count": 13,
   "metadata": {},
   "outputs": [],
   "source": [
    "#Now parse this large dictionary so that we can call noise parameters as noise_dict[pulsar name][noise type]\n",
    "#Returns either floats or 2 column arrays of flags and values. \n",
    "\n",
    "noise_dict = {}\n",
    "for p in psrlist:\n",
    "    noise_dict[p]={}\n",
    "    noise_dict[p]['equads'] = []\n",
    "    noise_dict[p]['efacs'] = []\n",
    "    noise_dict[p]['ecorrs'] = []\n",
    "    for ky in list(noise_params.keys()):\n",
    "        if p in ky:\n",
    "            if 'equad' in ky:\n",
    "                noise_dict[p]['equads'].append([ky.replace(p + '_' , ''), noise_params[ky]])\n",
    "            if 'efac' in ky:\n",
    "                noise_dict[p]['efacs'].append([ky.replace(p + '_' , ''), noise_params[ky]])\n",
    "            if 'ecorr' in ky:\n",
    "                noise_dict[p]['ecorrs'].append([ky.replace(p + '_' , ''), noise_params[ky]])\n",
    "            if 'gamma' in ky:\n",
    "                noise_dict[p]['RN_gamma'] = noise_params[ky]\n",
    "            if 'log10_A' in ky:\n",
    "                noise_dict[p]['RN_Amp'] = 10**noise_params[ky]\n",
    "                \n",
    "    noise_dict[p]['equads'] = np.array(noise_dict[p]['equads'])\n",
    "    noise_dict[p]['efacs'] = np.array(noise_dict[p]['efacs'])\n",
    "    noise_dict[p]['ecorrs'] = np.array(noise_dict[p]['ecorrs'])    \n",
    "    \n",
    "    if len(noise_dict[p]['ecorrs'])==0: #Easier to just delete these dictionary items if no ECORR values. \n",
    "        noise_dict[p].__delitem__('ecorrs')"
   ]
  },
  {
   "cell_type": "code",
   "execution_count": 14,
   "metadata": {},
   "outputs": [],
   "source": [
    "#By using seeds we can  reproduce the dataset if need be. \n",
    "seed_efac = 1066\n",
    "seed_equad = 1492\n",
    "seed_jitter = 1776\n",
    "seed_red = 1987\n",
    "seed_gwb_1 = 1667\n",
    "seed_gwb_2 = 1980"
   ]
  },
  {
   "cell_type": "code",
   "execution_count": 15,
   "metadata": {},
   "outputs": [
    {
     "name": "stdout",
     "output_type": "stream",
     "text": [
      "0 B1855+09\n",
      "1 B1937+21\n",
      "2 B1953+29\n",
      "3 J0023+0923\n",
      "4 J0030+0451\n",
      "5 J0340+4130\n",
      "6 J0613-0200\n",
      "7 J0645+5158\n",
      "8 J1012+5307\n",
      "9 J1024-0719\n",
      "10 J1455-3330\n",
      "11 J1600-3053\n",
      "12 J1614-2230\n",
      "13 J1640+2224\n",
      "14 J1643-1224\n",
      "15 J1713+0747\n",
      "16 J1738+0333\n",
      "17 J1741+1351\n",
      "18 J1744-1134\n",
      "19 J1747-4036\n",
      "20 J1853+1303\n",
      "21 J1903+0327\n",
      "22 J1909-3744\n",
      "23 J1910+1256\n",
      "24 J1918-0642\n",
      "25 J1923+2515\n",
      "26 J1944+0907\n",
      "27 J2010-1323\n",
      "28 J2017+0603\n",
      "29 J2043+1711\n",
      "30 J2145-0750\n",
      "31 J2214+3000\n",
      "32 J2302+4442\n",
      "33 J2317+1439\n"
     ]
    }
   ],
   "source": [
    "for ii,p in enumerate(t2psr):\n",
    "\n",
    "    ## make ideal\n",
    "    LT.make_ideal(p)\n",
    "\n",
    "    ## add efacs\n",
    "    LT.add_efac(p, efac = noise_dict[p.name]['efacs'][:,1], \n",
    "                flagid = 'f', flags = noise_dict[p.name]['efacs'][:,0], \n",
    "                seed = seed_efac + ii)\n",
    "\n",
    "    ## add equads\n",
    "    LT.add_equad(p, equad = noise_dict[p.name]['equads'][:,1], \n",
    "                 flagid = 'f', flags = noise_dict[p.name]['equads'][:,0], \n",
    "                 seed = seed_equad + ii)\n",
    "\n",
    "    ## add jitter\n",
    "    try: #Only NANOGrav Pulsars have ECORR\n",
    "        LT.add_jitter(p, ecorr = noise_dict[p.name]['ecorrs'][:,1], \n",
    "                      flagid='f', flags = noise_dict[p.name]['ecorrs'][:,0], \n",
    "                      coarsegrain = 1.0/86400.0, seed=seed_jitter + ii)\n",
    "    except KeyError:\n",
    "        pass\n",
    "\n",
    "    ## add red noise\n",
    "    LT.add_rednoise(p, noise_dict[p.name]['RN_Amp'], noise_dict[p.name]['RN_gamma'], \n",
    "                    components = 30, seed = seed_red + ii)\n",
    "    \n",
    "    print(ii, p.name)"
   ]
  },
  {
   "cell_type": "code",
   "execution_count": 16,
   "metadata": {},
   "outputs": [],
   "source": [
    "# Create GWB\n",
    "# Takes a list of libstempo pulsar objects as input.\n",
    "LT.createGWB(t2psr, Amp=1.5e-15, gam=13./3., seed=seed_gwb_1)\n",
    "LT.createGWB(t2psr, Amp=9.0e-15, gam=10./3., seed=seed_gwb_2)"
   ]
  },
  {
   "cell_type": "code",
   "execution_count": 17,
   "metadata": {},
   "outputs": [
    {
     "name": "stdout",
     "output_type": "stream",
     "text": [
      "WARNING: Could not find pulsar distance for PSR J0023+0923. Setting value to 1 with 20% uncertainty.\n",
      "WARNING: Could not find pulsar distance for PSR J0340+4130. Setting value to 1 with 20% uncertainty.\n",
      "WARNING: Could not find pulsar distance for PSR J0645+5158. Setting value to 1 with 20% uncertainty.\n",
      "WARNING: Could not find pulsar distance for PSR J1614-2230. Setting value to 1 with 20% uncertainty.\n",
      "WARNING: Could not find pulsar distance for PSR J1738+0333. Setting value to 1 with 20% uncertainty.\n",
      "WARNING: Could not find pulsar distance for PSR J1741+1351. Setting value to 1 with 20% uncertainty.\n",
      "WARNING: Could not find pulsar distance for PSR J1747-4036. Setting value to 1 with 20% uncertainty.\n",
      "WARNING: Could not find pulsar distance for PSR J1853+1303. Setting value to 1 with 20% uncertainty.\n",
      "WARNING: Could not find pulsar distance for PSR J1903+0327. Setting value to 1 with 20% uncertainty.\n",
      "WARNING: Could not find pulsar distance for PSR J1923+2515. Setting value to 1 with 20% uncertainty.\n",
      "WARNING: Could not find pulsar distance for PSR J1944+0907. Setting value to 1 with 20% uncertainty.\n",
      "WARNING: Could not find pulsar distance for PSR J2010-1323. Setting value to 1 with 20% uncertainty.\n",
      "WARNING: Could not find pulsar distance for PSR J2017+0603. Setting value to 1 with 20% uncertainty.\n",
      "WARNING: Could not find pulsar distance for PSR J2043+1711. Setting value to 1 with 20% uncertainty.\n",
      "WARNING: Could not find pulsar distance for PSR J2214+3000. Setting value to 1 with 20% uncertainty.\n",
      "WARNING: Could not find pulsar distance for PSR J2302+4442. Setting value to 1 with 20% uncertainty.\n"
     ]
    }
   ],
   "source": [
    "psrs = []\n",
    "for p in t2psr:\n",
    "    psrs.append(Pulsar(p))"
   ]
  },
  {
   "cell_type": "code",
   "execution_count": 18,
   "metadata": {},
   "outputs": [],
   "source": [
    "# find the maximum time span to set GW frequency sampling\n",
    "tmin = [p.toas.min() for p in psrs]\n",
    "tmax = [p.toas.max() for p in psrs]\n",
    "Tspan = np.max(tmax) - np.min(tmin)\n",
    "\n",
    "##### parameters and priors #####\n",
    "\n",
    "# white noise parameters\n",
    "efac = parameter.Uniform(0.5,4.0)\n",
    "log10_equad = parameter.Uniform(-8.5,5)\n",
    "\n",
    "# red noise parameters\n",
    "red_noise_log10_A = parameter.Uniform(-18,-13)\n",
    "red_noise_gamma = parameter.Uniform(0,7)\n",
    "\n",
    "# GW parameters (initialize with names here to use parameters in common across pulsars)\n",
    "log10_A_gw_1 = parameter.Uniform(-18,-13)('zlog10_A_gw_1')\n",
    "gamma_gw_1 = parameter.Constant(13/3)('zgamma_gw_1')\n",
    "\n",
    "# Second GW parameters\n",
    "log10_A_gw_2 = parameter.Uniform(-18,-13)('zlog10_A_gw_2')\n",
    "gamma_gw_2 = parameter.Constant(10/3)('zgamma_gw_2')\n",
    "\n",
    "##### Set up signals #####\n",
    "\n",
    "# timing model\n",
    "tm = gp_signals.TimingModel()\n",
    "\n",
    "# white noise\n",
    "ef = white_signals.MeasurementNoise(efac=efac)\n",
    "eq = white_signals.EquadNoise(log10_equad = log10_equad)\n",
    "\n",
    "# red noise (powerlaw with 30 frequencies)\n",
    "pl = utils.powerlaw(log10_A=red_noise_log10_A, gamma=red_noise_gamma)\n",
    "rn = gp_signals.FourierBasisGP(spectrum=pl, components=30, Tspan=Tspan)\n",
    "\n",
    "cpl_1 = utils.powerlaw(log10_A=log10_A_gw_1, gamma=gamma_gw_2)\n",
    "cpl_2 = utils.powerlaw(log10_A=log10_A_gw_2, gamma=gamma_gw_2)\n",
    "\n",
    "#Common red noise process with no correlations\n",
    "#crn = gp_signals.FourierBasisGP(spectrum = cpl, components=30, Tspan=Tspan, name = 'gw')\n",
    "\n",
    "# gwb with Hellings and Downs correlations\n",
    "# Hellings and Downs ORF\n",
    "orf = utils.hd_orf()\n",
    "gwb_1 = gp_signals.FourierBasisCommonGP(cpl_1, orf, components=30, name='gw_1', Tspan=Tspan)\n",
    "gwb_2 = gp_signals.FourierBasisCommonGP(cpl_2, orf, components=30, name='gw_2', Tspan=Tspan)\n",
    "\n",
    "# full model is sum of components\n",
    "model = ef + eq + rn + tm + gwb_1 + gwb_2  #+ crn\n",
    "\n",
    "# initialize PTA\n",
    "pta = signal_base.PTA([model(psr) for psr in psrs])"
   ]
  },
  {
   "cell_type": "code",
   "execution_count": 19,
   "metadata": {},
   "outputs": [],
   "source": [
    "#Pick random initial sampling\n",
    "xs = {par.name: par.sample() for par in pta.params}\n",
    "\n",
    "# dimension of parameter space\n",
    "ndim = len(xs)\n",
    "\n",
    "# initial jump covariance matrix\n",
    "cov = np.diag(np.ones(ndim) * 0.01**2)\n",
    "\n",
    "groups = model_utils.get_parameter_groups(pta)\n",
    "groups.append([136,137])"
   ]
  },
  {
   "cell_type": "code",
   "execution_count": 20,
   "metadata": {},
   "outputs": [
    {
     "name": "stdout",
     "output_type": "stream",
     "text": [
      "Resuming run from chain file /Users/andrewkaiser/Documents/GradSchool/Research/NANOGrav/BackgroundInjections/SimRuns/simGWB_1/chain_1.txt\n"
     ]
    },
    {
     "name": "stderr",
     "output_type": "stream",
     "text": [
      "/Users/andrewkaiser/anaconda3/envs/enterprise/lib/python3.6/site-packages/enterprise/signals/parameter.py:66: RuntimeWarning: divide by zero encountered in log\n",
      "  logpdf = np.log(self.prior(value, **kwargs))\n"
     ]
    },
    {
     "name": "stdout",
     "output_type": "stream",
     "text": [
      "Finished 90.00 percent in 6503.915815 s Acceptance rate = 0.528808\n",
      "Run Complete\n"
     ]
    }
   ],
   "source": [
    "# intialize sampler\n",
    "sampler = ptmcmc(ndim, pta.get_lnlikelihood, pta.get_lnprior, cov, groups=groups, outDir = outdir,resume=True)\n",
    "\n",
    "# sampler for N steps\n",
    "N = int(1e4)\n",
    "x0 = np.hstack(p.sample() for p in pta.params)\n",
    "sampler.sample(x0, N, SCAMweight=30, AMweight=15, DEweight=50)"
   ]
  },
  {
   "cell_type": "code",
   "execution_count": null,
   "metadata": {},
   "outputs": [],
   "source": []
  }
 ],
 "metadata": {
  "kernelspec": {
   "display_name": "Python 3",
   "language": "python",
   "name": "python3"
  },
  "language_info": {
   "codemirror_mode": {
    "name": "ipython",
    "version": 3
   },
   "file_extension": ".py",
   "mimetype": "text/x-python",
   "name": "python",
   "nbconvert_exporter": "python",
   "pygments_lexer": "ipython3",
   "version": "3.6.6"
  }
 },
 "nbformat": 4,
 "nbformat_minor": 2
}
