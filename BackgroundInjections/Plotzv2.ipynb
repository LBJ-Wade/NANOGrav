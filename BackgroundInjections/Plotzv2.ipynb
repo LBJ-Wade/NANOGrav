{
 "cells": [
  {
   "cell_type": "code",
   "execution_count": 1,
   "metadata": {},
   "outputs": [],
   "source": [
    "%load_ext autoreload\n",
    "%autoreload 2"
   ]
  },
  {
   "cell_type": "code",
   "execution_count": 2,
   "metadata": {},
   "outputs": [],
   "source": [
    "import matplotlib.pyplot as plt\n",
    "import corner, os, glob, json\n",
    "import numpy as np\n",
    "import pandas as pd\n",
    "import astropy.units as u\n",
    "from enterprise.signals import utils\n",
    "%matplotlib inline"
   ]
  },
  {
   "cell_type": "markdown",
   "metadata": {},
   "source": [
    "# Directories"
   ]
  },
  {
   "cell_type": "code",
   "execution_count": 3,
   "metadata": {},
   "outputs": [],
   "source": [
    "#Reference directory\n",
    "topdir = os.getcwd()"
   ]
  },
  {
   "cell_type": "code",
   "execution_count": 4,
   "metadata": {},
   "outputs": [],
   "source": [
    "datadir_V4 = topdir + '/SimInject4/SimRuns'\n",
    "\n",
    "#Two GWB powerlaws\n",
    "run_1_dir = datadir_V4 + '/simGWB_1'\n",
    "run_2_dir = datadir_V4 + '/simGWB_2'"
   ]
  },
  {
   "cell_type": "code",
   "execution_count": 5,
   "metadata": {},
   "outputs": [],
   "source": [
    "#only 1 gwb rund\n",
    "run_3_dir = datadir_V4 + '/simGWB_only1gwb_1'\n",
    "run_4_dir = datadir_V4 + '/simGWB_only1gwb_2'"
   ]
  },
  {
   "cell_type": "markdown",
   "metadata": {},
   "source": [
    "# Load Chains"
   ]
  },
  {
   "cell_type": "code",
   "execution_count": 6,
   "metadata": {},
   "outputs": [
    {
     "ename": "FileNotFoundError",
     "evalue": "File b'/Users/andrewkaiser/Documents/GradSchool/Research/nanograv/NANOGrav/BackgroundInjections/SimInject4/SimRuns/simGWB_1/chain_1.txt' does not exist",
     "output_type": "error",
     "traceback": [
      "\u001b[0;31m---------------------------------------------------------------------------\u001b[0m",
      "\u001b[0;31mFileNotFoundError\u001b[0m                         Traceback (most recent call last)",
      "\u001b[0;32m<ipython-input-6-20308263e38d>\u001b[0m in \u001b[0;36m<module>\u001b[0;34m\u001b[0m\n\u001b[1;32m      1\u001b[0m \u001b[0;31m#Load chains for run 1\u001b[0m\u001b[0;34m\u001b[0m\u001b[0;34m\u001b[0m\u001b[0m\n\u001b[0;32m----> 2\u001b[0;31m \u001b[0mchain_run_1\u001b[0m \u001b[0;34m=\u001b[0m \u001b[0mpd\u001b[0m\u001b[0;34m.\u001b[0m\u001b[0mread_csv\u001b[0m\u001b[0;34m(\u001b[0m\u001b[0mrun_1_dir\u001b[0m \u001b[0;34m+\u001b[0m \u001b[0;34m'/chain_1.txt'\u001b[0m\u001b[0;34m,\u001b[0m \u001b[0msep\u001b[0m\u001b[0;34m=\u001b[0m\u001b[0;34m'\\t'\u001b[0m\u001b[0;34m,\u001b[0m \u001b[0mdtype\u001b[0m\u001b[0;34m=\u001b[0m\u001b[0mfloat\u001b[0m\u001b[0;34m,\u001b[0m \u001b[0mheader\u001b[0m\u001b[0;34m=\u001b[0m\u001b[0;32mNone\u001b[0m\u001b[0;34m)\u001b[0m\u001b[0;34m.\u001b[0m\u001b[0mvalues\u001b[0m\u001b[0;34m\u001b[0m\u001b[0m\n\u001b[0m\u001b[1;32m      3\u001b[0m \u001b[0mburn_run_1\u001b[0m \u001b[0;34m=\u001b[0m \u001b[0mint\u001b[0m\u001b[0;34m(\u001b[0m\u001b[0;36m0.25\u001b[0m \u001b[0;34m*\u001b[0m \u001b[0mchain_run_1\u001b[0m\u001b[0;34m.\u001b[0m\u001b[0mshape\u001b[0m\u001b[0;34m[\u001b[0m\u001b[0;36m0\u001b[0m\u001b[0;34m]\u001b[0m\u001b[0;34m)\u001b[0m\u001b[0;34m\u001b[0m\u001b[0m\n",
      "\u001b[0;32m~/anaconda3/envs/enterprise/lib/python3.6/site-packages/pandas/io/parsers.py\u001b[0m in \u001b[0;36mparser_f\u001b[0;34m(filepath_or_buffer, sep, delimiter, header, names, index_col, usecols, squeeze, prefix, mangle_dupe_cols, dtype, engine, converters, true_values, false_values, skipinitialspace, skiprows, nrows, na_values, keep_default_na, na_filter, verbose, skip_blank_lines, parse_dates, infer_datetime_format, keep_date_col, date_parser, dayfirst, iterator, chunksize, compression, thousands, decimal, lineterminator, quotechar, quoting, escapechar, comment, encoding, dialect, tupleize_cols, error_bad_lines, warn_bad_lines, skipfooter, doublequote, delim_whitespace, low_memory, memory_map, float_precision)\u001b[0m\n\u001b[1;32m    676\u001b[0m                     skip_blank_lines=skip_blank_lines)\n\u001b[1;32m    677\u001b[0m \u001b[0;34m\u001b[0m\u001b[0m\n\u001b[0;32m--> 678\u001b[0;31m         \u001b[0;32mreturn\u001b[0m \u001b[0m_read\u001b[0m\u001b[0;34m(\u001b[0m\u001b[0mfilepath_or_buffer\u001b[0m\u001b[0;34m,\u001b[0m \u001b[0mkwds\u001b[0m\u001b[0;34m)\u001b[0m\u001b[0;34m\u001b[0m\u001b[0m\n\u001b[0m\u001b[1;32m    679\u001b[0m \u001b[0;34m\u001b[0m\u001b[0m\n\u001b[1;32m    680\u001b[0m     \u001b[0mparser_f\u001b[0m\u001b[0;34m.\u001b[0m\u001b[0m__name__\u001b[0m \u001b[0;34m=\u001b[0m \u001b[0mname\u001b[0m\u001b[0;34m\u001b[0m\u001b[0m\n",
      "\u001b[0;32m~/anaconda3/envs/enterprise/lib/python3.6/site-packages/pandas/io/parsers.py\u001b[0m in \u001b[0;36m_read\u001b[0;34m(filepath_or_buffer, kwds)\u001b[0m\n\u001b[1;32m    438\u001b[0m \u001b[0;34m\u001b[0m\u001b[0m\n\u001b[1;32m    439\u001b[0m     \u001b[0;31m# Create the parser.\u001b[0m\u001b[0;34m\u001b[0m\u001b[0;34m\u001b[0m\u001b[0m\n\u001b[0;32m--> 440\u001b[0;31m     \u001b[0mparser\u001b[0m \u001b[0;34m=\u001b[0m \u001b[0mTextFileReader\u001b[0m\u001b[0;34m(\u001b[0m\u001b[0mfilepath_or_buffer\u001b[0m\u001b[0;34m,\u001b[0m \u001b[0;34m**\u001b[0m\u001b[0mkwds\u001b[0m\u001b[0;34m)\u001b[0m\u001b[0;34m\u001b[0m\u001b[0m\n\u001b[0m\u001b[1;32m    441\u001b[0m \u001b[0;34m\u001b[0m\u001b[0m\n\u001b[1;32m    442\u001b[0m     \u001b[0;32mif\u001b[0m \u001b[0mchunksize\u001b[0m \u001b[0;32mor\u001b[0m \u001b[0miterator\u001b[0m\u001b[0;34m:\u001b[0m\u001b[0;34m\u001b[0m\u001b[0m\n",
      "\u001b[0;32m~/anaconda3/envs/enterprise/lib/python3.6/site-packages/pandas/io/parsers.py\u001b[0m in \u001b[0;36m__init__\u001b[0;34m(self, f, engine, **kwds)\u001b[0m\n\u001b[1;32m    785\u001b[0m             \u001b[0mself\u001b[0m\u001b[0;34m.\u001b[0m\u001b[0moptions\u001b[0m\u001b[0;34m[\u001b[0m\u001b[0;34m'has_index_names'\u001b[0m\u001b[0;34m]\u001b[0m \u001b[0;34m=\u001b[0m \u001b[0mkwds\u001b[0m\u001b[0;34m[\u001b[0m\u001b[0;34m'has_index_names'\u001b[0m\u001b[0;34m]\u001b[0m\u001b[0;34m\u001b[0m\u001b[0m\n\u001b[1;32m    786\u001b[0m \u001b[0;34m\u001b[0m\u001b[0m\n\u001b[0;32m--> 787\u001b[0;31m         \u001b[0mself\u001b[0m\u001b[0;34m.\u001b[0m\u001b[0m_make_engine\u001b[0m\u001b[0;34m(\u001b[0m\u001b[0mself\u001b[0m\u001b[0;34m.\u001b[0m\u001b[0mengine\u001b[0m\u001b[0;34m)\u001b[0m\u001b[0;34m\u001b[0m\u001b[0m\n\u001b[0m\u001b[1;32m    788\u001b[0m \u001b[0;34m\u001b[0m\u001b[0m\n\u001b[1;32m    789\u001b[0m     \u001b[0;32mdef\u001b[0m \u001b[0mclose\u001b[0m\u001b[0;34m(\u001b[0m\u001b[0mself\u001b[0m\u001b[0;34m)\u001b[0m\u001b[0;34m:\u001b[0m\u001b[0;34m\u001b[0m\u001b[0m\n",
      "\u001b[0;32m~/anaconda3/envs/enterprise/lib/python3.6/site-packages/pandas/io/parsers.py\u001b[0m in \u001b[0;36m_make_engine\u001b[0;34m(self, engine)\u001b[0m\n\u001b[1;32m   1012\u001b[0m     \u001b[0;32mdef\u001b[0m \u001b[0m_make_engine\u001b[0m\u001b[0;34m(\u001b[0m\u001b[0mself\u001b[0m\u001b[0;34m,\u001b[0m \u001b[0mengine\u001b[0m\u001b[0;34m=\u001b[0m\u001b[0;34m'c'\u001b[0m\u001b[0;34m)\u001b[0m\u001b[0;34m:\u001b[0m\u001b[0;34m\u001b[0m\u001b[0m\n\u001b[1;32m   1013\u001b[0m         \u001b[0;32mif\u001b[0m \u001b[0mengine\u001b[0m \u001b[0;34m==\u001b[0m \u001b[0;34m'c'\u001b[0m\u001b[0;34m:\u001b[0m\u001b[0;34m\u001b[0m\u001b[0m\n\u001b[0;32m-> 1014\u001b[0;31m             \u001b[0mself\u001b[0m\u001b[0;34m.\u001b[0m\u001b[0m_engine\u001b[0m \u001b[0;34m=\u001b[0m \u001b[0mCParserWrapper\u001b[0m\u001b[0;34m(\u001b[0m\u001b[0mself\u001b[0m\u001b[0;34m.\u001b[0m\u001b[0mf\u001b[0m\u001b[0;34m,\u001b[0m \u001b[0;34m**\u001b[0m\u001b[0mself\u001b[0m\u001b[0;34m.\u001b[0m\u001b[0moptions\u001b[0m\u001b[0;34m)\u001b[0m\u001b[0;34m\u001b[0m\u001b[0m\n\u001b[0m\u001b[1;32m   1015\u001b[0m         \u001b[0;32melse\u001b[0m\u001b[0;34m:\u001b[0m\u001b[0;34m\u001b[0m\u001b[0m\n\u001b[1;32m   1016\u001b[0m             \u001b[0;32mif\u001b[0m \u001b[0mengine\u001b[0m \u001b[0;34m==\u001b[0m \u001b[0;34m'python'\u001b[0m\u001b[0;34m:\u001b[0m\u001b[0;34m\u001b[0m\u001b[0m\n",
      "\u001b[0;32m~/anaconda3/envs/enterprise/lib/python3.6/site-packages/pandas/io/parsers.py\u001b[0m in \u001b[0;36m__init__\u001b[0;34m(self, src, **kwds)\u001b[0m\n\u001b[1;32m   1706\u001b[0m         \u001b[0mkwds\u001b[0m\u001b[0;34m[\u001b[0m\u001b[0;34m'usecols'\u001b[0m\u001b[0;34m]\u001b[0m \u001b[0;34m=\u001b[0m \u001b[0mself\u001b[0m\u001b[0;34m.\u001b[0m\u001b[0musecols\u001b[0m\u001b[0;34m\u001b[0m\u001b[0m\n\u001b[1;32m   1707\u001b[0m \u001b[0;34m\u001b[0m\u001b[0m\n\u001b[0;32m-> 1708\u001b[0;31m         \u001b[0mself\u001b[0m\u001b[0;34m.\u001b[0m\u001b[0m_reader\u001b[0m \u001b[0;34m=\u001b[0m \u001b[0mparsers\u001b[0m\u001b[0;34m.\u001b[0m\u001b[0mTextReader\u001b[0m\u001b[0;34m(\u001b[0m\u001b[0msrc\u001b[0m\u001b[0;34m,\u001b[0m \u001b[0;34m**\u001b[0m\u001b[0mkwds\u001b[0m\u001b[0;34m)\u001b[0m\u001b[0;34m\u001b[0m\u001b[0m\n\u001b[0m\u001b[1;32m   1709\u001b[0m \u001b[0;34m\u001b[0m\u001b[0m\n\u001b[1;32m   1710\u001b[0m         \u001b[0mpassed_names\u001b[0m \u001b[0;34m=\u001b[0m \u001b[0mself\u001b[0m\u001b[0;34m.\u001b[0m\u001b[0mnames\u001b[0m \u001b[0;32mis\u001b[0m \u001b[0;32mNone\u001b[0m\u001b[0;34m\u001b[0m\u001b[0m\n",
      "\u001b[0;32mpandas/_libs/parsers.pyx\u001b[0m in \u001b[0;36mpandas._libs.parsers.TextReader.__cinit__\u001b[0;34m()\u001b[0m\n",
      "\u001b[0;32mpandas/_libs/parsers.pyx\u001b[0m in \u001b[0;36mpandas._libs.parsers.TextReader._setup_parser_source\u001b[0;34m()\u001b[0m\n",
      "\u001b[0;31mFileNotFoundError\u001b[0m: File b'/Users/andrewkaiser/Documents/GradSchool/Research/nanograv/NANOGrav/BackgroundInjections/SimInject4/SimRuns/simGWB_1/chain_1.txt' does not exist"
     ]
    }
   ],
   "source": [
    "#Load chains for run 1\n",
    "chain_run_1 = pd.read_csv(run_1_dir + '/chain_1.txt', sep='\\t', dtype=float, header=None).values\n",
    "burn_run_1 = int(0.25 * chain_run_1.shape[0])"
   ]
  },
  {
   "cell_type": "code",
   "execution_count": null,
   "metadata": {},
   "outputs": [],
   "source": [
    "#Load chains for run 2\n",
    "chain_run_2 = pd.read_csv(run_2_dir + '/chain_1.txt', sep='\\t', dtype=float, header=None).values\n",
    "burn_run_2 = int(0.25 * chain_run_2.shape[0])"
   ]
  },
  {
   "cell_type": "code",
   "execution_count": null,
   "metadata": {},
   "outputs": [],
   "source": [
    "#Load chains for run 3\n",
    "chain_run_3 = pd.read_csv(run_3_dir + '/chain_1.txt', sep='\\t', dtype=float, header=None).values\n",
    "burn_run_3 = int(0.25 * chain_run_3.shape[0])"
   ]
  },
  {
   "cell_type": "code",
   "execution_count": 6,
   "metadata": {},
   "outputs": [],
   "source": [
    "#Load chains for run 4\n",
    "chain_run_4 = pd.read_csv(run_4_dir + '/chain_1.txt', sep='\\t', dtype=float, header=None).values\n",
    "burn_run_4 = int(0.25 * chain_run_4.shape[0])"
   ]
  },
  {
   "cell_type": "markdown",
   "metadata": {},
   "source": [
    "# Load Parameter Files"
   ]
  },
  {
   "cell_type": "code",
   "execution_count": null,
   "metadata": {},
   "outputs": [],
   "source": [
    "#Load param files to iterate through pulsars in pta\n",
    "with open(run_1_dir + '/parameters.json') as pf:\n",
    "    param_dict_run_1 = json.load(pf)\n",
    "    pf.close()"
   ]
  },
  {
   "cell_type": "code",
   "execution_count": null,
   "metadata": {},
   "outputs": [],
   "source": [
    "#Load param files to iterate through pulsars in pta\n",
    "with open(run_2_dir + '/parameters.json') as pf:\n",
    "    param_dict_run_2 = json.load(pf)\n",
    "    pf.close()"
   ]
  },
  {
   "cell_type": "code",
   "execution_count": null,
   "metadata": {},
   "outputs": [],
   "source": [
    "#Load param files to iterate through pulsars in pta\n",
    "with open(run_3_dir + '/parameters.json') as pf:\n",
    "    param_dict_run_3 = json.load(pf)\n",
    "    pf.close()"
   ]
  },
  {
   "cell_type": "code",
   "execution_count": 7,
   "metadata": {},
   "outputs": [],
   "source": [
    "#Load param files to iterate through pulsars in pta\n",
    "with open(run_4_dir + '/parameters.json') as pf:\n",
    "    param_dict_run_4 = json.load(pf)\n",
    "    pf.close()"
   ]
  },
  {
   "cell_type": "markdown",
   "metadata": {},
   "source": [
    "# Plot injections and get truth values"
   ]
  },
  {
   "cell_type": "code",
   "execution_count": 10,
   "metadata": {},
   "outputs": [
    {
     "name": "stdout",
     "output_type": "stream",
     "text": [
      "-14.886056647693163\n",
      "-15.0\n",
      "-14.301029995663981\n"
     ]
    }
   ],
   "source": [
    "background_amp_1 = 1.3e-15\n",
    "background_amp_2 = 1.0e-15\n",
    "background_amp_3 = 5.0e-15\n",
    "\n",
    "background_gamma_1 = 13./3.\n",
    "background_gamma_2 = 7./3.\n",
    "background_gamma_3 = 7./3.\n",
    "\n",
    "print(np.log10(background_amp_1))\n",
    "print(np.log10(background_amp_2))\n",
    "print(np.log10(background_amp_3))\n",
    "\n",
    "truths_1 = [np.log10(background_amp_1),np.log10(background_amp_2)]\n",
    "truths_2 = [np.log10(background_amp_1),np.log10(background_amp_3)]\n",
    "truths_3 = [np.log10(background_amp_1)]\n",
    "truths_4 = [np.log10(background_amp_3)]"
   ]
  },
  {
   "cell_type": "code",
   "execution_count": 11,
   "metadata": {},
   "outputs": [],
   "source": [
    "def Plaw(f, log10_A, gamma, components=1):\n",
    "    #From enterprise\n",
    "    f = f*u.Hz\n",
    "    df = np.diff(np.concatenate((np.array([0])*u.Hz, f[::components])))\n",
    "    df[0] = df[1]\n",
    "\n",
    "    fyr = 1/u.yr.to('s')*u.Hz\n",
    "    return ((10**log10_A)**2 / 12.0 / np.pi**2 * fyr**(gamma-3) * f**(-gamma) * np.repeat(df, components))"
   ]
  },
  {
   "cell_type": "code",
   "execution_count": 12,
   "metadata": {},
   "outputs": [
    {
     "name": "stdout",
     "output_type": "stream",
     "text": [
      "4.133597883597884e-07 1 / s\n",
      "2.1125391876019301e-10 1 / s\n"
     ]
    }
   ],
   "source": [
    "howml = 10\n",
    "Tspan = 15*u.yr.to('s')*u.s\n",
    "cadence = 14*u.d.to('s')*u.s\n",
    "print(1/(2*cadence))\n",
    "print(1/(howml*Tspan))\n",
    "\n",
    "f = np.arange(0,1/(2*cadence.value),1/(howml*Tspan.value))\n",
    "f = f[1:]\n",
    "h_1 = Plaw(f,np.log10(background_amp_1),gamma=background_gamma_1)\n",
    "h_2 = Plaw(f,np.log10(background_amp_2),gamma=background_gamma_2)\n",
    "h_3 = Plaw(f,np.log10(background_amp_3),gamma=background_gamma_3)\n",
    "\n",
    "intersect_1 = (background_amp_1/background_amp_2)/u.yr.to('s')*u.s\n",
    "intersect_2 = (background_amp_1/background_amp_3)/u.yr.to('s')*u.s"
   ]
  },
  {
   "cell_type": "code",
   "execution_count": 15,
   "metadata": {},
   "outputs": [
    {
     "data": {
      "image/png": "[encoded data removed]",
      "text/plain": [
       "<Figure size 432x288 with 1 Axes>"
      ]
     },
     "metadata": {
      "needs_background": "light"
     },
     "output_type": "display_data"
    }
   ],
   "source": [
    "plt.figure()\n",
    "plt.loglog(f,h_1,label='h1')\n",
    "plt.loglog(f,h_2,label='h2')\n",
    "plt.loglog(f,h_3,label='h3')\n",
    "plt.axvline(x=intersect_1.value,color='r',linestyle='--',label='Intersection 1 = %.1e' %intersect_1.value)\n",
    "plt.axvline(x=intersect_2.value,color='b',linestyle='--',label='Intersection 2 = %.1e' %intersect_2.value)\n",
    "plt.legend(loc='lower left',fontsize = 8)\n",
    "plt.ylabel(r'$h$')\n",
    "plt.xlabel(r'$f$')\n",
    "plt.show()"
   ]
  },
  {
   "cell_type": "markdown",
   "metadata": {},
   "source": [
    "# Plot Histograms"
   ]
  },
  {
   "cell_type": "code",
   "execution_count": 34,
   "metadata": {},
   "outputs": [],
   "source": [
    "#display all histograms for particular parameter (ie. red_noise_log10_A)\n",
    "def draw_histograms(data, labels, indices,figsize=(10,5),n_cols=2,truths=None):\n",
    "    #Takes in data (chain, already burned), labels (parameters), and indices of parameters we want to look at\n",
    "    n_rows = int(len(indices)/n_cols)\n",
    "    n_bins = 30\n",
    "    fig,axarr =plt.subplots(nrows=n_rows,ncols=n_cols,figsize=figsize)\n",
    "    ii = 0\n",
    "    if n_rows == 1:\n",
    "        if n_cols == 1:\n",
    "            axarr.hist(data[:,indices[ii]],bins=n_bins, density=True,histtype = 'step')\n",
    "            if truths != None:\n",
    "                axarr.axvline(x=truths)\n",
    "        else:\n",
    "            for j in range(n_cols):\n",
    "                axarr[j].hist(data[:,indices[ii]],bins=n_bins, density=True,histtype = 'step')\n",
    "                axarr[j].set_xlabel(labels[indices[ii]])\n",
    "                ii += 1\n",
    "    else:    \n",
    "        for i in range(n_rows):\n",
    "            for j in range(n_cols):\n",
    "                axarr[i][j].hist(data[:,indices[ii]],bins=n_bins, density=True,histtype = 'step')\n",
    "                axarr[i][j].set_xlabel(labels[indices[ii]])\n",
    "                ii += 1\n",
    "    fig.tight_layout()\n",
    "    plt.show()"
   ]
  },
  {
   "cell_type": "code",
   "execution_count": 19,
   "metadata": {},
   "outputs": [],
   "source": [
    "'''indices_1 = [len(param_dict_run_1)-2, len(param_dict_run_1)-1]\n",
    "indices_2 = [len(param_dict_run_2)-2, len(param_dict_run_2)-1]\n",
    "indices_3 = [len(param_dict_run_3)-1]'''\n",
    "indices_4 = [len(param_dict_run_4)-1]"
   ]
  },
  {
   "cell_type": "code",
   "execution_count": null,
   "metadata": {},
   "outputs": [],
   "source": [
    "draw_histograms(chain_run_1[burn_run_1:],param_dict_run_1,indices_1)"
   ]
  },
  {
   "cell_type": "code",
   "execution_count": null,
   "metadata": {},
   "outputs": [],
   "source": [
    "draw_histograms(chain_run_2[burn_run_2:],param_dict_run_2,indices_2)"
   ]
  },
  {
   "cell_type": "code",
   "execution_count": null,
   "metadata": {},
   "outputs": [],
   "source": [
    "draw_histograms(chain_run_3[burn_run_3:],param_dict_run_3,indices_3,n_cols=1,truths=truths_3[0])"
   ]
  },
  {
   "cell_type": "code",
   "execution_count": 43,
   "metadata": {},
   "outputs": [
    {
     "data": {
      "image/png": "[encoded data removed]",
      "text/plain": [
       "<Figure size 720x360 with 1 Axes>"
      ]
     },
     "metadata": {
      "needs_background": "light"
     },
     "output_type": "display_data"
    }
   ],
   "source": [
    "draw_histograms(chain_run_4[burn_run_4:],param_dict_run_4,indices_4,n_cols=1,truths=truths_4[0])"
   ]
  },
  {
   "cell_type": "code",
   "execution_count": null,
   "metadata": {},
   "outputs": [],
   "source": [
    "pulsar_indices_1 = range(0,len(param_dict_run_1)-2)\n",
    "pulsar_indices_1 = []\n",
    "for i,param in enumerate(param_dict_run_1):\n",
    "    if 'red' in param.strip('_'):\n",
    "        pulsar_indices_1.append(i)"
   ]
  },
  {
   "cell_type": "code",
   "execution_count": null,
   "metadata": {},
   "outputs": [],
   "source": [
    "draw_histograms(chain_run_1[burn_run_1:],param_dict_run_1,pulsar_indices_1,figsize=(10,55))"
   ]
  },
  {
   "cell_type": "markdown",
   "metadata": {},
   "source": [
    "# Trace Plots"
   ]
  },
  {
   "cell_type": "code",
   "execution_count": 22,
   "metadata": {},
   "outputs": [],
   "source": [
    "#display all histograms for particular parameter (ie. red_noise_log10_A)\n",
    "def draw_trace(data, labels, indices,n_cols=2):\n",
    "    #Takes in data (chain, already burned), labels (parameters), and indices of parameters we want to look at\n",
    "    n_rows = int(len(indices)/n_cols)\n",
    "    fig,axarr =plt.subplots(nrows=n_rows,ncols=n_cols,figsize=(10,5))\n",
    "    ii = 0\n",
    "    if n_rows == 1:\n",
    "        if n_cols == 1:\n",
    "            axarr.plot(data[:,indices[ii]])\n",
    "            axarr.set_ylabel(labels[indices[ii]])\n",
    "        else:\n",
    "            for j in range(n_cols):\n",
    "                axarr[j].plot(data[:,indices[ii]])\n",
    "                axarr[j].set_ylabel(labels[indices[ii]])\n",
    "                ii += 1\n",
    "    else:    \n",
    "        for i in range(n_rows):\n",
    "            for j in range(n_cols):\n",
    "                axarr[i][j].plot(data[:,indices[ii]])\n",
    "                axarr[i][j].set_ylabel(labels[ii])\n",
    "                ii += 1\n",
    "    fig.tight_layout()\n",
    "    plt.show()"
   ]
  },
  {
   "cell_type": "code",
   "execution_count": null,
   "metadata": {},
   "outputs": [],
   "source": [
    "draw_trace(chain_run_1,param_dict_run_1,indices_1)"
   ]
  },
  {
   "cell_type": "code",
   "execution_count": null,
   "metadata": {},
   "outputs": [],
   "source": [
    "draw_trace(chain_run_2,param_dict_run_2,indices_2)"
   ]
  },
  {
   "cell_type": "code",
   "execution_count": null,
   "metadata": {},
   "outputs": [],
   "source": [
    "draw_trace(chain_run_3,param_dict_run_3,indices_3,n_cols=1)"
   ]
  },
  {
   "cell_type": "code",
   "execution_count": 23,
   "metadata": {},
   "outputs": [
    {
     "data": {
      "image/png": "[encoded data removed]",
      "text/plain": [
       "<Figure size 720x360 with 1 Axes>"
      ]
     },
     "metadata": {
      "needs_background": "light"
     },
     "output_type": "display_data"
    }
   ],
   "source": [
    "draw_trace(chain_run_4,param_dict_run_4,indices_4,n_cols=1)"
   ]
  },
  {
   "cell_type": "code",
   "execution_count": null,
   "metadata": {},
   "outputs": [],
   "source": [
    "def CornerPlots(chain,burn,indices,params,truths):\n",
    "    param_labels = []\n",
    "    for index in indices:\n",
    "        param_labels.append(params[index])\n",
    "    corner.corner(chain[burn:,indices], bins = 30, labels = param_labels, truths=truths)"
   ]
  },
  {
   "cell_type": "code",
   "execution_count": null,
   "metadata": {},
   "outputs": [],
   "source": [
    "CornerPlots(chain_run_1,burn_run_1,indices_1,param_dict_run_1,truths_1)"
   ]
  },
  {
   "cell_type": "code",
   "execution_count": null,
   "metadata": {},
   "outputs": [],
   "source": [
    "CornerPlots(chain_run_2,burn_run_2,indices_2,param_dict_run_2,truths_2)"
   ]
  }
 ],
 "metadata": {
  "kernelspec": {
   "display_name": "Python 3",
   "language": "python",
   "name": "python3"
  },
  "language_info": {
   "codemirror_mode": {
    "name": "ipython",
    "version": 3
   },
   "file_extension": ".py",
   "mimetype": "text/x-python",
   "name": "python",
   "nbconvert_exporter": "python",
   "pygments_lexer": "ipython3",
   "version": "3.6.6"
  }
 },
 "nbformat": 4,
 "nbformat_minor": 2
}
